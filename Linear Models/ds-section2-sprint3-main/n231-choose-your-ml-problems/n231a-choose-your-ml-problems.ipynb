{
  "nbformat": 4,
  "nbformat_minor": 0,
  "metadata": {
    "kernelspec": {
      "display_name": "Python 3",
      "language": "python",
      "name": "python3"
    },
    "language_info": {
      "codemirror_mode": {
        "name": "ipython",
        "version": 3
      },
      "file_extension": ".py",
      "mimetype": "text/x-python",
      "name": "python",
      "nbconvert_exporter": "python",
      "pygments_lexer": "ipython3",
      "version": "3.7.7"
    },
    "colab": {
      "name": "n231a-choose-your-ml-problems.ipynb",
      "provenance": [],
      "machine_shape": "hm"
    }
  },
  "cells": [
    {
      "cell_type": "markdown",
      "metadata": {
        "id": "nCc3XZEyG3XV"
      },
      "source": [
        "<img align=\"right\" src=\"https://ds-cs-images.s3.ap-northeast-2.amazonaws.com/Codestates_Fulllogo_Color.png\" width=100>\n",
        "\n",
        "## *DATA SCIENCE / SECTION 2 / SPRINT 3 / NOTE 1*\n",
        "\n",
        "# 📝 Assignment\n",
        "---\n",
        "# Choose your ML problems\n",
        "\n",
        "이번 스프린트에서는 포트폴리오 프로젝트를 위해 수강생 각자가 정한 데이터셋을 사용하여 과제를 수행합니다. 프로젝트를 위한 데이터를 최종 선택하기 전에 여러 가능한 데이터세트를 살펴보고 간단한 모델까지 학습해 보는 것을 추천드립니다."
      ]
    },
    {
      "cell_type": "markdown",
      "metadata": {
        "id": "4EVMz2VLbqKP"
      },
      "source": [
        "### 1) 타겟으로 사용할 특성을 선택합니다.\n",
        "- **(객관식) 다음 중 설명이 올바른 항목을 선택하고 과제 제출폼에 제출하세요.**\n",
        "    - 특성 3개를 사용해 가장 성능이 좋은 모델 A를 만들고 또 특성 5개를 사용해 최적의 모델 B를 학습하였습니다. 이때 모델 A에서 선택된 특성은 A1, A2, A3 입니다.\n",
        "    1. 최적의 모델 B에는 특성 A1, A2, A3가 항상 선택됩니다.\n",
        "    2. 최적의 모델 B 학습시 특성 A1, A2, A3는 전혀 사용되지 않습니다.\n",
        "    3. 최적의 모델 B에 특성 A1, A2, A3가 선택될지 알 수 없습니다."
      ]
    },
    {
      "cell_type": "code",
      "metadata": {
        "id": "VA0yuYdcbqKQ",
        "outputId": "d655697f-026c-4ab9-b38c-c8477a95ffba",
        "colab": {
          "base_uri": "https://localhost:8080/",
          "height": 563
        }
      },
      "source": [
        "### 이곳에서 과제를 진행해 주세요 ### \n",
        "\n",
        "# 객관식 답 == 1\n",
        "\n",
        "from google.colab import drive\n",
        "drive.mount('/content/drive')\n",
        "\n",
        "import pandas as pd\n",
        "pd.read_csv(\"/content/drive/MyDrive/연체전략관리_연체내역(코드 상세설명).csv\")"
      ],
      "execution_count": 4,
      "outputs": [
        {
          "output_type": "stream",
          "text": [
            "Mounted at /content/drive\n"
          ],
          "name": "stdout"
        },
        {
          "output_type": "execute_result",
          "data": {
            "text/html": [
              "<div>\n",
              "<style scoped>\n",
              "    .dataframe tbody tr th:only-of-type {\n",
              "        vertical-align: middle;\n",
              "    }\n",
              "\n",
              "    .dataframe tbody tr th {\n",
              "        vertical-align: top;\n",
              "    }\n",
              "\n",
              "    .dataframe thead th {\n",
              "        text-align: right;\n",
              "    }\n",
              "</style>\n",
              "<table border=\"1\" class=\"dataframe\">\n",
              "  <thead>\n",
              "    <tr style=\"text-align: right;\">\n",
              "      <th></th>\n",
              "      <th>상품코드</th>\n",
              "      <th>상품명</th>\n",
              "    </tr>\n",
              "  </thead>\n",
              "  <tbody>\n",
              "    <tr>\n",
              "      <th>0</th>\n",
              "      <td>D01001</td>\n",
              "      <td>일반상환학자금_등록금</td>\n",
              "    </tr>\n",
              "    <tr>\n",
              "      <th>1</th>\n",
              "      <td>D01002</td>\n",
              "      <td>일반상환학자금_생활비</td>\n",
              "    </tr>\n",
              "    <tr>\n",
              "      <th>2</th>\n",
              "      <td>D01003</td>\n",
              "      <td>일반상환학자금_등록금생활비</td>\n",
              "    </tr>\n",
              "    <tr>\n",
              "      <th>3</th>\n",
              "      <td>D01004</td>\n",
              "      <td>일반상환학자금_WEST연수비</td>\n",
              "    </tr>\n",
              "    <tr>\n",
              "      <th>4</th>\n",
              "      <td>D01005</td>\n",
              "      <td>일반상환학자금_나라지킴이</td>\n",
              "    </tr>\n",
              "    <tr>\n",
              "      <th>5</th>\n",
              "      <td>D02001</td>\n",
              "      <td>취업후상환학자금_등록금</td>\n",
              "    </tr>\n",
              "    <tr>\n",
              "      <th>6</th>\n",
              "      <td>D02002</td>\n",
              "      <td>취업후상환학자금_생활비</td>\n",
              "    </tr>\n",
              "    <tr>\n",
              "      <th>7</th>\n",
              "      <td>D05001</td>\n",
              "      <td>은행대출보증_등록금</td>\n",
              "    </tr>\n",
              "    <tr>\n",
              "      <th>8</th>\n",
              "      <td>D05002</td>\n",
              "      <td>은행대출보증_생활비</td>\n",
              "    </tr>\n",
              "    <tr>\n",
              "      <th>9</th>\n",
              "      <td>D05003</td>\n",
              "      <td>은행대출보증_등록금생활비</td>\n",
              "    </tr>\n",
              "    <tr>\n",
              "      <th>10</th>\n",
              "      <td>D01999</td>\n",
              "      <td>일반학자금 든든전환</td>\n",
              "    </tr>\n",
              "    <tr>\n",
              "      <th>11</th>\n",
              "      <td>D01011</td>\n",
              "      <td>한국장학재단 일반전환대출</td>\n",
              "    </tr>\n",
              "    <tr>\n",
              "      <th>12</th>\n",
              "      <td>D01998</td>\n",
              "      <td>한국장학재단 전환대출</td>\n",
              "    </tr>\n",
              "    <tr>\n",
              "      <th>13</th>\n",
              "      <td>D02011</td>\n",
              "      <td>한국장학재단 든든전환대출</td>\n",
              "    </tr>\n",
              "    <tr>\n",
              "      <th>14</th>\n",
              "      <td>D01991</td>\n",
              "      <td>일반학자금_등록금(분납)</td>\n",
              "    </tr>\n",
              "    <tr>\n",
              "      <th>15</th>\n",
              "      <td>D02991</td>\n",
              "      <td>든든학자금_등록금(분납)</td>\n",
              "    </tr>\n",
              "  </tbody>\n",
              "</table>\n",
              "</div>"
            ],
            "text/plain": [
              "      상품코드              상품명\n",
              "0   D01001      일반상환학자금_등록금\n",
              "1   D01002      일반상환학자금_생활비\n",
              "2   D01003   일반상환학자금_등록금생활비\n",
              "3   D01004  일반상환학자금_WEST연수비\n",
              "4   D01005    일반상환학자금_나라지킴이\n",
              "5   D02001     취업후상환학자금_등록금\n",
              "6   D02002     취업후상환학자금_생활비\n",
              "7   D05001       은행대출보증_등록금\n",
              "8   D05002       은행대출보증_생활비\n",
              "9   D05003    은행대출보증_등록금생활비\n",
              "10  D01999       일반학자금 든든전환\n",
              "11  D01011    한국장학재단 일반전환대출\n",
              "12  D01998      한국장학재단 전환대출\n",
              "13  D02011    한국장학재단 든든전환대출\n",
              "14  D01991    일반학자금_등록금(분납)\n",
              "15  D02991    든든학자금_등록금(분납)"
            ]
          },
          "metadata": {
            "tags": []
          },
          "execution_count": 4
        }
      ]
    },
    {
      "cell_type": "code",
      "metadata": {
        "id": "JvNqYQyusKeh",
        "outputId": "9f34d7ed-ac6e-4966-e340-be3fe8c62499",
        "colab": {
          "base_uri": "https://localhost:8080/",
          "height": 419
        }
      },
      "source": [
        "df = pd.read_csv(\"/content/drive/MyDrive/연체전략관리_연체내역.csv\",encoding='euc-kr')\n",
        "df"
      ],
      "execution_count": 31,
      "outputs": [
        {
          "output_type": "execute_result",
          "data": {
            "text/html": [
              "<div>\n",
              "<style scoped>\n",
              "    .dataframe tbody tr th:only-of-type {\n",
              "        vertical-align: middle;\n",
              "    }\n",
              "\n",
              "    .dataframe tbody tr th {\n",
              "        vertical-align: top;\n",
              "    }\n",
              "\n",
              "    .dataframe thead th {\n",
              "        text-align: right;\n",
              "    }\n",
              "</style>\n",
              "<table border=\"1\" class=\"dataframe\">\n",
              "  <thead>\n",
              "    <tr style=\"text-align: right;\">\n",
              "      <th></th>\n",
              "      <th>기준년월</th>\n",
              "      <th>상품코드</th>\n",
              "      <th>대출년도</th>\n",
              "      <th>대출학기</th>\n",
              "      <th>등록금잔액</th>\n",
              "      <th>생활비용잔액</th>\n",
              "      <th>대출기간월수</th>\n",
              "      <th>대출경과개월수</th>\n",
              "      <th>대출거치기간월수</th>\n",
              "      <th>거치경과개월수</th>\n",
              "      <th>거치잔여개월수</th>\n",
              "      <th>상환경과개월수</th>\n",
              "    </tr>\n",
              "  </thead>\n",
              "  <tbody>\n",
              "    <tr>\n",
              "      <th>0</th>\n",
              "      <td>2020-12</td>\n",
              "      <td>D01001</td>\n",
              "      <td>2009</td>\n",
              "      <td>2</td>\n",
              "      <td>3459550</td>\n",
              "      <td>0</td>\n",
              "      <td>120</td>\n",
              "      <td>135</td>\n",
              "      <td>60</td>\n",
              "      <td>0</td>\n",
              "      <td>0</td>\n",
              "      <td>75</td>\n",
              "    </tr>\n",
              "    <tr>\n",
              "      <th>1</th>\n",
              "      <td>2020-12</td>\n",
              "      <td>D01001</td>\n",
              "      <td>2009</td>\n",
              "      <td>2</td>\n",
              "      <td>3339510</td>\n",
              "      <td>2209510</td>\n",
              "      <td>180</td>\n",
              "      <td>135</td>\n",
              "      <td>60</td>\n",
              "      <td>0</td>\n",
              "      <td>0</td>\n",
              "      <td>75</td>\n",
              "    </tr>\n",
              "    <tr>\n",
              "      <th>2</th>\n",
              "      <td>2020-12</td>\n",
              "      <td>D01001</td>\n",
              "      <td>2009</td>\n",
              "      <td>2</td>\n",
              "      <td>882739</td>\n",
              "      <td>827587</td>\n",
              "      <td>120</td>\n",
              "      <td>135</td>\n",
              "      <td>60</td>\n",
              "      <td>0</td>\n",
              "      <td>0</td>\n",
              "      <td>75</td>\n",
              "    </tr>\n",
              "    <tr>\n",
              "      <th>3</th>\n",
              "      <td>2020-12</td>\n",
              "      <td>D01001</td>\n",
              "      <td>2009</td>\n",
              "      <td>2</td>\n",
              "      <td>4267788</td>\n",
              "      <td>0</td>\n",
              "      <td>144</td>\n",
              "      <td>135</td>\n",
              "      <td>24</td>\n",
              "      <td>0</td>\n",
              "      <td>0</td>\n",
              "      <td>111</td>\n",
              "    </tr>\n",
              "    <tr>\n",
              "      <th>4</th>\n",
              "      <td>2020-12</td>\n",
              "      <td>D01001</td>\n",
              "      <td>2009</td>\n",
              "      <td>2</td>\n",
              "      <td>4333710</td>\n",
              "      <td>4116371</td>\n",
              "      <td>240</td>\n",
              "      <td>135</td>\n",
              "      <td>120</td>\n",
              "      <td>0</td>\n",
              "      <td>0</td>\n",
              "      <td>15</td>\n",
              "    </tr>\n",
              "    <tr>\n",
              "      <th>...</th>\n",
              "      <td>...</td>\n",
              "      <td>...</td>\n",
              "      <td>...</td>\n",
              "      <td>...</td>\n",
              "      <td>...</td>\n",
              "      <td>...</td>\n",
              "      <td>...</td>\n",
              "      <td>...</td>\n",
              "      <td>...</td>\n",
              "      <td>...</td>\n",
              "      <td>...</td>\n",
              "      <td>...</td>\n",
              "    </tr>\n",
              "    <tr>\n",
              "      <th>720535</th>\n",
              "      <td>2020-12</td>\n",
              "      <td>D05003</td>\n",
              "      <td>2009</td>\n",
              "      <td>1</td>\n",
              "      <td>3893080</td>\n",
              "      <td>3882770</td>\n",
              "      <td>216</td>\n",
              "      <td>142</td>\n",
              "      <td>96</td>\n",
              "      <td>0</td>\n",
              "      <td>0</td>\n",
              "      <td>46</td>\n",
              "    </tr>\n",
              "    <tr>\n",
              "      <th>720536</th>\n",
              "      <td>2020-12</td>\n",
              "      <td>D05003</td>\n",
              "      <td>2009</td>\n",
              "      <td>1</td>\n",
              "      <td>3741130</td>\n",
              "      <td>3734230</td>\n",
              "      <td>228</td>\n",
              "      <td>142</td>\n",
              "      <td>108</td>\n",
              "      <td>0</td>\n",
              "      <td>0</td>\n",
              "      <td>34</td>\n",
              "    </tr>\n",
              "    <tr>\n",
              "      <th>720537</th>\n",
              "      <td>2020-12</td>\n",
              "      <td>D05003</td>\n",
              "      <td>2009</td>\n",
              "      <td>1</td>\n",
              "      <td>2744440</td>\n",
              "      <td>2708810</td>\n",
              "      <td>168</td>\n",
              "      <td>142</td>\n",
              "      <td>48</td>\n",
              "      <td>0</td>\n",
              "      <td>0</td>\n",
              "      <td>94</td>\n",
              "    </tr>\n",
              "    <tr>\n",
              "      <th>720538</th>\n",
              "      <td>2020-12</td>\n",
              "      <td>D05003</td>\n",
              "      <td>2009</td>\n",
              "      <td>1</td>\n",
              "      <td>2811680</td>\n",
              "      <td>2795510</td>\n",
              "      <td>168</td>\n",
              "      <td>142</td>\n",
              "      <td>48</td>\n",
              "      <td>0</td>\n",
              "      <td>0</td>\n",
              "      <td>94</td>\n",
              "    </tr>\n",
              "    <tr>\n",
              "      <th>720539</th>\n",
              "      <td>2020-12</td>\n",
              "      <td>D05003</td>\n",
              "      <td>2009</td>\n",
              "      <td>1</td>\n",
              "      <td>3657230</td>\n",
              "      <td>3627020</td>\n",
              "      <td>168</td>\n",
              "      <td>142</td>\n",
              "      <td>48</td>\n",
              "      <td>0</td>\n",
              "      <td>0</td>\n",
              "      <td>94</td>\n",
              "    </tr>\n",
              "  </tbody>\n",
              "</table>\n",
              "<p>720540 rows × 12 columns</p>\n",
              "</div>"
            ],
            "text/plain": [
              "           기준년월    상품코드  대출년도  대출학기  ...  대출거치기간월수  거치경과개월수  거치잔여개월수  상환경과개월수\n",
              "0       2020-12  D01001  2009     2  ...        60        0        0       75\n",
              "1       2020-12  D01001  2009     2  ...        60        0        0       75\n",
              "2       2020-12  D01001  2009     2  ...        60        0        0       75\n",
              "3       2020-12  D01001  2009     2  ...        24        0        0      111\n",
              "4       2020-12  D01001  2009     2  ...       120        0        0       15\n",
              "...         ...     ...   ...   ...  ...       ...      ...      ...      ...\n",
              "720535  2020-12  D05003  2009     1  ...        96        0        0       46\n",
              "720536  2020-12  D05003  2009     1  ...       108        0        0       34\n",
              "720537  2020-12  D05003  2009     1  ...        48        0        0       94\n",
              "720538  2020-12  D05003  2009     1  ...        48        0        0       94\n",
              "720539  2020-12  D05003  2009     1  ...        48        0        0       94\n",
              "\n",
              "[720540 rows x 12 columns]"
            ]
          },
          "metadata": {
            "tags": []
          },
          "execution_count": 31
        }
      ]
    },
    {
      "cell_type": "code",
      "metadata": {
        "id": "0ZxlFnIwyGql"
      },
      "source": [
        "# 타겟 생성\n",
        "df.loc[(df['등록금잔액'] == 0)&(df['생활비용잔액'] == 0),'상환여부'] = 0 \n",
        "df.loc[((df['등록금잔액'] > 0)|(df['생활비용잔액'] > 0))&(df['상환경과개월수']>0),'상환여부'] = 1 "
      ],
      "execution_count": 37,
      "outputs": []
    },
    {
      "cell_type": "code",
      "metadata": {
        "id": "zw6Br1kWtN-E",
        "outputId": "dccb4ea1-937d-4916-ffec-61f0f8bd7ff8",
        "colab": {
          "base_uri": "https://localhost:8080/"
        }
      },
      "source": [
        "# 타겟 선택\n",
        "target = df['상환여부']\n",
        "target"
      ],
      "execution_count": 55,
      "outputs": [
        {
          "output_type": "execute_result",
          "data": {
            "text/plain": [
              "0         1.0\n",
              "1         1.0\n",
              "2         1.0\n",
              "3         1.0\n",
              "4         1.0\n",
              "         ... \n",
              "720535    1.0\n",
              "720536    1.0\n",
              "720537    1.0\n",
              "720538    1.0\n",
              "720539    1.0\n",
              "Name: 상환여부, Length: 720540, dtype: float64"
            ]
          },
          "metadata": {
            "tags": []
          },
          "execution_count": 55
        }
      ]
    },
    {
      "cell_type": "code",
      "metadata": {
        "id": "4FdQpipctBXV"
      },
      "source": [
        "train_X = df[['상품코드', '대출기간월수','대출거치기간월수']]\n",
        "train_X"
      ],
      "execution_count": 51,
      "outputs": []
    },
    {
      "cell_type": "markdown",
      "metadata": {
        "id": "VjOBIzWNbqKR"
      },
      "source": [
        "### 2) 풀고자 하는 문제가 분류/회귀 문제인지 정합니다.\n",
        "- **(객관식) 다음 설명 중 가장 틀린 항목을 선택하고 과제 제출폼에 제출하세요.**\n",
        "    1. 특정한 종목의 다음날 주식 종가를 예측하는 문제는 Supervised Learning 문제이다.\n",
        "    2. 다음날 KOSPI 지수가 증가할지 감소할지 예측하는 문제는 Classification 문제이다.\n",
        "    3. 축구 경기 도중에 승패를 예측하는 모델을 만들기 위해서는 실시간 통계 정보와 경기마다 승패 데이터가 필요하다.\n",
        "    4. 이번 시즌 토트넘 선수들의 개인 통계 데이터(슛, 도움, ...)를 사용해서 다음 토트넘 경기의 승패를 예측할 수 있다.\n",
        "   "
      ]
    },
    {
      "cell_type": "code",
      "metadata": {
        "id": "viakafA9bqKR",
        "outputId": "13b9c82b-9a30-4172-f1a9-297ca151ec43",
        "colab": {
          "base_uri": "https://localhost:8080/"
        }
      },
      "source": [
        "### 이곳에서 과제를 진행해 주세요 ### \n",
        "\n",
        "# 객관식 답 ==  2번 \n",
        "\n",
        "#  df['상환여부'] 으로 타겟 값이 0,1로 나뉘므로 분류 문제라고 볼 수 있다\n",
        "df['상환여부'].value_counts()"
      ],
      "execution_count": 54,
      "outputs": [
        {
          "output_type": "execute_result",
          "data": {
            "text/plain": [
              "1.0    717060\n",
              "0.0      3480\n",
              "Name: 상환여부, dtype: int64"
            ]
          },
          "metadata": {
            "tags": []
          },
          "execution_count": 54
        }
      ]
    },
    {
      "cell_type": "markdown",
      "metadata": {
        "id": "sQ5bOc5MbqKS"
      },
      "source": [
        "### 3) 타겟의 분포를 분석하고 사용할 평가지표를 선택합니다. 평가지표를 선택한 이유를 설명하세요.\n",
        "- 분류: 클래스가 몇 개인지? 클래스 비율이 어떤지(balance or imbalance)\n",
        "- 회귀: 타겟 분포가 right-skewed 인지? log-transform을 사용할 것인지?\n",
        "- 분류: 다수 클래스(majority class) 비율이 50%~70% 인 경우 정확도(accuracy)만 사용해도 무방합니다. 하지만 범위를 넘어설 경우 정확도만을 사용해서는 모델을 잘못 이해할 수 있습니다. 어떤 평가지표를 사용해야 할까요?\n",
        "- 회귀: MAE, RMSE, R^2 등을 사용할 수 있습니다.\n",
        "- **(객관식) 같은 데이터로 스팸을 예측하는 모델 A와 B를 만들었습니다. 다음 설명 중 가장 올바른 항목을 선택하고 과제 제출폼에 제출하세요.**\n",
        "    1. A의 재현율은 80%이고 B의 재현율은 60%일 때 A가 더 좋은 모델이다.\n",
        "    2. A의 정밀도는 80%이고 B의 정밀도는 60%일 때 A가 더 좋은 모델이다.\n",
        "    3. A는 B보다 정밀도는 높지만 재현율은 낮다. A가 더 좋은 모델이다.\n",
        "    4. A는 B보다 재현율은 높지만, 정밀도는 낮다. A가 더 좋은 모델이다.\n",
        "    5. A는 B보다 정밀도, 재현율 모두 높다. A가 더 좋은 모델이다."
      ]
    },
    {
      "cell_type": "code",
      "metadata": {
        "id": "aGDndzi6bqKS"
      },
      "source": [
        "### 이곳에서 과제를 진행해 주세요 ### \n",
        "# f1 score 선택\n",
        "#클래스가 2개이며 비율이 1(연체고객) 쪽으로 쏠려서 클래스 불균형이 일어난다\n",
        "#클래스 불균형일 경우 정확도와 정밀도는 높고 재현율이 크게 떨어지는 경향이 있다\n",
        "# 그러므로 f1 score를 평가지표로 정하고 precision과 recall의 조화평균으로 성능을 측정해야한다\n",
        "\n",
        "#객관식 답 === 4\n"
      ],
      "execution_count": null,
      "outputs": []
    },
    {
      "cell_type": "markdown",
      "metadata": {
        "id": "YPPrJe_ZbqKT"
      },
      "source": [
        "## 🔥 도전과제"
      ]
    },
    {
      "cell_type": "markdown",
      "metadata": {
        "id": "ZRAYXWOVbqKT"
      },
      "source": [
        "### 4) 데이터를 훈련/검증/테스트 데이터로 나누고 전처리를 수행합니다. 그리고 간단한 모델을 사용해서 학습을 수행합니다.\n",
        "- 이상치(outliers)가 있다면 어떻게 처리할 것인지 설명합니다.\n",
        "- 무작위로 or 시간에 따라 데이터를 나눌 것인지 설명합니다.\n",
        "- 모델 학습 결과를 리포팅 합니다.\n",
        "- 정보 누수(leakage)가 있는지 확인해 봅니다."
      ]
    },
    {
      "cell_type": "code",
      "metadata": {
        "id": "8XFbWIR0bqKU"
      },
      "source": [
        "### 이곳에서 과제를 진행해 주세요 ### "
      ],
      "execution_count": null,
      "outputs": []
    }
  ]
}
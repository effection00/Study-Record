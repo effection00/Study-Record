{
  "nbformat": 4,
  "nbformat_minor": 0,
  "metadata": {
    "colab": {
      "name": "N421a_Count-based_Representation.ipynb",
      "provenance": [],
      "collapsed_sections": []
    },
    "kernelspec": {
      "display_name": "Python 3",
      "language": "python",
      "name": "python3"
    },
    "language_info": {
      "codemirror_mode": {
        "name": "ipython",
        "version": 3
      },
      "file_extension": ".py",
      "mimetype": "text/x-python",
      "name": "python",
      "nbconvert_exporter": "python",
      "pygments_lexer": "ipython3",
      "version": "3.9.4"
    },
    "toc-autonumbering": false,
    "accelerator": "GPU"
  },
  "cells": [
    {
      "cell_type": "markdown",
      "metadata": {
        "id": "za56W96DnxVC"
      },
      "source": [
        "<img align=\"right\" src=\"https://ds-cs-images.s3.ap-northeast-2.amazonaws.com/Codestates_Fulllogo_Color.png\" width=100>\n",
        "\n",
        "## *DATA SCIENCE / SECTION 4 / SPRINT 2 / NOTE 1*\n",
        "\n",
        "# 📝 Assignment\n",
        "\n",
        "---\n",
        "\n",
        "\n",
        "# Count-based_Representation"
      ]
    },
    {
      "cell_type": "markdown",
      "metadata": {
        "id": "68CzOVminxVR"
      },
      "source": [
        "indeed.com 에서 Data Scientist 키워드로 Job descrition을 찾아 스크래핑한 데이터를 이용해 과제를 진행해 보겠습니다.\n",
        "\n",
        "[Data_Scienties.csv](https://ds-lecture-data.s3.ap-northeast-2.amazonaws.com/indeed/Data_Scientist.csv) 파일에는 1300여개의 Data Scientist job description 정보가 담겨 있습니다."
      ]
    },
    {
      "cell_type": "markdown",
      "metadata": {
        "id": "Fon1gvE36a9Q"
      },
      "source": [
        "## 1. 데이터 전처리 (Text preprocessing)"
      ]
    },
    {
      "cell_type": "code",
      "metadata": {
        "id": "cnvZzxM4EVMh"
      },
      "source": [
        "import re\n",
        "import string\n",
        "\n",
        "import numpy as np\n",
        "import pandas as pd\n",
        "import matplotlib.pyplot as plt"
      ],
      "execution_count": 33,
      "outputs": []
    },
    {
      "cell_type": "markdown",
      "metadata": {
        "id": "U1w7-dwwF5rW"
      },
      "source": [
        "### 0) 텍스트 분석에 앞서 데이터 전처리를 진행합니다."
      ]
    },
    {
      "cell_type": "markdown",
      "metadata": {
        "id": "3Omo3_B1FT_I"
      },
      "source": [
        "- 파일을 불러온 후 title, company, description 에 해당하는 Column만 남겨주세요.\n",
        "- 중복값을 제거하세요."
      ]
    },
    {
      "cell_type": "code",
      "metadata": {
        "id": "IwdNT6hmEPhq"
      },
      "source": [
        "df = pd.read_csv('https://ds-lecture-data.s3.ap-northeast-2.amazonaws.com/indeed/Data_Scientist.csv')"
      ],
      "execution_count": 34,
      "outputs": []
    },
    {
      "cell_type": "code",
      "metadata": {
        "id": "LdClHcPxtP_J"
      },
      "source": [
        " df = df[['title', 'company', 'description']].drop_duplicates()"
      ],
      "execution_count": 35,
      "outputs": []
    },
    {
      "cell_type": "code",
      "metadata": {
        "colab": {
          "base_uri": "https://localhost:8080/"
        },
        "id": "7VVH4y4et_x7",
        "outputId": "feb5fa65-135e-4403-a94d-f31bfc39ce6f"
      },
      "source": [
        "df.shape"
      ],
      "execution_count": 36,
      "outputs": [
        {
          "output_type": "execute_result",
          "data": {
            "text/plain": [
              "(757, 3)"
            ]
          },
          "metadata": {
            "tags": []
          },
          "execution_count": 36
        }
      ]
    },
    {
      "cell_type": "markdown",
      "metadata": {
        "id": "JepbPJw5nxVT"
      },
      "source": [
        "### 1) 토큰을 정제합니다."
      ]
    },
    {
      "cell_type": "markdown",
      "metadata": {
        "id": "8Mq6oYCdQ0cZ"
      },
      "source": [
        "- 문자를 소문자로 통일\n",
        "- 분석에 관련 없는 정보 제거\n",
        "- 이번 과제는 `spacy` 로부터 `\"en_core_web_sm\"` 을 로드하여 진행해주세요.\n",
        "\n",
        "- **문항 1) 대문자를 소문자로 변경하는 함수를 입력하세요.**\n",
        "- **문항 2) 정규 표현식을 사용하여 re 라이브러리에서 알파벳 소문자, 숫자만 받을 수 있는 코드를 작성하세요.**"
      ]
    },
    {
      "cell_type": "code",
      "metadata": {
        "colab": {
          "base_uri": "https://localhost:8080/",
          "height": 205
        },
        "id": "bhJ5zFp8vCel",
        "outputId": "0c202c4d-7d64-42cf-b707-737171fffae5"
      },
      "source": [
        "df.tail()"
      ],
      "execution_count": 37,
      "outputs": [
        {
          "output_type": "execute_result",
          "data": {
            "text/html": [
              "<div>\n",
              "<style scoped>\n",
              "    .dataframe tbody tr th:only-of-type {\n",
              "        vertical-align: middle;\n",
              "    }\n",
              "\n",
              "    .dataframe tbody tr th {\n",
              "        vertical-align: top;\n",
              "    }\n",
              "\n",
              "    .dataframe thead th {\n",
              "        text-align: right;\n",
              "    }\n",
              "</style>\n",
              "<table border=\"1\" class=\"dataframe\">\n",
              "  <thead>\n",
              "    <tr style=\"text-align: right;\">\n",
              "      <th></th>\n",
              "      <th>title</th>\n",
              "      <th>company</th>\n",
              "      <th>description</th>\n",
              "    </tr>\n",
              "  </thead>\n",
              "  <tbody>\n",
              "    <tr>\n",
              "      <th>1288</th>\n",
              "      <td>Senior Data Analyst</td>\n",
              "      <td>Intuit</td>\n",
              "      <td>Our Expert Delivery &amp; Business Intelligence te...</td>\n",
              "    </tr>\n",
              "    <tr>\n",
              "      <th>1294</th>\n",
              "      <td>Senior / Data Scientist, Advertising Business</td>\n",
              "      <td>Spotify</td>\n",
              "      <td>Music for everyone, no credit card needed. It’...</td>\n",
              "    </tr>\n",
              "    <tr>\n",
              "      <th>1295</th>\n",
              "      <td>Senior Data &amp; Applied Scientist</td>\n",
              "      <td>Microsoft</td>\n",
              "      <td>Senior Data &amp; Applied Scientist\\nDo you have a...</td>\n",
              "    </tr>\n",
              "    <tr>\n",
              "      <th>1297</th>\n",
              "      <td>Senior Data Scientist</td>\n",
              "      <td>eBay Inc.</td>\n",
              "      <td>eBay is a global commerce leader that allows y...</td>\n",
              "    </tr>\n",
              "    <tr>\n",
              "      <th>1299</th>\n",
              "      <td>Senior Data Scientist</td>\n",
              "      <td>Spring Discovery</td>\n",
              "      <td>tl;dr\\nSpring is accelerating the discovery of...</td>\n",
              "    </tr>\n",
              "  </tbody>\n",
              "</table>\n",
              "</div>"
            ],
            "text/plain": [
              "                                              title  ...                                        description\n",
              "1288                            Senior Data Analyst  ...  Our Expert Delivery & Business Intelligence te...\n",
              "1294  Senior / Data Scientist, Advertising Business  ...  Music for everyone, no credit card needed. It’...\n",
              "1295                Senior Data & Applied Scientist  ...  Senior Data & Applied Scientist\\nDo you have a...\n",
              "1297                          Senior Data Scientist  ...  eBay is a global commerce leader that allows y...\n",
              "1299                          Senior Data Scientist  ...  tl;dr\\nSpring is accelerating the discovery of...\n",
              "\n",
              "[5 rows x 3 columns]"
            ]
          },
          "metadata": {
            "tags": []
          },
          "execution_count": 37
        }
      ]
    },
    {
      "cell_type": "code",
      "metadata": {
        "id": "NxOXXoinuGBz"
      },
      "source": [
        "df['description'] = df['description'].apply(lambda x: x.lower())"
      ],
      "execution_count": 38,
      "outputs": []
    },
    {
      "cell_type": "code",
      "metadata": {
        "colab": {
          "base_uri": "https://localhost:8080/"
        },
        "id": "7j2-Oh4quqkJ",
        "outputId": "a327f58d-53de-41e0-e1e1-7ac284cb0472"
      },
      "source": [
        " df['description'].tail()"
      ],
      "execution_count": 39,
      "outputs": [
        {
          "output_type": "execute_result",
          "data": {
            "text/plain": [
              "1288    our expert delivery & business intelligence te...\n",
              "1294    music for everyone, no credit card needed. it’...\n",
              "1295    senior data & applied scientist\\ndo you have a...\n",
              "1297    ebay is a global commerce leader that allows y...\n",
              "1299    tl;dr\\nspring is accelerating the discovery of...\n",
              "Name: description, dtype: object"
            ]
          },
          "metadata": {
            "tags": []
          },
          "execution_count": 39
        }
      ]
    },
    {
      "cell_type": "code",
      "metadata": {
        "id": "CgPPyQ25xKLj"
      },
      "source": [
        ""
      ],
      "execution_count": 39,
      "outputs": []
    },
    {
      "cell_type": "code",
      "metadata": {
        "colab": {
          "base_uri": "https://localhost:8080/"
        },
        "id": "iKhKnffEvzhA",
        "outputId": "b5b6d9f0-3c2a-4a31-96bf-c34e7b925acf"
      },
      "source": [
        "import spacy\n",
        "from spacy.tokenizer import Tokenizer\n",
        "\n",
        "nlp = spacy.load(\"en_core_web_sm\")\n",
        "\n",
        "tokenizer = Tokenizer(nlp.vocab)\n",
        "\n",
        "tokens = []\n",
        "for doc in tokenizer.pipe(df['description']):\n",
        "    doc_tokens = [re.sub(r\"[^a-z0-9]\", \"\", token.text) for token in doc]\n",
        "    doc_tokens = [token for token in doc_tokens if token]\n",
        "    tokens.append(doc_tokens)\n",
        "\n",
        "df['tokens'] = tokens\n",
        "df['tokens'].tail()"
      ],
      "execution_count": 40,
      "outputs": [
        {
          "output_type": "execute_result",
          "data": {
            "text/plain": [
              "1288    [our, expert, delivery, business, intelligence...\n",
              "1294    [music, for, everyone, no, credit, card, neede...\n",
              "1295    [senior, data, applied, scientist, do, you, ha...\n",
              "1297    [ebay, is, a, global, commerce, leader, that, ...\n",
              "1299    [tldr, spring, is, accelerating, the, discover...\n",
              "Name: tokens, dtype: object"
            ]
          },
          "metadata": {
            "tags": []
          },
          "execution_count": 40
        }
      ]
    },
    {
      "cell_type": "code",
      "metadata": {
        "colab": {
          "base_uri": "https://localhost:8080/"
        },
        "id": "L51Lk82a0-X7",
        "outputId": "bdfd262b-7a91-4167-b303-54b4a3ca0096"
      },
      "source": [
        "df['tokens']"
      ],
      "execution_count": 41,
      "outputs": [
        {
          "output_type": "execute_result",
          "data": {
            "text/plain": [
              "0       [job, details, description, essential, duties,...\n",
              "2       [as, a, team, member, in, the, finance, and, i...\n",
              "4       [overview, american, credit, acceptance, seeks...\n",
              "5       [jp, morgans, corporate, investment, bank, cib...\n",
              "6       [at, vystar, we, offer, competitive, pay, an, ...\n",
              "                              ...                        \n",
              "1288    [our, expert, delivery, business, intelligence...\n",
              "1294    [music, for, everyone, no, credit, card, neede...\n",
              "1295    [senior, data, applied, scientist, do, you, ha...\n",
              "1297    [ebay, is, a, global, commerce, leader, that, ...\n",
              "1299    [tldr, spring, is, accelerating, the, discover...\n",
              "Name: tokens, Length: 757, dtype: object"
            ]
          },
          "metadata": {
            "tags": []
          },
          "execution_count": 41
        }
      ]
    },
    {
      "cell_type": "markdown",
      "metadata": {
        "id": "RdgRqlzsnxVT"
      },
      "source": [
        "### 2) 정제한 토큰을 시각화 합니다."
      ]
    },
    {
      "cell_type": "markdown",
      "metadata": {
        "id": "sOobV051OOsv"
      },
      "source": [
        "- Top 10 토큰을 프린트 합니다.\n",
        "- 토큰의 수, 빈도 순위, 존재 문서 수, 비율 등 정보를 계산합니다.\n",
        "- 토큰 순위에 따른 퍼센트 누적 분포 그래프를 시각화합니다.\n",
        "\n",
        "- **문항 3) 추천 토큰 순위 10개 단어를 입력하세요.**"
      ]
    },
    {
      "cell_type": "code",
      "metadata": {
        "id": "3Gk8_RIxcWKS"
      },
      "source": [
        "### 이곳에서 과제를 진행해 주세요 ### \n",
        "from collections import Counter\n",
        "\n",
        "def word_count(docs):\n",
        " # 전체 코퍼스에서 단어 빈도 카운트\n",
        "    word_counts = Counter()\n",
        "\n",
        "    # 단어가 존재하는 문서의 빈도 카운트, 단어가 한 번 이상 존재하면 +1\n",
        "    word_in_docs = Counter()\n",
        "\n",
        "    # 전체 문서의 갯수\n",
        "    total_docs = len(docs)\n",
        "\n",
        "    for doc in docs:\n",
        "        word_counts.update(doc)\n",
        "        word_in_docs.update(set(doc))\n",
        "\n",
        "    temp = zip(word_counts.keys(), word_counts.values())\n",
        "\n",
        "    wc = pd.DataFrame(temp, columns = ['word', 'count'])\n",
        "\n",
        "    # 단어의 순위\n",
        "    # method='first': 같은 값의 경우 먼저나온 요소를 우선\n",
        "    wc['rank'] = wc['count'].rank(method='first', ascending=False)\n",
        "    total = wc['count'].sum()\n",
        "\n",
        "    # 코퍼스 내 단어의 비율\n",
        "    wc['percent'] = wc['count'].apply(lambda x: x / total)\n",
        "\n",
        "    wc = wc.sort_values(by='rank')\n",
        "\n",
        "    # 누적 비율\n",
        "    # cumsum() : cumulative sum\n",
        "    wc['cul_percent'] = wc['percent'].cumsum()\n",
        "\n",
        "    temp2 = zip(word_in_docs.keys(), word_in_docs.values())\n",
        "    ac = pd.DataFrame(temp2, columns=['word', 'word_in_docs'])\n",
        "    wc = ac.merge(wc, on='word')\n",
        "    \n",
        "    # 전체 문서 중 존재하는 비율\n",
        "    wc['word_in_docs_percent'] = wc['word_in_docs'].apply(lambda x: x / total_docs)\n",
        "\n",
        "    return wc.sort_values(by='rank')\n"
      ],
      "execution_count": 42,
      "outputs": []
    },
    {
      "cell_type": "code",
      "metadata": {
        "colab": {
          "base_uri": "https://localhost:8080/",
          "height": 362
        },
        "id": "dkcCRrqR8rUy",
        "outputId": "c70526f1-d79c-4164-be8a-b3767d0da829"
      },
      "source": [
        "new = word_count(df['tokens'])\n",
        "new[new['rank']<=10]"
      ],
      "execution_count": 43,
      "outputs": [
        {
          "output_type": "execute_result",
          "data": {
            "text/html": [
              "<div>\n",
              "<style scoped>\n",
              "    .dataframe tbody tr th:only-of-type {\n",
              "        vertical-align: middle;\n",
              "    }\n",
              "\n",
              "    .dataframe tbody tr th {\n",
              "        vertical-align: top;\n",
              "    }\n",
              "\n",
              "    .dataframe thead th {\n",
              "        text-align: right;\n",
              "    }\n",
              "</style>\n",
              "<table border=\"1\" class=\"dataframe\">\n",
              "  <thead>\n",
              "    <tr style=\"text-align: right;\">\n",
              "      <th></th>\n",
              "      <th>word</th>\n",
              "      <th>word_in_docs</th>\n",
              "      <th>count</th>\n",
              "      <th>rank</th>\n",
              "      <th>percent</th>\n",
              "      <th>cul_percent</th>\n",
              "      <th>word_in_docs_percent</th>\n",
              "    </tr>\n",
              "  </thead>\n",
              "  <tbody>\n",
              "    <tr>\n",
              "      <th>2</th>\n",
              "      <td>and</td>\n",
              "      <td>755</td>\n",
              "      <td>21864</td>\n",
              "      <td>1.0</td>\n",
              "      <td>0.056456</td>\n",
              "      <td>0.056456</td>\n",
              "      <td>0.997358</td>\n",
              "    </tr>\n",
              "    <tr>\n",
              "      <th>180</th>\n",
              "      <td>to</td>\n",
              "      <td>754</td>\n",
              "      <td>12694</td>\n",
              "      <td>2.0</td>\n",
              "      <td>0.032778</td>\n",
              "      <td>0.089233</td>\n",
              "      <td>0.996037</td>\n",
              "    </tr>\n",
              "    <tr>\n",
              "      <th>225</th>\n",
              "      <td>the</td>\n",
              "      <td>745</td>\n",
              "      <td>10538</td>\n",
              "      <td>3.0</td>\n",
              "      <td>0.027210</td>\n",
              "      <td>0.116444</td>\n",
              "      <td>0.984148</td>\n",
              "    </tr>\n",
              "    <tr>\n",
              "      <th>188</th>\n",
              "      <td>of</td>\n",
              "      <td>745</td>\n",
              "      <td>8839</td>\n",
              "      <td>4.0</td>\n",
              "      <td>0.022823</td>\n",
              "      <td>0.139267</td>\n",
              "      <td>0.984148</td>\n",
              "    </tr>\n",
              "    <tr>\n",
              "      <th>122</th>\n",
              "      <td>data</td>\n",
              "      <td>740</td>\n",
              "      <td>7425</td>\n",
              "      <td>5.0</td>\n",
              "      <td>0.019172</td>\n",
              "      <td>0.158440</td>\n",
              "      <td>0.977543</td>\n",
              "    </tr>\n",
              "    <tr>\n",
              "      <th>11</th>\n",
              "      <td>in</td>\n",
              "      <td>748</td>\n",
              "      <td>6769</td>\n",
              "      <td>6.0</td>\n",
              "      <td>0.017478</td>\n",
              "      <td>0.175918</td>\n",
              "      <td>0.988111</td>\n",
              "    </tr>\n",
              "    <tr>\n",
              "      <th>116</th>\n",
              "      <td>a</td>\n",
              "      <td>739</td>\n",
              "      <td>6436</td>\n",
              "      <td>7.0</td>\n",
              "      <td>0.016619</td>\n",
              "      <td>0.192537</td>\n",
              "      <td>0.976222</td>\n",
              "    </tr>\n",
              "    <tr>\n",
              "      <th>54</th>\n",
              "      <td>with</td>\n",
              "      <td>742</td>\n",
              "      <td>5727</td>\n",
              "      <td>8.0</td>\n",
              "      <td>0.014788</td>\n",
              "      <td>0.207324</td>\n",
              "      <td>0.980185</td>\n",
              "    </tr>\n",
              "    <tr>\n",
              "      <th>562</th>\n",
              "      <td>for</td>\n",
              "      <td>727</td>\n",
              "      <td>4132</td>\n",
              "      <td>9.0</td>\n",
              "      <td>0.010669</td>\n",
              "      <td>0.217994</td>\n",
              "      <td>0.960370</td>\n",
              "    </tr>\n",
              "    <tr>\n",
              "      <th>117</th>\n",
              "      <td>or</td>\n",
              "      <td>708</td>\n",
              "      <td>3812</td>\n",
              "      <td>10.0</td>\n",
              "      <td>0.009843</td>\n",
              "      <td>0.227837</td>\n",
              "      <td>0.935271</td>\n",
              "    </tr>\n",
              "  </tbody>\n",
              "</table>\n",
              "</div>"
            ],
            "text/plain": [
              "     word  word_in_docs  count  ...   percent  cul_percent  word_in_docs_percent\n",
              "2     and           755  21864  ...  0.056456     0.056456              0.997358\n",
              "180    to           754  12694  ...  0.032778     0.089233              0.996037\n",
              "225   the           745  10538  ...  0.027210     0.116444              0.984148\n",
              "188    of           745   8839  ...  0.022823     0.139267              0.984148\n",
              "122  data           740   7425  ...  0.019172     0.158440              0.977543\n",
              "11     in           748   6769  ...  0.017478     0.175918              0.988111\n",
              "116     a           739   6436  ...  0.016619     0.192537              0.976222\n",
              "54   with           742   5727  ...  0.014788     0.207324              0.980185\n",
              "562   for           727   4132  ...  0.010669     0.217994              0.960370\n",
              "117    or           708   3812  ...  0.009843     0.227837              0.935271\n",
              "\n",
              "[10 rows x 7 columns]"
            ]
          },
          "metadata": {
            "tags": []
          },
          "execution_count": 43
        }
      ]
    },
    {
      "cell_type": "code",
      "metadata": {
        "colab": {
          "base_uri": "https://localhost:8080/",
          "height": 297
        },
        "id": "ewp9W7Ga9Ekd",
        "outputId": "6c3c9677-76df-4e78-e14c-42cb5c854d87"
      },
      "source": [
        "import seaborn as sns\n",
        "sns.lineplot(x='rank', y='cul_percent', data=new)\n"
      ],
      "execution_count": 44,
      "outputs": [
        {
          "output_type": "execute_result",
          "data": {
            "text/plain": [
              "<matplotlib.axes._subplots.AxesSubplot at 0x7fe76c091d50>"
            ]
          },
          "metadata": {
            "tags": []
          },
          "execution_count": 44
        },
        {
          "output_type": "display_data",
          "data": {
            "image/png": "[encoded data removed]",
            "text/plain": [
              "<Figure size 432x288 with 1 Axes>"
            ]
          },
          "metadata": {
            "tags": [],
            "needs_background": "light"
          }
        }
      ]
    },
    {
      "cell_type": "markdown",
      "metadata": {
        "id": "sURsv85FnxVU"
      },
      "source": [
        "### 4) 확장된 불용어 사전을 사용해 토큰을 정제합니다.\n"
      ]
    },
    {
      "cell_type": "markdown",
      "metadata": {
        "id": "d4FW5bGjRHb4"
      },
      "source": [
        "- **문항 4) 기본 불용어 사전에 두 단어(`\"data\", \"work\"`)를 추가하는 코드를 사용해주세요.**\n",
        "- **문항 5) 불용어를 제거하고 난 뒤 토큰 순위 10개의 단어를 입력하세요.**"
      ]
    },
    {
      "cell_type": "code",
      "metadata": {
        "id": "sddE39w_yx1D"
      },
      "source": [
        ""
      ],
      "execution_count": 44,
      "outputs": []
    },
    {
      "cell_type": "code",
      "metadata": {
        "id": "X6HOUnGSCKX4"
      },
      "source": [
        "STOP_WORD = nlp.Defaults.stop_words.union([\"data\", \"work\"])\n",
        "tokens = []\n",
        "# 토큰에서 불용어 제거, 소문자화 하여 업데이트\n",
        "for doc in df['tokens']:\n",
        "    doc_tokens = []\n",
        "    for token in doc:\n",
        "        if token not in STOP_WORD:\n",
        "            doc_tokens.append(token)\n",
        "    tokens.append(doc_tokens)\n",
        "\n",
        "df['tokens'] = tokens\n",
        "\n"
      ],
      "execution_count": 45,
      "outputs": []
    },
    {
      "cell_type": "code",
      "metadata": {
        "colab": {
          "base_uri": "https://localhost:8080/"
        },
        "id": "coFCoLqpE-Zq",
        "outputId": "a3cd3640-2333-4da4-afd7-164f04525df4"
      },
      "source": [
        "!pip install squarify"
      ],
      "execution_count": 46,
      "outputs": [
        {
          "output_type": "stream",
          "text": [
            "Requirement already satisfied: squarify in /usr/local/lib/python3.7/dist-packages (0.4.3)\n"
          ],
          "name": "stdout"
        }
      ]
    },
    {
      "cell_type": "code",
      "metadata": {
        "colab": {
          "base_uri": "https://localhost:8080/",
          "height": 362
        },
        "id": "OcZEgW7BTDHw",
        "outputId": "f0b4811d-cd7d-4df1-c0de-e2e7d8906696"
      },
      "source": [
        "new = word_count(df['tokens'])\n",
        "new.sort_values(by=['rank'])[:10]"
      ],
      "execution_count": 47,
      "outputs": [
        {
          "output_type": "execute_result",
          "data": {
            "text/html": [
              "<div>\n",
              "<style scoped>\n",
              "    .dataframe tbody tr th:only-of-type {\n",
              "        vertical-align: middle;\n",
              "    }\n",
              "\n",
              "    .dataframe tbody tr th {\n",
              "        vertical-align: top;\n",
              "    }\n",
              "\n",
              "    .dataframe thead th {\n",
              "        text-align: right;\n",
              "    }\n",
              "</style>\n",
              "<table border=\"1\" class=\"dataframe\">\n",
              "  <thead>\n",
              "    <tr style=\"text-align: right;\">\n",
              "      <th></th>\n",
              "      <th>word</th>\n",
              "      <th>word_in_docs</th>\n",
              "      <th>count</th>\n",
              "      <th>rank</th>\n",
              "      <th>percent</th>\n",
              "      <th>cul_percent</th>\n",
              "      <th>word_in_docs_percent</th>\n",
              "    </tr>\n",
              "  </thead>\n",
              "  <tbody>\n",
              "    <tr>\n",
              "      <th>153</th>\n",
              "      <td>experience</td>\n",
              "      <td>705</td>\n",
              "      <td>3450</td>\n",
              "      <td>1.0</td>\n",
              "      <td>0.014410</td>\n",
              "      <td>0.014410</td>\n",
              "      <td>0.931308</td>\n",
              "    </tr>\n",
              "    <tr>\n",
              "      <th>482</th>\n",
              "      <td>business</td>\n",
              "      <td>536</td>\n",
              "      <td>2064</td>\n",
              "      <td>2.0</td>\n",
              "      <td>0.008621</td>\n",
              "      <td>0.023030</td>\n",
              "      <td>0.708058</td>\n",
              "    </tr>\n",
              "    <tr>\n",
              "      <th>107</th>\n",
              "      <td>science</td>\n",
              "      <td>611</td>\n",
              "      <td>1648</td>\n",
              "      <td>3.0</td>\n",
              "      <td>0.006883</td>\n",
              "      <td>0.029913</td>\n",
              "      <td>0.807133</td>\n",
              "    </tr>\n",
              "    <tr>\n",
              "      <th>154</th>\n",
              "      <td>team</td>\n",
              "      <td>588</td>\n",
              "      <td>1625</td>\n",
              "      <td>4.0</td>\n",
              "      <td>0.006787</td>\n",
              "      <td>0.036701</td>\n",
              "      <td>0.776750</td>\n",
              "    </tr>\n",
              "    <tr>\n",
              "      <th>469</th>\n",
              "      <td>learning</td>\n",
              "      <td>526</td>\n",
              "      <td>1596</td>\n",
              "      <td>5.0</td>\n",
              "      <td>0.006666</td>\n",
              "      <td>0.043367</td>\n",
              "      <td>0.694848</td>\n",
              "    </tr>\n",
              "    <tr>\n",
              "      <th>115</th>\n",
              "      <td>analysis</td>\n",
              "      <td>516</td>\n",
              "      <td>1349</td>\n",
              "      <td>6.0</td>\n",
              "      <td>0.005634</td>\n",
              "      <td>0.049001</td>\n",
              "      <td>0.681638</td>\n",
              "    </tr>\n",
              "    <tr>\n",
              "      <th>123</th>\n",
              "      <td>skills</td>\n",
              "      <td>547</td>\n",
              "      <td>1251</td>\n",
              "      <td>7.0</td>\n",
              "      <td>0.005225</td>\n",
              "      <td>0.054226</td>\n",
              "      <td>0.722589</td>\n",
              "    </tr>\n",
              "    <tr>\n",
              "      <th>272</th>\n",
              "      <td>machine</td>\n",
              "      <td>470</td>\n",
              "      <td>1152</td>\n",
              "      <td>8.0</td>\n",
              "      <td>0.004812</td>\n",
              "      <td>0.059038</td>\n",
              "      <td>0.620872</td>\n",
              "    </tr>\n",
              "    <tr>\n",
              "      <th>228</th>\n",
              "      <td>analytics</td>\n",
              "      <td>428</td>\n",
              "      <td>1136</td>\n",
              "      <td>9.0</td>\n",
              "      <td>0.004745</td>\n",
              "      <td>0.063782</td>\n",
              "      <td>0.565390</td>\n",
              "    </tr>\n",
              "    <tr>\n",
              "      <th>105</th>\n",
              "      <td>models</td>\n",
              "      <td>459</td>\n",
              "      <td>1034</td>\n",
              "      <td>10.0</td>\n",
              "      <td>0.004319</td>\n",
              "      <td>0.068101</td>\n",
              "      <td>0.606341</td>\n",
              "    </tr>\n",
              "  </tbody>\n",
              "</table>\n",
              "</div>"
            ],
            "text/plain": [
              "           word  word_in_docs  ...  cul_percent  word_in_docs_percent\n",
              "153  experience           705  ...     0.014410              0.931308\n",
              "482    business           536  ...     0.023030              0.708058\n",
              "107     science           611  ...     0.029913              0.807133\n",
              "154        team           588  ...     0.036701              0.776750\n",
              "469    learning           526  ...     0.043367              0.694848\n",
              "115    analysis           516  ...     0.049001              0.681638\n",
              "123      skills           547  ...     0.054226              0.722589\n",
              "272     machine           470  ...     0.059038              0.620872\n",
              "228   analytics           428  ...     0.063782              0.565390\n",
              "105      models           459  ...     0.068101              0.606341\n",
              "\n",
              "[10 rows x 7 columns]"
            ]
          },
          "metadata": {
            "tags": []
          },
          "execution_count": 47
        }
      ]
    },
    {
      "cell_type": "code",
      "metadata": {
        "colab": {
          "base_uri": "https://localhost:8080/",
          "height": 248
        },
        "id": "IyR7ozGlEqew",
        "outputId": "3b88a804-d90e-4ad3-e614-64f2306659c0"
      },
      "source": [
        "import squarify\n",
        "import matplotlib.pyplot as plt\n",
        "\n",
        "wdf = word_count(df['tokens'])\n",
        "\n",
        "wdf_20 = wdf[wdf['rank'] <= 10]\n",
        "\n",
        "squarify.plot(sizes=wdf_20['percent'], label=wdf_20['word'], alpha=0.6)\n",
        "plt.axis('off')\n",
        "plt.show()\n"
      ],
      "execution_count": 18,
      "outputs": [
        {
          "output_type": "display_data",
          "data": {
            "image/png": "[encoded data removed]",
            "text/plain": [
              "<Figure size 432x288 with 1 Axes>"
            ]
          },
          "metadata": {
            "tags": [],
            "needs_background": "light"
          }
        }
      ]
    },
    {
      "cell_type": "markdown",
      "metadata": {
        "id": "f0iyh_gFnxVV"
      },
      "source": [
        "### 5) Lemmatization 사용 효과를 분석해 봅니다.\n",
        "\n"
      ]
    },
    {
      "cell_type": "markdown",
      "metadata": {
        "id": "zcBkXD0WTNgI"
      },
      "source": [
        "- **문항 6) Lemmatization을 진행한 뒤 상위 10개 단어를 입력하세요.**"
      ]
    },
    {
      "cell_type": "code",
      "metadata": {
        "id": "ll6H4pW7RTQq"
      },
      "source": [
        "### 이곳에서 과제를 진행해 주세요 ### \n",
        "import spacy\n",
        "from spacy.tokenizer import Tokenizer\n",
        "\n",
        "tokens = []\n",
        "for doc in tokenizer.pipe(df['description']):\n",
        "  doc_tokens = []\n",
        "  for token in doc:\n",
        "        token = token.lemma_\n",
        "        token = re.sub(r\"[^a-z0-9]\",\"\", token)\n",
        "        if token not in STOP_WORD:\n",
        "            doc_tokens.append(token)\n",
        "  doc_tokens = [token for token in doc_tokens if token]\n",
        "  tokens.append(doc_tokens)\n",
        "\n",
        "df['lemmas'] = tokens"
      ],
      "execution_count": 63,
      "outputs": []
    },
    {
      "cell_type": "code",
      "metadata": {
        "colab": {
          "base_uri": "https://localhost:8080/"
        },
        "id": "ZHZ4DbYabJ0n",
        "outputId": "1c801b4e-1ab6-4eb4-e437-e3964061cb55"
      },
      "source": [
        "df['lemmas']"
      ],
      "execution_count": 58,
      "outputs": [
        {
          "output_type": "execute_result",
          "data": {
            "text/plain": [
              "0       [job, detail, description, essential, duty, re...\n",
              "2       [team, member, finance, internal, audit, depar...\n",
              "4       [overview, american, credit, acceptance, seek,...\n",
              "5       [jp, morgan, s, corporate, investment, bank, c...\n",
              "6       [vystar, offer, competitive, pay, excellent, b...\n",
              "                              ...                        \n",
              "1288    [expert, delivery, business, intelligence, tea...\n",
              "1294    [music, credit, card, need, promise, platform,...\n",
              "1295    [senior, applied, scientist, passion, datum, m...\n",
              "1297    [ebay, global, commerce, leader, allow, shape,...\n",
              "1299    [tldr, spring, accelerate, discovery, therapy,...\n",
              "Name: lemmas, Length: 757, dtype: object"
            ]
          },
          "metadata": {
            "tags": []
          },
          "execution_count": 58
        }
      ]
    },
    {
      "cell_type": "code",
      "metadata": {
        "colab": {
          "base_uri": "https://localhost:8080/",
          "height": 362
        },
        "id": "MBUEtUWSCB3a",
        "outputId": "807612d0-1979-46bf-d2b6-fb728e0d3d2e"
      },
      "source": [
        "new2 = word_count(df['lemmas'])\n",
        "new2[new2['rank'] <=10]"
      ],
      "execution_count": 67,
      "outputs": [
        {
          "output_type": "execute_result",
          "data": {
            "text/html": [
              "<div>\n",
              "<style scoped>\n",
              "    .dataframe tbody tr th:only-of-type {\n",
              "        vertical-align: middle;\n",
              "    }\n",
              "\n",
              "    .dataframe tbody tr th {\n",
              "        vertical-align: top;\n",
              "    }\n",
              "\n",
              "    .dataframe thead th {\n",
              "        text-align: right;\n",
              "    }\n",
              "</style>\n",
              "<table border=\"1\" class=\"dataframe\">\n",
              "  <thead>\n",
              "    <tr style=\"text-align: right;\">\n",
              "      <th></th>\n",
              "      <th>word</th>\n",
              "      <th>word_in_docs</th>\n",
              "      <th>count</th>\n",
              "      <th>rank</th>\n",
              "      <th>percent</th>\n",
              "      <th>cul_percent</th>\n",
              "      <th>word_in_docs_percent</th>\n",
              "    </tr>\n",
              "  </thead>\n",
              "  <tbody>\n",
              "    <tr>\n",
              "      <th>12</th>\n",
              "      <td>datum</td>\n",
              "      <td>737</td>\n",
              "      <td>6825</td>\n",
              "      <td>1.0</td>\n",
              "      <td>0.027826</td>\n",
              "      <td>0.027826</td>\n",
              "      <td>0.973580</td>\n",
              "    </tr>\n",
              "    <tr>\n",
              "      <th>153</th>\n",
              "      <td>experience</td>\n",
              "      <td>708</td>\n",
              "      <td>3634</td>\n",
              "      <td>2.0</td>\n",
              "      <td>0.014816</td>\n",
              "      <td>0.042642</td>\n",
              "      <td>0.935271</td>\n",
              "    </tr>\n",
              "    <tr>\n",
              "      <th>154</th>\n",
              "      <td>team</td>\n",
              "      <td>630</td>\n",
              "      <td>2126</td>\n",
              "      <td>3.0</td>\n",
              "      <td>0.008668</td>\n",
              "      <td>0.051310</td>\n",
              "      <td>0.832232</td>\n",
              "    </tr>\n",
              "    <tr>\n",
              "      <th>471</th>\n",
              "      <td>business</td>\n",
              "      <td>540</td>\n",
              "      <td>2115</td>\n",
              "      <td>4.0</td>\n",
              "      <td>0.008623</td>\n",
              "      <td>0.059933</td>\n",
              "      <td>0.713342</td>\n",
              "    </tr>\n",
              "    <tr>\n",
              "      <th>109</th>\n",
              "      <td>science</td>\n",
              "      <td>615</td>\n",
              "      <td>1700</td>\n",
              "      <td>5.0</td>\n",
              "      <td>0.006931</td>\n",
              "      <td>0.066865</td>\n",
              "      <td>0.812417</td>\n",
              "    </tr>\n",
              "    <tr>\n",
              "      <th>114</th>\n",
              "      <td>analysis</td>\n",
              "      <td>537</td>\n",
              "      <td>1534</td>\n",
              "      <td>6.0</td>\n",
              "      <td>0.006254</td>\n",
              "      <td>0.073119</td>\n",
              "      <td>0.709379</td>\n",
              "    </tr>\n",
              "    <tr>\n",
              "      <th>262</th>\n",
              "      <td>use</td>\n",
              "      <td>575</td>\n",
              "      <td>1522</td>\n",
              "      <td>7.0</td>\n",
              "      <td>0.006205</td>\n",
              "      <td>0.079324</td>\n",
              "      <td>0.759577</td>\n",
              "    </tr>\n",
              "    <tr>\n",
              "      <th>206</th>\n",
              "      <td>model</td>\n",
              "      <td>513</td>\n",
              "      <td>1488</td>\n",
              "      <td>8.0</td>\n",
              "      <td>0.006067</td>\n",
              "      <td>0.085391</td>\n",
              "      <td>0.677675</td>\n",
              "    </tr>\n",
              "    <tr>\n",
              "      <th>104</th>\n",
              "      <td>learn</td>\n",
              "      <td>542</td>\n",
              "      <td>1440</td>\n",
              "      <td>9.0</td>\n",
              "      <td>0.005871</td>\n",
              "      <td>0.091262</td>\n",
              "      <td>0.715984</td>\n",
              "    </tr>\n",
              "    <tr>\n",
              "      <th>274</th>\n",
              "      <td>machine</td>\n",
              "      <td>470</td>\n",
              "      <td>1155</td>\n",
              "      <td>10.0</td>\n",
              "      <td>0.004709</td>\n",
              "      <td>0.095971</td>\n",
              "      <td>0.620872</td>\n",
              "    </tr>\n",
              "  </tbody>\n",
              "</table>\n",
              "</div>"
            ],
            "text/plain": [
              "           word  word_in_docs  ...  cul_percent  word_in_docs_percent\n",
              "12        datum           737  ...     0.027826              0.973580\n",
              "153  experience           708  ...     0.042642              0.935271\n",
              "154        team           630  ...     0.051310              0.832232\n",
              "471    business           540  ...     0.059933              0.713342\n",
              "109     science           615  ...     0.066865              0.812417\n",
              "114    analysis           537  ...     0.073119              0.709379\n",
              "262         use           575  ...     0.079324              0.759577\n",
              "206       model           513  ...     0.085391              0.677675\n",
              "104       learn           542  ...     0.091262              0.715984\n",
              "274     machine           470  ...     0.095971              0.620872\n",
              "\n",
              "[10 rows x 7 columns]"
            ]
          },
          "metadata": {
            "tags": []
          },
          "execution_count": 67
        }
      ]
    },
    {
      "cell_type": "markdown",
      "metadata": {
        "id": "_uSNuY9UUl7P"
      },
      "source": [
        "## 2. 유사한 문서 찾기"
      ]
    },
    {
      "cell_type": "markdown",
      "metadata": {
        "id": "Spn3AFhIZBC9"
      },
      "source": [
        "### 1) `TfidfVectorizer`를 이용해 각 문서들을 벡터화 한 후 KNN 모델을 만들고, <br/> 내가 원하는 `job description`을 질의해 가장 가까운 검색 결과들을 가져오고 분석합니다."
      ]
    },
    {
      "cell_type": "markdown",
      "metadata": {
        "id": "WEtnD5gYZZ-c"
      },
      "source": [
        "- **문항 7) 88번 index의 `job description`와 5개의 가장 유사한 `job description`이 있는 index를 입력하세요.**\n",
        "    - 답은 88번 인덱스를 포함합니다.\n",
        "    - `max_features = 3000` 으로 설정합니다.\n",
        "    - [88, 90, 91, 93, 94] 형태로 답을 입력해주세요"
      ]
    },
    {
      "cell_type": "code",
      "metadata": {
        "id": "PHCATtY8cX5b",
        "colab": {
          "base_uri": "https://localhost:8080/"
        },
        "outputId": "3ce04da6-b318-4ed5-b2a9-2edc0b9cf997"
      },
      "source": [
        "### 이곳에서 과제를 진행해 주세요 ### \n",
        "\n",
        "from sklearn.feature_extraction.text import TfidfVectorizer\n",
        "from sklearn.neighbors import NearestNeighbors\n",
        "\n",
        "# 벡터화 함수 호출\n",
        "tfidf = TfidfVectorizer(stop_words='english', max_features=3000)\n",
        "# 벡터화 훈련\n",
        "dtm_desc = tfidf.fit_transform(df['description'])\n",
        "dtm_desc = pd.DataFrame(dtm_desc.todense(),columns = tfidf.get_feature_names() )\n",
        "\n",
        "\n",
        "\n",
        "nn = NearestNeighbors(n_neighbors=5, algorithm='kd_tree')\n",
        "nn.fit(dtm_desc)\n",
        "nn.kneighbors([dtm_desc.iloc[88]])"
      ],
      "execution_count": 74,
      "outputs": [
        {
          "output_type": "execute_result",
          "data": {
            "text/plain": [
              "(array([[0.        , 1.1283426 , 1.18893646, 1.19442548, 1.19937307]]),\n",
              " array([[ 88,  40, 121,  68, 680]]))"
            ]
          },
          "metadata": {
            "tags": []
          },
          "execution_count": 74
        }
      ]
    }
  ]
}
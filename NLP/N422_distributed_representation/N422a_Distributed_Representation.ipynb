{
  "nbformat": 4,
  "nbformat_minor": 0,
  "metadata": {
    "colab": {
      "name": "N422a_Distributed_Representation.ipynb",
      "provenance": [],
      "collapsed_sections": []
    },
    "kernel_info": {
      "name": "python3"
    },
    "kernelspec": {
      "display_name": "Python 3",
      "language": "python",
      "name": "python3"
    },
    "language_info": {
      "codemirror_mode": {
        "name": "ipython",
        "version": 3
      },
      "file_extension": ".py",
      "mimetype": "text/x-python",
      "name": "python",
      "nbconvert_exporter": "python",
      "pygments_lexer": "ipython3",
      "version": "3.9.4"
    },
    "nteract": {
      "version": "0.14.3"
    }
  },
  "cells": [
    {
      "cell_type": "markdown",
      "metadata": {
        "id": "4GCEleoCVpbI"
      },
      "source": [
        "<img align=\"right\" src=\"https://ds-cs-images.s3.ap-northeast-2.amazonaws.com/Codestates_Fulllogo_Color.png\" width=100>\n",
        "\n",
        "## *DATA SCIENCE / SECTION 4 / SPRINT 2 / NOTE 2*\n",
        "\n",
        "# 📝 Assignment\n",
        "\n",
        "---\n",
        "\n",
        "\n",
        "# Distributed_Representation"
      ]
    },
    {
      "cell_type": "markdown",
      "metadata": {
        "id": "WCHZ5i-ReMD2"
      },
      "source": [
        "## Code"
      ]
    },
    {
      "cell_type": "markdown",
      "metadata": {
        "id": "Wz-FNnfdeQfF"
      },
      "source": [
        "캐글의 [SMS Spam dataset](https://www.kaggle.com/uciml/sms-spam-collection-dataset) 에 사전 학습된 Word2Vec 임베딩 벡터를 적용하여 분류해봅시다.<br/>\n",
        "세션 노트에 있었던 단어 임베딩 벡터를 평균내어 분류하는 방법을 적용해봅시다."
      ]
    },
    {
      "cell_type": "code",
      "metadata": {
        "colab": {
          "base_uri": "https://localhost:8080/"
        },
        "id": "Bu5ftcG8goWU",
        "outputId": "dd4b45c9-72ea-4351-e671-e364c8f28d17"
      },
      "source": [
        "!pip install gensim --upgrade"
      ],
      "execution_count": 93,
      "outputs": [
        {
          "output_type": "stream",
          "text": [
            "Requirement already satisfied: gensim in /usr/local/lib/python3.7/dist-packages (4.0.1)\n",
            "Requirement already satisfied: scipy>=0.18.1 in /usr/local/lib/python3.7/dist-packages (from gensim) (1.4.1)\n",
            "Requirement already satisfied: numpy>=1.11.3 in /usr/local/lib/python3.7/dist-packages (from gensim) (1.19.5)\n",
            "Requirement already satisfied: smart-open>=1.8.1 in /usr/local/lib/python3.7/dist-packages (from gensim) (5.1.0)\n"
          ],
          "name": "stdout"
        }
      ]
    },
    {
      "cell_type": "code",
      "metadata": {
        "colab": {
          "base_uri": "https://localhost:8080/",
          "height": 35
        },
        "id": "CPg5ipdVgrKS",
        "outputId": "6243c176-f7dd-4efd-ac49-6c421cf6ab76"
      },
      "source": [
        "import gensim\n",
        "\n",
        "gensim.__version__"
      ],
      "execution_count": 94,
      "outputs": [
        {
          "output_type": "execute_result",
          "data": {
            "application/vnd.google.colaboratory.intrinsic+json": {
              "type": "string"
            },
            "text/plain": [
              "'4.0.1'"
            ]
          },
          "metadata": {},
          "execution_count": 94
        }
      ]
    },
    {
      "cell_type": "code",
      "metadata": {
        "id": "O8Vw1n9ugZZy"
      },
      "source": [
        "import numpy as np\n",
        "import pandas as pd\n",
        "import tensorflow as tf\n",
        "import matplotlib.pyplot as plt\n",
        "import seaborn as sns\n",
        "from sklearn.model_selection import train_test_split\n",
        "from sklearn.preprocessing import LabelEncoder\n",
        "\n",
        "from keras.preprocessing import sequence\n",
        "from tensorflow.keras.preprocessing.sequence import pad_sequences\n",
        "from tensorflow.keras.models import Sequential\n",
        "from tensorflow.keras.layers import Dense, Embedding, GlobalAveragePooling1D\n",
        "from tensorflow.keras.preprocessing.text import Tokenizer"
      ],
      "execution_count": 95,
      "outputs": []
    },
    {
      "cell_type": "markdown",
      "metadata": {
        "id": "qhsyLoZZv_RN"
      },
      "source": [
        "### 1) 데이터 전처리\n",
        "    \n",
        "- 데이터셋을 데이터프레임으로 읽어옵니다 `encoding = 'latin-1'` 을 사용합니다.\n",
        "- 필요없는 열(column)을 삭제합니다.\n",
        "- LabelEncoder를 사용하여 label 전처리를 해줍니다. "
      ]
    },
    {
      "cell_type": "code",
      "metadata": {
        "id": "10NbWA4OghxX"
      },
      "source": [
        "np.random.seed(42)\n",
        "tf.random.set_seed(42)"
      ],
      "execution_count": 96,
      "outputs": []
    },
    {
      "cell_type": "code",
      "metadata": {
        "id": "JecrAYn6cVdh",
        "outputId": "415fc5e4-6e52-4635-d7e8-1c396da2e39a",
        "colab": {
          "base_uri": "https://localhost:8080/"
        }
      },
      "source": [
        "from google.colab import drive\n",
        "\n",
        "drive.mount('/content/drive')"
      ],
      "execution_count": 97,
      "outputs": [
        {
          "output_type": "stream",
          "text": [
            "Drive already mounted at /content/drive; to attempt to forcibly remount, call drive.mount(\"/content/drive\", force_remount=True).\n"
          ],
          "name": "stdout"
        }
      ]
    },
    {
      "cell_type": "code",
      "metadata": {
        "id": "PhBAyulRzoBK"
      },
      "source": [
        "### 이곳에서 과제를 수행해 주세요 ###\n",
        "df = pd.read_csv(\"/content/drive/MyDrive/spam.csv\") # 파일이안열려 메모장에 복사 후 utf-8로 변경"
      ],
      "execution_count": 98,
      "outputs": []
    },
    {
      "cell_type": "markdown",
      "metadata": {
        "id": "mpQO0WYZv6oK"
      },
      "source": [
        "### 2) 텍스트 분류를 수행해주세요.\n",
        "\n",
        "- 데이터셋 split시 test_size의 비율은 15%로, `random_state = 42` 로 설정합니다. \n",
        "- Tokenizer의 `num_words = 1000` 으로 설정합니다.\n",
        "- pad_sequence의 `maxlen=150` 으로 설정합니다.\n",
        "- 학습 시, 파라미터는 `batch_size=64, epochs=10, validation_split=0.2` 로 설정합니다.\n",
        "- evaluate 했을 때의 loss와 accuarcy를 [loss, acc] 형태로 입력해주세요. Ex) [0.4321, 0.8765]"
      ]
    },
    {
      "cell_type": "code",
      "metadata": {
        "id": "Y_ryXIGwznY8"
      },
      "source": [
        "### 이곳에서 과제를 수행해 주세요 ###\n",
        "\n",
        "X=df[\"v2\"]\n",
        "Y=df[\"v1\"]\n",
        "df.drop([\"Unnamed: 2\",\"Unnamed: 3\",\"Unnamed: 4\", \"v1\", \"v2\"],axis=1,inplace=True)\n"
      ],
      "execution_count": 99,
      "outputs": []
    },
    {
      "cell_type": "code",
      "metadata": {
        "id": "RrLw-Ewmqslk",
        "outputId": "cd077dcd-2bcc-484c-f944-24cb5beef3a4",
        "colab": {
          "base_uri": "https://localhost:8080/",
          "height": 351
        }
      },
      "source": [
        "sns.countplot(Y)\n",
        "plt.xlabel('Label')\n",
        "plt.title('spam or ham');"
      ],
      "execution_count": 100,
      "outputs": [
        {
          "output_type": "stream",
          "text": [
            "/usr/local/lib/python3.7/dist-packages/seaborn/_decorators.py:43: FutureWarning: Pass the following variable as a keyword arg: x. From version 0.12, the only valid positional argument will be `data`, and passing other arguments without an explicit keyword will result in an error or misinterpretation.\n",
            "  FutureWarning\n"
          ],
          "name": "stderr"
        },
        {
          "output_type": "display_data",
          "data": {
            "image/png": "[encoded data removed]",
            "text/plain": [
              "<Figure size 432x288 with 1 Axes>"
            ]
          },
          "metadata": {
            "needs_background": "light"
          }
        }
      ]
    },
    {
      "cell_type": "code",
      "metadata": {
        "id": "bd8J94Kkkze9"
      },
      "source": [
        "le = LabelEncoder()\n",
        "Y = le.fit_transform(Y)\n",
        "Y = Y.reshape(-1,1) #2차원으로 변경\n"
      ],
      "execution_count": 101,
      "outputs": []
    },
    {
      "cell_type": "code",
      "metadata": {
        "id": "uw29itgZlPHU"
      },
      "source": [
        "X_train,X_test,Y_train,Y_test = train_test_split(X,Y,test_size=0.15, random_state = 42 )"
      ],
      "execution_count": 102,
      "outputs": []
    },
    {
      "cell_type": "code",
      "metadata": {
        "id": "veUU-D0cmU-D",
        "outputId": "9431ea2f-da94-4cfc-e994-4f752d7430f6",
        "colab": {
          "base_uri": "https://localhost:8080/"
        }
      },
      "source": [
        "X_train.head()"
      ],
      "execution_count": 103,
      "outputs": [
        {
          "output_type": "execute_result",
          "data": {
            "text/plain": [
              "4909    WE REGRET TO INFORM U THAT THE NHS HAS MADE A ...\n",
              "3733                    4 tacos + 1 rajas burrito, right?\n",
              "2087                                        \\alright babe\n",
              "3378                      Dear umma she called me now :-)\n",
              "4003    Well there's a pattern emerging of my friends ...\n",
              "Name: v2, dtype: object"
            ]
          },
          "metadata": {},
          "execution_count": 103
        }
      ]
    },
    {
      "cell_type": "code",
      "metadata": {
        "id": "gfedauWsl04Y"
      },
      "source": [
        "max_words = 1000\n",
        "max_len = 150 #벡터 최대 길이\n",
        "\n",
        "tok = Tokenizer(num_words=max_words) # 1000단어까지 허용 \n",
        "tok.fit_on_texts(X_train) # X_train 데이터에 토큰화 훈련\n",
        "sequences = tok.texts_to_sequences(X_train) # 토큰화된 단어를 인덱스로 변경\n",
        "sequences_matrix = sequence.pad_sequences(sequences, maxlen=max_len) # padding  150열"
      ],
      "execution_count": 104,
      "outputs": []
    },
    {
      "cell_type": "code",
      "metadata": {
        "id": "iePrCMXunlK8"
      },
      "source": [
        "model = Sequential()\n",
        "model.add(Embedding(max_words, 50,input_length=max_len)) # 은닉층 임베딩 노드 50\n",
        "model.add(GlobalAveragePooling1D()) # 입력되는 단어 벡터의 평균 구하는 층\n",
        "model.add(Dense(1, activation='sigmoid')) \n",
        "model.compile(loss='binary_crossentropy',optimizer='adam',metrics=['accuracy'])"
      ],
      "execution_count": 105,
      "outputs": []
    },
    {
      "cell_type": "code",
      "metadata": {
        "id": "lQsECK2RpUOx",
        "outputId": "327e1978-b382-453e-db12-a74fe2803ee3",
        "colab": {
          "base_uri": "https://localhost:8080/"
        }
      },
      "source": [
        "model.fit(sequences_matrix,Y_train,batch_size=64, epochs=10, validation_split=0.2 )"
      ],
      "execution_count": 106,
      "outputs": [
        {
          "output_type": "stream",
          "text": [
            "Epoch 1/10\n",
            "60/60 [==============================] - 1s 7ms/step - loss: 0.6013 - accuracy: 0.8374 - val_loss: 0.5049 - val_accuracy: 0.8660\n",
            "Epoch 2/10\n",
            "60/60 [==============================] - 0s 5ms/step - loss: 0.4420 - accuracy: 0.8648 - val_loss: 0.3929 - val_accuracy: 0.8660\n",
            "Epoch 3/10\n",
            "60/60 [==============================] - 0s 5ms/step - loss: 0.3780 - accuracy: 0.8648 - val_loss: 0.3677 - val_accuracy: 0.8660\n",
            "Epoch 4/10\n",
            "60/60 [==============================] - 0s 5ms/step - loss: 0.3645 - accuracy: 0.8648 - val_loss: 0.3589 - val_accuracy: 0.8660\n",
            "Epoch 5/10\n",
            "60/60 [==============================] - 0s 4ms/step - loss: 0.3559 - accuracy: 0.8648 - val_loss: 0.3506 - val_accuracy: 0.8660\n",
            "Epoch 6/10\n",
            "60/60 [==============================] - 0s 5ms/step - loss: 0.3470 - accuracy: 0.8648 - val_loss: 0.3414 - val_accuracy: 0.8660\n",
            "Epoch 7/10\n",
            "60/60 [==============================] - 0s 5ms/step - loss: 0.3372 - accuracy: 0.8648 - val_loss: 0.3313 - val_accuracy: 0.8660\n",
            "Epoch 8/10\n",
            "60/60 [==============================] - 0s 5ms/step - loss: 0.3261 - accuracy: 0.8648 - val_loss: 0.3193 - val_accuracy: 0.8660\n",
            "Epoch 9/10\n",
            "60/60 [==============================] - 0s 5ms/step - loss: 0.3128 - accuracy: 0.8648 - val_loss: 0.3056 - val_accuracy: 0.8660\n",
            "Epoch 10/10\n",
            "60/60 [==============================] - 0s 6ms/step - loss: 0.2980 - accuracy: 0.8648 - val_loss: 0.2902 - val_accuracy: 0.8660\n"
          ],
          "name": "stdout"
        },
        {
          "output_type": "execute_result",
          "data": {
            "text/plain": [
              "<keras.callbacks.History at 0x7fa290b49790>"
            ]
          },
          "metadata": {},
          "execution_count": 106
        }
      ]
    },
    {
      "cell_type": "code",
      "metadata": {
        "id": "KCcbcMUxndjG"
      },
      "source": [
        "test_sequences = tok.texts_to_sequences(X_test)\n",
        "test_sequences_matrix = sequence.pad_sequences(test_sequences,maxlen=max_len)"
      ],
      "execution_count": 107,
      "outputs": []
    },
    {
      "cell_type": "code",
      "metadata": {
        "id": "rwD0c0wlqWBb",
        "outputId": "cb5e4808-c8b3-425f-8177-57abce3b9f70",
        "colab": {
          "base_uri": "https://localhost:8080/"
        }
      },
      "source": [
        "model.evaluate(test_sequences_matrix,Y_test) #loss : 0.228, accuracy : 0.87"
      ],
      "execution_count": 108,
      "outputs": [
        {
          "output_type": "stream",
          "text": [
            "27/27 [==============================] - 0s 5ms/step - loss: 0.2857 - accuracy: 0.8708\n"
          ],
          "name": "stdout"
        },
        {
          "output_type": "execute_result",
          "data": {
            "text/plain": [
              "[0.2856731414794922, 0.8708133697509766]"
            ]
          },
          "metadata": {},
          "execution_count": 108
        }
      ]
    }
  ]
}
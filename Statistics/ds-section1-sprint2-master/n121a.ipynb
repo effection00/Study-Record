{
  "nbformat": 4,
  "nbformat_minor": 0,
  "metadata": {
    "colab": {
      "name": "n121a 중간 수정.ipynb",
      "provenance": [],
      "collapsed_sections": [],
      "include_colab_link": true
    },
    "kernelspec": {
      "display_name": "Python 3",
      "language": "python",
      "name": "python3"
    },
    "language_info": {
      "codemirror_mode": {
        "name": "ipython",
        "version": 3
      },
      "file_extension": ".py",
      "mimetype": "text/x-python",
      "name": "python",
      "nbconvert_exporter": "python",
      "pygments_lexer": "ipython3",
      "version": "3.8.2"
    }
  },
  "cells": [
    {
      "cell_type": "markdown",
      "metadata": {
        "id": "view-in-github",
        "colab_type": "text"
      },
      "source": [
        "<a href=\"https://colab.research.google.com/github/effection00/ds-section1-sprint2/blob/master/n121a.ipynb\" target=\"_parent\"><img src=\"https://colab.research.google.com/assets/colab-badge.svg\" alt=\"Open In Colab\"/></a>"
      ]
    },
    {
      "cell_type": "markdown",
      "metadata": {
        "id": "Sa5KWMO1ngPN"
      },
      "source": [
        "<img src='https://i.imgur.com/RDAD11M.png' width = '200' align = 'right'>\n",
        "\n",
        "## *DATA SCIENCE / SECTION 1 / SPRINT 2 / NOTE 1*\n",
        "\n",
        "# 📝 Assignment"
      ]
    },
    {
      "cell_type": "markdown",
      "metadata": {
        "id": "550o_pbJzAIv"
      },
      "source": [
        "# 가설 검정"
      ]
    },
    {
      "cell_type": "markdown",
      "metadata": {
        "id": "gZDO3KBZOJNp"
      },
      "source": [
        "## 1. One-Sample T-test 연습"
      ]
    },
    {
      "cell_type": "markdown",
      "metadata": {
        "id": "CdRkOn9X5BdF"
      },
      "source": [
        "### 데이터 불러오기\n",
        "- [서울시 가로수 데이터셋](https://data.seoul.go.kr/dataList/367/S/2/datasetView.do)을 사용합니다.\n",
        "\n",
        "다음 링크를 참조하세요. \n",
        "<https://ds-lecture-data.s3.ap-northeast-2.amazonaws.com/seoul_tree/seoul_tree.txt>\n"
      ]
    },
    {
      "cell_type": "code",
      "metadata": {
        "id": "bd5YFp7Xvu8P"
      },
      "source": [
        "import pandas as pd\n",
        "\n",
        "# 이 곳에 답안을 작성하시기 바랍니다\n",
        "\n",
        "data = pd.read_csv('https://ds-lecture-data.s3.ap-northeast-2.amazonaws.com/seoul_tree/seoul_tree.txt',sep='\\t')\n"
      ],
      "execution_count": 87,
      "outputs": []
    },
    {
      "cell_type": "code",
      "metadata": {
        "cellView": "form",
        "id": "lY6TBj6fKG3j"
      },
      "source": [
        "#@title\n",
        "data.columns = data.iloc[0]\n",
        "data = data.drop([0],axis= 0)\n",
        "data = data.replace({'-':0})"
      ],
      "execution_count": 88,
      "outputs": []
    },
    {
      "cell_type": "code",
      "metadata": {
        "colab": {
          "base_uri": "https://localhost:8080/",
          "height": 391
        },
        "id": "aYvwGQ__KAXX",
        "outputId": "718fdd1b-9fdf-43e2-8e33-18e0f1cffa97"
      },
      "source": [
        "data.head()"
      ],
      "execution_count": 89,
      "outputs": [
        {
          "output_type": "execute_result",
          "data": {
            "text/html": [
              "<div>\n",
              "<style scoped>\n",
              "    .dataframe tbody tr th:only-of-type {\n",
              "        vertical-align: middle;\n",
              "    }\n",
              "\n",
              "    .dataframe tbody tr th {\n",
              "        vertical-align: top;\n",
              "    }\n",
              "\n",
              "    .dataframe thead th {\n",
              "        text-align: right;\n",
              "    }\n",
              "</style>\n",
              "<table border=\"1\" class=\"dataframe\">\n",
              "  <thead>\n",
              "    <tr style=\"text-align: right;\">\n",
              "      <th></th>\n",
              "      <th>기간</th>\n",
              "      <th>자치구</th>\n",
              "      <th>노선수</th>\n",
              "      <th>수량</th>\n",
              "      <th>은행나무</th>\n",
              "      <th>양버즘나무</th>\n",
              "      <th>느티나무</th>\n",
              "      <th>왕벚나무</th>\n",
              "      <th>은단풍나무</th>\n",
              "      <th>메타세콰이어</th>\n",
              "      <th>회화나무</th>\n",
              "      <th>가죽나무</th>\n",
              "      <th>감나무</th>\n",
              "      <th>수양버들</th>\n",
              "      <th>튜울립나무</th>\n",
              "      <th>칠엽수</th>\n",
              "      <th>포플러</th>\n",
              "      <th>느릅나무</th>\n",
              "      <th>살구나무</th>\n",
              "      <th>무궁화</th>\n",
              "      <th>소나무</th>\n",
              "      <th>목련</th>\n",
              "      <th>이팝나무</th>\n",
              "      <th>기타</th>\n",
              "    </tr>\n",
              "  </thead>\n",
              "  <tbody>\n",
              "    <tr>\n",
              "      <th>1</th>\n",
              "      <td>2019</td>\n",
              "      <td>서울시</td>\n",
              "      <td>1,412</td>\n",
              "      <td>307,351</td>\n",
              "      <td>108,050</td>\n",
              "      <td>62,474</td>\n",
              "      <td>37,473</td>\n",
              "      <td>34,150</td>\n",
              "      <td>545</td>\n",
              "      <td>5,171</td>\n",
              "      <td>7,816</td>\n",
              "      <td>52</td>\n",
              "      <td>871</td>\n",
              "      <td>32</td>\n",
              "      <td>948</td>\n",
              "      <td>1,533</td>\n",
              "      <td>7</td>\n",
              "      <td>504</td>\n",
              "      <td>234</td>\n",
              "      <td>2,374</td>\n",
              "      <td>4,539</td>\n",
              "      <td>378</td>\n",
              "      <td>20,088</td>\n",
              "      <td>20,112</td>\n",
              "    </tr>\n",
              "    <tr>\n",
              "      <th>2</th>\n",
              "      <td>2019</td>\n",
              "      <td>종로구</td>\n",
              "      <td>70</td>\n",
              "      <td>7,329</td>\n",
              "      <td>4,072</td>\n",
              "      <td>1,071</td>\n",
              "      <td>619</td>\n",
              "      <td>421</td>\n",
              "      <td>0</td>\n",
              "      <td>1</td>\n",
              "      <td>140</td>\n",
              "      <td>1</td>\n",
              "      <td>0</td>\n",
              "      <td>8</td>\n",
              "      <td>0</td>\n",
              "      <td>17</td>\n",
              "      <td>0</td>\n",
              "      <td>0</td>\n",
              "      <td>0</td>\n",
              "      <td>0</td>\n",
              "      <td>239</td>\n",
              "      <td>0</td>\n",
              "      <td>711</td>\n",
              "      <td>29</td>\n",
              "    </tr>\n",
              "    <tr>\n",
              "      <th>3</th>\n",
              "      <td>2019</td>\n",
              "      <td>중구</td>\n",
              "      <td>48</td>\n",
              "      <td>8,250</td>\n",
              "      <td>3,640</td>\n",
              "      <td>162</td>\n",
              "      <td>460</td>\n",
              "      <td>289</td>\n",
              "      <td>0</td>\n",
              "      <td>0</td>\n",
              "      <td>176</td>\n",
              "      <td>0</td>\n",
              "      <td>0</td>\n",
              "      <td>0</td>\n",
              "      <td>7</td>\n",
              "      <td>0</td>\n",
              "      <td>0</td>\n",
              "      <td>0</td>\n",
              "      <td>21</td>\n",
              "      <td>46</td>\n",
              "      <td>2,162</td>\n",
              "      <td>0</td>\n",
              "      <td>470</td>\n",
              "      <td>817</td>\n",
              "    </tr>\n",
              "    <tr>\n",
              "      <th>4</th>\n",
              "      <td>2019</td>\n",
              "      <td>용산구</td>\n",
              "      <td>39</td>\n",
              "      <td>7,835</td>\n",
              "      <td>4,444</td>\n",
              "      <td>1,422</td>\n",
              "      <td>373</td>\n",
              "      <td>262</td>\n",
              "      <td>0</td>\n",
              "      <td>0</td>\n",
              "      <td>37</td>\n",
              "      <td>0</td>\n",
              "      <td>74</td>\n",
              "      <td>0</td>\n",
              "      <td>13</td>\n",
              "      <td>16</td>\n",
              "      <td>0</td>\n",
              "      <td>0</td>\n",
              "      <td>39</td>\n",
              "      <td>0</td>\n",
              "      <td>51</td>\n",
              "      <td>126</td>\n",
              "      <td>198</td>\n",
              "      <td>780</td>\n",
              "    </tr>\n",
              "    <tr>\n",
              "      <th>5</th>\n",
              "      <td>2019</td>\n",
              "      <td>성동구</td>\n",
              "      <td>38</td>\n",
              "      <td>8,120</td>\n",
              "      <td>1,090</td>\n",
              "      <td>2,401</td>\n",
              "      <td>1,975</td>\n",
              "      <td>602</td>\n",
              "      <td>29</td>\n",
              "      <td>48</td>\n",
              "      <td>325</td>\n",
              "      <td>33</td>\n",
              "      <td>146</td>\n",
              "      <td>0</td>\n",
              "      <td>0</td>\n",
              "      <td>1</td>\n",
              "      <td>3</td>\n",
              "      <td>59</td>\n",
              "      <td>0</td>\n",
              "      <td>0</td>\n",
              "      <td>53</td>\n",
              "      <td>0</td>\n",
              "      <td>709</td>\n",
              "      <td>646</td>\n",
              "    </tr>\n",
              "  </tbody>\n",
              "</table>\n",
              "</div>"
            ],
            "text/plain": [
              "0    기간  자치구    노선수       수량     은행나무  ...    무궁화    소나무   목련    이팝나무      기타\n",
              "1  2019  서울시  1,412  307,351  108,050  ...  2,374  4,539  378  20,088  20,112\n",
              "2  2019  종로구     70    7,329    4,072  ...      0    239    0     711      29\n",
              "3  2019   중구     48    8,250    3,640  ...     46  2,162    0     470     817\n",
              "4  2019  용산구     39    7,835    4,444  ...      0     51  126     198     780\n",
              "5  2019  성동구     38    8,120    1,090  ...      0     53    0     709     646\n",
              "\n",
              "[5 rows x 24 columns]"
            ]
          },
          "metadata": {
            "tags": []
          },
          "execution_count": 89
        }
      ]
    },
    {
      "cell_type": "markdown",
      "metadata": {
        "id": "oxsx9cN7dUPp"
      },
      "source": [
        "### \"서울시에는 구별로 평균 약 400 그루 정도의 `이팝나무`가 있다\"라는 가설에 대해 가설검정을 시행하세요.\n",
        "\n",
        "- 단, `서울시`, `공원녹지사업소`, `시설관리공단` 부분의 데이터는 제외합니다.\n",
        "- 가설검정 결과의 pvalue 값을 `pv1`에 저장하세요. (`.pvalue` 사용)"
      ]
    },
    {
      "cell_type": "code",
      "metadata": {
        "id": "nfucb5GYpn1D",
        "colab": {
          "base_uri": "https://localhost:8080/"
        },
        "outputId": "22b3a10a-c742-4e2b-ca19-f9ec2449622c"
      },
      "source": [
        "import numpy as np\n",
        "# 이 곳에 답안을 작성하시기 바랍니다\n",
        "tree1 = pd.to_numeric(data['이팝나무'].str.replace(',',''))\n",
        "\n",
        "# 서울시 구별 이팝나무\n",
        "tree1 = tree1.iloc[1:26]\n",
        "tree1"
      ],
      "execution_count": 90,
      "outputs": [
        {
          "output_type": "execute_result",
          "data": {
            "text/plain": [
              "2      711\n",
              "3      470\n",
              "4      198\n",
              "5      709\n",
              "6      760\n",
              "7     1176\n",
              "8      449\n",
              "9      853\n",
              "10     575\n",
              "11      47\n",
              "12     142\n",
              "13     443\n",
              "14     493\n",
              "15    1280\n",
              "16     784\n",
              "17    1426\n",
              "18    1082\n",
              "19     184\n",
              "20    1281\n",
              "21     397\n",
              "22     249\n",
              "23     446\n",
              "24     768\n",
              "25    1651\n",
              "26     642\n",
              "Name: 이팝나무, dtype: int64"
            ]
          },
          "metadata": {
            "tags": []
          },
          "execution_count": 90
        }
      ]
    },
    {
      "cell_type": "code",
      "metadata": {
        "colab": {
          "base_uri": "https://localhost:8080/"
        },
        "id": "eMxM_m_XHu7e",
        "outputId": "1884cdc2-82d9-4452-a644-d53256024b92"
      },
      "source": [
        "from scipy import stats\n",
        "import scipy\n",
        "scipy.__version__\n",
        "!pip install --upgrade scipy\n",
        "#실제 평균\n",
        "np.mean(tree1)\n",
        "tt_est = stats.ttest_1samp(tree1, 400)\n",
        "\n",
        "#p-value 값\n",
        "pv1 = tt_est.pvalue\n",
        "pv1\n",
        "\n",
        "#가설 검정 결과\n",
        "# p-value(유의수준) 0.05(1-95%) 기준 -- 0.002 (< 0.5)이므로 귀무가설은 기각\n",
        "# 서울시는 통계적으로 구별 평균 이팝나무 수는 400그루가 아니다"
      ],
      "execution_count": 91,
      "outputs": [
        {
          "output_type": "stream",
          "text": [
            "Requirement already up-to-date: scipy in /usr/local/lib/python3.7/dist-packages (1.6.3)\n",
            "Requirement already satisfied, skipping upgrade: numpy<1.23.0,>=1.16.5 in /usr/local/lib/python3.7/dist-packages (from scipy) (1.19.5)\n"
          ],
          "name": "stdout"
        },
        {
          "output_type": "execute_result",
          "data": {
            "text/plain": [
              "0.002470712850935819"
            ]
          },
          "metadata": {
            "tags": []
          },
          "execution_count": 91
        }
      ]
    },
    {
      "cell_type": "markdown",
      "metadata": {
        "id": "yAkyHaEnbNYa"
      },
      "source": [
        "### 이번에는 10개의 구를 샘플링하여, 위에 대한 가설검정을 다시 한번 시행해보세요.\n",
        "\n",
        "- 단, 아래의 코드를 참조하여 sample을 위한 seed 는 123로 설정하세요.\n",
        "- 가설검정 결과의 pvalue값을 `pv2`에 저장하세요\n"
      ]
    },
    {
      "cell_type": "code",
      "metadata": {
        "id": "DbQPGNNLq_AN",
        "colab": {
          "base_uri": "https://localhost:8080/"
        },
        "outputId": "68430148-978c-4200-9cac-a166af54420e"
      },
      "source": [
        "import numpy as np\n",
        "np.random.seed(123)\n",
        "\n",
        "#10개 tree 추출\n",
        "ten_tree = np.random.choice(tree1, size = 10)  # \"~\"와 \" \"을 적절한 값으로 채우시면 됩니다\n",
        "ten_tree"
      ],
      "execution_count": 92,
      "outputs": [
        {
          "output_type": "execute_result",
          "data": {
            "text/plain": [
              "array([1280,  198,  198,  449,  184,  397,  142,  768,  470,  711])"
            ]
          },
          "metadata": {
            "tags": []
          },
          "execution_count": 92
        }
      ]
    },
    {
      "cell_type": "code",
      "metadata": {
        "id": "BBGLNP-PQUR0",
        "colab": {
          "base_uri": "https://localhost:8080/"
        },
        "outputId": "2e1d8569-28b5-476c-8f96-3a072161b330"
      },
      "source": [
        "#실제 평균\n",
        "np.mean(ten_tree)\n",
        "tt_est2 = stats.ttest_1samp(ten_tree, 400) \n",
        "\n",
        "pv2 = tt_est2.pvalue\n",
        "pv2\n",
        "\n",
        "#가설 검정 결과\n",
        "# p-value(유의수준) 0.05(1-95%) 기준 -- 0.002 (< 0.5)이므로 귀무가설은 기각\n",
        "# 서울시는 통계적으로 구별 평균 이팝나무 수는 400그루가 아니다"
      ],
      "execution_count": 101,
      "outputs": [
        {
          "output_type": "execute_result",
          "data": {
            "text/plain": [
              "0.49772576203804575"
            ]
          },
          "metadata": {
            "tags": []
          },
          "execution_count": 101
        }
      ]
    },
    {
      "cell_type": "markdown",
      "metadata": {
        "id": "TPT-ZTt0PuIk"
      },
      "source": [
        "## 2. Two-Sample T-test 연습"
      ]
    },
    {
      "cell_type": "markdown",
      "metadata": {
        "id": "2WZnCBsR_2jT"
      },
      "source": [
        "### \"서울시의 구별 평균 느티나무수와 왕벚나무의 수는 차이가 없다\"라는 가설에 대해 가설검정을 시행하세요.\n",
        "\n",
        "- 단, `서울시`, `공원녹지사업소`, `시설관리공단` 부분의 데이터는 제외합니다.\n",
        "- 가설검정 결과의 pvalue를 `pv3`에 저장하세요"
      ]
    },
    {
      "cell_type": "code",
      "metadata": {
        "id": "lAs832N1tc7k",
        "colab": {
          "base_uri": "https://localhost:8080/"
        },
        "outputId": "2769a022-7be6-4540-d9e5-3fcead296e30"
      },
      "source": [
        "tree2 = pd.to_numeric(data['느티나무'].str.replace(',',''))\n",
        "tree3 = pd.to_numeric(data['왕벚나무'].str.replace(',',''))\n",
        "\n",
        "# 귀무가설 : 평균 느티나무 수 = 왕벚나무 수\n",
        "# 대립가설 : 평균 느티나무 수 =x 왕벚나무 수\n",
        "\n",
        "\n",
        "# 이 곳에 답안을 작성하시기 바랍니다\n",
        "tree2 = tree2.iloc[1:26]\n",
        "tree3 = tree3.iloc[1:26]\n",
        "\n",
        "#실제 평균\n",
        "np.mean(tree2)\n",
        "np.mean(tree3)\n",
        "\n",
        "#검정 결과 \n",
        "pv3 = stats.ttest_ind(tree2,tree3).pvalue \n",
        "\n",
        "pv3 \n",
        "# p값이 0.6455(>0.05)이므로 통계적으로 느타나무 수와 왕벚나무 수의 차이가 없다고 볼 수 있다"
      ],
      "execution_count": 94,
      "outputs": [
        {
          "output_type": "execute_result",
          "data": {
            "text/plain": [
              "0.6455096880085703"
            ]
          },
          "metadata": {
            "tags": []
          },
          "execution_count": 94
        }
      ]
    },
    {
      "cell_type": "markdown",
      "metadata": {
        "id": "sumvaBlX_vIJ"
      },
      "source": [
        ""
      ]
    },
    {
      "cell_type": "markdown",
      "metadata": {
        "id": "vhhXvirEAeCH"
      },
      "source": [
        "\n",
        "### Two-Sample One-tailed test를 사용하여 **평균 느티나무수가 왕벚나무 수보다 크다**라는 가설에 대한 가설검정을 시행하세요.\n",
        "- 해당 가설검정의 결과를 `ans`에 저장하세요.\n",
        "\n",
        "이 때 `ans`가 가질 수 있는 값은 아래와 같습니다 :\n",
        "1. \"느티나무\" ( 느티나무의 수가 통계적으로 유의하게 많은 경우 )\n",
        "2. \"왕벚나무\" ( 왕벚나무의 수가 통계적으로 유의하게 많은 경우 )\n",
        "3. \"없음\" (통계적으로 유의하지 않은 경우)\n",
        "\n",
        "다음 링크를 참조하세요.\n",
        "<https://stackoverflow.com/questions/15984221/how-to-perform-two-sample-one-tailed-t-test-with-numpy-scipy>"
      ]
    },
    {
      "cell_type": "code",
      "metadata": {
        "id": "bCE3UgpbP69p",
        "colab": {
          "base_uri": "https://localhost:8080/",
          "height": 35
        },
        "outputId": "5631e28a-7a02-46cf-f5cf-414459f4bd35"
      },
      "source": [
        "# 이 곳에 답안을 작성하시기 바랍니다\n",
        "\n",
        "#tree2 느티나무 tree3 왕벚나무\n",
        "# 귀무가설 : 왕벚나무 = 느티나무\n",
        "# 대립가설 : 왕벚나무 > 느티나무\n",
        "pv4 = stats.ttest_ind(tree2,tree3)\n",
        "# one tail 단측검정\n",
        "\n",
        "one_tail = pv4[1]/2\n",
        "a = 0.05\n",
        "\n",
        "if one_tail < a:\n",
        "  ans = '왕벚나무'\n",
        "else: \n",
        "  ans = '없음'\n",
        "ans\n",
        "#0.3227(>0.05)이므로 통계적으로 왕벚나무와 느티나무 수는 차이가 없다"
      ],
      "execution_count": 95,
      "outputs": [
        {
          "output_type": "execute_result",
          "data": {
            "application/vnd.google.colaboratory.intrinsic+json": {
              "type": "string"
            },
            "text/plain": [
              "'없음'"
            ]
          },
          "metadata": {
            "tags": []
          },
          "execution_count": 95
        }
      ]
    },
    {
      "cell_type": "markdown",
      "metadata": {
        "id": "C5pkmOuKgK9Y"
      },
      "source": [
        "## 🔥 **도전과제**\n",
        "> 3문제 모두 하면 됩니다.\n",
        "\n"
      ]
    },
    {
      "cell_type": "markdown",
      "metadata": {
        "id": "3114xDdlPjFx"
      },
      "source": [
        "### 1. Compare mean for multiple-sample \n",
        " \n",
        "다음 링크를 참조하세요. <https://reneshbedre.github.io/blog/anova.html>\n",
        "\n",
        "구별, 은행나무, 양버즘나무, 느티나무에 대해서 ANOVA Test를 실행하세요.\n",
        "\n",
        "단, `서울시`, `공원녹지사업소`, `시설관리공단` 부분의 데이터는 제외합니다."
      ]
    },
    {
      "cell_type": "code",
      "metadata": {
        "id": "u9EEtJWJRe5X"
      },
      "source": [
        "#정수\n",
        "data['양버즘나무'] = pd.to_numeric(data['양버즘나무'].str.replace(',',''))\n",
        "data['은행나무'] = pd.to_numeric(data['은행나무'].str.replace(',',''))\n",
        "data['느티나무'] = pd.to_numeric(data['느티나무'].str.replace(',',''))"
      ],
      "execution_count": 96,
      "outputs": []
    },
    {
      "cell_type": "code",
      "metadata": {
        "colab": {
          "base_uri": "https://localhost:8080/"
        },
        "id": "TXMCXKyK2Kip",
        "outputId": "8c35eb6b-7219-441e-9a3a-d26e74a089d2"
      },
      "source": [
        "anova = pd.concat([data['자치구'],data['양버즘나무'],data['은행나무'],data['느티나무']],axis=1)\n",
        "anova = anova.loc[2:26,['자치구','은행나무','양버즘나무','느티나무']]\n",
        "anova\n",
        "\n",
        "from scipy.stats import f_oneway\n",
        "fstat, p_val = f_oneway(anova['양버즘나무'], anova['은행나무'], anova['느티나무'])\n",
        "fstat, p_val\n",
        "\n",
        "#귀무가설 : 구별 양버즘,은행, 느티 나무 수는 차이가 없다\n",
        "#대립가설 : 구별 양버즘,은행, 느티 나무 수는 차이가 있다\n",
        "# P값이 8.93(>0.05)이므로 구별 양버즘,은행, 느티 나무의 수는 통계적으로 차이가 없다"
      ],
      "execution_count": 97,
      "outputs": [
        {
          "output_type": "execute_result",
          "data": {
            "text/plain": [
              "(17.006289557888046, 8.935183167883698e-07)"
            ]
          },
          "metadata": {
            "tags": []
          },
          "execution_count": 97
        }
      ]
    },
    {
      "cell_type": "markdown",
      "metadata": {
        "id": "nLl4aWDPCVaO"
      },
      "source": [
        "### 2. Sampling\n",
        "\n",
        "- 세션 시간에 배웠던 4가지 sample 방식을 구현해보세요.\n",
        "\n",
        "- 이를 위한 데이터는 1 부터 100 이며, sampling해야 하는 수는 20개 입니다.\n",
        "\n",
        "- Stratified random sampling을 위한 그룹을 나누는 기준은 1-10, 11-20, ... 과 같은 방식입니다.\n",
        "\n",
        "- Cluster sampling 을 위한 그룹을 나누는 기준은 5로 나눴을때의 나머지 값입니다. (0,1,2,3,4)"
      ]
    },
    {
      "cell_type": "code",
      "metadata": {
        "id": "QUPwaynLAQjS",
        "colab": {
          "base_uri": "https://localhost:8080/"
        },
        "outputId": "362988c7-4a8f-49f9-dbbc-b2906910ae01"
      },
      "source": [
        "from sklearn.model_selection import StratifiedShuffleSplit\n",
        "# 이 곳에 답안을 작성하시기 바랍니다\n",
        "\n",
        "#무작위\n",
        "#1.Simple random sampling\n",
        "np.random.randint(1,100,size=20)\n",
        "\n",
        "#2.Systematic sampling\n",
        "\n",
        "#3.Stratified random sampling\n",
        "\n",
        "\n",
        "#4.클러스터 기준은 5로 나눈 나머지 값\n",
        "\n",
        "\n"
      ],
      "execution_count": 98,
      "outputs": [
        {
          "output_type": "execute_result",
          "data": {
            "text/plain": [
              "array([48, 74, 33, 47, 97, 26, 84, 79, 37, 97, 81, 69, 50, 56, 68,  3, 85,\n",
              "       40, 67, 85])"
            ]
          },
          "metadata": {
            "tags": []
          },
          "execution_count": 98
        }
      ]
    },
    {
      "cell_type": "markdown",
      "metadata": {
        "id": "3PdoNE4VvVnR"
      },
      "source": [
        "### 3. Data transform\n",
        "다음 링크를 참조하여  `Inverse transform sampling` 을 구현합니다.\n",
        "\n",
        "<https://youtu.be/9ixzzPQWuAY>\n",
        "\n",
        "0 ~ 1 의 값을 동일한 확률로 갖는 `uniform distribution`으로 부터 `binomial distribution`으로 transform 하는 코드를 작성한 뒤, 두가지 결과를 시각화를 통해 비교하세요.\n"
      ]
    },
    {
      "cell_type": "code",
      "metadata": {
        "id": "nE9tvkLbwOGd",
        "colab": {
          "base_uri": "https://localhost:8080/",
          "height": 589
        },
        "outputId": "51c577d5-5b70-47bc-9cb7-9b9261a8cc31"
      },
      "source": [
        "# 이 곳에 답안을 작성하시기 바랍니다\n",
        "\n",
        "import matplotlib.pyplot as plt\n",
        "\n",
        "uniform = np.random.uniform(0,1,1000)\n",
        "plt.hist(uniform,50)\n",
        "\n",
        "\n"
      ],
      "execution_count": 99,
      "outputs": [
        {
          "output_type": "execute_result",
          "data": {
            "text/plain": [
              "(array([17., 18., 19., 18., 16., 17., 17., 14., 21., 16., 14., 14., 13.,\n",
              "        19., 19., 26., 20., 27., 24., 25., 19., 24., 23., 26., 22., 20.,\n",
              "        24., 23., 27., 20., 19., 20., 24., 16., 18., 18., 13., 26., 21.,\n",
              "        18., 22., 23., 18., 27., 25., 19., 20., 14., 12., 25.]),\n",
              " array([9.04559704e-04, 2.08599245e-02, 4.08152893e-02, 6.07706541e-02,\n",
              "        8.07260189e-02, 1.00681384e-01, 1.20636748e-01, 1.40592113e-01,\n",
              "        1.60547478e-01, 1.80502843e-01, 2.00458208e-01, 2.20413572e-01,\n",
              "        2.40368937e-01, 2.60324302e-01, 2.80279667e-01, 3.00235032e-01,\n",
              "        3.20190396e-01, 3.40145761e-01, 3.60101126e-01, 3.80056491e-01,\n",
              "        4.00011855e-01, 4.19967220e-01, 4.39922585e-01, 4.59877950e-01,\n",
              "        4.79833315e-01, 4.99788679e-01, 5.19744044e-01, 5.39699409e-01,\n",
              "        5.59654774e-01, 5.79610139e-01, 5.99565503e-01, 6.19520868e-01,\n",
              "        6.39476233e-01, 6.59431598e-01, 6.79386963e-01, 6.99342327e-01,\n",
              "        7.19297692e-01, 7.39253057e-01, 7.59208422e-01, 7.79163786e-01,\n",
              "        7.99119151e-01, 8.19074516e-01, 8.39029881e-01, 8.58985246e-01,\n",
              "        8.78940610e-01, 8.98895975e-01, 9.18851340e-01, 9.38806705e-01,\n",
              "        9.58762070e-01, 9.78717434e-01, 9.98672799e-01]),\n",
              " <a list of 50 Patch objects>)"
            ]
          },
          "metadata": {
            "tags": []
          },
          "execution_count": 99
        },
        {
          "output_type": "display_data",
          "data": {
            "image/png": "[encoded data removed]",
            "text/plain": [
              "<Figure size 432x288 with 1 Axes>"
            ]
          },
          "metadata": {
            "tags": [],
            "needs_background": "light"
          }
        }
      ]
    },
    {
      "cell_type": "code",
      "metadata": {
        "colab": {
          "base_uri": "https://localhost:8080/",
          "height": 391
        },
        "id": "lOm5-SH_adXI",
        "outputId": "505e16f5-6832-4dcd-85bd-e3987293a870"
      },
      "source": [
        "bino = np.random.binomial(1, 0.5, size=1000)\n",
        "plt.hist(bino, 15)"
      ],
      "execution_count": 100,
      "outputs": [
        {
          "output_type": "execute_result",
          "data": {
            "text/plain": [
              "(array([512.,   0.,   0.,   0.,   0.,   0.,   0.,   0.,   0.,   0.,   0.,\n",
              "          0.,   0.,   0., 488.]),\n",
              " array([0.        , 0.06666667, 0.13333333, 0.2       , 0.26666667,\n",
              "        0.33333333, 0.4       , 0.46666667, 0.53333333, 0.6       ,\n",
              "        0.66666667, 0.73333333, 0.8       , 0.86666667, 0.93333333,\n",
              "        1.        ]),\n",
              " <a list of 15 Patch objects>)"
            ]
          },
          "metadata": {
            "tags": []
          },
          "execution_count": 100
        },
        {
          "output_type": "display_data",
          "data": {
            "image/png": "[encoded data removed]",
            "text/plain": [
              "<Figure size 432x288 with 1 Axes>"
            ]
          },
          "metadata": {
            "tags": [],
            "needs_background": "light"
          }
        }
      ]
    }
  ]
}
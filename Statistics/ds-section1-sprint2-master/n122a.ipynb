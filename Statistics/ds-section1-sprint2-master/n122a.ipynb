{
  "nbformat": 4,
  "nbformat_minor": 0,
  "metadata": {
    "colab": {
      "name": "n122 중간수정.ipynb",
      "provenance": [],
      "collapsed_sections": [],
      "toc_visible": true,
      "include_colab_link": true
    },
    "kernelspec": {
      "display_name": "Python 3",
      "language": "python",
      "name": "python3"
    },
    "language_info": {
      "codemirror_mode": {
        "name": "ipython",
        "version": 3
      },
      "file_extension": ".py",
      "mimetype": "text/x-python",
      "name": "python",
      "nbconvert_exporter": "python",
      "pygments_lexer": "ipython3",
      "version": "3.8.2"
    }
  },
  "cells": [
    {
      "cell_type": "markdown",
      "metadata": {
        "id": "view-in-github",
        "colab_type": "text"
      },
      "source": [
        "<a href=\"https://colab.research.google.com/github/effection00/ds-section1-sprint2/blob/master/n122a.ipynb\" target=\"_parent\"><img src=\"https://colab.research.google.com/assets/colab-badge.svg\" alt=\"Open In Colab\"/></a>"
      ]
    },
    {
      "cell_type": "markdown",
      "metadata": {
        "id": "rQf3dSuc5PqO"
      },
      "source": [
        "<img src='https://i.imgur.com/RDAD11M.png' width = '200' align = 'right'>\n",
        "\n",
        "## *DATA SCIENCE / SECTION 1 / SPRINT 2 / NOTE 2*\n",
        "\n",
        "# 📝 Assignment"
      ]
    },
    {
      "cell_type": "markdown",
      "metadata": {
        "id": "ICYVH4hkPY68"
      },
      "source": [
        "# 카이제곱검정"
      ]
    },
    {
      "cell_type": "markdown",
      "metadata": {
        "id": "11OzdxWTM7UR"
      },
      "source": [
        "\n",
        "## 1. 공공데이터 조작 연습. \n",
        "\n",
        "국가 통계 포털에서 아래 이미지를 참조하여\n",
        "\n",
        "<https://kosis.kr/statisticsList/statisticsListIndex.do?menuId=M_01_01&vwcd=MT_ZTITLE&parmTabId=M_01_01#SelectStatsBoxDiv>\n",
        "\n",
        "**2020년 8월**에 해당하는 규모별 미분양현황 에 대한 데이터셋을 생성하세요. \n",
        "\n",
        "<img src='https://i.imgur.com/aZc4UJO.png' width = 500>\n",
        "\n",
        "- `60m이하`, `60~85m`, `85m초과`의 3개 규모와 (column)\n",
        "- `서울`, `대전`, `대구`, `부산` 4개의 지역을 포함해야합니다. (row)\n",
        "- 데이터가 없는 경우는 0으로 처리하세요.\n",
        "\n",
        "이후 데이터셋을 colab으로 불러오세요. 이때 변수의 이름은 `df`를 사용합니다.\n"
      ]
    },
    {
      "cell_type": "code",
      "metadata": {
        "colab": {
          "base_uri": "https://localhost:8080/"
        },
        "id": "aoIZnHRvPgqa",
        "outputId": "3d4848a0-b439-4243-de23-d08736b9d468"
      },
      "source": [
        "from google.colab import drive\n",
        "drive.mount('/content/drive')"
      ],
      "execution_count": 210,
      "outputs": [
        {
          "output_type": "stream",
          "text": [
            "Drive already mounted at /content/drive; to attempt to forcibly remount, call drive.mount(\"/content/drive\", force_remount=True).\n"
          ],
          "name": "stdout"
        }
      ]
    },
    {
      "cell_type": "code",
      "metadata": {
        "colab": {
          "base_uri": "https://localhost:8080/",
          "height": 173
        },
        "id": "rFIbnMoRQHn1",
        "outputId": "1173afa6-c59c-4082-e24d-12ca5969dc84"
      },
      "source": [
        "import pandas as pd\n",
        "df = pd.read_excel('/content/drive/MyDrive/미분양 new.xlsx')\n",
        "\n",
        "df = df.iloc[:,3:]\n",
        "df.columns = ['~60m2', '60~85m2', '85m2~']\n",
        "df.index = ['서울', '대전', '대구', '부산']\n",
        "df"
      ],
      "execution_count": 211,
      "outputs": [
        {
          "output_type": "execute_result",
          "data": {
            "text/html": [
              "<div>\n",
              "<style scoped>\n",
              "    .dataframe tbody tr th:only-of-type {\n",
              "        vertical-align: middle;\n",
              "    }\n",
              "\n",
              "    .dataframe tbody tr th {\n",
              "        vertical-align: top;\n",
              "    }\n",
              "\n",
              "    .dataframe thead th {\n",
              "        text-align: right;\n",
              "    }\n",
              "</style>\n",
              "<table border=\"1\" class=\"dataframe\">\n",
              "  <thead>\n",
              "    <tr style=\"text-align: right;\">\n",
              "      <th></th>\n",
              "      <th>~60m2</th>\n",
              "      <th>60~85m2</th>\n",
              "      <th>85m2~</th>\n",
              "    </tr>\n",
              "  </thead>\n",
              "  <tbody>\n",
              "    <tr>\n",
              "      <th>서울</th>\n",
              "      <td>54</td>\n",
              "      <td>2</td>\n",
              "      <td>0</td>\n",
              "    </tr>\n",
              "    <tr>\n",
              "      <th>대전</th>\n",
              "      <td>577</td>\n",
              "      <td>735</td>\n",
              "      <td>142</td>\n",
              "    </tr>\n",
              "    <tr>\n",
              "      <th>대구</th>\n",
              "      <td>143</td>\n",
              "      <td>1437</td>\n",
              "      <td>44</td>\n",
              "    </tr>\n",
              "    <tr>\n",
              "      <th>부산</th>\n",
              "      <td>782</td>\n",
              "      <td>1</td>\n",
              "      <td>0</td>\n",
              "    </tr>\n",
              "  </tbody>\n",
              "</table>\n",
              "</div>"
            ],
            "text/plain": [
              "    ~60m2  60~85m2  85m2~\n",
              "서울     54        2      0\n",
              "대전    577      735    142\n",
              "대구    143     1437     44\n",
              "부산    782        1      0"
            ]
          },
          "metadata": {
            "tags": []
          },
          "execution_count": 211
        }
      ]
    },
    {
      "cell_type": "markdown",
      "metadata": {
        "id": "RXPZZuAi3ccI"
      },
      "source": [
        "## 2. 지역에 대해서 one-sample chi-square test를 실행, 해당 결과를 `chi1`에 저장 후 설명해보세요.\n",
        "\n",
        "예시) 만약 **9월달 데이터**를 기준으로 한다면\n",
        "```python\n",
        " [0+0+0+52+2+0, 0+0+0+590+665+142, 0+0+0+113+1061+42, 0+0+0+772+1+0]\n",
        "```\n",
        "을 비교 하게 될 것입니다.\n",
        "\n",
        "\n"
      ]
    },
    {
      "cell_type": "code",
      "metadata": {
        "colab": {
          "base_uri": "https://localhost:8080/"
        },
        "id": "cR7P0m9pixYO",
        "outputId": "cfd5ad0e-8073-4ecd-ee8f-650fd24637b0"
      },
      "source": [
        "sum = df.sum(axis=1)\n",
        "sum"
      ],
      "execution_count": 212,
      "outputs": [
        {
          "output_type": "execute_result",
          "data": {
            "text/plain": [
              "서울      56\n",
              "대전    1454\n",
              "대구    1624\n",
              "부산     783\n",
              "dtype: int64"
            ]
          },
          "metadata": {
            "tags": []
          },
          "execution_count": 212
        }
      ]
    },
    {
      "cell_type": "code",
      "metadata": {
        "colab": {
          "base_uri": "https://localhost:8080/"
        },
        "id": "E43yhw_fSMbN",
        "outputId": "5c7f3471-7980-40c2-9e08-b7ed567dba12"
      },
      "source": [
        "from scipy.stats import stats\n",
        "from scipy.stats import chi2_contingency\n",
        "#귀무가설 = 지역별로 미분양의 분포는 같다\n",
        "#대립가설 = 지역별로 미분양의 분포는 다르다\n",
        "chi1 = chisquare(sum, axis=None)\n",
        "\n",
        "\n",
        "# 값 확인\n",
        "chi1\n",
        "\n",
        "# p-value 값이 0(<0.05)이므로 귀무가설을 기각해야 한다\n",
        "# 즉, 통계적으로 지역별 미분양의 분포가 다르다 "
      ],
      "execution_count": 213,
      "outputs": [
        {
          "output_type": "execute_result",
          "data": {
            "text/plain": [
              "Power_divergenceResult(statistic=1564.4572376818994, pvalue=0.0)"
            ]
          },
          "metadata": {
            "tags": []
          },
          "execution_count": 213
        }
      ]
    },
    {
      "cell_type": "markdown",
      "metadata": {
        "id": "eMDtugVNRu0q"
      },
      "source": [
        "## 3. 지역과 규모에 대해서 two-sample chi-square test를 실행, 해당 결과를 `chi2`에 저장 후 설명해보세요.\n",
        "\n",
        "예시) **9월달 데이터**를 기준으로 한다면\n",
        "\n",
        "| |-60 | 60-85 | 85- |\n",
        "|:-:|:-:|:-:|:-:|\n",
        "|서울|52|2|0|\n",
        "|대전|772|1|0|\n",
        "|대구|113|1061|42|\n",
        "|부산|590|665|142|\n",
        "\n",
        "에 대해서 검정해야 할 겁니다.\n",
        "\n",
        "\n"
      ]
    },
    {
      "cell_type": "code",
      "metadata": {
        "colab": {
          "base_uri": "https://localhost:8080/"
        },
        "id": "vvFOHGY03HRF",
        "outputId": "4669e39b-adff-4dfd-ff03-f135c313b780"
      },
      "source": [
        "from scipy import stats\n",
        "# two sample Chi-squared test\n",
        "chi2 = stats.chi2_contingency(df)\n",
        "\n",
        "#귀무가설 = 미분양 분포에 대해 지역과 규모는 관련이 없다\n",
        "#대립가설 = 미분양 분포에 대해 지역과 규모는 관련이 있다\n",
        "\n",
        "#결과\n",
        "chi2\n",
        "# p값이 0(<0.05)이므로 귀무가설 기각하며 통계적으로 지역과 규모는 관련이 있다"
      ],
      "execution_count": 214,
      "outputs": [
        {
          "output_type": "execute_result",
          "data": {
            "text/plain": [
              "(2064.576731417199, 0.0, 6, array([[ 22.24559612,  31.09522594,   2.65917794],\n",
              "        [577.59101353, 807.36533061,  69.04365586],\n",
              "        [645.12228746, 901.76155221,  77.11616033],\n",
              "        [311.04110288, 434.77789124,  37.18100587]]))"
            ]
          },
          "metadata": {
            "tags": []
          },
          "execution_count": 214
        }
      ]
    },
    {
      "cell_type": "markdown",
      "metadata": {
        "id": "Tf7XPpBP6YqX"
      },
      "source": [
        "### 4. 2번에 대해서 NumPy 를 사용하여 (Scipy를 사용하지 않고) $\\chi^2$ test 시행 후 2번의 결과와 비교해보세요. \n",
        "\n",
        "- `obs`, `exp`, `chi`라는 변수를 사용해야합니다.\n",
        "\n",
        "이 후 `chi2_contingency()`의 결과물과 비교해보세요"
      ]
    },
    {
      "cell_type": "code",
      "metadata": {
        "id": "TvH0PiatHh-3"
      },
      "source": [
        "import numpy as np"
      ],
      "execution_count": 215,
      "outputs": []
    },
    {
      "cell_type": "code",
      "metadata": {
        "colab": {
          "base_uri": "https://localhost:8080/"
        },
        "id": "b-_600IdHToe",
        "outputId": "ebe4a94a-91ea-44a6-9870-3a0a9dcd7959"
      },
      "source": [
        "import numpy as np\n",
        "from scipy.stats import chisquare  \n",
        "\n",
        "\n",
        "obs = np.array(sum)\n",
        "obs"
      ],
      "execution_count": 216,
      "outputs": [
        {
          "output_type": "execute_result",
          "data": {
            "text/plain": [
              "array([  56, 1454, 1624,  783])"
            ]
          },
          "metadata": {
            "tags": []
          },
          "execution_count": 216
        }
      ]
    },
    {
      "cell_type": "markdown",
      "metadata": {
        "id": "ZOpfOKZ0vS02"
      },
      "source": [
        ""
      ]
    },
    {
      "cell_type": "code",
      "metadata": {
        "colab": {
          "base_uri": "https://localhost:8080/"
        },
        "id": "WiXy32OCXRz8",
        "outputId": "4aa701f8-8aaa-41bc-8e03-292c13023c26"
      },
      "source": [
        "total_obs = np.sum(obs)\n",
        "total_obs"
      ],
      "execution_count": 217,
      "outputs": [
        {
          "output_type": "execute_result",
          "data": {
            "text/plain": [
              "3917"
            ]
          },
          "metadata": {
            "tags": []
          },
          "execution_count": 217
        }
      ]
    },
    {
      "cell_type": "code",
      "metadata": {
        "colab": {
          "base_uri": "https://localhost:8080/"
        },
        "id": "cbrAH_44Xm6a",
        "outputId": "acec62a9-38f5-4c5c-a763-a35f9ca446c7"
      },
      "source": [
        "exp = total_obs/4\n",
        "exp"
      ],
      "execution_count": 218,
      "outputs": [
        {
          "output_type": "execute_result",
          "data": {
            "text/plain": [
              "979.25"
            ]
          },
          "metadata": {
            "tags": []
          },
          "execution_count": 218
        }
      ]
    },
    {
      "cell_type": "code",
      "metadata": {
        "colab": {
          "base_uri": "https://localhost:8080/"
        },
        "id": "jF92jF4XYlKB",
        "outputId": "13ca3f1b-488a-4e1c-a928-971f1299d3a4"
      },
      "source": [
        "squared = np.power(obs - exp,2) #obs 관찰값 exp 예상값\n",
        "squared"
      ],
      "execution_count": 219,
      "outputs": [
        {
          "output_type": "execute_result",
          "data": {
            "text/plain": [
              "array([852390.5625, 225387.5625, 415702.5625,  38514.0625])"
            ]
          },
          "metadata": {
            "tags": []
          },
          "execution_count": 219
        }
      ]
    },
    {
      "cell_type": "code",
      "metadata": {
        "colab": {
          "base_uri": "https://localhost:8080/"
        },
        "id": "ij8xsclKY6D_",
        "outputId": "46c187fa-9be6-482f-ac0a-a4179b6cf652"
      },
      "source": [
        "chi = round(np.sum(squared/exp),3)\n",
        "#결과\n",
        "chi"
      ],
      "execution_count": 220,
      "outputs": [
        {
          "output_type": "execute_result",
          "data": {
            "text/plain": [
              "1564.457"
            ]
          },
          "metadata": {
            "tags": []
          },
          "execution_count": 220
        }
      ]
    },
    {
      "cell_type": "code",
      "metadata": {
        "colab": {
          "base_uri": "https://localhost:8080/"
        },
        "id": "OCc1XW-QkF-k",
        "outputId": "043e6dc9-9499-4dcc-e513-24b8395a8eb9"
      },
      "source": [
        "#2번의 카이제곱 통계치와 값이 같다\n",
        "#2번 통계치 = 1564.457\n",
        "#4번 통계치 = 1564.457\n",
        "\n",
        "\n",
        "# p값\n",
        "1 - stats.chi2.cdf(chi , 3)"
      ],
      "execution_count": 221,
      "outputs": [
        {
          "output_type": "execute_result",
          "data": {
            "text/plain": [
              "0.0"
            ]
          },
          "metadata": {
            "tags": []
          },
          "execution_count": 221
        }
      ]
    },
    {
      "cell_type": "markdown",
      "metadata": {
        "id": "a2BrKHq8m8AS"
      },
      "source": [
        "## 🔥 도전 과제\n",
        "\n",
        "아래 세가지를 다하면 됩니다.\n",
        "\n",
        "### 1. Function\n",
        "\n",
        "4번에서 사용한 one sample chisquare test를 함수의 형태로 변경하세요."
      ]
    },
    {
      "cell_type": "code",
      "metadata": {
        "id": "AntnuAkFm-JQ",
        "colab": {
          "base_uri": "https://localhost:8080/"
        },
        "outputId": "efdc4d2f-6e16-4f65-dd9a-b79194fd124a"
      },
      "source": [
        "v1 = [18,22,20,15,23,22]\n",
        "v2 = [5,23,26,19,24,23]\n",
        "\n",
        "def myChisq(value):\n",
        "    exp = np.sum(np.array(value))/len(value)\n",
        "    squared = np.power(obs - exp,2)# 내용을 채우세요.\n",
        "    chi = round(np.sum(squared/exp),3)\n",
        "    pvalue = 1 - stats.chi2.cdf(chi , 3)\n",
        "    return chi, pvalue\n",
        "print(myChisq(v1))\n",
        "\n",
        "# chisquare값과 pvalue를 출력해야합니다.\n",
        "\n",
        "print(myChisq(v2))"
      ],
      "execution_count": 222,
      "outputs": [
        {
          "output_type": "stream",
          "text": [
            "(260631.85, 0.0)\n",
            "(260631.85, 0.0)\n"
          ],
          "name": "stdout"
        }
      ]
    },
    {
      "cell_type": "markdown",
      "metadata": {
        "id": "4ohsJhQUmEuS"
      },
      "source": [
        "### 2. ANOVA\n",
        "\n",
        "아래 링크를 참조하여 ANOVA 에 대한 글을 읽고\n",
        "\n",
        "<https://partrita.github.io/posts/ANOVA-python/>\n",
        "\n",
        "다음 `4개 그룹에 대해서 평균의 차이가 있는지`에 대한 가설 검정을 시행하세요.\n",
        "\n",
        "A : `38 33 35 92 76 97 88 41 11  9`\n",
        "\n",
        "B : `18 52 62 48 30 40 87 12 97 82`\n",
        "\n",
        "C :  `28 90  5 49 66 73 96 80  4 17`\n",
        "\n",
        "D : ` 8 99  4 12  7 64 18 10  9 20`\n",
        "\n"
      ]
    },
    {
      "cell_type": "code",
      "metadata": {
        "id": "DMebi5_4UaSn",
        "colab": {
          "base_uri": "https://localhost:8080/",
          "height": 359
        },
        "outputId": "f4b2e037-ef36-41c9-e753-dc2662a37252"
      },
      "source": [
        "import pandas as pd\n",
        "name = ['A','B','C','D']\n",
        "\n",
        "df2 = pd.DataFrame([[38, 33, 35, 92, 76, 97, 88, 41, 11,9],[18, 52, 62, 48, 30, 40, 87, 12, 97, 82],\n",
        "                    [28, 90, 5, 49, 66, 73, 96, 80, 4, 17],[8, 99, 4, 12, 7, 64, 18, 10, 9, 20]], index = name)\n",
        "df2 = df2.transpose()\n",
        "df2"
      ],
      "execution_count": 223,
      "outputs": [
        {
          "output_type": "execute_result",
          "data": {
            "text/html": [
              "<div>\n",
              "<style scoped>\n",
              "    .dataframe tbody tr th:only-of-type {\n",
              "        vertical-align: middle;\n",
              "    }\n",
              "\n",
              "    .dataframe tbody tr th {\n",
              "        vertical-align: top;\n",
              "    }\n",
              "\n",
              "    .dataframe thead th {\n",
              "        text-align: right;\n",
              "    }\n",
              "</style>\n",
              "<table border=\"1\" class=\"dataframe\">\n",
              "  <thead>\n",
              "    <tr style=\"text-align: right;\">\n",
              "      <th></th>\n",
              "      <th>A</th>\n",
              "      <th>B</th>\n",
              "      <th>C</th>\n",
              "      <th>D</th>\n",
              "    </tr>\n",
              "  </thead>\n",
              "  <tbody>\n",
              "    <tr>\n",
              "      <th>0</th>\n",
              "      <td>38</td>\n",
              "      <td>18</td>\n",
              "      <td>28</td>\n",
              "      <td>8</td>\n",
              "    </tr>\n",
              "    <tr>\n",
              "      <th>1</th>\n",
              "      <td>33</td>\n",
              "      <td>52</td>\n",
              "      <td>90</td>\n",
              "      <td>99</td>\n",
              "    </tr>\n",
              "    <tr>\n",
              "      <th>2</th>\n",
              "      <td>35</td>\n",
              "      <td>62</td>\n",
              "      <td>5</td>\n",
              "      <td>4</td>\n",
              "    </tr>\n",
              "    <tr>\n",
              "      <th>3</th>\n",
              "      <td>92</td>\n",
              "      <td>48</td>\n",
              "      <td>49</td>\n",
              "      <td>12</td>\n",
              "    </tr>\n",
              "    <tr>\n",
              "      <th>4</th>\n",
              "      <td>76</td>\n",
              "      <td>30</td>\n",
              "      <td>66</td>\n",
              "      <td>7</td>\n",
              "    </tr>\n",
              "    <tr>\n",
              "      <th>5</th>\n",
              "      <td>97</td>\n",
              "      <td>40</td>\n",
              "      <td>73</td>\n",
              "      <td>64</td>\n",
              "    </tr>\n",
              "    <tr>\n",
              "      <th>6</th>\n",
              "      <td>88</td>\n",
              "      <td>87</td>\n",
              "      <td>96</td>\n",
              "      <td>18</td>\n",
              "    </tr>\n",
              "    <tr>\n",
              "      <th>7</th>\n",
              "      <td>41</td>\n",
              "      <td>12</td>\n",
              "      <td>80</td>\n",
              "      <td>10</td>\n",
              "    </tr>\n",
              "    <tr>\n",
              "      <th>8</th>\n",
              "      <td>11</td>\n",
              "      <td>97</td>\n",
              "      <td>4</td>\n",
              "      <td>9</td>\n",
              "    </tr>\n",
              "    <tr>\n",
              "      <th>9</th>\n",
              "      <td>9</td>\n",
              "      <td>82</td>\n",
              "      <td>17</td>\n",
              "      <td>20</td>\n",
              "    </tr>\n",
              "  </tbody>\n",
              "</table>\n",
              "</div>"
            ],
            "text/plain": [
              "    A   B   C   D\n",
              "0  38  18  28   8\n",
              "1  33  52  90  99\n",
              "2  35  62   5   4\n",
              "3  92  48  49  12\n",
              "4  76  30  66   7\n",
              "5  97  40  73  64\n",
              "6  88  87  96  18\n",
              "7  41  12  80  10\n",
              "8  11  97   4   9\n",
              "9   9  82  17  20"
            ]
          },
          "metadata": {
            "tags": []
          },
          "execution_count": 223
        }
      ]
    },
    {
      "cell_type": "code",
      "metadata": {
        "colab": {
          "base_uri": "https://localhost:8080/"
        },
        "id": "cv6yXE3eczpU",
        "outputId": "a1489246-7113-4406-f718-5d813e33b731"
      },
      "source": [
        "from scipy.stats import f_oneway\n",
        "fstat, p_val = f_oneway(df2['A'], df2['B'], df2['C'], df2['D'])\n",
        "fstat, p_val\n",
        "\n",
        "#귀무가설 : A,B,C,D 그룹의 평균은 차이가 없다\n",
        "#대립가설 : A,B,C,D 그룹의 평균은 차이가 있다\n",
        "# P값이 0.179(>0.05)이므로 A,B,C,D 그룹의 평균은 통계적으로 차이가 없다"
      ],
      "execution_count": 224,
      "outputs": [
        {
          "output_type": "execute_result",
          "data": {
            "text/plain": [
              "(1.7249594239128412, 0.17920877113948797)"
            ]
          },
          "metadata": {
            "tags": []
          },
          "execution_count": 224
        }
      ]
    },
    {
      "cell_type": "markdown",
      "metadata": {
        "id": "cWmSdvBy8w4B"
      },
      "source": [
        "## 3. Sign Test\n",
        "\n",
        "아래 링크를 참조하여 Sign Test에 대한 글을 읽고\n",
        "\n",
        "<https://en.wikipedia.org/wiki/Sign_test>\n",
        "\n",
        "다음 데이터에서 두 그룹간에 차이가 있다에 대한 Sign Test의 과정과 결과를 설명하세요\n",
        "\n",
        "|A|B|\n",
        "|:-:|:-:|\n",
        "|142|138|\n",
        "|140|136|\n",
        "|144|147|\t\n",
        "|144|139|\t\n",
        "|142|143|\t\n",
        "|146|141|\t\n",
        "|149|143|\t\n",
        "|150|145|\t\n",
        "|142|136|\t\n",
        "|148|146|\t\n",
        "\n"
      ]
    },
    {
      "cell_type": "code",
      "metadata": {
        "id": "PJcI-oha9Sl9",
        "colab": {
          "base_uri": "https://localhost:8080/",
          "height": 359
        },
        "outputId": "87e826a1-9344-4e2a-b386-ac8467017e91"
      },
      "source": [
        "#귀무가설 : 두 데이터 간에 차이가 없다\n",
        "#대립가설 : 두 데이터 간에 차이가 있다\n",
        "df3 = pd.DataFrame(data= {'A':[142,\t140, 144,144, 142, 146, 149, 150, 142, 148],\n",
        "                          'B':[138,136,147,139,143,141,143,145,136,146]})\n",
        "\n",
        "df3\n",
        "\n",
        "from scipy.stats import wilcoxon\n",
        "df3['A-B'] = df3['A'] - df3['B']\n",
        "df3"
      ],
      "execution_count": 225,
      "outputs": [
        {
          "output_type": "execute_result",
          "data": {
            "text/html": [
              "<div>\n",
              "<style scoped>\n",
              "    .dataframe tbody tr th:only-of-type {\n",
              "        vertical-align: middle;\n",
              "    }\n",
              "\n",
              "    .dataframe tbody tr th {\n",
              "        vertical-align: top;\n",
              "    }\n",
              "\n",
              "    .dataframe thead th {\n",
              "        text-align: right;\n",
              "    }\n",
              "</style>\n",
              "<table border=\"1\" class=\"dataframe\">\n",
              "  <thead>\n",
              "    <tr style=\"text-align: right;\">\n",
              "      <th></th>\n",
              "      <th>A</th>\n",
              "      <th>B</th>\n",
              "      <th>A-B</th>\n",
              "    </tr>\n",
              "  </thead>\n",
              "  <tbody>\n",
              "    <tr>\n",
              "      <th>0</th>\n",
              "      <td>142</td>\n",
              "      <td>138</td>\n",
              "      <td>4</td>\n",
              "    </tr>\n",
              "    <tr>\n",
              "      <th>1</th>\n",
              "      <td>140</td>\n",
              "      <td>136</td>\n",
              "      <td>4</td>\n",
              "    </tr>\n",
              "    <tr>\n",
              "      <th>2</th>\n",
              "      <td>144</td>\n",
              "      <td>147</td>\n",
              "      <td>-3</td>\n",
              "    </tr>\n",
              "    <tr>\n",
              "      <th>3</th>\n",
              "      <td>144</td>\n",
              "      <td>139</td>\n",
              "      <td>5</td>\n",
              "    </tr>\n",
              "    <tr>\n",
              "      <th>4</th>\n",
              "      <td>142</td>\n",
              "      <td>143</td>\n",
              "      <td>-1</td>\n",
              "    </tr>\n",
              "    <tr>\n",
              "      <th>5</th>\n",
              "      <td>146</td>\n",
              "      <td>141</td>\n",
              "      <td>5</td>\n",
              "    </tr>\n",
              "    <tr>\n",
              "      <th>6</th>\n",
              "      <td>149</td>\n",
              "      <td>143</td>\n",
              "      <td>6</td>\n",
              "    </tr>\n",
              "    <tr>\n",
              "      <th>7</th>\n",
              "      <td>150</td>\n",
              "      <td>145</td>\n",
              "      <td>5</td>\n",
              "    </tr>\n",
              "    <tr>\n",
              "      <th>8</th>\n",
              "      <td>142</td>\n",
              "      <td>136</td>\n",
              "      <td>6</td>\n",
              "    </tr>\n",
              "    <tr>\n",
              "      <th>9</th>\n",
              "      <td>148</td>\n",
              "      <td>146</td>\n",
              "      <td>2</td>\n",
              "    </tr>\n",
              "  </tbody>\n",
              "</table>\n",
              "</div>"
            ],
            "text/plain": [
              "     A    B  A-B\n",
              "0  142  138    4\n",
              "1  140  136    4\n",
              "2  144  147   -3\n",
              "3  144  139    5\n",
              "4  142  143   -1\n",
              "5  146  141    5\n",
              "6  149  143    6\n",
              "7  150  145    5\n",
              "8  142  136    6\n",
              "9  148  146    2"
            ]
          },
          "metadata": {
            "tags": []
          },
          "execution_count": 225
        }
      ]
    },
    {
      "cell_type": "code",
      "metadata": {
        "colab": {
          "base_uri": "https://localhost:8080/"
        },
        "id": "BJUZvHAwiB1T",
        "outputId": "86b5fd9f-1cd2-4e3c-f21a-5e0477a8387f"
      },
      "source": [
        "#부호검정\n",
        "(df3['A-B'] < 0).sum()  "
      ],
      "execution_count": 226,
      "outputs": [
        {
          "output_type": "execute_result",
          "data": {
            "text/plain": [
              "2"
            ]
          },
          "metadata": {
            "tags": []
          },
          "execution_count": 226
        }
      ]
    },
    {
      "cell_type": "code",
      "metadata": {
        "colab": {
          "base_uri": "https://localhost:8080/"
        },
        "id": "S12lNLcChswN",
        "outputId": "18e15887-94fc-4ac0-d03c-ed551b7d148f"
      },
      "source": [
        "(df3['A-B'] > 0).sum() "
      ],
      "execution_count": 227,
      "outputs": [
        {
          "output_type": "execute_result",
          "data": {
            "text/plain": [
              "8"
            ]
          },
          "metadata": {
            "tags": []
          },
          "execution_count": 227
        }
      ]
    },
    {
      "cell_type": "code",
      "metadata": {
        "colab": {
          "base_uri": "https://localhost:8080/"
        },
        "id": "X1bOlfK5H-S6",
        "outputId": "a9960452-a39c-46ff-824c-30158b155934"
      },
      "source": [
        "#귀무가설 :A,B는 차이가 없다\n",
        "#대립가설 :A,B는 차이가 있다\n",
        "\n",
        "# \"-\" 2개와 \"+\" 8개 이므로 10개의 동전 중 0,1,2,8,9,10개가 다를 확률을 이항검정을 사용해 찾음\n",
        "from scipy.stats import binom\n",
        "sign = [binom.pmf(k=0, n=10 , p=0.5),binom.pmf(k=1, n=10 , p=0.5),binom.pmf(k=2, n=10 , p=0.5),\n",
        "        binom.pmf(k=8, n=10 , p=0.5),binom.pmf(k=9, n=10 , p=0.5),binom.pmf(k=10, n=10 , p=0.5)]\n",
        "\n",
        "#p-값\n",
        "np.sum(sign)\n",
        "# 0.109(> 0.05)이므로 통계적으로 A,B는 차이가 없다."
      ],
      "execution_count": 228,
      "outputs": [
        {
          "output_type": "execute_result",
          "data": {
            "text/plain": [
              "0.10937500000000001"
            ]
          },
          "metadata": {
            "tags": []
          },
          "execution_count": 228
        }
      ]
    },
    {
      "cell_type": "code",
      "metadata": {
        "colab": {
          "base_uri": "https://localhost:8080/"
        },
        "id": "dG71S60RBBXo",
        "outputId": "67ffc92a-29be-4694-ff90-0504c4dc7cbb"
      },
      "source": [
        "#Wilcoxon 부호 순위 검정\n",
        "from scipy.stats import wilcoxon\n",
        "\n",
        "wilcoxon(df3['A'],df3['B'])\n",
        "# 윌콕슨 부호검정은 더 큰 검정력을 가지므로 pvalue=0.016로 통계적으로 A,B는 차이가 있다"
      ],
      "execution_count": 229,
      "outputs": [
        {
          "output_type": "execute_result",
          "data": {
            "text/plain": [
              "WilcoxonResult(statistic=4.0, pvalue=0.016184453851159696)"
            ]
          },
          "metadata": {
            "tags": []
          },
          "execution_count": 229
        }
      ]
    }
  ]
}
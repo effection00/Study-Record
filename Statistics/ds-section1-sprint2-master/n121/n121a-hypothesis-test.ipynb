{
  "nbformat": 4,
  "nbformat_minor": 0,
  "metadata": {
    "colab": {
      "name": "n121a-hypothesis-test.ipynb",
      "provenance": [],
      "toc_visible": true
    },
    "kernelspec": {
      "display_name": "Python 3",
      "language": "python",
      "name": "python3"
    },
    "language_info": {
      "codemirror_mode": {
        "name": "ipython",
        "version": 3
      },
      "file_extension": ".py",
      "mimetype": "text/x-python",
      "name": "python",
      "nbconvert_exporter": "python",
      "pygments_lexer": "ipython3",
      "version": "3.8.2"
    }
  },
  "cells": [
    {
      "cell_type": "markdown",
      "metadata": {
        "id": "Sa5KWMO1ngPN"
      },
      "source": [
        "<img src='https://i.imgur.com/RDAD11M.png' width = '200' align = 'right'>\n",
        "\n",
        "## *DATA SCIENCE / SECTION 1 / SPRINT 2 / NOTE 1*\n",
        "\n",
        "# 📝 Assignment"
      ]
    },
    {
      "cell_type": "markdown",
      "metadata": {
        "id": "550o_pbJzAIv"
      },
      "source": [
        "# 가설 검정"
      ]
    },
    {
      "cell_type": "markdown",
      "metadata": {
        "id": "gZDO3KBZOJNp"
      },
      "source": [
        "## 1. One-Sample T-test 연습"
      ]
    },
    {
      "cell_type": "markdown",
      "metadata": {
        "id": "CdRkOn9X5BdF"
      },
      "source": [
        "### 데이터 불러오기\n",
        "- [서울시 가로수 데이터셋](https://data.seoul.go.kr/dataList/367/S/2/datasetView.do)을 사용합니다.\n",
        "\n",
        "다음 링크를 참조하세요. \n",
        "<https://ds-lecture-data.s3.ap-northeast-2.amazonaws.com/seoul_tree/seoul_tree.txt>\n"
      ]
    },
    {
      "cell_type": "code",
      "metadata": {
        "id": "bd5YFp7Xvu8P",
        "colab": {
          "base_uri": "https://localhost:8080/",
          "height": 434
        },
        "outputId": "3ce3f478-021e-476b-def0-e755b30ddb0a"
      },
      "source": [
        "import pandas as pd\n",
        "\n",
        "# 이 곳에 답안을 작성하시기 바랍니다\n",
        "\n",
        "data = pd.read_csv('/content/report.txt',sep='\\t')\n",
        "data.columns = data.iloc[0]\n",
        "data = data.drop([0],axis= 0)\n",
        "data = data.replace({'-':0})\n",
        "\n",
        "#확인\n",
        "data.head()\n"
      ],
      "execution_count": 92,
      "outputs": [
        {
          "output_type": "execute_result",
          "data": {
            "text/html": [
              "<div>\n",
              "<style scoped>\n",
              "    .dataframe tbody tr th:only-of-type {\n",
              "        vertical-align: middle;\n",
              "    }\n",
              "\n",
              "    .dataframe tbody tr th {\n",
              "        vertical-align: top;\n",
              "    }\n",
              "\n",
              "    .dataframe thead th {\n",
              "        text-align: right;\n",
              "    }\n",
              "</style>\n",
              "<table border=\"1\" class=\"dataframe\">\n",
              "  <thead>\n",
              "    <tr style=\"text-align: right;\">\n",
              "      <th></th>\n",
              "      <th>기간</th>\n",
              "      <th>자치구</th>\n",
              "      <th>노선수</th>\n",
              "      <th>수량</th>\n",
              "      <th>은행나무</th>\n",
              "      <th>양버즘나무</th>\n",
              "      <th>느티나무</th>\n",
              "      <th>왕벚나무</th>\n",
              "      <th>은단풍나무</th>\n",
              "      <th>메타세콰이어</th>\n",
              "      <th>회화나무</th>\n",
              "      <th>가죽나무</th>\n",
              "      <th>감나무</th>\n",
              "      <th>수양버들</th>\n",
              "      <th>튜울립나무</th>\n",
              "      <th>칠엽수</th>\n",
              "      <th>포플러</th>\n",
              "      <th>느릅나무</th>\n",
              "      <th>살구나무</th>\n",
              "      <th>무궁화</th>\n",
              "      <th>소나무</th>\n",
              "      <th>목련</th>\n",
              "      <th>이팝나무</th>\n",
              "      <th>기타</th>\n",
              "    </tr>\n",
              "  </thead>\n",
              "  <tbody>\n",
              "    <tr>\n",
              "      <th>1</th>\n",
              "      <td>2019</td>\n",
              "      <td>서울시</td>\n",
              "      <td>1,412</td>\n",
              "      <td>307,351</td>\n",
              "      <td>108,050</td>\n",
              "      <td>62,474</td>\n",
              "      <td>37,473</td>\n",
              "      <td>34,150</td>\n",
              "      <td>545</td>\n",
              "      <td>5,171</td>\n",
              "      <td>7,816</td>\n",
              "      <td>52</td>\n",
              "      <td>871</td>\n",
              "      <td>32</td>\n",
              "      <td>948</td>\n",
              "      <td>1,533</td>\n",
              "      <td>7</td>\n",
              "      <td>504</td>\n",
              "      <td>234</td>\n",
              "      <td>2,374</td>\n",
              "      <td>4,539</td>\n",
              "      <td>378</td>\n",
              "      <td>20,088</td>\n",
              "      <td>20,112</td>\n",
              "    </tr>\n",
              "    <tr>\n",
              "      <th>2</th>\n",
              "      <td>2019</td>\n",
              "      <td>종로구</td>\n",
              "      <td>70</td>\n",
              "      <td>7,329</td>\n",
              "      <td>4,072</td>\n",
              "      <td>1,071</td>\n",
              "      <td>619</td>\n",
              "      <td>421</td>\n",
              "      <td>0</td>\n",
              "      <td>1</td>\n",
              "      <td>140</td>\n",
              "      <td>1</td>\n",
              "      <td>0</td>\n",
              "      <td>8</td>\n",
              "      <td>0</td>\n",
              "      <td>17</td>\n",
              "      <td>0</td>\n",
              "      <td>0</td>\n",
              "      <td>0</td>\n",
              "      <td>0</td>\n",
              "      <td>239</td>\n",
              "      <td>0</td>\n",
              "      <td>711</td>\n",
              "      <td>29</td>\n",
              "    </tr>\n",
              "    <tr>\n",
              "      <th>3</th>\n",
              "      <td>2019</td>\n",
              "      <td>중구</td>\n",
              "      <td>48</td>\n",
              "      <td>8,250</td>\n",
              "      <td>3,640</td>\n",
              "      <td>162</td>\n",
              "      <td>460</td>\n",
              "      <td>289</td>\n",
              "      <td>0</td>\n",
              "      <td>0</td>\n",
              "      <td>176</td>\n",
              "      <td>0</td>\n",
              "      <td>0</td>\n",
              "      <td>0</td>\n",
              "      <td>7</td>\n",
              "      <td>0</td>\n",
              "      <td>0</td>\n",
              "      <td>0</td>\n",
              "      <td>21</td>\n",
              "      <td>46</td>\n",
              "      <td>2,162</td>\n",
              "      <td>0</td>\n",
              "      <td>470</td>\n",
              "      <td>817</td>\n",
              "    </tr>\n",
              "    <tr>\n",
              "      <th>4</th>\n",
              "      <td>2019</td>\n",
              "      <td>용산구</td>\n",
              "      <td>39</td>\n",
              "      <td>7,835</td>\n",
              "      <td>4,444</td>\n",
              "      <td>1,422</td>\n",
              "      <td>373</td>\n",
              "      <td>262</td>\n",
              "      <td>0</td>\n",
              "      <td>0</td>\n",
              "      <td>37</td>\n",
              "      <td>0</td>\n",
              "      <td>74</td>\n",
              "      <td>0</td>\n",
              "      <td>13</td>\n",
              "      <td>16</td>\n",
              "      <td>0</td>\n",
              "      <td>0</td>\n",
              "      <td>39</td>\n",
              "      <td>0</td>\n",
              "      <td>51</td>\n",
              "      <td>126</td>\n",
              "      <td>198</td>\n",
              "      <td>780</td>\n",
              "    </tr>\n",
              "    <tr>\n",
              "      <th>5</th>\n",
              "      <td>2019</td>\n",
              "      <td>성동구</td>\n",
              "      <td>38</td>\n",
              "      <td>8,120</td>\n",
              "      <td>1,090</td>\n",
              "      <td>2,401</td>\n",
              "      <td>1,975</td>\n",
              "      <td>602</td>\n",
              "      <td>29</td>\n",
              "      <td>48</td>\n",
              "      <td>325</td>\n",
              "      <td>33</td>\n",
              "      <td>146</td>\n",
              "      <td>0</td>\n",
              "      <td>0</td>\n",
              "      <td>1</td>\n",
              "      <td>3</td>\n",
              "      <td>59</td>\n",
              "      <td>0</td>\n",
              "      <td>0</td>\n",
              "      <td>53</td>\n",
              "      <td>0</td>\n",
              "      <td>709</td>\n",
              "      <td>646</td>\n",
              "    </tr>\n",
              "  </tbody>\n",
              "</table>\n",
              "</div>"
            ],
            "text/plain": [
              "0    기간  자치구    노선수       수량     은행나무  ...    무궁화    소나무   목련    이팝나무      기타\n",
              "1  2019  서울시  1,412  307,351  108,050  ...  2,374  4,539  378  20,088  20,112\n",
              "2  2019  종로구     70    7,329    4,072  ...      0    239    0     711      29\n",
              "3  2019   중구     48    8,250    3,640  ...     46  2,162    0     470     817\n",
              "4  2019  용산구     39    7,835    4,444  ...      0     51  126     198     780\n",
              "5  2019  성동구     38    8,120    1,090  ...      0     53    0     709     646\n",
              "\n",
              "[5 rows x 24 columns]"
            ]
          },
          "metadata": {
            "tags": []
          },
          "execution_count": 92
        }
      ]
    },
    {
      "cell_type": "markdown",
      "metadata": {
        "id": "oxsx9cN7dUPp"
      },
      "source": [
        "### \"서울시에는 구별로 평균 약 400 그루 정도의 `이팝나무`가 있다\"라는 가설에 대해 가설검정을 시행하세요.\n",
        "\n",
        "- 단, `서울시`, `공원녹지사업소`, `시설관리공단` 부분의 데이터는 제외합니다.\n",
        "- 가설검정 결과의 pvalue 값을 `pv1`에 저장하세요. (`.pvalue` 사용)"
      ]
    },
    {
      "cell_type": "code",
      "metadata": {
        "id": "nfucb5GYpn1D",
        "colab": {
          "base_uri": "https://localhost:8080/"
        },
        "outputId": "3853b8bc-02cc-4267-d80a-1e18c87cd783"
      },
      "source": [
        "import numpy as np\n",
        "# 이 곳에 답안을 작성하시기 바랍니다\n",
        "tree1 = pd.to_numeric(data['이팝나무'].str.replace(',',''))\n",
        "\n",
        "# 서울시 구별 이팝나무\n",
        "tree1 = tree1.iloc[1:26]\n",
        "tree1"
      ],
      "execution_count": 93,
      "outputs": [
        {
          "output_type": "execute_result",
          "data": {
            "text/plain": [
              "2      711\n",
              "3      470\n",
              "4      198\n",
              "5      709\n",
              "6      760\n",
              "7     1176\n",
              "8      449\n",
              "9      853\n",
              "10     575\n",
              "11      47\n",
              "12     142\n",
              "13     443\n",
              "14     493\n",
              "15    1280\n",
              "16     784\n",
              "17    1426\n",
              "18    1082\n",
              "19     184\n",
              "20    1281\n",
              "21     397\n",
              "22     249\n",
              "23     446\n",
              "24     768\n",
              "25    1651\n",
              "26     642\n",
              "Name: 이팝나무, dtype: int64"
            ]
          },
          "metadata": {
            "tags": []
          },
          "execution_count": 93
        }
      ]
    },
    {
      "cell_type": "code",
      "metadata": {
        "colab": {
          "base_uri": "https://localhost:8080/"
        },
        "id": "eMxM_m_XHu7e",
        "outputId": "49468db7-4191-4b68-9127-7ed3bf865747"
      },
      "source": [
        "from scipy import stats\n",
        "import scipy\n",
        "scipy.__version__\n",
        "!pip install --upgrade scipy\n",
        "#실제 평균\n",
        "print(np.mean(tree1))\n",
        "tt_est = stats.ttest_1samp(tree1, 400)\n",
        "#가설 검정 결과; p-value(유의수준) 0.05(1-95%) 기준 -- 0.002 (< 0.5)이므로 귀무가설은 기각\n",
        "\n",
        "#p-value 값\n",
        "pv1 = tt_est.pvalue\n",
        "pv1"
      ],
      "execution_count": 94,
      "outputs": [
        {
          "output_type": "stream",
          "text": [
            "Requirement already up-to-date: scipy in /usr/local/lib/python3.7/dist-packages (1.6.3)\n",
            "Requirement already satisfied, skipping upgrade: numpy<1.23.0,>=1.16.5 in /usr/local/lib/python3.7/dist-packages (from scipy) (1.19.5)\n",
            "688.64\n"
          ],
          "name": "stdout"
        },
        {
          "output_type": "execute_result",
          "data": {
            "text/plain": [
              "0.002470712850935819"
            ]
          },
          "metadata": {
            "tags": []
          },
          "execution_count": 94
        }
      ]
    },
    {
      "cell_type": "markdown",
      "metadata": {
        "id": "yAkyHaEnbNYa"
      },
      "source": [
        "### 이번에는 10개의 구를 샘플링하여, 위에 대한 가설검정을 다시 한번 시행해보세요.\n",
        "\n",
        "- 단, 아래의 코드를 참조하여 sample을 위한 seed 는 123로 설정하세요.\n",
        "- 가설검정 결과의 pvalue값을 `pv2`에 저장하세요\n"
      ]
    },
    {
      "cell_type": "code",
      "metadata": {
        "id": "DbQPGNNLq_AN",
        "colab": {
          "base_uri": "https://localhost:8080/"
        },
        "outputId": "c1dbf37f-2c87-4969-e282-f3dab08df0e3"
      },
      "source": [
        "import numpy as np\n",
        "np.random.seed(123)\n",
        "\n",
        "#10개 tree 추출\n",
        "ten_tree = np.random.choice(tree1, size = 10,replace=False)  # \"~\"와 \" \"을 적절한 값으로 채우시면 됩니다\n",
        "ten_tree"
      ],
      "execution_count": 95,
      "outputs": [
        {
          "output_type": "execute_result",
          "data": {
            "text/plain": [
              "array([1176,  446,  768, 1281, 1426,  575,  853,  443,  760,  709])"
            ]
          },
          "metadata": {
            "tags": []
          },
          "execution_count": 95
        }
      ]
    },
    {
      "cell_type": "code",
      "metadata": {
        "id": "BBGLNP-PQUR0",
        "outputId": "b6873bb7-bc70-4a1d-cf06-5ff0a0d7f5ae",
        "colab": {
          "base_uri": "https://localhost:8080/"
        }
      },
      "source": [
        "#실제 평균\n",
        "print(np.mean(ten_tree))\n",
        "tt_est2 = stats.ttest_1samp(ten_tree, 400) \n",
        "#가설 검정 결과 ; p-value(유의수준) 0.05(1-95%) 기준 -- 0.002 (<0.5)이므로 귀무가설 기각\n",
        "\n",
        "pv2 = tt_est2.pvalue\n",
        "pv2"
      ],
      "execution_count": 96,
      "outputs": [
        {
          "output_type": "stream",
          "text": [
            "843.7\n"
          ],
          "name": "stdout"
        },
        {
          "output_type": "execute_result",
          "data": {
            "text/plain": [
              "0.0027440170444690284"
            ]
          },
          "metadata": {
            "tags": []
          },
          "execution_count": 96
        }
      ]
    },
    {
      "cell_type": "markdown",
      "metadata": {
        "id": "TPT-ZTt0PuIk"
      },
      "source": [
        "## 2. Two-Sample T-test 연습"
      ]
    },
    {
      "cell_type": "markdown",
      "metadata": {
        "id": "2WZnCBsR_2jT"
      },
      "source": [
        "### \"서울시의 구별 평균 느티나무수와 왕벚나무의 수는 차이가 없다\"라는 가설에 대해 가설검정을 시행하세요.\n",
        "\n",
        "- 단, `서울시`, `공원녹지사업소`, `시설관리공단` 부분의 데이터는 제외합니다.\n",
        "- 가설검정 결과의 pvalue를 `pv3`에 저장하세요"
      ]
    },
    {
      "cell_type": "code",
      "metadata": {
        "id": "lAs832N1tc7k",
        "colab": {
          "base_uri": "https://localhost:8080/"
        },
        "outputId": "5b084413-d73f-453a-f35e-d9b6d3435837"
      },
      "source": [
        "tree2 = pd.to_numeric(data['느티나무'].str.replace(',',''))\n",
        "tree3 = pd.to_numeric(data['왕벚나무'].str.replace(',',''))\n",
        "\n",
        "# 이 곳에 답안을 작성하시기 바랍니다\n",
        "tree2 = tree2.iloc[1:26]\n",
        "tree3 = tree3.iloc[1:26]\n",
        "#느티나무 왕벚나무 데이터\n",
        "tree2, tree3"
      ],
      "execution_count": 97,
      "outputs": [
        {
          "output_type": "execute_result",
          "data": {
            "text/plain": [
              "(2      619\n",
              " 3      460\n",
              " 4      373\n",
              " 5     1975\n",
              " 6     1057\n",
              " 7      855\n",
              " 8      471\n",
              " 9     1014\n",
              " 10     324\n",
              " 11     779\n",
              " 12    1165\n",
              " 13     680\n",
              " 14     721\n",
              " 15    3056\n",
              " 16    1065\n",
              " 17    2231\n",
              " 18    1884\n",
              " 19     407\n",
              " 20    3419\n",
              " 21    1421\n",
              " 22     185\n",
              " 23    3409\n",
              " 24    2991\n",
              " 25    2400\n",
              " 26    2417\n",
              " Name: 느티나무, dtype: int64, 2      421.0\n",
              " 3      289.0\n",
              " 4      262.0\n",
              " 5      602.0\n",
              " 6      940.0\n",
              " 7      747.0\n",
              " 8      354.0\n",
              " 9     1656.0\n",
              " 10     497.0\n",
              " 11    2095.0\n",
              " 12    1612.0\n",
              " 13    1748.0\n",
              " 14     732.0\n",
              " 15    1096.0\n",
              " 16     956.0\n",
              " 17    2508.0\n",
              " 18    2157.0\n",
              " 19    1123.0\n",
              " 20    2952.0\n",
              " 21    1127.0\n",
              " 22    2416.0\n",
              " 23     254.0\n",
              " 24    2455.0\n",
              " 25     992.0\n",
              " 26    2309.0\n",
              " Name: 왕벚나무, dtype: float64)"
            ]
          },
          "metadata": {
            "tags": []
          },
          "execution_count": 97
        }
      ]
    },
    {
      "cell_type": "code",
      "metadata": {
        "id": "ksMvWo54RktL",
        "outputId": "e020b1fe-4301-4f22-859a-4e36b81f4f6b",
        "colab": {
          "base_uri": "https://localhost:8080/"
        }
      },
      "source": [
        "#실제 평균\n",
        "print(np.mean(tree2))\n",
        "print(np.mean(tree3))\n",
        "\n",
        "#검정 결과 \n",
        "pv3 = stats.ttest_ind(tree2,tree3).pvalue #평균 같을 경우\n",
        "pv3 \n",
        "# 귀무가설 기각 x "
      ],
      "execution_count": 98,
      "outputs": [
        {
          "output_type": "stream",
          "text": [
            "1415.12\n",
            "1292.0\n"
          ],
          "name": "stdout"
        },
        {
          "output_type": "execute_result",
          "data": {
            "text/plain": [
              "0.6455096880085703"
            ]
          },
          "metadata": {
            "tags": []
          },
          "execution_count": 98
        }
      ]
    },
    {
      "cell_type": "markdown",
      "metadata": {
        "id": "sumvaBlX_vIJ"
      },
      "source": [
        ""
      ]
    },
    {
      "cell_type": "markdown",
      "metadata": {
        "id": "vhhXvirEAeCH"
      },
      "source": [
        "\n",
        "### Two-Sample One-tailed test를 사용하여 **평균 느티나무수가 왕벚나무 수보다 크다**라는 가설에 대한 가설검정을 시행하세요.\n",
        "- 해당 가설검정의 결과를 `ans`에 저장하세요.\n",
        "\n",
        "이 때 `ans`가 가질 수 있는 값은 아래와 같습니다 :\n",
        "1. \"느티나무\" ( 느티나무의 수가 통계적으로 유의하게 많은 경우 )\n",
        "2. \"왕벚나무\" ( 왕벚나무의 수가 통계적으로 유의하게 많은 경우 )\n",
        "3. \"없음\" (통계적으로 유의하지 않은 경우)\n",
        "\n",
        "다음 링크를 참조하세요.\n",
        "<https://stackoverflow.com/questions/15984221/how-to-perform-two-sample-one-tailed-t-test-with-numpy-scipy>"
      ]
    },
    {
      "cell_type": "code",
      "metadata": {
        "id": "bCE3UgpbP69p",
        "colab": {
          "base_uri": "https://localhost:8080/"
        },
        "outputId": "eed38cf0-d6e2-4fbd-f877-6d7a5e0001c8"
      },
      "source": [
        "# 이 곳에 답안을 작성하시기 바랍니다\n",
        "\n",
        "#tree2 느티나무 tree3 왕벚나무\n",
        "# 귀무가설 왕벚나무 >= 느티나무 \n",
        "pv4 = stats.ttest_ind(tree3,tree2,alternative='greater')\n",
        "# one tail 단측검정\n",
        "\n",
        "pv4\n",
        "#귀무가설 기각x"
      ],
      "execution_count": 106,
      "outputs": [
        {
          "output_type": "execute_result",
          "data": {
            "text/plain": [
              "Ttest_indResult(statistic=-0.4629256014492562, pvalue=0.6772451559957149)"
            ]
          },
          "metadata": {
            "tags": []
          },
          "execution_count": 106
        }
      ]
    },
    {
      "cell_type": "code",
      "metadata": {
        "id": "1d_omxhVlqVW",
        "outputId": "852e8e31-e70b-4cef-e4e4-cfab7494c919",
        "colab": {
          "base_uri": "https://localhost:8080/"
        }
      },
      "source": [
        "# 유의확률 0.05보다 크므로 귀무가설 기각x\n",
        "#평균 느티나무수가 왕벚나무수보다 크다 \n",
        "\n",
        "ans = 2\n",
        "ans"
      ],
      "execution_count": 100,
      "outputs": [
        {
          "output_type": "execute_result",
          "data": {
            "text/plain": [
              "2"
            ]
          },
          "metadata": {
            "tags": []
          },
          "execution_count": 100
        }
      ]
    },
    {
      "cell_type": "markdown",
      "metadata": {
        "id": "C5pkmOuKgK9Y"
      },
      "source": [
        "## 🔥 **도전과제**\n",
        "> 3문제 모두 하면 됩니다.\n",
        "\n"
      ]
    },
    {
      "cell_type": "markdown",
      "metadata": {
        "id": "3114xDdlPjFx"
      },
      "source": [
        "### 1. Compare mean for multiple-sample \n",
        " \n",
        "다음 링크를 참조하세요. <https://reneshbedre.github.io/blog/anova.html>\n",
        "\n",
        "구별, 은행나무, 양버즘나무, 느티나무에 대해서 ANOVA Test를 실행하세요.\n",
        "\n",
        "단, `서울시`, `공원녹지사업소`, `시설관리공단` 부분의 데이터는 제외합니다."
      ]
    },
    {
      "cell_type": "code",
      "metadata": {
        "id": "u9EEtJWJRe5X"
      },
      "source": [
        "#정수\n",
        "data['양버즘나무'] = pd.to_numeric(data['양버즘나무'].str.replace(',',''))\n",
        "data['은행나무'] = pd.to_numeric(data['은행나무'].str.replace(',',''))\n",
        "data['느티나무'] = pd.to_numeric(data['느티나무'].str.replace(',',''))"
      ],
      "execution_count": 101,
      "outputs": []
    },
    {
      "cell_type": "code",
      "metadata": {
        "id": "dPmXOHh1Cfea",
        "colab": {
          "base_uri": "https://localhost:8080/"
        },
        "outputId": "11763b4f-94b9-43e8-eaad-acae6ca5f734"
      },
      "source": [
        "# 이 곳에 답안을 작성하시기 바랍니다\n",
        "\n",
        "ano_tree = data.loc[1:26,['자치구','은행나무','양버즘나무','느티나무']]\n",
        "ano_tree\n",
        "#ANOVA 분산분석 : 여러 그룹의 평균 차이가 통계적으로 유의미한지 판단(t-test와 비슷하지만 그룹 수 2개 이상일 때)\n",
        "#일원분산분석?\n",
        "\n",
        "stats.f_oneway(ano_tree['은행나무'],ano_tree['양버즘나무'],ano_tree['느티나무'])\n"
      ],
      "execution_count": 102,
      "outputs": [
        {
          "output_type": "execute_result",
          "data": {
            "text/plain": [
              "F_onewayResult(statistic=0.9540411819967466, pvalue=0.38980555570120035)"
            ]
          },
          "metadata": {
            "tags": []
          },
          "execution_count": 102
        }
      ]
    },
    {
      "cell_type": "markdown",
      "metadata": {
        "id": "nLl4aWDPCVaO"
      },
      "source": [
        "### 2. Sampling\n",
        "\n",
        "- 세션 시간에 배웠던 4가지 sample 방식을 구현해보세요.\n",
        "\n",
        "- 이를 위한 데이터는 1 부터 100 이며, sampling해야 하는 수는 20개 입니다.\n",
        "\n",
        "- Stratified random sampling을 위한 그룹을 나누는 기준은 1-10, 11-20, ... 과 같은 방식입니다.\n",
        "\n",
        "- Cluster sampling 을 위한 그룹을 나누는 기준은 5로 나눴을때의 나머지 값입니다. (0,1,2,3,4)"
      ]
    },
    {
      "cell_type": "code",
      "metadata": {
        "id": "QUPwaynLAQjS",
        "colab": {
          "base_uri": "https://localhost:8080/"
        },
        "outputId": "39acb47e-9696-4947-f7db-c53a03b8b8e4"
      },
      "source": [
        "from sklearn.model_selection import StratifiedShuffleSplit\n",
        "# 이 곳에 답안을 작성하시기 바랍니다\n",
        "\n",
        "#무작위\n",
        "#1.Simple random sampling\n",
        "np.random.randint(1,100,size=20)\n",
        "\n",
        "#2.Systematic sampling\n",
        "\n",
        "#3.Stratified random sampling\n",
        "\n",
        "\n",
        "#4.클러스터 기준은 5로 나눈 나머지 값\n",
        "\n",
        "\n"
      ],
      "execution_count": 103,
      "outputs": [
        {
          "output_type": "execute_result",
          "data": {
            "text/plain": [
              "array([40, 67, 85, 48, 62, 49,  8, 93, 53, 98, 86, 95, 28, 35, 98, 77, 41,\n",
              "        4, 70, 65])"
            ]
          },
          "metadata": {
            "tags": []
          },
          "execution_count": 103
        }
      ]
    },
    {
      "cell_type": "markdown",
      "metadata": {
        "id": "3PdoNE4VvVnR"
      },
      "source": [
        "### 3. Data transform\n",
        "다음 링크를 참조하여  `Inverse transform sampling` 을 구현합니다.\n",
        "\n",
        "<https://youtu.be/9ixzzPQWuAY>\n",
        "\n",
        "0 ~ 1 의 값을 동일한 확률로 갖는 `uniform distribution`으로 부터 `binomial distribution`으로 transform 하는 코드를 작성한 뒤, 두가지 결과를 시각화를 통해 비교하세요.\n"
      ]
    },
    {
      "cell_type": "code",
      "metadata": {
        "id": "nE9tvkLbwOGd",
        "colab": {
          "base_uri": "https://localhost:8080/",
          "height": 134
        },
        "outputId": "6b79bd0f-99d0-42a4-81e2-eee7f34cf33a"
      },
      "source": [
        "# 이 곳에 답안을 작성하시기 바랍니다\n",
        "\n",
        "uniform distribution"
      ],
      "execution_count": 104,
      "outputs": [
        {
          "output_type": "error",
          "ename": "SyntaxError",
          "evalue": "ignored",
          "traceback": [
            "\u001b[0;36m  File \u001b[0;32m\"<ipython-input-104-6e5cc663645d>\"\u001b[0;36m, line \u001b[0;32m3\u001b[0m\n\u001b[0;31m    uniform distribution\u001b[0m\n\u001b[0m                       ^\u001b[0m\n\u001b[0;31mSyntaxError\u001b[0m\u001b[0;31m:\u001b[0m invalid syntax\n"
          ]
        }
      ]
    }
  ]
}
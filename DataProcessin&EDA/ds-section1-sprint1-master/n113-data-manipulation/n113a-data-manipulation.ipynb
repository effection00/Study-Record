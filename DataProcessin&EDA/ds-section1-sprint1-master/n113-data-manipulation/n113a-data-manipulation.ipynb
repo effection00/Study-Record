{
  "nbformat": 4,
  "nbformat_minor": 0,
  "metadata": {
    "colab": {
      "name": "n113a_data-manipulation.ipynb",
      "provenance": [],
      "collapsed_sections": []
    },
    "kernelspec": {
      "display_name": "Python 3",
      "language": "python",
      "name": "python3"
    },
    "language_info": {
      "codemirror_mode": {
        "name": "ipython",
        "version": 3
      },
      "file_extension": ".py",
      "mimetype": "text/x-python",
      "name": "python",
      "nbconvert_exporter": "python",
      "pygments_lexer": "ipython3",
      "version": "3.8.5"
    }
  },
  "cells": [
    {
      "cell_type": "markdown",
      "metadata": {
        "id": "pmU5YUal1eTZ"
      },
      "source": [
        "<img src='https://user-images.githubusercontent.com/6457691/89746244-a6e2a200-daf3-11ea-9314-7863d544d73c.png' width = '200' align = 'right'>\n",
        "\n",
        "## *DATA SCIENCE / SECTION 1 / SPRINT 1 / NOTE 3*\n",
        "\n",
        "# 📝 Assignment\n",
        "\n",
        "---\n",
        "\n",
        "## 1. Concat \n",
        "\n",
        "세션시간에 다뤘던 6개의 데이터를 1개로 합치세요.\n",
        "\n",
        "데이터를 불러오기 위하여 아래의 코드를 참조하세요.\n",
        "\n",
        "합쳐진 데이터의 이름은 `df`입니다.\n",
        "\n",
        "```python\n",
        "import pandas as pd\n",
        "\n",
        "urlhead = 'https://ds-lecture-data.s3.ap-northeast-2.amazonaws.com/stocks/'\n",
        "df1 = pd.read_csv(urlhead + '000080.csv') \n",
        "# '000890.csv'\n",
        "# '005300.csv'\n",
        "# '027740.csv'\n",
        "# '035810.csv'\n",
        "# '136480.csv'\n",
        "```\n",
        "\n",
        "\n",
        "\n",
        "단, 모든 feature, 모든 데이터에 대해서가 아닌\n",
        "\n",
        "- 매출액\n",
        "- 자본총계\n",
        "- EPS\n",
        "\n",
        "- 제일 최근 분기의 데이터\n",
        "\n",
        "에 대해서만 하면 됩니다.\n",
        "\n",
        "||매출액|자본총계|EPS(원)|종목명|\n",
        "|:-:|:-:|:-:|:-:|:-:|\n",
        "|2020/09|6,243|10,897|453|하이트진로|\n",
        "|...|...|...|...|...|\n",
        "|2020/09|2,613|2,695|62|하림|\n",
        "\n",
        "(첫부분은 값이 달라도 되며, 결과 shape는 6,4입니다.)\n",
        "\n",
        "힌트 : \n",
        "- 데이터를 transpose\n",
        "- column의 이름을 변경 및 설정\n",
        "- 데이터의 일부 feature 선택\n",
        "- `종목명`이라는 feature 지정\n",
        "- 이후 `concat`으로 합치기\n",
        "- 합친 이후의 index를 종목명으로 설정 및 drop\n",
        "\n",
        "이라는 단계를 거치면 될겁니다."
      ]
    },
    {
      "cell_type": "code",
      "metadata": {
        "colab": {
          "base_uri": "https://localhost:8080/"
        },
        "id": "vxUbjav2fjQS",
        "outputId": "cc2dbb97-6bab-497d-9c92-7a9138fd3456"
      },
      "source": [
        "import pandas as pd\n",
        "\n",
        "urlhead = 'https://ds-lecture-data.s3.ap-northeast-2.amazonaws.com/stocks/'\n",
        "# '000080.csv'\n",
        "# '000890.csv'\n",
        "# '005300.csv'\n",
        "# '027740.csv'\n",
        "# '035810.csv'\n",
        "# '136480.csv'\n",
        "\n",
        "def mydf(myurl):\n",
        " df = pd.read_csv(urlhead + myurl,thousands=',')\n",
        " df = df.transpose()  #데이터를 transpose\n",
        " new_header = df.iloc[0]\n",
        " df.columns = new_header\n",
        " df = df[[\"매출액\",\"자산총계\",\"EPS(원)\"]] #컬럼명 설정 후 feature 이름으로 찾기\n",
        " return df[-1:]\n",
        "\n",
        "\n",
        "df = pd.concat([  mydf('000080.csv'), mydf('000890.csv'), mydf('005300.csv'), mydf('027740.csv'), mydf('035810.csv'), mydf('136480.csv')])\n",
        "\n",
        "data = ['화이트진로','보해양조','롯데칠성','마니커','이지홀딩스','하림']\n",
        "df['종목명'] = data\n",
        "df.index = df['종목명']\n",
        "\n",
        "df.drop(df.columns[-1],axis =1)\n",
        "print(df.shape)\n",
        "df['자산총계'][3]"
      ],
      "execution_count": 164,
      "outputs": [
        {
          "output_type": "stream",
          "text": [
            "(6, 4)\n"
          ],
          "name": "stdout"
        },
        {
          "output_type": "execute_result",
          "data": {
            "text/plain": [
              "1897.0"
            ]
          },
          "metadata": {
            "tags": []
          },
          "execution_count": 164
        }
      ]
    },
    {
      "cell_type": "markdown",
      "metadata": {
        "id": "0GkJtKYy5jRW"
      },
      "source": [
        ""
      ]
    },
    {
      "cell_type": "markdown",
      "metadata": {
        "id": "RsiWi4DuXPLP"
      },
      "source": [
        "## 2. Reshape \n",
        "\n",
        "방금 만든 데이터를 아래 예시와 같은 **tidy** 형태로 만드세요.\n",
        "\n",
        "이때 tidy 데이터의 이름은 `df_tidy` 입니다.\n",
        "\n",
        "|종목명|Feature|Value|\n",
        "|:-:|:-:|:-:|\n",
        "|하이트진로|매출액|6243|\n",
        "|보해양조|매출액|205|\n",
        "|롯데칠성|매출액|5980|\n",
        "|...|...|...|\n",
        "|마니커|EPS(원)|-61|\n",
        "|이지홀딩스|EPS(원)|1168|\n",
        "|하림|EPS(원)|62|\n",
        "\n",
        "이 후 아래의 코드를 정상적으로 실행했을때 나오는 box의 수를 `res`에 저장하세요.\n",
        "\n",
        "```python\n",
        "sns.boxplot(data = df_tidy, x = '종목명', y = 'value');\n",
        "```\n",
        "\n",
        "\n"
      ]
    },
    {
      "cell_type": "code",
      "metadata": {
        "id": "gACCr67CoUv0",
        "colab": {
          "base_uri": "https://localhost:8080/",
          "height": 635
        },
        "outputId": "284f5bfc-5fa6-4211-ac98-e33e9faaa9d9"
      },
      "source": [
        "!sudo apt-get install -y fonts-nanum\n",
        "!sudo fc-cache -fv\n",
        "!rm ~/.cache/matplotlib -rf\n",
        "\n",
        "%matplotlib inline\n",
        "import seaborn as sns\n",
        "import numpy as np\n",
        "import matplotlib.pyplot as plt\n",
        "\n",
        "plt.rc('font', family='NanumBarunGothic') \n",
        "\n",
        "\n",
        "\n",
        "df_tidy = df.melt(id_vars='종목명',value_vars=['매출액','자산총계','EPS(원)'],value_name='Value',var_name='Feature')\n",
        "\n",
        "df_tidy['Value'] = df_tidy.Value.str.replace(',', '').astype('int64')\n",
        "df_tidy['Value'].dtypes\n",
        "box_plot = sns.boxplot(data = df_tidy, x = '종목명', y = 'Value');\n",
        "\n",
        "#개수 세는거 \n"
      ],
      "execution_count": 61,
      "outputs": [
        {
          "output_type": "stream",
          "text": [
            "Reading package lists... Done\n",
            "Building dependency tree       \n",
            "Reading state information... Done\n",
            "fonts-nanum is already the newest version (20170925-1).\n",
            "The following package was automatically installed and is no longer required:\n",
            "  libnvidia-common-460\n",
            "Use 'sudo apt autoremove' to remove it.\n",
            "0 upgraded, 0 newly installed, 0 to remove and 34 not upgraded.\n",
            "/usr/share/fonts: caching, new cache contents: 0 fonts, 1 dirs\n",
            "/usr/share/fonts/truetype: caching, new cache contents: 0 fonts, 3 dirs\n",
            "/usr/share/fonts/truetype/humor-sans: caching, new cache contents: 1 fonts, 0 dirs\n",
            "/usr/share/fonts/truetype/liberation: caching, new cache contents: 16 fonts, 0 dirs\n",
            "/usr/share/fonts/truetype/nanum: caching, new cache contents: 10 fonts, 0 dirs\n",
            "/usr/local/share/fonts: caching, new cache contents: 0 fonts, 0 dirs\n",
            "/root/.local/share/fonts: skipping, no such directory\n",
            "/root/.fonts: skipping, no such directory\n",
            "/var/cache/fontconfig: cleaning cache directory\n",
            "/root/.cache/fontconfig: not cleaning non-existent cache directory\n",
            "/root/.fontconfig: not cleaning non-existent cache directory\n",
            "fc-cache: succeeded\n"
          ],
          "name": "stdout"
        },
        {
          "output_type": "display_data",
          "data": {
            "image/png": "[encoded data removed]",
            "text/plain": [
              "<Figure size 432x288 with 1 Axes>"
            ]
          },
          "metadata": {
            "tags": [],
            "needs_background": "light"
          }
        }
      ]
    },
    {
      "cell_type": "code",
      "metadata": {
        "colab": {
          "base_uri": "https://localhost:8080/"
        },
        "id": "pWhipsnRP_RO",
        "outputId": "8399a5ba-33a4-4edc-c1f2-324e559e35eb"
      },
      "source": [
        "res = len(box_plot.get_xticklabels())\n",
        "print(res)\n",
        "#박스플롯을 사용하는 이유?  시각화하여 비교 가능 "
      ],
      "execution_count": 70,
      "outputs": [
        {
          "output_type": "stream",
          "text": [
            "6\n"
          ],
          "name": "stdout"
        }
      ]
    },
    {
      "cell_type": "markdown",
      "metadata": {
        "id": "8Yscu0NtMmRM"
      },
      "source": [
        "## 3. Merge & Join +\n",
        "\n",
        "pandas merge의 options중 how 에는 여러가지 옵션들이 있습니다.\n",
        "\n",
        "공식 레퍼런스를 검색, 참조하여\n",
        "\n",
        "아래 코드를 바탕으로 \n",
        "\n",
        "다음과 같은 결과물을 만드는 코드를 작성하세요\n",
        "\n",
        "변수의 이름은 `df2` 입니다.\n",
        "\n",
        "|key1|key2|A|B|C|D|\n",
        "|:-:|:-:|:-:|:-:|:-:|:-:|\n",
        "|K0|K0|A0|B0|C0|D0|\n",
        "|K0|K1|A1|B1|NaN|NaN|\n",
        "|K1|K0|A2|B2|C1|D1|\n",
        "|K1|K0|A2|B2|C2|D2|\n",
        "|K2|K1|A3|B3|NaN|NaN|\n",
        "\n",
        "\n",
        "\n"
      ]
    },
    {
      "cell_type": "code",
      "metadata": {
        "id": "DlrGYjByMvn6",
        "colab": {
          "base_uri": "https://localhost:8080/",
          "height": 200
        },
        "outputId": "26381ba6-054b-4ea3-e398-69f1a57e2051"
      },
      "source": [
        "import pandas as pd\n",
        "\n",
        "left = pd.DataFrame({'key1': ['K0', 'K0', 'K1', 'K2'],\n",
        "                     'key2': ['K0', 'K1', 'K0', 'K1'],\n",
        "                     'A': ['A0', 'A1', 'A2', 'A3'],\n",
        "                     'B': ['B0', 'B1', 'B2', 'B3']})\n",
        "\n",
        "right = pd.DataFrame({'key1': ['K0', 'K1', 'K1', 'K2'],\n",
        "                      'key2': ['K0', 'K0', 'K0', 'K0'],\n",
        "                      'C': ['C0', 'C1', 'C2', 'C3'],\n",
        "                      'D': ['D0', 'D1', 'D2', 'D3']})\n",
        "\n",
        "df2 = pd.merge(left, right,how='outer')\n",
        "df2 = df2.dropna(subset=['A','B'])\n",
        "\n",
        "from IPython.display import HTML\n",
        "HTML(df2.to_html(index=False))\n"
      ],
      "execution_count": 157,
      "outputs": [
        {
          "output_type": "execute_result",
          "data": {
            "text/html": [
              "<table border=\"1\" class=\"dataframe\">\n",
              "  <thead>\n",
              "    <tr style=\"text-align: right;\">\n",
              "      <th>key1</th>\n",
              "      <th>key2</th>\n",
              "      <th>A</th>\n",
              "      <th>B</th>\n",
              "      <th>C</th>\n",
              "      <th>D</th>\n",
              "    </tr>\n",
              "  </thead>\n",
              "  <tbody>\n",
              "    <tr>\n",
              "      <td>K0</td>\n",
              "      <td>K0</td>\n",
              "      <td>A0</td>\n",
              "      <td>B0</td>\n",
              "      <td>C0</td>\n",
              "      <td>D0</td>\n",
              "    </tr>\n",
              "    <tr>\n",
              "      <td>K0</td>\n",
              "      <td>K1</td>\n",
              "      <td>A1</td>\n",
              "      <td>B1</td>\n",
              "      <td>NaN</td>\n",
              "      <td>NaN</td>\n",
              "    </tr>\n",
              "    <tr>\n",
              "      <td>K1</td>\n",
              "      <td>K0</td>\n",
              "      <td>A2</td>\n",
              "      <td>B2</td>\n",
              "      <td>C1</td>\n",
              "      <td>D1</td>\n",
              "    </tr>\n",
              "    <tr>\n",
              "      <td>K1</td>\n",
              "      <td>K0</td>\n",
              "      <td>A2</td>\n",
              "      <td>B2</td>\n",
              "      <td>C2</td>\n",
              "      <td>D2</td>\n",
              "    </tr>\n",
              "    <tr>\n",
              "      <td>K2</td>\n",
              "      <td>K1</td>\n",
              "      <td>A3</td>\n",
              "      <td>B3</td>\n",
              "      <td>NaN</td>\n",
              "      <td>NaN</td>\n",
              "    </tr>\n",
              "  </tbody>\n",
              "</table>"
            ],
            "text/plain": [
              "<IPython.core.display.HTML object>"
            ]
          },
          "metadata": {
            "tags": []
          },
          "execution_count": 157
        }
      ]
    },
    {
      "cell_type": "markdown",
      "metadata": {
        "id": "en0Q_b5L4fxA"
      },
      "source": [
        "## Grading\n",
        "\n",
        "이전 과제를 완료했다면, 아래의 코드를 실행하세요. "
      ]
    },
    {
      "cell_type": "code",
      "metadata": {
        "id": "1k3zn-YV4fdg"
      },
      "source": [
        "import numpy as np\n",
        "\n",
        "def grade(df, df2, df_tidy, res):\n",
        "  score = 0\n",
        "  score += (df['매출액'][2] == 5980)\n",
        "  score += (df['자산총계'][3] == 1897)   \n",
        "  score += (df2.equals(pd.DataFrame({\n",
        "    'key1' : ['K0', 'K0', 'K1', 'K1', 'K2'],\n",
        "    'key2' : ['K0', 'K1', 'K0', 'K0', 'K1'],\n",
        "    'A' : ['A0', 'A1', 'A2', 'A2', 'A3'],\n",
        "    'B' : ['B0', 'B1', 'B2', 'B2', 'B3'],\n",
        "    'C' : ['C0', np.NaN, 'C1', 'C2', np.NaN],\n",
        "    'D' : ['D0', np.NaN, 'D1', 'D2', np.NaN],\n",
        "  }))) \n",
        "  score += (res == 6)\n",
        "  score += (round(df_tidy['Value'].mean(), 3) == 7090.444)\n",
        "  return(score)"
      ],
      "execution_count": 166,
      "outputs": []
    },
    {
      "cell_type": "code",
      "metadata": {
        "id": "nj_RslFn4lCM",
        "colab": {
          "base_uri": "https://localhost:8080/"
        },
        "outputId": "40d6f7ae-b1c6-44fd-9cc0-dc45a59bacc8"
      },
      "source": [
        "grade(df, df2, df_tidy, res)"
      ],
      "execution_count": 167,
      "outputs": [
        {
          "output_type": "execute_result",
          "data": {
            "text/plain": [
              "5"
            ]
          },
          "metadata": {
            "tags": []
          },
          "execution_count": 167
        }
      ]
    },
    {
      "cell_type": "markdown",
      "metadata": {
        "id": "mnOuqL9K0dqh"
      },
      "source": [
        "## 🔥 도전과제"
      ]
    },
    {
      "cell_type": "markdown",
      "metadata": {
        "id": "GboSqR1qRoTO"
      },
      "source": [
        "아래 링크들을 참조하여, \n",
        "특정 테마별로 포함되어 있는 종목의 데이터를 직접 csv형태로 수집하고 (아래 적힌 3개씩)\n",
        "\n",
        "<https://finance.naver.com/sise/sise_group_detail.nhn?type=theme&no=408>\n",
        "\n",
        "<https://finance.naver.com/sise/sise_group_detail.nhn?type=theme&no=36>\n",
        "\n",
        "- 최종 분기에 해당하는 데이터\n",
        "\n",
        "- 테마별 평균 데이터를 결과물로 만드는 코드를 작성하세요.\n",
        "\n",
        "단, 모든 feature에 대해서가 아닌\n",
        "\n",
        "- 매출액\n",
        "- 자본총계\n",
        "- EPS\n",
        "\n",
        "에 대해서만 하면 됩니다.\n",
        "\n",
        "|종목명|매출액|자본총계|EPS|\n",
        "|:-:|:-:|:-:|:-:|\n",
        "|대한해운|...|...|...|...|\n",
        "|팬오션|...|...|...|...|\n",
        "|KSS해운|...|...|...|...|\n",
        "|세미콘라이트|...|...|...|...|\n",
        "|오성첨단소재|...|...|...|...|\n",
        "|에이아이비트|...|...|...|...|\n",
        "\n",
        "---\n",
        "\n",
        "|테마|매출액|자본총계|EPS|\n",
        "|:-:|:-:|:-:|:-:|\n",
        "|해운|...|...|...|\n",
        "|마리화나(대마)|...|...|...|\n",
        "\n",
        "이후 아래의 예시 처럼 seaborn을 사용하여 결과를 barplot으로 시각화하세요.\n",
        "\n",
        "단, 한글이 깨지는 에러를 여러분이 직접 고쳐야합니다."
      ]
    },
    {
      "cell_type": "code",
      "metadata": {
        "id": "eNTXIeslHCr4"
      },
      "source": [
        ""
      ],
      "execution_count": null,
      "outputs": []
    },
    {
      "cell_type": "code",
      "metadata": {
        "colab": {
          "base_uri": "https://localhost:8080/"
        },
        "id": "OvaPE3Bb0rOj",
        "outputId": "8ba812d4-fbce-4518-f51f-1d7ce0c817c5"
      },
      "source": [
        "import urllib.request\n",
        "import csv\n",
        "from bs4 import BeautifulSoup\n",
        "\n",
        "url_1 = 'https://finance.naver.com/sise/sise_group_detail.nhn?type=theme&no=36'\n",
        "html = urllib.request.urlopen(url_1).read()\n",
        "soup = BeautifulSoup(html,'html.parser')\n",
        "\n",
        "\n",
        "soup.select('div.box_type_l')\n"
      ],
      "execution_count": 215,
      "outputs": [
        {
          "output_type": "execute_result",
          "data": {
            "text/plain": [
              "[<div class=\"box_type_l\" style=\"margin-top:0\">\n",
              " <form name=\"field_form\">\n",
              " <input name=\"menu\" type=\"hidden\" value=\"theme\"/>\n",
              " <input name=\"returnUrl\" type=\"hidden\" value=\"http://finance.naver.com/sise/sise_group_detail.nhn?type=theme&amp;no=36\"/>\n",
              " <div class=\"subcnt_sise_item sub810\"><div class=\"subcnt_sise_item_top sub810t\">\n",
              " <table cellpadding=\"0\" cellspacing=\"0\" class=\"item_list\" summary=\"원하시는 항목을 선택하여 결과를 보실 수 있습니다.\">\n",
              " <caption>항목 선택표</caption>\n",
              " <col width=\"15%\"/><col width=\"15%\"/><col width=\"15%\"/><col width=\"15%\"/><col width=\"15%\"/><col width=\"15%\"/>\n",
              " <tr>\n",
              " <td class=\"choice\"><input checked=\"\" id=\"option1\" name=\"fieldIds\" type=\"checkbox\" value=\"quant\"/> <label for=\"option1\">거래량</label></td>\n",
              " <td class=\"choice\"><input checked=\"\" id=\"option2\" name=\"fieldIds\" type=\"checkbox\" value=\"ask_buy\"/> <label for=\"option2\">매수호가</label></td>\n",
              " <td class=\"choice\"><input checked=\"\" id=\"option3\" name=\"fieldIds\" type=\"checkbox\" value=\"amount\"/> <label for=\"option3\">거래대금</label>(백만)</td>\n",
              " <td><input id=\"option4\" name=\"fieldIds\" type=\"checkbox\" value=\"market_sum\"/> <label for=\"option4\">시가총액</label>(억)</td>\n",
              " <td><input id=\"option5\" name=\"fieldIds\" type=\"checkbox\" value=\"operating_profit\"/> <label for=\"option5\">영업이익</label>(억)</td>\n",
              " <td><input id=\"option6\" name=\"fieldIds\" type=\"checkbox\" value=\"per\"/> <label for=\"option6\">PER</label>(배)</td>\n",
              " </tr>\n",
              " <tr>\n",
              " <td><input id=\"option7\" name=\"fieldIds\" type=\"checkbox\" value=\"open_val\"/> <label for=\"option7\">시가</label></td>\n",
              " <td class=\"choice\"><input checked=\"\" id=\"option8\" name=\"fieldIds\" type=\"checkbox\" value=\"ask_sell\"/> <label for=\"option8\">매도호가</label></td>\n",
              " <td class=\"choice\"><input checked=\"\" id=\"option9\" name=\"fieldIds\" type=\"checkbox\" value=\"prev_quant\"/> <label for=\"option9\">전일거래량</label></td>\n",
              " <td><input id=\"option10\" name=\"fieldIds\" type=\"checkbox\" value=\"property_total\"/> <label for=\"option10\">자산총계</label>(억)</td>\n",
              " <td><input id=\"option11\" name=\"fieldIds\" type=\"checkbox\" value=\"operating_profit_increasing_rate\"/> <label for=\"option11\">영업이익증가율</label></td>\n",
              " <td><input id=\"option12\" name=\"fieldIds\" type=\"checkbox\" value=\"roe\"/> <label for=\"option12\">ROE</label>(%)</td>\n",
              " </tr>\n",
              " <tr>\n",
              " <td><input id=\"option13\" name=\"fieldIds\" type=\"checkbox\" value=\"high_val\"/> <label for=\"option13\">고가</label></td>\n",
              " <td><input id=\"option14\" name=\"fieldIds\" type=\"checkbox\" value=\"buy_total\"/> <label for=\"option14\">매수총잔량</label></td>\n",
              " <td><input id=\"option15\" name=\"fieldIds\" type=\"checkbox\" value=\"frgn_rate\"/> <label for=\"option15\">외국인비율</label></td>\n",
              " <td><input id=\"option16\" name=\"fieldIds\" type=\"checkbox\" value=\"debt_total\"/> <label for=\"option16\">부채총계</label>(억)</td>\n",
              " <td><input id=\"option17\" name=\"fieldIds\" type=\"checkbox\" value=\"net_income\"/> <label for=\"option17\">당기순이익</label>(억)</td>\n",
              " <td><input id=\"option18\" name=\"fieldIds\" type=\"checkbox\" value=\"roa\"/> <label for=\"option18\">ROA</label>(%)</td>\n",
              " </tr>\n",
              " <tr>\n",
              " <td><input id=\"option19\" name=\"fieldIds\" type=\"checkbox\" value=\"low_val\"/> <label for=\"option19\">저가</label></td>\n",
              " <td><input id=\"option20\" name=\"fieldIds\" type=\"checkbox\" value=\"sell_total\"/> <label for=\"option20\">매도총잔량</label></td>\n",
              " <td><input id=\"option21\" name=\"fieldIds\" type=\"checkbox\" value=\"listed_stock_cnt\"/> <label for=\"option21\">상장주식수</label>(천주)</td>\n",
              " <td><input id=\"option22\" name=\"fieldIds\" type=\"checkbox\" value=\"sales\"/> <label for=\"option22\">매출액</label>(억)</td>\n",
              " <td><input id=\"option23\" name=\"fieldIds\" type=\"checkbox\" value=\"eps\"/> <label for=\"option23\">주당순이익</label>(원)</td>\n",
              " <td><input id=\"option24\" name=\"fieldIds\" type=\"checkbox\" value=\"pbr\"/> <label for=\"option24\">PBR</label>(배)</td>\n",
              " </tr>\n",
              " <tr>\n",
              " <td> </td><td> </td><td> </td>\n",
              " <td><input id=\"option25\" name=\"fieldIds\" type=\"checkbox\" value=\"sales_increasing_rate\"/> <label for=\"option25\">매출액증가율</label></td>\n",
              " <td><input id=\"option26\" name=\"fieldIds\" type=\"checkbox\" value=\"dividend\"/> <label for=\"option26\">보통주배당금</label>(원)</td>\n",
              " <td><input id=\"option27\" name=\"fieldIds\" type=\"checkbox\" value=\"reserve_ratio\"/> <label for=\"option27\">유보율</label>(%)</td>\n",
              " </tr>\n",
              " </table>\n",
              " <div class=\"item_btn\">\n",
              " <a href=\"javascript:fieldSubmit()\"><img alt=\"적용하기\" height=\"18\" src=\"https://ssl.pstatic.net/imgstock/images5/btn_apply.gif\" width=\"55\"/></a><a href=\"javascript:fieldDefault()\"><img alt=\"초기항 목으로\" height=\"18\" src=\"https://ssl.pstatic.net/imgstock/images5/btn_initialize.gif\" width=\"76\"/></a>\n",
              " </div>\n",
              " </div></div>\n",
              " </form></div>, <div class=\"box_type_l\">\n",
              " <table cellpadding=\"0\" cellspacing=\"0\" class=\"type_5\" style=\"margin:0 0 10px 0 ;\" summary=\"업종별 시세 리스트\">\n",
              " <caption>업종별 시세</caption>\n",
              " <colgroup>\n",
              " <col width=\"*\"/>\n",
              " <col width=\"11%\"/>\n",
              " <col width=\"9%\"/>\n",
              " <col width=\"9%\"/>\n",
              " <col width=\"8%\"/>\n",
              " <col width=\"8%\"/>\n",
              " <col width=\"8%\"/>\n",
              " <col width=\"8%\"/>\n",
              " <col width=\"8%\"/>\n",
              " <col width=\"6%\"/>\n",
              " </colgroup>\n",
              " <thead>\n",
              " <tr style=\"height:29px\">\n",
              " <th colspan=\"2\">종목명</th>\n",
              " <th>현재가</th>\n",
              " <th>전일비</th>\n",
              " <th>등락률</th>\n",
              " <th>매수호가</th>\n",
              " <th>매도호가</th>\n",
              " <th>거래량</th>\n",
              " <th>거래대금</th>\n",
              " <th>전일거래량</th>\n",
              " <th>토론실</th>\n",
              " </tr>\n",
              " <tr>\n",
              " <td class=\"blank_09\" colspan=\"12\"></td>\n",
              " </tr>\n",
              " </thead>\n",
              " <tbody>\n",
              " <tr onmouseout=\"mouseOut(this)\" onmouseover=\"mouseOver(this)\">\n",
              " <td class=\"name\"><div class=\"name_area\"><a href=\"/item/main.nhn?code=011200\">HMM</a> <span class=\"dot\"></span></div></td>\n",
              " <td>\n",
              " <div class=\"theme_info_area\">\n",
              " <a class=\"btn_history\" href=\"javascript:;\" onmouseout=\"mouseThemeToggle(this)\" onmouseover=\"mouseThemeToggle(this)\">\n",
              " <span class=\"blind\">테마 편입 사유</span>\n",
              " </a>\n",
              " <div class=\"info_layer_wrap\" style=\"display:none;\" tabindex=\"0\">\n",
              " <strong class=\"info_title\">HMM</strong>\n",
              " <p class=\"info_txt\">국내 대표적인 컨테이너 선사로 컨테이너선, 벌크선(LNG/LPG선, 원유선) 등을 운영.</p>\n",
              " </div>\n",
              " </div>\n",
              " </td>\n",
              " <td class=\"number\" style=\"padding-right:15px;\">44,200</td>\n",
              " <td class=\"number\" style=\"padding-right:15px;\">\n",
              " <img alt=\"상승\" height=\"6\" src=\"https://ssl.pstatic.net/imgstock/images/images4/ico_up.gif\" style=\"margin-right:4px;\" width=\"7\"/><span class=\"tah p11 red02\">\n",
              " \t\t\t\t1,600\n",
              " \t\t\t\t</span>\n",
              " </td>\n",
              " <td class=\"number\" style=\"padding-right:20px;\">\n",
              " <span class=\"tah p11 red01\">\n",
              " \t\t\t\t+3.76%\n",
              " \t\t\t\t</span>\n",
              " </td>\n",
              " <td class=\"number\" style=\"padding-right:20px;\">44,150</td>\n",
              " <td class=\"number\" style=\"padding-right:20px;\">44,200</td>\n",
              " <td class=\"number\" style=\"padding-right:20px;\">17,613,386</td>\n",
              " <td class=\"number\" style=\"padding-right:20px;\">760,223</td>\n",
              " <td class=\"number\" style=\"padding-right:20px;\">20,814,694</td>\n",
              " <td class=\"center\"><a href=\"/item/board.nhn?code=011200\"><img alt=\"토론실\" height=\"13\" src=\"https://ssl.pstatic.net/imgstock/images5/ico_debatebl2.gif\" width=\"15\"/></a></td>\n",
              " </tr>\n",
              " <tr onmouseout=\"mouseOut(this)\" onmouseover=\"mouseOver(this)\">\n",
              " <td class=\"name\"><div class=\"name_area\"><a href=\"/item/main.nhn?code=003280\">흥아해운</a> <span class=\"dot\"></span></div></td>\n",
              " <td>\n",
              " <div class=\"theme_info_area\">\n",
              " <a class=\"btn_history\" href=\"javascript:;\" onmouseout=\"mouseThemeToggle(this)\" onmouseover=\"mouseThemeToggle(this)\">\n",
              " <span class=\"blind\">테마 편입 사유</span>\n",
              " </a>\n",
              " <div class=\"info_layer_wrap\" style=\"display:none;\" tabindex=\"0\">\n",
              " <strong class=\"info_title\">흥아해운</strong>\n",
              " <p class=\"info_txt\">동남아, 일본, 중국 등 아시아지역노선 중심의 컨테이너 전문선사. 아시아지역 내에서의 해상컨테이너 화물운송 및 액체석유화학제품 운송을 주업으로 하고 있음.</p>\n",
              " </div>\n",
              " </div>\n",
              " </td>\n",
              " <td class=\"number\" style=\"padding-right:15px;\">258</td>\n",
              " <td class=\"number\" style=\"padding-right:15px;\">\n",
              " <span class=\"tah p11\">0</span>\n",
              " </td>\n",
              " <td class=\"number\" style=\"padding-right:20px;\">\n",
              " <span class=\"tah p11\">0.00%</span>\n",
              " </td>\n",
              " <td class=\"number\" style=\"padding-right:20px;\">0</td>\n",
              " <td class=\"number\" style=\"padding-right:20px;\">0</td>\n",
              " <td class=\"number\" style=\"padding-right:20px;\">0</td>\n",
              " <td class=\"number\" style=\"padding-right:20px;\">0</td>\n",
              " <td class=\"number\" style=\"padding-right:20px;\">0</td>\n",
              " <td class=\"center\"><a href=\"/item/board.nhn?code=003280\"><img alt=\"토론실\" height=\"13\" src=\"https://ssl.pstatic.net/imgstock/images5/ico_debatebl2.gif\" width=\"15\"/></a></td>\n",
              " </tr>\n",
              " <tr onmouseout=\"mouseOut(this)\" onmouseover=\"mouseOver(this)\">\n",
              " <td class=\"name\"><div class=\"name_area\"><a href=\"/item/main.nhn?code=028670\">팬오션</a> <span class=\"dot\"></span></div></td>\n",
              " <td>\n",
              " <div class=\"theme_info_area\">\n",
              " <a class=\"btn_history\" href=\"javascript:;\" onmouseout=\"mouseThemeToggle(this)\" onmouseover=\"mouseThemeToggle(this)\">\n",
              " <span class=\"blind\">테마 편입 사유</span>\n",
              " </a>\n",
              " <div class=\"info_layer_wrap\" style=\"display:none;\" tabindex=\"0\">\n",
              " <strong class=\"info_title\">팬오션</strong>\n",
              " <p class=\"info_txt\">하림그룹 계열의 국내 대표적인 벌크선사. 철광석, 석탄, 곡물 등을 운송하는 벌크선 부문의 매출 비중이 높음. 그 밖에 컨테이너선 서비스, 탱커선 서비스, LNG운송 서비스 등 다양한 해상운송 서비스를 제공.</p>\n",
              " </div>\n",
              " </div>\n",
              " </td>\n",
              " <td class=\"number\" style=\"padding-right:15px;\">7,390</td>\n",
              " <td class=\"number\" style=\"padding-right:15px;\">\n",
              " <img alt=\"하락\" height=\"6\" src=\"https://ssl.pstatic.net/imgstock/images/images4/ico_down.gif\" style=\"margin-right:4px;\" width=\"7\"/><span class=\"tah p11 nv01\">\n",
              " \t\t\t\t50\n",
              " \t\t\t\t</span>\n",
              " </td>\n",
              " <td class=\"number\" style=\"padding-right:20px;\">\n",
              " <span class=\"tah p11 nv01\">\n",
              " \t\t\t\t-0.67%\n",
              " \t\t\t\t</span>\n",
              " </td>\n",
              " <td class=\"number\" style=\"padding-right:20px;\">7,390</td>\n",
              " <td class=\"number\" style=\"padding-right:20px;\">7,400</td>\n",
              " <td class=\"number\" style=\"padding-right:20px;\">10,032,583</td>\n",
              " <td class=\"number\" style=\"padding-right:20px;\">73,923</td>\n",
              " <td class=\"number\" style=\"padding-right:20px;\">20,286,260</td>\n",
              " <td class=\"center\"><a href=\"/item/board.nhn?code=028670\"><img alt=\"토론실\" height=\"13\" src=\"https://ssl.pstatic.net/imgstock/images5/ico_debatebl2.gif\" width=\"15\"/></a></td>\n",
              " </tr>\n",
              " <tr onmouseout=\"mouseOut(this)\" onmouseover=\"mouseOver(this)\">\n",
              " <td class=\"name\"><div class=\"name_area\"><a href=\"/item/main.nhn?code=005880\">대한해운</a> <span class=\"dot\"></span></div></td>\n",
              " <td>\n",
              " <div class=\"theme_info_area\">\n",
              " <a class=\"btn_history\" href=\"javascript:;\" onmouseout=\"mouseThemeToggle(this)\" onmouseover=\"mouseThemeToggle(this)\">\n",
              " <span class=\"blind\">테마 편입 사유</span>\n",
              " </a>\n",
              " <div class=\"info_layer_wrap\" style=\"display:none;\" tabindex=\"0\">\n",
              " <strong class=\"info_title\">대한해운</strong>\n",
              " <p class=\"info_txt\">철광석, 석탄, 천연가스, 원유 등의 에너지 및 자원을 전문적으로 수송하는 대표적인 벌크선사로 LNG선, 탱커선, 컨테이너선 등의 해운업 영위업체. 포스코, 한국가스공사, 한국전력 등이 주요 거래처.</p>\n",
              " </div>\n",
              " </div>\n",
              " </td>\n",
              " <td class=\"number\" style=\"padding-right:15px;\">3,535</td>\n",
              " <td class=\"number\" style=\"padding-right:15px;\">\n",
              " <img alt=\"하락\" height=\"6\" src=\"https://ssl.pstatic.net/imgstock/images/images4/ico_down.gif\" style=\"margin-right:4px;\" width=\"7\"/><span class=\"tah p11 nv01\">\n",
              " \t\t\t\t25\n",
              " \t\t\t\t</span>\n",
              " </td>\n",
              " <td class=\"number\" style=\"padding-right:20px;\">\n",
              " <span class=\"tah p11 nv01\">\n",
              " \t\t\t\t-0.70%\n",
              " \t\t\t\t</span>\n",
              " </td>\n",
              " <td class=\"number\" style=\"padding-right:20px;\">3,530</td>\n",
              " <td class=\"number\" style=\"padding-right:20px;\">3,535</td>\n",
              " <td class=\"number\" style=\"padding-right:20px;\">5,135,457</td>\n",
              " <td class=\"number\" style=\"padding-right:20px;\">18,043</td>\n",
              " <td class=\"number\" style=\"padding-right:20px;\">7,487,766</td>\n",
              " <td class=\"center\"><a href=\"/item/board.nhn?code=005880\"><img alt=\"토론실\" height=\"13\" src=\"https://ssl.pstatic.net/imgstock/images5/ico_debatebl2.gif\" width=\"15\"/></a></td>\n",
              " </tr>\n",
              " <tr onmouseout=\"mouseOut(this)\" onmouseover=\"mouseOver(this)\">\n",
              " <td class=\"name\"><div class=\"name_area\"><a href=\"/item/main.nhn?code=044450\">KSS해운</a> <span class=\"dot\"></span></div></td>\n",
              " <td>\n",
              " <div class=\"theme_info_area\">\n",
              " <a class=\"btn_history\" href=\"javascript:;\" onmouseout=\"mouseThemeToggle(this)\" onmouseover=\"mouseThemeToggle(this)\">\n",
              " <span class=\"blind\">테마 편입 사유</span>\n",
              " </a>\n",
              " <div class=\"info_layer_wrap\" style=\"display:none;\" tabindex=\"0\">\n",
              " <strong class=\"info_title\">KSS해운</strong>\n",
              " <p class=\"info_txt\">LPG, 석유화학제품 원료 등을 전문으로 운반하는 해운업체. 케미칼화물(MEG, BZ, CUMENE 등) 및 가스화물(LPG,  NH₃, VCM 등) 등 석유화학의 특수화물 선박운송사업을 주력 사업으로 영위. 특히, LPG와 암모니아 가스를 운송하는 대형 가스운반선 부문에서는 아시아 굴지의 선단을 보유. </p>\n",
              " </div>\n",
              " </div>\n",
              " </td>\n",
              " <td class=\"number\" style=\"padding-right:15px;\">12,600</td>\n",
              " <td class=\"number\" style=\"padding-right:15px;\">\n",
              " <img alt=\"하락\" height=\"6\" src=\"https://ssl.pstatic.net/imgstock/images/images4/ico_down.gif\" style=\"margin-right:4px;\" width=\"7\"/><span class=\"tah p11 nv01\">\n",
              " \t\t\t\t200\n",
              " \t\t\t\t</span>\n",
              " </td>\n",
              " <td class=\"number\" style=\"padding-right:20px;\">\n",
              " <span class=\"tah p11 nv01\">\n",
              " \t\t\t\t-1.56%\n",
              " \t\t\t\t</span>\n",
              " </td>\n",
              " <td class=\"number\" style=\"padding-right:20px;\">12,600</td>\n",
              " <td class=\"number\" style=\"padding-right:20px;\">12,700</td>\n",
              " <td class=\"number\" style=\"padding-right:20px;\">249,683</td>\n",
              " <td class=\"number\" style=\"padding-right:20px;\">3,171</td>\n",
              " <td class=\"number\" style=\"padding-right:20px;\">425,335</td>\n",
              " <td class=\"center\"><a href=\"/item/board.nhn?code=044450\"><img alt=\"토론실\" height=\"13\" src=\"https://ssl.pstatic.net/imgstock/images5/ico_debatebl2.gif\" width=\"15\"/></a></td>\n",
              " </tr>\n",
              " <tr><td class=\"blank_09\" colspan=\"12\"></td></tr>\n",
              " <tr><td class=\"division_line_1\" colspan=\"12\"></td></tr>\n",
              " </tbody>\n",
              " </table>\n",
              " <div class=\"common_btn\">\n",
              " <span class=\"sise_guide_txt\"><em>※</em> * 는 <span class=\"org\">코스닥</span> <span>종목</span>입니다.</span>\n",
              " <div class=\"sise_btn_array btn_martop\"><a href=\"theme.nhn\"><img alt=\"테마별시세전체보기\" border=\"0\" height=\"23\" src=\"https://ssl.pstatic.net/imgstock/images5/btn_theme_all.gif\" valign=\"\" width=\"121\"/></a></div>\n",
              " </div>\n",
              " </div>]"
            ]
          },
          "metadata": {
            "tags": []
          },
          "execution_count": 215
        }
      ]
    },
    {
      "cell_type": "code",
      "metadata": {
        "id": "M0MphZTP0q9q"
      },
      "source": [
        ""
      ],
      "execution_count": null,
      "outputs": []
    },
    {
      "cell_type": "code",
      "metadata": {
        "id": "-v3zKhfZ0pIV"
      },
      "source": [
        ""
      ],
      "execution_count": null,
      "outputs": []
    },
    {
      "cell_type": "code",
      "metadata": {
        "id": "B-QNMrVkYap4"
      },
      "source": [
        "import pandas as pd\n",
        "import seaborn as sns\n",
        "\n",
        "dat = pd.DataFrame({\n",
        "    'name' : ['해운', '대마'],\n",
        "    'value' : [10000,5000]\n",
        "})"
      ],
      "execution_count": null,
      "outputs": []
    },
    {
      "cell_type": "code",
      "metadata": {
        "id": "Q4b0xOpfzaae"
      },
      "source": [
        "import pandas as pd\n",
        "import seaborn as sns\n",
        "\n",
        "dat = pd.DataFrame({\n",
        "    'name' : ['해운', '대마'],\n",
        "    'value' : [10000,5000]\n",
        "})"
      ],
      "execution_count": null,
      "outputs": []
    },
    {
      "cell_type": "code",
      "metadata": {
        "colab": {
          "base_uri": "https://localhost:8080/",
          "height": 551
        },
        "id": "-kc-K-Dqzaak",
        "outputId": "42d5e94e-6501-4987-c742-e444cdd70622"
      },
      "source": [
        "sns.barplot(x = 'name', y = 'value', data = dat);"
      ],
      "execution_count": null,
      "outputs": [
        {
          "output_type": "stream",
          "text": [
            "/usr/local/lib/python3.6/dist-packages/matplotlib/backends/backend_agg.py:214: RuntimeWarning: Glyph 54644 missing from current font.\n",
            "  font.set_text(s, 0.0, flags=flags)\n",
            "/usr/local/lib/python3.6/dist-packages/matplotlib/backends/backend_agg.py:214: RuntimeWarning: Glyph 50868 missing from current font.\n",
            "  font.set_text(s, 0.0, flags=flags)\n",
            "/usr/local/lib/python3.6/dist-packages/matplotlib/backends/backend_agg.py:214: RuntimeWarning: Glyph 45824 missing from current font.\n",
            "  font.set_text(s, 0.0, flags=flags)\n",
            "/usr/local/lib/python3.6/dist-packages/matplotlib/backends/backend_agg.py:214: RuntimeWarning: Glyph 47560 missing from current font.\n",
            "  font.set_text(s, 0.0, flags=flags)\n",
            "/usr/local/lib/python3.6/dist-packages/matplotlib/backends/backend_agg.py:183: RuntimeWarning: Glyph 54644 missing from current font.\n",
            "  font.set_text(s, 0, flags=flags)\n",
            "/usr/local/lib/python3.6/dist-packages/matplotlib/backends/backend_agg.py:183: RuntimeWarning: Glyph 50868 missing from current font.\n",
            "  font.set_text(s, 0, flags=flags)\n",
            "/usr/local/lib/python3.6/dist-packages/matplotlib/backends/backend_agg.py:183: RuntimeWarning: Glyph 45824 missing from current font.\n",
            "  font.set_text(s, 0, flags=flags)\n",
            "/usr/local/lib/python3.6/dist-packages/matplotlib/backends/backend_agg.py:183: RuntimeWarning: Glyph 47560 missing from current font.\n",
            "  font.set_text(s, 0, flags=flags)\n"
          ],
          "name": "stderr"
        },
        {
          "output_type": "display_data",
          "data": {
            "image/png": "[encoded data removed]",
            "text/plain": [
              "<Figure size 432x288 with 1 Axes>"
            ]
          },
          "metadata": {
            "tags": [],
            "needs_background": "light"
          }
        }
      ]
    }
  ]
}
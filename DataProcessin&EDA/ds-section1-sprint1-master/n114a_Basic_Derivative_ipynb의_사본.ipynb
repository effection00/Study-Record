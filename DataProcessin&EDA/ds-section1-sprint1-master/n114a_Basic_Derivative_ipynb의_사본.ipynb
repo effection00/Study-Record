{
  "nbformat": 4,
  "nbformat_minor": 0,
  "metadata": {
    "colab": {
      "name": "n114a-Basic Derivative.ipynb의 사본",
      "provenance": [],
      "include_colab_link": true
    },
    "kernelspec": {
      "display_name": "Python 3",
      "language": "python",
      "name": "python3"
    },
    "language_info": {
      "codemirror_mode": {
        "name": "ipython",
        "version": 3
      },
      "file_extension": ".py",
      "mimetype": "text/x-python",
      "name": "python",
      "nbconvert_exporter": "python",
      "pygments_lexer": "ipython3",
      "version": "3.8.2"
    }
  },
  "cells": [
    {
      "cell_type": "markdown",
      "metadata": {
        "id": "view-in-github",
        "colab_type": "text"
      },
      "source": [
        "<a href=\"https://colab.research.google.com/github/effection00/ds-section1-sprint1/blob/master/n114a_Basic_Derivative_ipynb%EC%9D%98_%EC%82%AC%EB%B3%B8.ipynb\" target=\"_parent\"><img src=\"https://colab.research.google.com/assets/colab-badge.svg\" alt=\"Open In Colab\"/></a>"
      ]
    },
    {
      "cell_type": "markdown",
      "metadata": {
        "id": "G5hwlPlsGega"
      },
      "source": [
        "<img src='https://i.imgur.com/RDAD11M.png' width = '200' align = 'right'>\n",
        "\n",
        "## *DATA SCIENCE / SECTION 1 / SPRINT 1 / NOTE 4*\n",
        "\n",
        "---\n",
        "\n",
        "# 📝 Assignment\n",
        "\n"
      ]
    },
    {
      "cell_type": "markdown",
      "metadata": {
        "id": "QVZUXRqZpf_q"
      },
      "source": [
        "## 1. Dataset 불러오기\n",
        "> seaborn 라이브러리의 load_dataset()을 활용해서 iris 데이터셋을 데이터프레임으로 불러옵니다. 데이터프레임의 이름은 df_iris로 합니다. <br>\n",
        "> df_iris의 shape의 **첫번째 값을 두번째 값으로 나눈 값**을 `res1`에 저장하세요"
      ]
    },
    {
      "cell_type": "code",
      "metadata": {
        "id": "UTIgOR7fpf_r",
        "colab": {
          "base_uri": "https://localhost:8080/",
          "height": 419
        },
        "outputId": "64e24ad2-35dd-4caf-8e3b-399a5d3ad110"
      },
      "source": [
        "import seaborn as sns\n",
        "import numpy as np\n",
        "np.random.seed(42)\n",
        "\n",
        "df_iris = sns.load_dataset('iris')\n",
        "\n",
        "res1 = df_iris.shape[0]/df_iris.shape[1]\n",
        "res1\n",
        "df_iris"
      ],
      "execution_count": 399,
      "outputs": [
        {
          "output_type": "execute_result",
          "data": {
            "text/html": [
              "<div>\n",
              "<style scoped>\n",
              "    .dataframe tbody tr th:only-of-type {\n",
              "        vertical-align: middle;\n",
              "    }\n",
              "\n",
              "    .dataframe tbody tr th {\n",
              "        vertical-align: top;\n",
              "    }\n",
              "\n",
              "    .dataframe thead th {\n",
              "        text-align: right;\n",
              "    }\n",
              "</style>\n",
              "<table border=\"1\" class=\"dataframe\">\n",
              "  <thead>\n",
              "    <tr style=\"text-align: right;\">\n",
              "      <th></th>\n",
              "      <th>sepal_length</th>\n",
              "      <th>sepal_width</th>\n",
              "      <th>petal_length</th>\n",
              "      <th>petal_width</th>\n",
              "      <th>species</th>\n",
              "    </tr>\n",
              "  </thead>\n",
              "  <tbody>\n",
              "    <tr>\n",
              "      <th>0</th>\n",
              "      <td>5.10000</td>\n",
              "      <td>3.50000</td>\n",
              "      <td>1.40000</td>\n",
              "      <td>0.20000</td>\n",
              "      <td>setosa</td>\n",
              "    </tr>\n",
              "    <tr>\n",
              "      <th>1</th>\n",
              "      <td>4.90000</td>\n",
              "      <td>3.00000</td>\n",
              "      <td>1.40000</td>\n",
              "      <td>0.20000</td>\n",
              "      <td>setosa</td>\n",
              "    </tr>\n",
              "    <tr>\n",
              "      <th>2</th>\n",
              "      <td>4.70000</td>\n",
              "      <td>3.20000</td>\n",
              "      <td>1.30000</td>\n",
              "      <td>0.20000</td>\n",
              "      <td>setosa</td>\n",
              "    </tr>\n",
              "    <tr>\n",
              "      <th>3</th>\n",
              "      <td>4.60000</td>\n",
              "      <td>3.10000</td>\n",
              "      <td>1.50000</td>\n",
              "      <td>0.20000</td>\n",
              "      <td>setosa</td>\n",
              "    </tr>\n",
              "    <tr>\n",
              "      <th>4</th>\n",
              "      <td>5.00000</td>\n",
              "      <td>3.60000</td>\n",
              "      <td>1.40000</td>\n",
              "      <td>0.20000</td>\n",
              "      <td>setosa</td>\n",
              "    </tr>\n",
              "    <tr>\n",
              "      <th>...</th>\n",
              "      <td>...</td>\n",
              "      <td>...</td>\n",
              "      <td>...</td>\n",
              "      <td>...</td>\n",
              "      <td>...</td>\n",
              "    </tr>\n",
              "    <tr>\n",
              "      <th>145</th>\n",
              "      <td>6.70000</td>\n",
              "      <td>3.00000</td>\n",
              "      <td>5.20000</td>\n",
              "      <td>2.30000</td>\n",
              "      <td>virginica</td>\n",
              "    </tr>\n",
              "    <tr>\n",
              "      <th>146</th>\n",
              "      <td>6.30000</td>\n",
              "      <td>2.50000</td>\n",
              "      <td>5.00000</td>\n",
              "      <td>1.90000</td>\n",
              "      <td>virginica</td>\n",
              "    </tr>\n",
              "    <tr>\n",
              "      <th>147</th>\n",
              "      <td>6.50000</td>\n",
              "      <td>3.00000</td>\n",
              "      <td>5.20000</td>\n",
              "      <td>2.00000</td>\n",
              "      <td>virginica</td>\n",
              "    </tr>\n",
              "    <tr>\n",
              "      <th>148</th>\n",
              "      <td>6.20000</td>\n",
              "      <td>3.40000</td>\n",
              "      <td>5.40000</td>\n",
              "      <td>2.30000</td>\n",
              "      <td>virginica</td>\n",
              "    </tr>\n",
              "    <tr>\n",
              "      <th>149</th>\n",
              "      <td>5.90000</td>\n",
              "      <td>3.00000</td>\n",
              "      <td>5.10000</td>\n",
              "      <td>1.80000</td>\n",
              "      <td>virginica</td>\n",
              "    </tr>\n",
              "  </tbody>\n",
              "</table>\n",
              "<p>150 rows × 5 columns</p>\n",
              "</div>"
            ],
            "text/plain": [
              "     sepal_length  sepal_width  petal_length  petal_width    species\n",
              "0         5.10000      3.50000       1.40000      0.20000     setosa\n",
              "1         4.90000      3.00000       1.40000      0.20000     setosa\n",
              "2         4.70000      3.20000       1.30000      0.20000     setosa\n",
              "3         4.60000      3.10000       1.50000      0.20000     setosa\n",
              "4         5.00000      3.60000       1.40000      0.20000     setosa\n",
              "..            ...          ...           ...          ...        ...\n",
              "145       6.70000      3.00000       5.20000      2.30000  virginica\n",
              "146       6.30000      2.50000       5.00000      1.90000  virginica\n",
              "147       6.50000      3.00000       5.20000      2.00000  virginica\n",
              "148       6.20000      3.40000       5.40000      2.30000  virginica\n",
              "149       5.90000      3.00000       5.10000      1.80000  virginica\n",
              "\n",
              "[150 rows x 5 columns]"
            ]
          },
          "metadata": {
            "tags": []
          },
          "execution_count": 399
        }
      ]
    },
    {
      "cell_type": "markdown",
      "metadata": {
        "id": "giAMU88Ypf_s"
      },
      "source": [
        "## 2. X 구하기\n",
        "> df_iris에서 sepal_length만 남겨주세요. 그리고 sepal_length 칼럼의 이름은 x로 바꿉니다"
      ]
    },
    {
      "cell_type": "code",
      "metadata": {
        "id": "IdeG-meDpf_s",
        "colab": {
          "base_uri": "https://localhost:8080/",
          "height": 419
        },
        "outputId": "9a3a2938-899e-4197-cb7c-20e366f22a41"
      },
      "source": [
        "df_iris = df_iris.iloc[0:, 0:1]\n",
        "df_iris.rename(columns={'sepal_length':'x'},inplace=True)\n",
        "df_iris"
      ],
      "execution_count": 400,
      "outputs": [
        {
          "output_type": "execute_result",
          "data": {
            "text/html": [
              "<div>\n",
              "<style scoped>\n",
              "    .dataframe tbody tr th:only-of-type {\n",
              "        vertical-align: middle;\n",
              "    }\n",
              "\n",
              "    .dataframe tbody tr th {\n",
              "        vertical-align: top;\n",
              "    }\n",
              "\n",
              "    .dataframe thead th {\n",
              "        text-align: right;\n",
              "    }\n",
              "</style>\n",
              "<table border=\"1\" class=\"dataframe\">\n",
              "  <thead>\n",
              "    <tr style=\"text-align: right;\">\n",
              "      <th></th>\n",
              "      <th>x</th>\n",
              "    </tr>\n",
              "  </thead>\n",
              "  <tbody>\n",
              "    <tr>\n",
              "      <th>0</th>\n",
              "      <td>5.10000</td>\n",
              "    </tr>\n",
              "    <tr>\n",
              "      <th>1</th>\n",
              "      <td>4.90000</td>\n",
              "    </tr>\n",
              "    <tr>\n",
              "      <th>2</th>\n",
              "      <td>4.70000</td>\n",
              "    </tr>\n",
              "    <tr>\n",
              "      <th>3</th>\n",
              "      <td>4.60000</td>\n",
              "    </tr>\n",
              "    <tr>\n",
              "      <th>4</th>\n",
              "      <td>5.00000</td>\n",
              "    </tr>\n",
              "    <tr>\n",
              "      <th>...</th>\n",
              "      <td>...</td>\n",
              "    </tr>\n",
              "    <tr>\n",
              "      <th>145</th>\n",
              "      <td>6.70000</td>\n",
              "    </tr>\n",
              "    <tr>\n",
              "      <th>146</th>\n",
              "      <td>6.30000</td>\n",
              "    </tr>\n",
              "    <tr>\n",
              "      <th>147</th>\n",
              "      <td>6.50000</td>\n",
              "    </tr>\n",
              "    <tr>\n",
              "      <th>148</th>\n",
              "      <td>6.20000</td>\n",
              "    </tr>\n",
              "    <tr>\n",
              "      <th>149</th>\n",
              "      <td>5.90000</td>\n",
              "    </tr>\n",
              "  </tbody>\n",
              "</table>\n",
              "<p>150 rows × 1 columns</p>\n",
              "</div>"
            ],
            "text/plain": [
              "          x\n",
              "0   5.10000\n",
              "1   4.90000\n",
              "2   4.70000\n",
              "3   4.60000\n",
              "4   5.00000\n",
              "..      ...\n",
              "145 6.70000\n",
              "146 6.30000\n",
              "147 6.50000\n",
              "148 6.20000\n",
              "149 5.90000\n",
              "\n",
              "[150 rows x 1 columns]"
            ]
          },
          "metadata": {
            "tags": []
          },
          "execution_count": 400
        }
      ]
    },
    {
      "cell_type": "markdown",
      "metadata": {
        "id": "az0kx_sxHYri"
      },
      "source": [
        "## 3. 기초 미분\n",
        "\n",
        "다음 함수를 미분한 도함수를 구한 후에 num_one 함수를 완성하세요. \n",
        "$f(x) = 4x^5 + 9x^3 + ex^2 - 7$\n",
        "\n",
        "- num_one 함수를 x에 적용한 후에 **derivative_one**이라는 칼럼으로 df_iris에 저장합니다. (Hint : df.apply)\n",
        "- derivative_one 칼럼의 합을 `res2`에 저장합니다 (소수점 세자리까지)"
      ]
    },
    {
      "cell_type": "code",
      "metadata": {
        "id": "J5ha7GquLbCo",
        "colab": {
          "base_uri": "https://localhost:8080/",
          "height": 35
        },
        "outputId": "6740a244-1704-42f8-ff33-2ddd1fa3658a"
      },
      "source": [
        "import pandas as pd\n",
        "from math import e  #e 인식 모듈\n",
        "from scipy.misc import derivative\n",
        "\n",
        "\n",
        "def num_one(x):\n",
        "    return 4*(x**5) + 9*(x**3) + e*(x**2) - 7 \n",
        "\n",
        "def numerical_derivative(fx, x):\n",
        "    delta_x = 1e-5\n",
        "    return (fx(x + delta_x) - fx(x)) / delta_x\n",
        "\n",
        "res2 = derivative(num_one,df_iris['x'], dx=1e-5).sum()\n",
        "res2= format(res2, \".3f\")\n",
        "res2 "
      ],
      "execution_count": 411,
      "outputs": [
        {
          "output_type": "execute_result",
          "data": {
            "application/vnd.google.colaboratory.intrinsic+json": {
              "type": "string"
            },
            "text/plain": [
              "'4077643.108'"
            ]
          },
          "metadata": {
            "tags": []
          },
          "execution_count": 411
        }
      ]
    },
    {
      "cell_type": "markdown",
      "metadata": {
        "id": "BPJt3qZFpf_u"
      },
      "source": [
        "- 이번에는 scipy의 [derivative](https://docs.scipy.org/doc/scipy/reference/generated/scipy.misc.derivative.html)를 활용하여 **derivative_two** 칼럼으로 저장하세요.\n",
        "  - dx는 1e-7로 설정합니다.\n",
        "- derivative_two 칼럼의 합을 `res3`에 저장합니다 (소수점 세자리까지)"
      ]
    },
    {
      "cell_type": "code",
      "metadata": {
        "id": "StNhn9mBpf_u",
        "colab": {
          "base_uri": "https://localhost:8080/",
          "height": 35
        },
        "outputId": "ea637500-549b-439f-fb78-caeef49dca1e"
      },
      "source": [
        "import pandas as pd\n",
        "from math import e ,sin #e 인식 모듈\n",
        "from scipy.misc import derivative\n",
        "\n",
        "# 이곳에 답안을 작성해주시기 바랍니다\n",
        "df_iris['derivative_two'] = derivative(num_one,df_iris['x'],dx = 1e-7)\n",
        "res3 = df_iris['derivative_two'].sum()\n",
        "res3 = format(res3, \".3f\")\n",
        "res3"
      ],
      "execution_count": 412,
      "outputs": [
        {
          "output_type": "execute_result",
          "data": {
            "application/vnd.google.colaboratory.intrinsic+json": {
              "type": "string"
            },
            "text/plain": [
              "'4077643.121'"
            ]
          },
          "metadata": {
            "tags": []
          },
          "execution_count": 412
        }
      ]
    },
    {
      "cell_type": "code",
      "metadata": {
        "colab": {
          "base_uri": "https://localhost:8080/"
        },
        "id": "7gZGVRppwok4",
        "outputId": "1e72ed04-3327-4e90-8473-4c408fa28628"
      },
      "source": [
        "derivative(num_one, df_iris['x'].apply(float) ,dx = 1e-7)"
      ],
      "execution_count": 413,
      "outputs": [
        {
          "output_type": "execute_result",
          "data": {
            "text/plain": [
              "0     14260.39850\n",
              "1     12204.51119\n",
              "2     10381.34387\n",
              "3      9551.24022\n",
              "4     13202.18286\n",
              "          ...    \n",
              "145   41550.69710\n",
              "146   32611.80249\n",
              "147   36877.33773\n",
              "148   30624.25880\n",
              "149   25206.66778\n",
              "Name: x, Length: 150, dtype: float64"
            ]
          },
          "metadata": {
            "tags": []
          },
          "execution_count": 413
        }
      ]
    },
    {
      "cell_type": "markdown",
      "metadata": {
        "id": "U9KQrjt3I66h"
      },
      "source": [
        "## 4. 미분 연습\n",
        ">아래의 함수들을 미분한 후에 **x = 5**일 때의 결과값을 `res4`, `res5`, `res6`, `res7`에 저장하세요. "
      ]
    },
    {
      "cell_type": "markdown",
      "metadata": {
        "id": "SEyH505opf_v"
      },
      "source": [
        " $f(x) = e^x$ "
      ]
    },
    {
      "cell_type": "code",
      "metadata": {
        "id": "Ox1T_R0_pf_w",
        "colab": {
          "base_uri": "https://localhost:8080/",
          "height": 35
        },
        "outputId": "793a4928-c0f0-4dfb-cd38-8a2d9a9600cf"
      },
      "source": [
        "from scipy.misc import derivative\n",
        "def e_prime(x):\n",
        "    return e**x # 이 곳에 답안을 작성하세요\n",
        "res4 = derivative(e_prime,5, dx=1e-5)\n",
        "res4 = format(res4,\".3f\")\n",
        "res4"
      ],
      "execution_count": 414,
      "outputs": [
        {
          "output_type": "execute_result",
          "data": {
            "application/vnd.google.colaboratory.intrinsic+json": {
              "type": "string"
            },
            "text/plain": [
              "'148.413'"
            ]
          },
          "metadata": {
            "tags": []
          },
          "execution_count": 414
        }
      ]
    },
    {
      "cell_type": "markdown",
      "metadata": {
        "id": "pnZBCK4rpf_w"
      },
      "source": [
        "$f(x) = lnx$"
      ]
    },
    {
      "cell_type": "code",
      "metadata": {
        "id": "tqbfUW6apf_w",
        "colab": {
          "base_uri": "https://localhost:8080/",
          "height": 35
        },
        "outputId": "dc920d9b-d042-492e-ef80-de071240c80b"
      },
      "source": [
        "def ln_prime(x):\n",
        "   return np.log(x)  # 이 곳에 답안을 작성하세요\n",
        "\n",
        "res5 = derivative(ln_prime,5, dx=1e-5)\n",
        "res5 = format(res5,\".1f\")\n",
        "res5\n",
        "\n"
      ],
      "execution_count": 415,
      "outputs": [
        {
          "output_type": "execute_result",
          "data": {
            "application/vnd.google.colaboratory.intrinsic+json": {
              "type": "string"
            },
            "text/plain": [
              "'0.2'"
            ]
          },
          "metadata": {
            "tags": []
          },
          "execution_count": 415
        }
      ]
    },
    {
      "cell_type": "markdown",
      "metadata": {
        "id": "faZgfJEmpf_x"
      },
      "source": [
        "$f(x) = Sin(2x)$"
      ]
    },
    {
      "cell_type": "code",
      "metadata": {
        "id": "7Z9Qr5RZpf_x",
        "colab": {
          "base_uri": "https://localhost:8080/",
          "height": 35
        },
        "outputId": "607a7b21-e734-4ebe-a23d-ff87d5c8b3d4"
      },
      "source": [
        "def sine_prime(x):\n",
        "    return sin(2*x) # 이 곳에 답안을 작성하세요\n",
        "\n",
        "res6 = derivative(sine_prime,5, dx=1e-5)\n",
        "res6 = format(res6,\".3f\")\n",
        "res6\n"
      ],
      "execution_count": 416,
      "outputs": [
        {
          "output_type": "execute_result",
          "data": {
            "application/vnd.google.colaboratory.intrinsic+json": {
              "type": "string"
            },
            "text/plain": [
              "'-1.678'"
            ]
          },
          "metadata": {
            "tags": []
          },
          "execution_count": 416
        }
      ]
    },
    {
      "cell_type": "markdown",
      "metadata": {
        "id": "fqboy1Bcpf_x"
      },
      "source": [
        "$f(x) = (2x^2 + 8x)^2$"
      ]
    },
    {
      "cell_type": "code",
      "metadata": {
        "id": "TLoVHk1Opf_x",
        "colab": {
          "base_uri": "https://localhost:8080/",
          "height": 35
        },
        "outputId": "4733ed05-4f65-476b-f746-5c14ce5906ab"
      },
      "source": [
        "def f_prime(x):\n",
        "    return (2*x**2+8*x)**2\n",
        "   \n",
        "res7 = derivative(f_prime,5, dx=1e-5)\n",
        "res7 = format(res7,\".0f\")\n",
        "res7"
      ],
      "execution_count": 417,
      "outputs": [
        {
          "output_type": "execute_result",
          "data": {
            "application/vnd.google.colaboratory.intrinsic+json": {
              "type": "string"
            },
            "text/plain": [
              "'5040'"
            ]
          },
          "metadata": {
            "tags": []
          },
          "execution_count": 417
        }
      ]
    },
    {
      "cell_type": "markdown",
      "metadata": {
        "id": "yKehJVDsJQNg"
      },
      "source": [
        "## 3. 편미분\n",
        "\n",
        "주어진 `machine learning model`의 `error function` ($\\varepsilon$)이 다음과 같을 때 `error function`을 **최소화** 하는 최적의 `parameter`들을  구하세요. 그 후 결과를 각각 `p1`, `p2`에 저장하세요.\n",
        "\n",
        "$\\varepsilon(p_1, p_2) = (e \\cdot p_1 - p_2)^2 + {{k_2} \\over { 2 }} \\cdot p_2 $ \n",
        "\n",
        "$k_2 == 100$\n",
        "\n",
        "- 단 최적의 $p_1$은 $p_2$가 $3$일때, 최적의 $p_2$는 $p_1$이 $10$일때를 기준으로 합니다."
      ]
    },
    {
      "cell_type": "code",
      "metadata": {
        "id": "TlA7rqlnK2V8"
      },
      "source": [
        "# 이 곳에 답안을 작성하세요\n",
        "import sympy as sym\n",
        "\n",
        "x1, x2 = sym.symbols('x1 x2', real=True)\n",
        "f = (e*x1-x2)**2 + 50*x2\n",
        "\n",
        "s1 = f.diff(x1)\n",
        "s2 = f.diff(x2)\n",
        "def s1(x1,x2):\n",
        " return s1\n",
        "p1 = print(s1(3,10))\n",
        "\n",
        "def s2(x1,x2):\n",
        " return s2\n",
        " p2 = print(s1(3,10))\n"
      ],
      "execution_count": 491,
      "outputs": []
    },
    {
      "cell_type": "markdown",
      "metadata": {
        "id": "ZTC_sDkNK87q"
      },
      "source": [
        "## Grading\n",
        "\n",
        "이전 과제를 완료했다면, 아래의 코드를 실행하세요. "
      ]
    },
    {
      "cell_type": "code",
      "metadata": {
        "id": "MiRrKvLNK_Mc"
      },
      "source": [
        "\n",
        "def grade(res1, res2, res3, res4, res5,res6,res7, p1, p2):\n",
        "    score = 0\n",
        "\n",
        "    score += (res1 == 30.0)\n",
        "    score += (res2 == 4077643.108)\n",
        "    score += (res3 == 4077643.121)\n",
        "    score += (round(res4, 3) == 148.413)\n",
        "    score += (round(res5, 1) == 0.2)\n",
        "    score += (round(res6, 3) == -1.678)\n",
        "    score += (res7 == 5040)\n",
        "    \n",
        "    score += (p1 == 3/exp(1))\n",
        "    score += (p2 == 10*exp(1)-25)\n",
        "  \n",
        "    return(score)"
      ],
      "execution_count": 457,
      "outputs": []
    },
    {
      "cell_type": "code",
      "metadata": {
        "id": "_ESjO_53DXJb"
      },
      "source": [
        "round(res4, 3)"
      ],
      "execution_count": null,
      "outputs": []
    },
    {
      "cell_type": "code",
      "metadata": {
        "colab": {
          "base_uri": "https://localhost:8080/"
        },
        "id": "5uJSzsTuBnV5",
        "outputId": "75166ef1-6176-40c3-a7f8-813378e7df85"
      },
      "source": [
        "p1 == 3/exp(1)"
      ],
      "execution_count": 481,
      "outputs": [
        {
          "output_type": "execute_result",
          "data": {
            "text/plain": [
              "False"
            ]
          },
          "metadata": {
            "tags": []
          },
          "execution_count": 481
        }
      ]
    },
    {
      "cell_type": "markdown",
      "metadata": {
        "id": "ksW7uwOzL-eY"
      },
      "source": [
        "## 🔥 도전과제 "
      ]
    },
    {
      "cell_type": "markdown",
      "metadata": {
        "id": "MltjgTsvMZmv"
      },
      "source": [
        "### 다음 함수를 미분하세요. 이후에 x = 3일 때의 결과를 `challenge`에 저장하세요.  \n",
        "$\\sigma(x) = {{1} \\over {1 + e^-x}}$. "
      ]
    },
    {
      "cell_type": "code",
      "metadata": {
        "id": "cqZmqs6ppf_0"
      },
      "source": [
        "def sig_prime(x):\n",
        "    return None # 이곳에 답안을 작성하세요.\n",
        "    e -x 제곱"
      ],
      "execution_count": null,
      "outputs": []
    }
  ]
}
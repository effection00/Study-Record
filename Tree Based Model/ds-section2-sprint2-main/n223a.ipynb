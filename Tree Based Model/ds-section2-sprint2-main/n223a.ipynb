{
  "nbformat": 4,
  "nbformat_minor": 0,
  "metadata": {
    "kernelspec": {
      "display_name": "Python 3",
      "language": "python",
      "name": "python3"
    },
    "language_info": {
      "codemirror_mode": {
        "name": "ipython",
        "version": 3
      },
      "file_extension": ".py",
      "mimetype": "text/x-python",
      "name": "python",
      "nbconvert_exporter": "python",
      "pygments_lexer": "ipython3",
      "version": "3.7.7"
    },
    "colab": {
      "name": "n223a-evaluation-metrics-for-classification.ipynb의 사본",
      "provenance": [],
      "collapsed_sections": [],
      "include_colab_link": true
    }
  },
  "cells": [
    {
      "cell_type": "markdown",
      "metadata": {
        "id": "view-in-github",
        "colab_type": "text"
      },
      "source": [
        "<a href=\"https://colab.research.google.com/github/effection00/ds-section2-sprint2/blob/main/n223a.ipynb\" target=\"_parent\"><img src=\"https://colab.research.google.com/assets/colab-badge.svg\" alt=\"Open In Colab\"/></a>"
      ]
    },
    {
      "cell_type": "markdown",
      "metadata": {
        "id": "8iRUgCZuuwWU"
      },
      "source": [
        "<img align=\"right\" src=\"https://ds-cs-images.s3.ap-northeast-2.amazonaws.com/Codestates_Fulllogo_Color.png\" width=100>\n",
        "\n",
        "## *DATA SCIENCE / SECTION 2 / SPRINT 2 / NOTE 3*\n",
        "\n",
        "# 📝 Assignment\n",
        "---"
      ]
    },
    {
      "cell_type": "markdown",
      "metadata": {
        "id": "nCc3XZEyG3XV"
      },
      "source": [
        "# Evaluation Metrics for Classification\n",
        "\n",
        "### 1) Kaggle 챌린지를 이어서 진행합니다.\n",
        "- **다음 조건에서 F beta score를 구하고 과제 제출폼에 제출하세요.**\n",
        "    - TP = 4442, TN = 6165, FP = 1515, FN = 1930, 재현율에 정밀도의 2배 가중치를 부여합니다."
      ]
    },
    {
      "cell_type": "code",
      "metadata": {
        "id": "fyFq8xn_sNfE"
      },
      "source": [
        "tp = 4442\n",
        "tn = 6165\n",
        "fp = 1515\n",
        "fn = 1930"
      ],
      "execution_count": 17,
      "outputs": []
    },
    {
      "cell_type": "code",
      "metadata": {
        "id": "OxZQln0HuwWY",
        "colab": {
          "base_uri": "https://localhost:8080/"
        },
        "outputId": "49d5c805-44bb-4fb7-9026-cb5676914aff"
      },
      "source": [
        "### 이곳에서 과제를 진행해 주세요 ### \n",
        "# 혼동행렬\n",
        "\n",
        "# 실제 참 중 참으로 예측\n",
        "recall =  tp / (tp + fn)\n",
        "\n",
        "\n",
        "# 참으로 예측한 것 중 실제 참\n",
        "precision = tp  / (tp + fp) \n",
        "\n",
        "\n",
        "(1+2**2) * precision * recall / ((2**2 * precision) + recall)\n",
        "\n",
        "# f beta score\n",
        "0.7063126093178567"
      ],
      "execution_count": 18,
      "outputs": [
        {
          "output_type": "execute_result",
          "data": {
            "text/plain": [
              "0.7063126093178567"
            ]
          },
          "metadata": {
            "tags": []
          },
          "execution_count": 18
        }
      ]
    },
    {
      "cell_type": "markdown",
      "metadata": {
        "id": "TIJ-xLVYuwWZ"
      },
      "source": [
        "### 2) 모델을 학습한 후 Confusion matrix를 그리고 해석하세요\n",
        "- 임계값을 조정한 후 confusion matrix를 그려보세요\n",
        "- **(객관식) 임계값을 증가시킬때 positive 범주에 대한 재현율의 변화 양상을 과제 제출폼에 제출하세요.**\n",
        "    1. 증가\n",
        "    2. 감소\n",
        "    3. 변화가 없다\n"
      ]
    },
    {
      "cell_type": "code",
      "metadata": {
        "id": "Y9ocM1uY3F1J",
        "colab": {
          "base_uri": "https://localhost:8080/"
        },
        "outputId": "cbe079a5-d534-4d7c-f18e-e079a6c634de"
      },
      "source": [
        "!pip install category_encoders"
      ],
      "execution_count": 19,
      "outputs": [
        {
          "output_type": "stream",
          "text": [
            "Requirement already satisfied: category_encoders in /usr/local/lib/python3.7/dist-packages (2.2.2)\n",
            "Requirement already satisfied: statsmodels>=0.9.0 in /usr/local/lib/python3.7/dist-packages (from category_encoders) (0.10.2)\n",
            "Requirement already satisfied: numpy>=1.14.0 in /usr/local/lib/python3.7/dist-packages (from category_encoders) (1.19.5)\n",
            "Requirement already satisfied: pandas>=0.21.1 in /usr/local/lib/python3.7/dist-packages (from category_encoders) (1.1.5)\n",
            "Requirement already satisfied: scipy>=1.0.0 in /usr/local/lib/python3.7/dist-packages (from category_encoders) (1.4.1)\n",
            "Requirement already satisfied: scikit-learn>=0.20.0 in /usr/local/lib/python3.7/dist-packages (from category_encoders) (0.22.2.post1)\n",
            "Requirement already satisfied: patsy>=0.5.1 in /usr/local/lib/python3.7/dist-packages (from category_encoders) (0.5.1)\n",
            "Requirement already satisfied: pytz>=2017.2 in /usr/local/lib/python3.7/dist-packages (from pandas>=0.21.1->category_encoders) (2018.9)\n",
            "Requirement already satisfied: python-dateutil>=2.7.3 in /usr/local/lib/python3.7/dist-packages (from pandas>=0.21.1->category_encoders) (2.8.1)\n",
            "Requirement already satisfied: joblib>=0.11 in /usr/local/lib/python3.7/dist-packages (from scikit-learn>=0.20.0->category_encoders) (1.0.1)\n",
            "Requirement already satisfied: six in /usr/local/lib/python3.7/dist-packages (from patsy>=0.5.1->category_encoders) (1.15.0)\n"
          ],
          "name": "stdout"
        }
      ]
    },
    {
      "cell_type": "code",
      "metadata": {
        "id": "ZKLAfsfg4YB8",
        "colab": {
          "base_uri": "https://localhost:8080/"
        },
        "outputId": "6facc5ea-5041-4ba0-cd8c-18527a9b02a6"
      },
      "source": [
        "from google.colab import drive\n",
        "drive.mount('/content/drive')"
      ],
      "execution_count": 20,
      "outputs": [
        {
          "output_type": "stream",
          "text": [
            "Drive already mounted at /content/drive; to attempt to forcibly remount, call drive.mount(\"/content/drive\", force_remount=True).\n"
          ],
          "name": "stdout"
        }
      ]
    },
    {
      "cell_type": "code",
      "metadata": {
        "id": "7Rr5q_Cc4AE_",
        "colab": {
          "base_uri": "https://localhost:8080/"
        },
        "outputId": "9abe8791-713f-4628-8ab6-5af87109f24d"
      },
      "source": [
        "### 이곳에서 과제를 진행해 주세요 ###\n",
        "\n",
        "import pandas as pd\n",
        "# target = 'vacc_seas_f'\n",
        "target = 'vacc_h1n1_f'\n",
        "\n",
        "\n",
        "train_X  = pd.read_csv('/content/drive/MyDrive/train.csv')\n",
        "train_y  = pd.read_csv('/content/drive/MyDrive/train_labels.csv')[target]\n",
        "test_X = pd.read_csv('/content/drive/MyDrive/test.csv')\n",
        "\n",
        "train_X.select_dtypes(include= 'object')\n",
        "\n",
        "# ordinal 인코딩\n",
        "from category_encoders import OrdinalEncoder \n",
        "# 대괄호 한개 \n",
        "encoder = OrdinalEncoder(cols=['opinion_h1n1_vacc_effective','opinion_h1n1_risk','opinion_h1n1_sick_from_vacc','opinion_seas_vacc_effective','opinion_seas_risk','opinion_seas_sick_from_vacc','agegrp'])\n",
        "train_X = encoder.fit_transform(train_X)\n",
        "test_X = encoder.transform(test_X)\n",
        "\n",
        "\n",
        "from category_encoders import OneHotEncoder\n",
        "encoder = OneHotEncoder(cols=['employment_status',\t'census_msa',\t'employment_industry','employment_occupation','state'])\n",
        "train_X = encoder.fit_transform(train_X)\n",
        "test_X = encoder.transform(test_X)\n",
        "\n",
        "\n",
        "from sklearn.impute import SimpleImputer\n",
        "\n",
        "impute = SimpleImputer()\n",
        "train_X = pd.DataFrame(impute.fit_transform(train_X),columns= train_X.columns)\n",
        "test_X = pd.DataFrame(impute.transform(test_X),columns= test_X.columns)\n",
        "\n",
        "from sklearn.preprocessing import StandardScaler\n",
        "\n",
        "scale = StandardScaler()\n",
        "train_X = scale.fit_transform(train_X)\n",
        "test_X = scale.transform(test_X)\n",
        "\n",
        "from sklearn.model_selection import train_test_split\n",
        "from sklearn.ensemble import RandomForestClassifier\n",
        "from sklearn.metrics import accuracy_score\n",
        "\n",
        "train_X, val_X, train_y, val_y = train_test_split(train_X, train_y, train_size=0.8, random_state = 24)\n",
        "rf = RandomForestClassifier()\n",
        "rf.fit(train_X,train_y)\n",
        "y_pred_proba = rf.predict_proba(val_X)[:,1]\n",
        "y_pred = rf.predict(val_X)"
      ],
      "execution_count": 21,
      "outputs": [
        {
          "output_type": "stream",
          "text": [
            "/usr/local/lib/python3.7/dist-packages/category_encoders/utils.py:21: FutureWarning: is_categorical is deprecated and will be removed in a future version.  Use is_categorical_dtype instead\n",
            "  elif pd.api.types.is_categorical(cols):\n"
          ],
          "name": "stderr"
        }
      ]
    },
    {
      "cell_type": "code",
      "metadata": {
        "id": "knLBTLu4uwWZ",
        "colab": {
          "base_uri": "https://localhost:8080/",
          "height": 297
        },
        "outputId": "ad91aa95-0c78-4a0f-8c41-fd2032f1c3dc"
      },
      "source": [
        "### 이곳에서 과제를 진행해 주세요 ### \n",
        "from sklearn.metrics import plot_confusion_matrix\n",
        "import matplotlib.pyplot as plt\n",
        "\n",
        "fig, ax = plt.subplots()\n",
        "pcm = plot_confusion_matrix(rf, val_X, val_y, cmap =plt.cm.Blues, ax=ax);\n",
        "plt.title(f'confusion matrix, n = {len(val_y)}',fontsize=15)\n",
        "plt.show()"
      ],
      "execution_count": 22,
      "outputs": [
        {
          "output_type": "display_data",
          "data": {
            "image/png": "[encoded data removed]",
            "text/plain": [
              "<Figure size 432x288 with 2 Axes>"
            ]
          },
          "metadata": {
            "tags": [],
            "needs_background": "light"
          }
        }
      ]
    },
    {
      "cell_type": "code",
      "metadata": {
        "colab": {
          "base_uri": "https://localhost:8080/"
        },
        "id": "Oezs5GbQi2Pg",
        "outputId": "3166a4e4-814f-41ea-b8d5-c69c947f01af"
      },
      "source": [
        "#confusion matrix\n",
        "from sklearn.metrics import confusion_matrix\n",
        "print(confusion_matrix(val_y , y_pred))\n",
        "\n",
        "print()\n",
        "print()\n",
        "\n",
        "from sklearn.metrics import classification_report\n",
        "print(classification_report(val_y, y_pred))\n",
        "\n",
        "# 임계값 0.5일 때,  positive 재현율  0.46"
      ],
      "execution_count": 23,
      "outputs": [
        {
          "output_type": "stream",
          "text": [
            "[[6104  293]\n",
            " [1092  942]]\n",
            "\n",
            "\n",
            "              precision    recall  f1-score   support\n",
            "\n",
            "           0       0.85      0.95      0.90      6397\n",
            "           1       0.76      0.46      0.58      2034\n",
            "\n",
            "    accuracy                           0.84      8431\n",
            "   macro avg       0.81      0.71      0.74      8431\n",
            "weighted avg       0.83      0.84      0.82      8431\n",
            "\n"
          ],
          "name": "stdout"
        }
      ]
    },
    {
      "cell_type": "code",
      "metadata": {
        "id": "Er65rmGfs-uh",
        "colab": {
          "base_uri": "https://localhost:8080/",
          "height": 320
        },
        "outputId": "8718be3f-c035-41fb-8a9a-df22240c0c22"
      },
      "source": [
        "import seaborn as sns\n",
        "#임계값 0.3\n",
        "th= 0.3\n",
        "y_pred = y_pred_proba > th\n",
        "\n",
        "ax =  sns.histplot(y_pred_proba)\n",
        "ax.axvline(th, color = 'red')\n",
        "\n",
        "pd.Series(y_pred).value_counts()"
      ],
      "execution_count": 24,
      "outputs": [
        {
          "output_type": "execute_result",
          "data": {
            "text/plain": [
              "False    6041\n",
              "True     2390\n",
              "dtype: int64"
            ]
          },
          "metadata": {
            "tags": []
          },
          "execution_count": 24
        },
        {
          "output_type": "display_data",
          "data": {
            "image/png": "[encoded data removed]",
            "text/plain": [
              "<Figure size 432x288 with 1 Axes>"
            ]
          },
          "metadata": {
            "tags": [],
            "needs_background": "light"
          }
        }
      ]
    },
    {
      "cell_type": "code",
      "metadata": {
        "id": "Ysp6yl52tALB",
        "colab": {
          "base_uri": "https://localhost:8080/"
        },
        "outputId": "d31a3abd-2ab5-4e14-8e7b-8979d5f53d00"
      },
      "source": [
        "#confusion matrix\n",
        "from sklearn.metrics import confusion_matrix\n",
        "print(confusion_matrix(val_y , y_pred))\n",
        "\n",
        "print()\n",
        "print()\n",
        "\n",
        "from sklearn.metrics import classification_report\n",
        "print(classification_report(val_y, y_pred))\n",
        "\n",
        "# 임계값 0.3일 때,  positive 재현율  0.7"
      ],
      "execution_count": 25,
      "outputs": [
        {
          "output_type": "stream",
          "text": [
            "[[5408  989]\n",
            " [ 633 1401]]\n",
            "\n",
            "\n",
            "              precision    recall  f1-score   support\n",
            "\n",
            "           0       0.90      0.85      0.87      6397\n",
            "           1       0.59      0.69      0.63      2034\n",
            "\n",
            "    accuracy                           0.81      8431\n",
            "   macro avg       0.74      0.77      0.75      8431\n",
            "weighted avg       0.82      0.81      0.81      8431\n",
            "\n"
          ],
          "name": "stdout"
        }
      ]
    },
    {
      "cell_type": "code",
      "metadata": {
        "colab": {
          "base_uri": "https://localhost:8080/",
          "height": 320
        },
        "id": "535hHODhpRMy",
        "outputId": "97e5d23f-5aa5-42ef-92b2-c2e54d19923f"
      },
      "source": [
        "import seaborn as sns\n",
        "#임계값 0.7\n",
        "th= 0.7\n",
        "y_pred = y_pred_proba > th\n",
        "\n",
        "ax =  sns.histplot(y_pred_proba)\n",
        "ax.axvline(th, color = 'red')\n",
        "\n",
        "pd.Series(y_pred).value_counts()"
      ],
      "execution_count": 26,
      "outputs": [
        {
          "output_type": "execute_result",
          "data": {
            "text/plain": [
              "False    7905\n",
              "True      526\n",
              "dtype: int64"
            ]
          },
          "metadata": {
            "tags": []
          },
          "execution_count": 26
        },
        {
          "output_type": "display_data",
          "data": {
            "image/png": "[encoded data removed]",
            "text/plain": [
              "<Figure size 432x288 with 1 Axes>"
            ]
          },
          "metadata": {
            "tags": [],
            "needs_background": "light"
          }
        }
      ]
    },
    {
      "cell_type": "code",
      "metadata": {
        "colab": {
          "base_uri": "https://localhost:8080/"
        },
        "id": "QumGM234pRMz",
        "outputId": "189f03c7-c21d-41f4-ffb1-a53e899039be"
      },
      "source": [
        "#confusion matrix\n",
        "from sklearn.metrics import confusion_matrix\n",
        "print(confusion_matrix(val_y , y_pred))\n",
        "\n",
        "print()\n",
        "print()\n",
        "\n",
        "from sklearn.metrics import classification_report\n",
        "print(classification_report(val_y, y_pred))\n",
        "\n",
        "# 임계값 0.7일 때,  positive 재현율  0.20"
      ],
      "execution_count": 27,
      "outputs": [
        {
          "output_type": "stream",
          "text": [
            "[[6319   78]\n",
            " [1586  448]]\n",
            "\n",
            "\n",
            "              precision    recall  f1-score   support\n",
            "\n",
            "           0       0.80      0.99      0.88      6397\n",
            "           1       0.85      0.22      0.35      2034\n",
            "\n",
            "    accuracy                           0.80      8431\n",
            "   macro avg       0.83      0.60      0.62      8431\n",
            "weighted avg       0.81      0.80      0.75      8431\n",
            "\n"
          ],
          "name": "stdout"
        }
      ]
    },
    {
      "cell_type": "code",
      "metadata": {
        "colab": {
          "base_uri": "https://localhost:8080/",
          "height": 320
        },
        "id": "K2Ck0eB9lsEe",
        "outputId": "7c9c2b7b-cb9a-48df-c87c-b2082479982c"
      },
      "source": [
        "#임계값 0.9\n",
        "th= 0.9\n",
        "y_pred = y_pred_proba > th\n",
        "\n",
        "ax =  sns.histplot(y_pred_proba)\n",
        "ax.axvline(th, color = 'red')\n",
        "\n",
        "pd.Series(y_pred).value_counts() "
      ],
      "execution_count": 28,
      "outputs": [
        {
          "output_type": "execute_result",
          "data": {
            "text/plain": [
              "False    8394\n",
              "True       37\n",
              "dtype: int64"
            ]
          },
          "metadata": {
            "tags": []
          },
          "execution_count": 28
        },
        {
          "output_type": "display_data",
          "data": {
            "image/png": "[encoded data removed]",
            "text/plain": [
              "<Figure size 432x288 with 1 Axes>"
            ]
          },
          "metadata": {
            "tags": [],
            "needs_background": "light"
          }
        }
      ]
    },
    {
      "cell_type": "code",
      "metadata": {
        "colab": {
          "base_uri": "https://localhost:8080/"
        },
        "id": "Rcho1QrJoUBd",
        "outputId": "ac6a5e57-2069-4aac-e0e9-3fd11b8764db"
      },
      "source": [
        "from sklearn.metrics import confusion_matrix\n",
        "print(confusion_matrix(val_y , y_pred))\n",
        "\n",
        "from sklearn.metrics import classification_report\n",
        "print(classification_report(val_y, y_pred))\n",
        "# 임계값 0.9의 positive 재현율 0.01"
      ],
      "execution_count": 29,
      "outputs": [
        {
          "output_type": "stream",
          "text": [
            "[[6392    5]\n",
            " [2002   32]]\n",
            "              precision    recall  f1-score   support\n",
            "\n",
            "           0       0.76      1.00      0.86      6397\n",
            "           1       0.86      0.02      0.03      2034\n",
            "\n",
            "    accuracy                           0.76      8431\n",
            "   macro avg       0.81      0.51      0.45      8431\n",
            "weighted avg       0.79      0.76      0.66      8431\n",
            "\n"
          ],
          "name": "stdout"
        }
      ]
    },
    {
      "cell_type": "code",
      "metadata": {
        "id": "IXkx5wb8oT9N"
      },
      "source": [
        "# 임계값을 높일수록 positive의 기준이 엄격해지므로 재현율은 떨어지는 것을 알 수 있다\n",
        "# 답 -- 2.  감소"
      ],
      "execution_count": 30,
      "outputs": []
    },
    {
      "cell_type": "markdown",
      "metadata": {
        "id": "2VY9SxU-uwWa"
      },
      "source": [
        "### 3) 랜덤포레스트의 n_estimator를 1, 10, 100, 1000으로 바꾸어 가며 positive 범주의 predict_proba를 비교해 보세요\n",
        "- 파라미터는 다음과 같이 설정합니다.\n",
        "    - n_jobs=-1, random_state=10, max_depth=None, n_estimators = n\n",
        "- **(객관식) 확률값들의 분포(종류)의 변화를 과제 제출폼에 제출하세요**\n",
        "    1. 다양해진다\n",
        "    2. 변화가없다\n"
      ]
    },
    {
      "cell_type": "code",
      "metadata": {
        "id": "vE49OAOauwWa",
        "colab": {
          "base_uri": "https://localhost:8080/",
          "height": 283
        },
        "outputId": "0a4d9225-73ed-4794-a9ba-b001e163f3c4"
      },
      "source": [
        "### 이곳에서 과제를 진행해 주세요 ###\n",
        "\n",
        "# 답 --1. 다양해진다\n",
        "\n",
        "\n",
        "#나무의 개수 n_estimator 조정 \n",
        "# n_estimator =1 \n",
        "\n",
        "rf = RandomForestClassifier(n_jobs=-1, random_state=10, max_depth=None, n_estimators = 1)\n",
        "rf.fit(train_X,train_y)\n",
        "y_pred_proba = rf.predict_proba(val_X)[:,1]\n",
        "sns.histplot(y_pred_proba)"
      ],
      "execution_count": 31,
      "outputs": [
        {
          "output_type": "execute_result",
          "data": {
            "text/plain": [
              "<matplotlib.axes._subplots.AxesSubplot at 0x7f4c892de550>"
            ]
          },
          "metadata": {
            "tags": []
          },
          "execution_count": 31
        },
        {
          "output_type": "display_data",
          "data": {
            "image/png": "[encoded data removed]",
            "text/plain": [
              "<Figure size 432x288 with 1 Axes>"
            ]
          },
          "metadata": {
            "tags": [],
            "needs_background": "light"
          }
        }
      ]
    },
    {
      "cell_type": "code",
      "metadata": {
        "colab": {
          "base_uri": "https://localhost:8080/",
          "height": 283
        },
        "id": "ssJYk1mTtIUH",
        "outputId": "a35a9d0f-0d4b-497c-b27b-cd24ecec10be"
      },
      "source": [
        "# n_estimator =10\n",
        "\n",
        "rf = RandomForestClassifier(n_jobs=-1, random_state=10, max_depth=None, n_estimators = 10)\n",
        "rf.fit(train_X,train_y)\n",
        "y_pred_proba = rf.predict_proba(val_X)[:,1]\n",
        "sns.histplot(y_pred_proba)"
      ],
      "execution_count": 32,
      "outputs": [
        {
          "output_type": "execute_result",
          "data": {
            "text/plain": [
              "<matplotlib.axes._subplots.AxesSubplot at 0x7f4c91cb1e50>"
            ]
          },
          "metadata": {
            "tags": []
          },
          "execution_count": 32
        },
        {
          "output_type": "display_data",
          "data": {
            "image/png": "[encoded data removed]",
            "text/plain": [
              "<Figure size 432x288 with 1 Axes>"
            ]
          },
          "metadata": {
            "tags": [],
            "needs_background": "light"
          }
        }
      ]
    },
    {
      "cell_type": "code",
      "metadata": {
        "colab": {
          "base_uri": "https://localhost:8080/",
          "height": 283
        },
        "id": "UhOtHQSOtKTN",
        "outputId": "b0e8b307-2ce6-4e7f-f77e-3e792df19548"
      },
      "source": [
        "# n_estimator =100 \n",
        "\n",
        "rf = RandomForestClassifier(n_jobs=-1, random_state=10, max_depth=None, n_estimators = 100)\n",
        "rf.fit(train_X,train_y)\n",
        "y_pred_proba = rf.predict_proba(val_X)[:,1]\n",
        "sns.histplot(y_pred_proba)"
      ],
      "execution_count": 33,
      "outputs": [
        {
          "output_type": "execute_result",
          "data": {
            "text/plain": [
              "<matplotlib.axes._subplots.AxesSubplot at 0x7f4c892eb5d0>"
            ]
          },
          "metadata": {
            "tags": []
          },
          "execution_count": 33
        },
        {
          "output_type": "display_data",
          "data": {
            "image/png": "[encoded data removed]",
            "text/plain": [
              "<Figure size 432x288 with 1 Axes>"
            ]
          },
          "metadata": {
            "tags": [],
            "needs_background": "light"
          }
        }
      ]
    },
    {
      "cell_type": "code",
      "metadata": {
        "colab": {
          "base_uri": "https://localhost:8080/",
          "height": 283
        },
        "id": "I_J8h79EtPDb",
        "outputId": "7e102ac9-b4e4-4acb-9eba-c35b903a3d25"
      },
      "source": [
        "# n_estimator =1000\n",
        "\n",
        "rf = RandomForestClassifier(n_jobs=-1, random_state=10, max_depth=None, n_estimators = 1000)\n",
        "rf.fit(train_X,train_y)\n",
        "y_pred_proba = rf.predict_proba(val_X)[:,1]\n",
        "sns.histplot(y_pred_proba)"
      ],
      "execution_count": 34,
      "outputs": [
        {
          "output_type": "execute_result",
          "data": {
            "text/plain": [
              "<matplotlib.axes._subplots.AxesSubplot at 0x7f4c92383210>"
            ]
          },
          "metadata": {
            "tags": []
          },
          "execution_count": 34
        },
        {
          "output_type": "display_data",
          "data": {
            "image/png": "[encoded data removed]",
            "text/plain": [
              "<Figure size 432x288 with 1 Axes>"
            ]
          },
          "metadata": {
            "tags": [],
            "needs_background": "light"
          }
        }
      ]
    },
    {
      "cell_type": "markdown",
      "metadata": {
        "id": "QVhUli0OuwWa"
      },
      "source": [
        "### 4) 두개 이상의 다른 분류 모델을 학습시켜 ROC curve, AUC 점수를 비교하고 설명합니다.\n",
        "- 더 좋은 결과가 나오는 모델을 사용해서 캐글에 제출하세요\n",
        "- **캐글 Leaderboard의 본인 Score를 과제 제출폼에 제출하세요.**"
      ]
    },
    {
      "cell_type": "code",
      "metadata": {
        "id": "Co2uBLmtuwWb",
        "colab": {
          "base_uri": "https://localhost:8080/",
          "height": 313
        },
        "outputId": "9cfe5a60-6a3b-408b-a39a-9002171e7188"
      },
      "source": [
        "### 이곳에서 과제를 진행해 주세요 ### \n",
        "\n",
        "# 로지스틱 회귀\n",
        "from sklearn.linear_model import LogisticRegression\n",
        "from sklearn.metrics import roc_auc_score,roc_curve\n",
        "from sklearn.metrics import f1_score\n",
        "\n",
        "lr = LogisticRegression()\n",
        "lr.fit(train_X,train_y)\n",
        "pred_y = lr.predict(val_X)\n",
        "pred_y_proba= lr.predict_proba(val_X)\n",
        "print(roc_auc_score(val_y,pred_y))\n",
        "\n",
        "fpr, tpr, thre = roc_curve(val_y,pred_y_proba[:,1])\n",
        "\n",
        "roc = pd.DataFrame({'FPR' : fpr, 'TPR': tpr})\n",
        "\n",
        "plt.scatter(fpr, tpr);\n",
        "plt.title('ROC curve')\n",
        "plt.xlabel('FPR');\n",
        "plt.ylabel('TPR');"
      ],
      "execution_count": 54,
      "outputs": [
        {
          "output_type": "stream",
          "text": [
            "0.7030278527499294\n"
          ],
          "name": "stdout"
        },
        {
          "output_type": "display_data",
          "data": {
            "image/png": "[encoded data removed]",
            "text/plain": [
              "<Figure size 432x288 with 1 Axes>"
            ]
          },
          "metadata": {
            "tags": [],
            "needs_background": "light"
          }
        }
      ]
    },
    {
      "cell_type": "code",
      "metadata": {
        "colab": {
          "base_uri": "https://localhost:8080/",
          "height": 313
        },
        "id": "vfjGCH5vuWHI",
        "outputId": "8a1066d5-671d-4d02-cb90-51e0b3dbbd81"
      },
      "source": [
        "# 랜덤포레스트\n",
        "\n",
        "from sklearn.ensemble import RandomForestClassifier\n",
        "from sklearn.metrics import roc_auc_score\n",
        "\n",
        "rf = RandomForestClassifier(n_jobs=-1, random_state=10, max_depth= 30, n_estimators = 250)\n",
        "rf.fit(train_X,train_y)\n",
        "pred_y = rf.predict(val_X)\n",
        "pred_y_proba= lr.predict_proba(val_X)\n",
        "print(roc_auc_score(val_y,pred_y))\n",
        "\n",
        "fpr, tpr, thre = roc_curve(val_y,pred_y_proba[:,1])\n",
        "\n",
        "roc = pd.DataFrame({'FPR' : fpr, 'TPR': tpr})\n",
        "\n",
        "plt.scatter(fpr, tpr);\n",
        "plt.title('ROC curve')\n",
        "plt.xlabel('FPR');\n",
        "plt.ylabel('TPR');"
      ],
      "execution_count": 56,
      "outputs": [
        {
          "output_type": "stream",
          "text": [
            "0.7107497537946822\n"
          ],
          "name": "stdout"
        },
        {
          "output_type": "display_data",
          "data": {
            "image/png": "[encoded data removed]",
            "text/plain": [
              "<Figure size 432x288 with 1 Axes>"
            ]
          },
          "metadata": {
            "tags": [],
            "needs_background": "light"
          }
        }
      ]
    },
    {
      "cell_type": "code",
      "metadata": {
        "id": "11m0Pz-TZuIq"
      },
      "source": [
        "# 랜덤 포레스트를 사용하였을 때 roc_auc_score가 더 높아 성능이 더 높다고 판단하여 랜덤포레스트로 fit하여 예측을 진행하였다"
      ],
      "execution_count": null,
      "outputs": []
    },
    {
      "cell_type": "code",
      "metadata": {
        "colab": {
          "base_uri": "https://localhost:8080/",
          "height": 419
        },
        "id": "tOAfA5NsxPES",
        "outputId": "d2c15b32-dfc6-470c-eb68-501f82ca43d9"
      },
      "source": [
        "final = rf.predict(test_X)\n",
        "\n",
        "final = pd.DataFrame(final, columns = ['vacc_h1n1_f'])\n",
        "final.to_csv(\"third.csv\",index_label= 'id')\n",
        "\n",
        "pd.read_csv(\"third.csv\")"
      ],
      "execution_count": 58,
      "outputs": [
        {
          "output_type": "execute_result",
          "data": {
            "text/html": [
              "<div>\n",
              "<style scoped>\n",
              "    .dataframe tbody tr th:only-of-type {\n",
              "        vertical-align: middle;\n",
              "    }\n",
              "\n",
              "    .dataframe tbody tr th {\n",
              "        vertical-align: top;\n",
              "    }\n",
              "\n",
              "    .dataframe thead th {\n",
              "        text-align: right;\n",
              "    }\n",
              "</style>\n",
              "<table border=\"1\" class=\"dataframe\">\n",
              "  <thead>\n",
              "    <tr style=\"text-align: right;\">\n",
              "      <th></th>\n",
              "      <th>id</th>\n",
              "      <th>vacc_h1n1_f</th>\n",
              "    </tr>\n",
              "  </thead>\n",
              "  <tbody>\n",
              "    <tr>\n",
              "      <th>0</th>\n",
              "      <td>0</td>\n",
              "      <td>0</td>\n",
              "    </tr>\n",
              "    <tr>\n",
              "      <th>1</th>\n",
              "      <td>1</td>\n",
              "      <td>0</td>\n",
              "    </tr>\n",
              "    <tr>\n",
              "      <th>2</th>\n",
              "      <td>2</td>\n",
              "      <td>0</td>\n",
              "    </tr>\n",
              "    <tr>\n",
              "      <th>3</th>\n",
              "      <td>3</td>\n",
              "      <td>0</td>\n",
              "    </tr>\n",
              "    <tr>\n",
              "      <th>4</th>\n",
              "      <td>4</td>\n",
              "      <td>0</td>\n",
              "    </tr>\n",
              "    <tr>\n",
              "      <th>...</th>\n",
              "      <td>...</td>\n",
              "      <td>...</td>\n",
              "    </tr>\n",
              "    <tr>\n",
              "      <th>28099</th>\n",
              "      <td>28099</td>\n",
              "      <td>0</td>\n",
              "    </tr>\n",
              "    <tr>\n",
              "      <th>28100</th>\n",
              "      <td>28100</td>\n",
              "      <td>0</td>\n",
              "    </tr>\n",
              "    <tr>\n",
              "      <th>28101</th>\n",
              "      <td>28101</td>\n",
              "      <td>0</td>\n",
              "    </tr>\n",
              "    <tr>\n",
              "      <th>28102</th>\n",
              "      <td>28102</td>\n",
              "      <td>0</td>\n",
              "    </tr>\n",
              "    <tr>\n",
              "      <th>28103</th>\n",
              "      <td>28103</td>\n",
              "      <td>0</td>\n",
              "    </tr>\n",
              "  </tbody>\n",
              "</table>\n",
              "<p>28104 rows × 2 columns</p>\n",
              "</div>"
            ],
            "text/plain": [
              "          id  vacc_h1n1_f\n",
              "0          0            0\n",
              "1          1            0\n",
              "2          2            0\n",
              "3          3            0\n",
              "4          4            0\n",
              "...      ...          ...\n",
              "28099  28099            0\n",
              "28100  28100            0\n",
              "28101  28101            0\n",
              "28102  28102            0\n",
              "28103  28103            0\n",
              "\n",
              "[28104 rows x 2 columns]"
            ]
          },
          "metadata": {
            "tags": []
          },
          "execution_count": 58
        }
      ]
    },
    {
      "cell_type": "markdown",
      "metadata": {
        "id": "4lr2lT8KuwWb"
      },
      "source": [
        "## 🔥 도전과제"
      ]
    },
    {
      "cell_type": "markdown",
      "metadata": {
        "id": "p3HJm8mcuwWc"
      },
      "source": [
        "### 5) 각 평가지표에 대해 결과를 최대한 분석하고 무엇이 부족한지, 어떤 방향으로 성능을 높여야 하는지 논하세요."
      ]
    },
    {
      "cell_type": "code",
      "metadata": {
        "id": "mnGFBWYkuwWc"
      },
      "source": [
        "### 이곳에서 과제를 진행해 주세요 ### "
      ],
      "execution_count": 38,
      "outputs": []
    }
  ]
}
{
  "nbformat": 4,
  "nbformat_minor": 0,
  "metadata": {
    "colab": {
      "name": "ds_cs_N421a.ipynb",
      "provenance": []
    },
    "kernelspec": {
      "display_name": "Python 3",
      "language": "python",
      "name": "python3"
    },
    "language_info": {
      "codemirror_mode": {
        "name": "ipython",
        "version": 3
      },
      "file_extension": ".py",
      "mimetype": "text/x-python",
      "name": "python",
      "nbconvert_exporter": "python",
      "pygments_lexer": "ipython3",
      "version": "3.9.4"
    }
  },
  "cells": [
    {
      "cell_type": "markdown",
      "metadata": {
        "id": "CzIdLqSrQNwo"
      },
      "source": [
        "<img src='https://user-images.githubusercontent.com/6457691/90080969-0f758d00-dd47-11ea-8191-fa12fd2054a7.png' width = '200' align = 'right'>\n",
        "\n",
        "## *DATA SCIENCE / SECTION 4 / SPRINT 1 / NOTE 1 - assignmnet*\n",
        "\n",
        "---\n",
        "\n",
        "\n",
        "\n",
        "\n",
        "\n",
        "# N411. 인공신경망(Artificial Neural Networks) 과제"
      ]
    },
    {
      "cell_type": "markdown",
      "metadata": {
        "id": "SvNvoQJk-xb-"
      },
      "source": [
        "## 실제 데이터 과제\n",
        " - 아래 주어진 데이터를 신경망을 이용하여 Classification 문제를 풀어보세요.\n",
        " - 또한 머신러닝에서 배운 방법(배우지 않은 머신러닝 방법론(SVM 등)도 가능)을 이용하여 비교해보세요."
      ]
    },
    {
      "cell_type": "markdown",
      "metadata": {
        "id": "pqOkgM9wnmNu"
      },
      "source": [
        "입력 데이터 샘플과 Features : 1077 샘플 x 69 Features (변수)\n",
        "\n",
        "데이터 label: 다운증후군 (1), 정상군 (2)\n",
        "\n",
        "데이터는 다운증후군과 정상군 마우스 피질의 핵 분획에서 검출 가능한 신호를 생성하는 69 개 단백질의 발현 수준으로 구성되어 있습니다.\n",
        "라벨로는 다운증후군 1, 정상군 2로 할당되어 있습니다.\n"
      ]
    },
    {
      "cell_type": "code",
      "metadata": {
        "id": "gULuO1ETO-6G"
      },
      "source": [
        "import pandas as pd\n",
        "df = pd.read_excel(\"https://ds-lecture-data.s3.ap-northeast-2.amazonaws.com/MouseProtein/mouse_protein_X.xls\", header=None)\n",
        "df_label = pd.read_excel(\"https://ds-lecture-data.s3.ap-northeast-2.amazonaws.com/MouseProtein/mouse_protein_label.xls\", header=None)"
      ],
      "execution_count": 43,
      "outputs": []
    },
    {
      "cell_type": "code",
      "metadata": {
        "colab": {
          "base_uri": "https://localhost:8080/",
          "height": 224
        },
        "id": "6I-8OQ_APLtG",
        "outputId": "b1fcded7-ac4f-4b06-a47c-379b4ea0e276"
      },
      "source": [
        "# 샘플당 100개의 특성(feature)을 가진 데이터\n",
        "df.head()"
      ],
      "execution_count": 44,
      "outputs": [
        {
          "output_type": "execute_result",
          "data": {
            "text/html": [
              "<div>\n",
              "<style scoped>\n",
              "    .dataframe tbody tr th:only-of-type {\n",
              "        vertical-align: middle;\n",
              "    }\n",
              "\n",
              "    .dataframe tbody tr th {\n",
              "        vertical-align: top;\n",
              "    }\n",
              "\n",
              "    .dataframe thead th {\n",
              "        text-align: right;\n",
              "    }\n",
              "</style>\n",
              "<table border=\"1\" class=\"dataframe\">\n",
              "  <thead>\n",
              "    <tr style=\"text-align: right;\">\n",
              "      <th></th>\n",
              "      <th>0</th>\n",
              "      <th>1</th>\n",
              "      <th>2</th>\n",
              "      <th>3</th>\n",
              "      <th>4</th>\n",
              "      <th>5</th>\n",
              "      <th>6</th>\n",
              "      <th>7</th>\n",
              "      <th>8</th>\n",
              "      <th>9</th>\n",
              "      <th>10</th>\n",
              "      <th>11</th>\n",
              "      <th>12</th>\n",
              "      <th>13</th>\n",
              "      <th>14</th>\n",
              "      <th>15</th>\n",
              "      <th>16</th>\n",
              "      <th>17</th>\n",
              "      <th>18</th>\n",
              "      <th>19</th>\n",
              "      <th>20</th>\n",
              "      <th>21</th>\n",
              "      <th>22</th>\n",
              "      <th>23</th>\n",
              "      <th>24</th>\n",
              "      <th>25</th>\n",
              "      <th>26</th>\n",
              "      <th>27</th>\n",
              "      <th>28</th>\n",
              "      <th>29</th>\n",
              "      <th>30</th>\n",
              "      <th>31</th>\n",
              "      <th>32</th>\n",
              "      <th>33</th>\n",
              "      <th>34</th>\n",
              "      <th>35</th>\n",
              "      <th>36</th>\n",
              "      <th>37</th>\n",
              "      <th>38</th>\n",
              "      <th>39</th>\n",
              "      <th>40</th>\n",
              "      <th>41</th>\n",
              "      <th>42</th>\n",
              "      <th>43</th>\n",
              "      <th>44</th>\n",
              "      <th>45</th>\n",
              "      <th>46</th>\n",
              "      <th>47</th>\n",
              "      <th>48</th>\n",
              "      <th>49</th>\n",
              "      <th>50</th>\n",
              "      <th>51</th>\n",
              "      <th>52</th>\n",
              "      <th>53</th>\n",
              "      <th>54</th>\n",
              "      <th>55</th>\n",
              "      <th>56</th>\n",
              "      <th>57</th>\n",
              "      <th>58</th>\n",
              "      <th>59</th>\n",
              "      <th>60</th>\n",
              "      <th>61</th>\n",
              "      <th>62</th>\n",
              "      <th>63</th>\n",
              "      <th>64</th>\n",
              "      <th>65</th>\n",
              "      <th>66</th>\n",
              "      <th>67</th>\n",
              "      <th>68</th>\n",
              "    </tr>\n",
              "  </thead>\n",
              "  <tbody>\n",
              "    <tr>\n",
              "      <th>0</th>\n",
              "      <td>0.50364</td>\n",
              "      <td>0.74719</td>\n",
              "      <td>0.43018</td>\n",
              "      <td>2.8163</td>\n",
              "      <td>5.9902</td>\n",
              "      <td>0.21883</td>\n",
              "      <td>0.17757</td>\n",
              "      <td>2.3737</td>\n",
              "      <td>0.23222</td>\n",
              "      <td>1.7509</td>\n",
              "      <td>0.68791</td>\n",
              "      <td>0.30638</td>\n",
              "      <td>0.40270</td>\n",
              "      <td>0.29693</td>\n",
              "      <td>1.02210</td>\n",
              "      <td>0.60567</td>\n",
              "      <td>1.8777</td>\n",
              "      <td>2.3087</td>\n",
              "      <td>0.44160</td>\n",
              "      <td>0.85937</td>\n",
              "      <td>0.41629</td>\n",
              "      <td>0.36961</td>\n",
              "      <td>0.17894</td>\n",
              "      <td>1.8664</td>\n",
              "      <td>3.6852</td>\n",
              "      <td>1.5372</td>\n",
              "      <td>0.26453</td>\n",
              "      <td>0.31968</td>\n",
              "      <td>0.81387</td>\n",
              "      <td>0.16585</td>\n",
              "      <td>0.45391</td>\n",
              "      <td>3.0376</td>\n",
              "      <td>0.36951</td>\n",
              "      <td>0.45854</td>\n",
              "      <td>0.33534</td>\n",
              "      <td>0.82519</td>\n",
              "      <td>0.57692</td>\n",
              "      <td>0.44810</td>\n",
              "      <td>0.58627</td>\n",
              "      <td>0.39472</td>\n",
              "      <td>0.33957</td>\n",
              "      <td>0.48286</td>\n",
              "      <td>0.29417</td>\n",
              "      <td>0.18215</td>\n",
              "      <td>0.84273</td>\n",
              "      <td>0.19261</td>\n",
              "      <td>1.4431</td>\n",
              "      <td>0.29470</td>\n",
              "      <td>0.35460</td>\n",
              "      <td>1.3391</td>\n",
              "      <td>0.17012</td>\n",
              "      <td>0.15910</td>\n",
              "      <td>0.18885</td>\n",
              "      <td>0.10631</td>\n",
              "      <td>0.14499</td>\n",
              "      <td>0.17667</td>\n",
              "      <td>0.12519</td>\n",
              "      <td>0.11529</td>\n",
              "      <td>0.22804</td>\n",
              "      <td>0.14276</td>\n",
              "      <td>0.43096</td>\n",
              "      <td>0.24754</td>\n",
              "      <td>1.6033</td>\n",
              "      <td>2.0149</td>\n",
              "      <td>0.10823</td>\n",
              "      <td>1.04500</td>\n",
              "      <td>0.83156</td>\n",
              "      <td>0.18885</td>\n",
              "      <td>1.6757</td>\n",
              "    </tr>\n",
              "    <tr>\n",
              "      <th>1</th>\n",
              "      <td>0.51462</td>\n",
              "      <td>0.68906</td>\n",
              "      <td>0.41177</td>\n",
              "      <td>2.7895</td>\n",
              "      <td>5.6850</td>\n",
              "      <td>0.21164</td>\n",
              "      <td>0.17282</td>\n",
              "      <td>2.2921</td>\n",
              "      <td>0.22697</td>\n",
              "      <td>1.5964</td>\n",
              "      <td>0.69501</td>\n",
              "      <td>0.29905</td>\n",
              "      <td>0.38599</td>\n",
              "      <td>0.28132</td>\n",
              "      <td>0.95668</td>\n",
              "      <td>0.58756</td>\n",
              "      <td>1.7258</td>\n",
              "      <td>2.0430</td>\n",
              "      <td>0.44522</td>\n",
              "      <td>0.83466</td>\n",
              "      <td>0.40036</td>\n",
              "      <td>0.35618</td>\n",
              "      <td>0.17368</td>\n",
              "      <td>1.7610</td>\n",
              "      <td>3.4853</td>\n",
              "      <td>1.5092</td>\n",
              "      <td>0.25573</td>\n",
              "      <td>0.30442</td>\n",
              "      <td>0.78050</td>\n",
              "      <td>0.15719</td>\n",
              "      <td>0.43094</td>\n",
              "      <td>2.9219</td>\n",
              "      <td>0.34228</td>\n",
              "      <td>0.42356</td>\n",
              "      <td>0.32483</td>\n",
              "      <td>0.76172</td>\n",
              "      <td>0.54510</td>\n",
              "      <td>0.42088</td>\n",
              "      <td>0.54510</td>\n",
              "      <td>0.36825</td>\n",
              "      <td>0.32196</td>\n",
              "      <td>0.45452</td>\n",
              "      <td>0.27643</td>\n",
              "      <td>0.18209</td>\n",
              "      <td>0.84761</td>\n",
              "      <td>0.19482</td>\n",
              "      <td>1.4395</td>\n",
              "      <td>0.29406</td>\n",
              "      <td>0.35455</td>\n",
              "      <td>1.3063</td>\n",
              "      <td>0.17143</td>\n",
              "      <td>0.15813</td>\n",
              "      <td>0.18457</td>\n",
              "      <td>0.10659</td>\n",
              "      <td>0.15047</td>\n",
              "      <td>0.17831</td>\n",
              "      <td>0.13428</td>\n",
              "      <td>0.11823</td>\n",
              "      <td>0.23807</td>\n",
              "      <td>0.14204</td>\n",
              "      <td>0.45716</td>\n",
              "      <td>0.25763</td>\n",
              "      <td>1.6717</td>\n",
              "      <td>2.0046</td>\n",
              "      <td>0.10975</td>\n",
              "      <td>1.00990</td>\n",
              "      <td>0.84927</td>\n",
              "      <td>0.20040</td>\n",
              "      <td>1.7436</td>\n",
              "    </tr>\n",
              "    <tr>\n",
              "      <th>2</th>\n",
              "      <td>0.50918</td>\n",
              "      <td>0.73025</td>\n",
              "      <td>0.41831</td>\n",
              "      <td>2.6872</td>\n",
              "      <td>5.6221</td>\n",
              "      <td>0.20901</td>\n",
              "      <td>0.17572</td>\n",
              "      <td>2.2833</td>\n",
              "      <td>0.23025</td>\n",
              "      <td>1.5613</td>\n",
              "      <td>0.67735</td>\n",
              "      <td>0.29128</td>\n",
              "      <td>0.38100</td>\n",
              "      <td>0.28171</td>\n",
              "      <td>1.00360</td>\n",
              "      <td>0.60245</td>\n",
              "      <td>1.7319</td>\n",
              "      <td>2.0180</td>\n",
              "      <td>0.46767</td>\n",
              "      <td>0.81433</td>\n",
              "      <td>0.39985</td>\n",
              "      <td>0.36809</td>\n",
              "      <td>0.17390</td>\n",
              "      <td>1.7655</td>\n",
              "      <td>3.5715</td>\n",
              "      <td>1.5012</td>\n",
              "      <td>0.25961</td>\n",
              "      <td>0.31175</td>\n",
              "      <td>0.78515</td>\n",
              "      <td>0.16090</td>\n",
              "      <td>0.42319</td>\n",
              "      <td>2.9441</td>\n",
              "      <td>0.34370</td>\n",
              "      <td>0.42500</td>\n",
              "      <td>0.32485</td>\n",
              "      <td>0.75703</td>\n",
              "      <td>0.54362</td>\n",
              "      <td>0.40463</td>\n",
              "      <td>0.55299</td>\n",
              "      <td>0.36388</td>\n",
              "      <td>0.31309</td>\n",
              "      <td>0.44720</td>\n",
              "      <td>0.25665</td>\n",
              "      <td>0.18439</td>\n",
              "      <td>0.85617</td>\n",
              "      <td>0.20074</td>\n",
              "      <td>1.5244</td>\n",
              "      <td>0.30188</td>\n",
              "      <td>0.38609</td>\n",
              "      <td>1.2796</td>\n",
              "      <td>0.18546</td>\n",
              "      <td>0.14870</td>\n",
              "      <td>0.19053</td>\n",
              "      <td>0.10830</td>\n",
              "      <td>0.14533</td>\n",
              "      <td>0.17621</td>\n",
              "      <td>0.13256</td>\n",
              "      <td>0.11776</td>\n",
              "      <td>0.24482</td>\n",
              "      <td>0.14244</td>\n",
              "      <td>0.51047</td>\n",
              "      <td>0.25534</td>\n",
              "      <td>1.6635</td>\n",
              "      <td>2.0168</td>\n",
              "      <td>0.10820</td>\n",
              "      <td>0.99685</td>\n",
              "      <td>0.84671</td>\n",
              "      <td>0.19368</td>\n",
              "      <td>1.9264</td>\n",
              "    </tr>\n",
              "    <tr>\n",
              "      <th>3</th>\n",
              "      <td>0.44211</td>\n",
              "      <td>0.61708</td>\n",
              "      <td>0.35863</td>\n",
              "      <td>2.4669</td>\n",
              "      <td>4.9795</td>\n",
              "      <td>0.22289</td>\n",
              "      <td>0.17646</td>\n",
              "      <td>2.1523</td>\n",
              "      <td>0.20700</td>\n",
              "      <td>1.5951</td>\n",
              "      <td>0.58328</td>\n",
              "      <td>0.29673</td>\n",
              "      <td>0.37709</td>\n",
              "      <td>0.31383</td>\n",
              "      <td>0.87539</td>\n",
              "      <td>0.52029</td>\n",
              "      <td>1.5669</td>\n",
              "      <td>2.1328</td>\n",
              "      <td>0.47767</td>\n",
              "      <td>0.72770</td>\n",
              "      <td>0.38564</td>\n",
              "      <td>0.36297</td>\n",
              "      <td>0.17945</td>\n",
              "      <td>1.2863</td>\n",
              "      <td>2.9701</td>\n",
              "      <td>1.4197</td>\n",
              "      <td>0.25954</td>\n",
              "      <td>0.27922</td>\n",
              "      <td>0.73449</td>\n",
              "      <td>0.16221</td>\n",
              "      <td>0.41061</td>\n",
              "      <td>2.5002</td>\n",
              "      <td>0.34451</td>\n",
              "      <td>0.42921</td>\n",
              "      <td>0.33012</td>\n",
              "      <td>0.74698</td>\n",
              "      <td>0.54676</td>\n",
              "      <td>0.38686</td>\n",
              "      <td>0.54785</td>\n",
              "      <td>0.36677</td>\n",
              "      <td>0.32849</td>\n",
              "      <td>0.44265</td>\n",
              "      <td>0.39853</td>\n",
              "      <td>0.16177</td>\n",
              "      <td>0.76023</td>\n",
              "      <td>0.18417</td>\n",
              "      <td>1.6124</td>\n",
              "      <td>0.29638</td>\n",
              "      <td>0.29068</td>\n",
              "      <td>1.1988</td>\n",
              "      <td>0.15980</td>\n",
              "      <td>0.16611</td>\n",
              "      <td>0.18532</td>\n",
              "      <td>0.10318</td>\n",
              "      <td>0.14066</td>\n",
              "      <td>0.16380</td>\n",
              "      <td>0.12321</td>\n",
              "      <td>0.11744</td>\n",
              "      <td>0.23495</td>\n",
              "      <td>0.14507</td>\n",
              "      <td>0.43100</td>\n",
              "      <td>0.25110</td>\n",
              "      <td>1.4846</td>\n",
              "      <td>1.9572</td>\n",
              "      <td>0.11988</td>\n",
              "      <td>0.99022</td>\n",
              "      <td>0.83328</td>\n",
              "      <td>0.19211</td>\n",
              "      <td>1.7006</td>\n",
              "    </tr>\n",
              "    <tr>\n",
              "      <th>4</th>\n",
              "      <td>0.43494</td>\n",
              "      <td>0.61743</td>\n",
              "      <td>0.35880</td>\n",
              "      <td>2.3658</td>\n",
              "      <td>4.7187</td>\n",
              "      <td>0.21311</td>\n",
              "      <td>0.17363</td>\n",
              "      <td>2.1340</td>\n",
              "      <td>0.19216</td>\n",
              "      <td>1.5042</td>\n",
              "      <td>0.55096</td>\n",
              "      <td>0.28696</td>\n",
              "      <td>0.36350</td>\n",
              "      <td>0.27796</td>\n",
              "      <td>0.86491</td>\n",
              "      <td>0.50799</td>\n",
              "      <td>1.4801</td>\n",
              "      <td>2.0137</td>\n",
              "      <td>0.48342</td>\n",
              "      <td>0.68779</td>\n",
              "      <td>0.36753</td>\n",
              "      <td>0.35531</td>\n",
              "      <td>0.17484</td>\n",
              "      <td>1.3247</td>\n",
              "      <td>2.8963</td>\n",
              "      <td>1.3599</td>\n",
              "      <td>0.25070</td>\n",
              "      <td>0.27367</td>\n",
              "      <td>0.70270</td>\n",
              "      <td>0.15483</td>\n",
              "      <td>0.39855</td>\n",
              "      <td>2.4566</td>\n",
              "      <td>0.32913</td>\n",
              "      <td>0.40876</td>\n",
              "      <td>0.31341</td>\n",
              "      <td>0.69196</td>\n",
              "      <td>0.53686</td>\n",
              "      <td>0.36082</td>\n",
              "      <td>0.51282</td>\n",
              "      <td>0.35155</td>\n",
              "      <td>0.31221</td>\n",
              "      <td>0.41909</td>\n",
              "      <td>0.39345</td>\n",
              "      <td>0.16020</td>\n",
              "      <td>0.76811</td>\n",
              "      <td>0.18572</td>\n",
              "      <td>1.6458</td>\n",
              "      <td>0.29683</td>\n",
              "      <td>0.30935</td>\n",
              "      <td>1.2070</td>\n",
              "      <td>0.16465</td>\n",
              "      <td>0.16069</td>\n",
              "      <td>0.18822</td>\n",
              "      <td>0.10478</td>\n",
              "      <td>0.14198</td>\n",
              "      <td>0.16771</td>\n",
              "      <td>0.13684</td>\n",
              "      <td>0.11605</td>\n",
              "      <td>0.25553</td>\n",
              "      <td>0.14087</td>\n",
              "      <td>0.48123</td>\n",
              "      <td>0.25177</td>\n",
              "      <td>1.5348</td>\n",
              "      <td>2.0091</td>\n",
              "      <td>0.11952</td>\n",
              "      <td>0.99777</td>\n",
              "      <td>0.87867</td>\n",
              "      <td>0.20560</td>\n",
              "      <td>1.8397</td>\n",
              "    </tr>\n",
              "  </tbody>\n",
              "</table>\n",
              "</div>"
            ],
            "text/plain": [
              "        0        1        2       3   ...       65       66       67      68\n",
              "0  0.50364  0.74719  0.43018  2.8163  ...  1.04500  0.83156  0.18885  1.6757\n",
              "1  0.51462  0.68906  0.41177  2.7895  ...  1.00990  0.84927  0.20040  1.7436\n",
              "2  0.50918  0.73025  0.41831  2.6872  ...  0.99685  0.84671  0.19368  1.9264\n",
              "3  0.44211  0.61708  0.35863  2.4669  ...  0.99022  0.83328  0.19211  1.7006\n",
              "4  0.43494  0.61743  0.35880  2.3658  ...  0.99777  0.87867  0.20560  1.8397\n",
              "\n",
              "[5 rows x 69 columns]"
            ]
          },
          "metadata": {
            "tags": []
          },
          "execution_count": 44
        }
      ]
    },
    {
      "cell_type": "code",
      "metadata": {
        "colab": {
          "base_uri": "https://localhost:8080/"
        },
        "id": "zrIvw52rPdx4",
        "outputId": "0a4b3716-b103-4f9c-96c8-8d6341b0385f"
      },
      "source": [
        "print(df_label.head())\n",
        "print(df_label.tail())"
      ],
      "execution_count": 45,
      "outputs": [
        {
          "output_type": "stream",
          "text": [
            "   0\n",
            "0  1\n",
            "1  1\n",
            "2  1\n",
            "3  1\n",
            "4  1\n",
            "      0\n",
            "1072  2\n",
            "1073  2\n",
            "1074  2\n",
            "1075  2\n",
            "1076  2\n"
          ],
          "name": "stdout"
        }
      ]
    },
    {
      "cell_type": "markdown",
      "metadata": {
        "id": "Yilj1IY3M4Zr"
      },
      "source": [
        "---\n",
        "\n",
        "4-1. 사용한 모델을 입력합니다. \n",
        "\n",
        "4-2. Accuracy를 입력합니다. \n",
        "\n",
        "4-3. Precision 을 입력합니다. \n",
        "\n",
        "4-4. Recall 을 입력합니다.\n",
        "\n",
        "4-5. F1 score 를 입력합니다. "
      ]
    },
    {
      "cell_type": "code",
      "metadata": {
        "colab": {
          "base_uri": "https://localhost:8080/"
        },
        "id": "e9ZhYyHFaucg",
        "outputId": "6eff0a85-e670-436c-96d3-a8b2cdfa84ad"
      },
      "source": [
        "import pandas as pd\n",
        "!pip install tensorflow-gpu==2.0.0-rc1\n",
        "import tensorflow as tf"
      ],
      "execution_count": 46,
      "outputs": [
        {
          "output_type": "stream",
          "text": [
            "Requirement already satisfied: tensorflow-gpu==2.0.0-rc1 in /usr/local/lib/python3.7/dist-packages (2.0.0rc1)\n",
            "Requirement already satisfied: wheel>=0.26 in /usr/local/lib/python3.7/dist-packages (from tensorflow-gpu==2.0.0-rc1) (0.36.2)\n",
            "Requirement already satisfied: gast>=0.2.0 in /usr/local/lib/python3.7/dist-packages (from tensorflow-gpu==2.0.0-rc1) (0.4.0)\n",
            "Requirement already satisfied: tb-nightly<1.15.0a20190807,>=1.15.0a20190806 in /usr/local/lib/python3.7/dist-packages (from tensorflow-gpu==2.0.0-rc1) (1.15.0a20190806)\n",
            "Requirement already satisfied: tf-estimator-nightly<1.14.0.dev2019080602,>=1.14.0.dev2019080601 in /usr/local/lib/python3.7/dist-packages (from tensorflow-gpu==2.0.0-rc1) (1.14.0.dev2019080601)\n",
            "Requirement already satisfied: six>=1.10.0 in /usr/local/lib/python3.7/dist-packages (from tensorflow-gpu==2.0.0-rc1) (1.15.0)\n",
            "Requirement already satisfied: keras-applications>=1.0.8 in /usr/local/lib/python3.7/dist-packages (from tensorflow-gpu==2.0.0-rc1) (1.0.8)\n",
            "Requirement already satisfied: google-pasta>=0.1.6 in /usr/local/lib/python3.7/dist-packages (from tensorflow-gpu==2.0.0-rc1) (0.2.0)\n",
            "Requirement already satisfied: numpy<2.0,>=1.16.0 in /usr/local/lib/python3.7/dist-packages (from tensorflow-gpu==2.0.0-rc1) (1.19.5)\n",
            "Requirement already satisfied: opt-einsum>=2.3.2 in /usr/local/lib/python3.7/dist-packages (from tensorflow-gpu==2.0.0-rc1) (3.3.0)\n",
            "Requirement already satisfied: keras-preprocessing>=1.0.5 in /usr/local/lib/python3.7/dist-packages (from tensorflow-gpu==2.0.0-rc1) (1.1.2)\n",
            "Requirement already satisfied: wrapt>=1.11.1 in /usr/local/lib/python3.7/dist-packages (from tensorflow-gpu==2.0.0-rc1) (1.12.1)\n",
            "Requirement already satisfied: astor>=0.6.0 in /usr/local/lib/python3.7/dist-packages (from tensorflow-gpu==2.0.0-rc1) (0.8.1)\n",
            "Requirement already satisfied: grpcio>=1.8.6 in /usr/local/lib/python3.7/dist-packages (from tensorflow-gpu==2.0.0-rc1) (1.34.1)\n",
            "Requirement already satisfied: absl-py>=0.7.0 in /usr/local/lib/python3.7/dist-packages (from tensorflow-gpu==2.0.0-rc1) (0.12.0)\n",
            "Requirement already satisfied: protobuf>=3.6.1 in /usr/local/lib/python3.7/dist-packages (from tensorflow-gpu==2.0.0-rc1) (3.17.3)\n",
            "Requirement already satisfied: termcolor>=1.1.0 in /usr/local/lib/python3.7/dist-packages (from tensorflow-gpu==2.0.0-rc1) (1.1.0)\n",
            "Requirement already satisfied: h5py in /usr/local/lib/python3.7/dist-packages (from keras-applications>=1.0.8->tensorflow-gpu==2.0.0-rc1) (3.1.0)\n",
            "Requirement already satisfied: werkzeug>=0.11.15 in /usr/local/lib/python3.7/dist-packages (from tb-nightly<1.15.0a20190807,>=1.15.0a20190806->tensorflow-gpu==2.0.0-rc1) (1.0.1)\n",
            "Requirement already satisfied: setuptools>=41.0.0 in /usr/local/lib/python3.7/dist-packages (from tb-nightly<1.15.0a20190807,>=1.15.0a20190806->tensorflow-gpu==2.0.0-rc1) (57.2.0)\n",
            "Requirement already satisfied: markdown>=2.6.8 in /usr/local/lib/python3.7/dist-packages (from tb-nightly<1.15.0a20190807,>=1.15.0a20190806->tensorflow-gpu==2.0.0-rc1) (3.3.4)\n",
            "Requirement already satisfied: importlib-metadata in /usr/local/lib/python3.7/dist-packages (from markdown>=2.6.8->tb-nightly<1.15.0a20190807,>=1.15.0a20190806->tensorflow-gpu==2.0.0-rc1) (4.6.1)\n",
            "Requirement already satisfied: cached-property in /usr/local/lib/python3.7/dist-packages (from h5py->keras-applications>=1.0.8->tensorflow-gpu==2.0.0-rc1) (1.5.2)\n",
            "Requirement already satisfied: zipp>=0.5 in /usr/local/lib/python3.7/dist-packages (from importlib-metadata->markdown>=2.6.8->tb-nightly<1.15.0a20190807,>=1.15.0a20190806->tensorflow-gpu==2.0.0-rc1) (3.5.0)\n",
            "Requirement already satisfied: typing-extensions>=3.6.4 in /usr/local/lib/python3.7/dist-packages (from importlib-metadata->markdown>=2.6.8->tb-nightly<1.15.0a20190807,>=1.15.0a20190806->tensorflow-gpu==2.0.0-rc1) (3.7.4.3)\n"
          ],
          "name": "stdout"
        }
      ]
    },
    {
      "cell_type": "code",
      "metadata": {
        "colab": {
          "base_uri": "https://localhost:8080/"
        },
        "id": "afeETg-laWSt",
        "outputId": "1a865079-549d-429d-c69b-8528b55ef2e2"
      },
      "source": [
        "!sudo apt-get install -y fonts-nanum\n",
        "!sudo fc-cache -fv\n",
        "!rm ~/.cache/matplotlib -rf"
      ],
      "execution_count": 47,
      "outputs": [
        {
          "output_type": "stream",
          "text": [
            "Reading package lists... Done\n",
            "Building dependency tree       \n",
            "Reading state information... Done\n",
            "fonts-nanum is already the newest version (20170925-1).\n",
            "0 upgraded, 0 newly installed, 0 to remove and 40 not upgraded.\n",
            "/usr/share/fonts: caching, new cache contents: 0 fonts, 1 dirs\n",
            "/usr/share/fonts/truetype: caching, new cache contents: 0 fonts, 3 dirs\n",
            "/usr/share/fonts/truetype/humor-sans: caching, new cache contents: 1 fonts, 0 dirs\n",
            "/usr/share/fonts/truetype/liberation: caching, new cache contents: 16 fonts, 0 dirs\n",
            "/usr/share/fonts/truetype/nanum: caching, new cache contents: 10 fonts, 0 dirs\n",
            "/usr/local/share/fonts: caching, new cache contents: 0 fonts, 0 dirs\n",
            "/root/.local/share/fonts: skipping, no such directory\n",
            "/root/.fonts: skipping, no such directory\n",
            "/var/cache/fontconfig: cleaning cache directory\n",
            "/root/.cache/fontconfig: not cleaning non-existent cache directory\n",
            "/root/.fontconfig: not cleaning non-existent cache directory\n",
            "fc-cache: succeeded\n"
          ],
          "name": "stdout"
        }
      ]
    },
    {
      "cell_type": "markdown",
      "metadata": {
        "id": "sarJZwL15NnZ"
      },
      "source": [
        "**타겟값 분포**"
      ]
    },
    {
      "cell_type": "code",
      "metadata": {
        "colab": {
          "base_uri": "https://localhost:8080/",
          "height": 294
        },
        "id": "0wSFNcCdhjs6",
        "outputId": "b8e2a8ef-b4b6-4515-c125-a7aaca99966f"
      },
      "source": [
        "import seaborn as sns\n",
        "import matplotlib.pyplot as plt\n",
        "\n",
        "g = sns.countplot(x= df_label[0]);\n",
        "g.set_title(\"다운증후군 증상\");\n",
        "g.set_xticklabels([\"다운증후군\", \"정상\"]);\n",
        "plt.rc('font', family='NanumBarunGothic') "
      ],
      "execution_count": 48,
      "outputs": [
        {
          "output_type": "display_data",
          "data": {
            "image/png": "[encoded data removed]",
            "text/plain": [
              "<Figure size 432x288 with 1 Axes>"
            ]
          },
          "metadata": {
            "tags": [],
            "needs_background": "light"
          }
        }
      ]
    },
    {
      "cell_type": "code",
      "metadata": {
        "id": "_gFklCtXeNQ6"
      },
      "source": [
        "# 텐서플로우 데이터셋으로 만들기 전 string으로 열이름 변경\n",
        "col = []\n",
        "for i in df.columns:\n",
        "  col.append(str(i))\n",
        "df.columns = col"
      ],
      "execution_count": 49,
      "outputs": []
    },
    {
      "cell_type": "code",
      "metadata": {
        "id": "rv02qC73lKfq"
      },
      "source": [
        "# 수치형 변수 : 실수값 변형 없이 그대로 전달\n",
        "feature_columns=[]\n",
        "for header in col:\n",
        "  feature_columns.append(tf.feature_column.numeric_column(header))"
      ],
      "execution_count": 50,
      "outputs": []
    },
    {
      "cell_type": "code",
      "metadata": {
        "id": "UElp01Q3zL_C"
      },
      "source": [
        "# 데이터 나누기\n",
        "from sklearn.model_selection import train_test_split\n",
        "train_x, test_x, train_y, test_y = train_test_split(df, df_label,test_size=0.2, random_state=42)\n",
        "train_x, val_x, train_y, val_y = train_test_split(train_x, train_y,test_size=0.2, random_state=42)\n"
      ],
      "execution_count": 51,
      "outputs": []
    },
    {
      "cell_type": "markdown",
      "metadata": {
        "id": "r5oErIj_5aH6"
      },
      "source": [
        "# 딥러닝"
      ]
    },
    {
      "cell_type": "code",
      "metadata": {
        "id": "JdP54Tr8fgLx"
      },
      "source": [
        "# 판다스 데이터프레임 -- > 텐서플로우 데이터셋으로 변형하는 함수\n",
        "def df_to_dataset(df, df_label,shuffle=True, batch_size=32):\n",
        "  df = df.copy()\n",
        "  labels = df_label[0]\n",
        "  ds = tf.data.Dataset.from_tensor_slices((dict(df),labels))\n",
        "  if shuffle:\n",
        "    ds = ds.shuffle(buffer_size=len(df))\n",
        "  ds = ds.batch(batch_size)\n",
        "  return ds"
      ],
      "execution_count": 52,
      "outputs": []
    },
    {
      "cell_type": "code",
      "metadata": {
        "id": "yzU-9Gx5hA6V"
      },
      "source": [
        "train_ds = df_to_dataset(train_x, train_y)\n",
        "val_ds = df_to_dataset(val_x,val_y, shuffle=False)\n",
        "test_ds = df_to_dataset(test_x, test_y, shuffle=False)"
      ],
      "execution_count": 53,
      "outputs": []
    },
    {
      "cell_type": "code",
      "metadata": {
        "id": "McClNp6LcLkp"
      },
      "source": [
        "# 신경망 모델 만들기\n",
        "model = tf.keras.models.Sequential([\n",
        "                                    tf.keras.layers.DenseFeatures(feature_columns=feature_columns),\n",
        "                                    tf.keras.layers.Dense(128, activation='relu'),\n",
        "                                    tf.keras.layers.Dense(1280, activation='relu'),                                    \n",
        "                                    tf.keras.layers.Dropout(rate=0.2),                                   \n",
        "                                    tf.keras.layers.Dense(1, activation='sigmoid')\n",
        "                                    ])\n",
        "\n",
        "model.compile(optimizer='adam',\n",
        "              loss='binary_crossentropy',\n",
        "              metrics=['accuracy'])"
      ],
      "execution_count": 54,
      "outputs": []
    },
    {
      "cell_type": "code",
      "metadata": {
        "colab": {
          "base_uri": "https://localhost:8080/"
        },
        "id": "fXIdL1irj2pM",
        "outputId": "a7037965-54e6-4d20-c938-345ee669d554"
      },
      "source": [
        "# 모델 학습\n",
        "model.fit(train_ds, validation_data=val_ds, epochs=5)"
      ],
      "execution_count": 55,
      "outputs": [
        {
          "output_type": "stream",
          "text": [
            "Epoch 1/5\n",
            "WARNING:tensorflow:Entity <function Function._initialize_uninitialized_variables.<locals>.initialize_variables at 0x7f9193f3ecb0> could not be transformed and will be executed as-is. Please report this to the AutoGraph team. When filing the bug, set the verbosity to 10 (on Linux, `export AUTOGRAPH_VERBOSITY=10`) and attach the full output. Cause: module 'gast' has no attribute 'Index'\n",
            "WARNING: Entity <function Function._initialize_uninitialized_variables.<locals>.initialize_variables at 0x7f9193f3ecb0> could not be transformed and will be executed as-is. Please report this to the AutoGraph team. When filing the bug, set the verbosity to 10 (on Linux, `export AUTOGRAPH_VERBOSITY=10`) and attach the full output. Cause: module 'gast' has no attribute 'Index'\n",
            "22/22 [==============================] - 3s 132ms/step - loss: -10.5428 - accuracy: 0.5131 - val_loss: 0.0000e+00 - val_accuracy: 0.0000e+00\n",
            "Epoch 2/5\n",
            "22/22 [==============================] - 0s 14ms/step - loss: -93.8157 - accuracy: 0.5145 - val_loss: -170.4485 - val_accuracy: 0.5607\n",
            "Epoch 3/5\n",
            "22/22 [==============================] - 0s 14ms/step - loss: -419.3208 - accuracy: 0.5145 - val_loss: -636.4479 - val_accuracy: 0.5607\n",
            "Epoch 4/5\n",
            "22/22 [==============================] - 0s 13ms/step - loss: -1284.6396 - accuracy: 0.5145 - val_loss: -1730.6917 - val_accuracy: 0.5607\n",
            "Epoch 5/5\n",
            "22/22 [==============================] - 0s 14ms/step - loss: -3178.3679 - accuracy: 0.5145 - val_loss: -3860.8545 - val_accuracy: 0.5607\n"
          ],
          "name": "stdout"
        },
        {
          "output_type": "execute_result",
          "data": {
            "text/plain": [
              "<tensorflow.python.keras.callbacks.History at 0x7f91aacc5fd0>"
            ]
          },
          "metadata": {
            "tags": []
          },
          "execution_count": 55
        }
      ]
    },
    {
      "cell_type": "code",
      "metadata": {
        "colab": {
          "base_uri": "https://localhost:8080/"
        },
        "id": "LOqvfYVHwQLd",
        "outputId": "95fd6948-68ba-44b2-c62f-f6360e646286"
      },
      "source": [
        "# 정확도 평가\n",
        "model.evaluate(test_ds)"
      ],
      "execution_count": 56,
      "outputs": [
        {
          "output_type": "stream",
          "text": [
            "7/7 [==============================] - 1s 97ms/step - loss: -4390.6090 - accuracy: 0.5509\n"
          ],
          "name": "stdout"
        },
        {
          "output_type": "execute_result",
          "data": {
            "text/plain": [
              "[-4390.608991350447, 0.5509259]"
            ]
          },
          "metadata": {
            "tags": []
          },
          "execution_count": 56
        }
      ]
    },
    {
      "cell_type": "code",
      "metadata": {
        "colab": {
          "base_uri": "https://localhost:8080/"
        },
        "id": "Wat7DStSmJaq",
        "outputId": "4522b8b8-fbb1-4dc1-d2f7-d4732217fff0"
      },
      "source": [
        "from sklearn.metrics import classification_report\n",
        "\n",
        "predictions = model.predict(test_ds)\n",
        "bin_predictions = tf.round(predictions).numpy().flatten()\n",
        "print(classification_report(test_y.values, bin_predictions))"
      ],
      "execution_count": 57,
      "outputs": [
        {
          "output_type": "stream",
          "text": [
            "              precision    recall  f1-score   support\n",
            "\n",
            "           1       0.55      1.00      0.71       119\n",
            "           2       0.00      0.00      0.00        97\n",
            "\n",
            "    accuracy                           0.55       216\n",
            "   macro avg       0.28      0.50      0.36       216\n",
            "weighted avg       0.30      0.55      0.39       216\n",
            "\n"
          ],
          "name": "stdout"
        },
        {
          "output_type": "stream",
          "text": [
            "/usr/local/lib/python3.7/dist-packages/sklearn/metrics/_classification.py:1272: UndefinedMetricWarning: Precision and F-score are ill-defined and being set to 0.0 in labels with no predicted samples. Use `zero_division` parameter to control this behavior.\n",
            "  _warn_prf(average, modifier, msg_start, len(result))\n"
          ],
          "name": "stderr"
        }
      ]
    },
    {
      "cell_type": "code",
      "metadata": {
        "colab": {
          "base_uri": "https://localhost:8080/",
          "height": 419
        },
        "id": "YUIg2o3XnSeZ",
        "outputId": "42675a03-d778-4bd1-aa2b-d28462ea1f71"
      },
      "source": [
        "test_y"
      ],
      "execution_count": 58,
      "outputs": [
        {
          "output_type": "execute_result",
          "data": {
            "text/html": [
              "<div>\n",
              "<style scoped>\n",
              "    .dataframe tbody tr th:only-of-type {\n",
              "        vertical-align: middle;\n",
              "    }\n",
              "\n",
              "    .dataframe tbody tr th {\n",
              "        vertical-align: top;\n",
              "    }\n",
              "\n",
              "    .dataframe thead th {\n",
              "        text-align: right;\n",
              "    }\n",
              "</style>\n",
              "<table border=\"1\" class=\"dataframe\">\n",
              "  <thead>\n",
              "    <tr style=\"text-align: right;\">\n",
              "      <th></th>\n",
              "      <th>0</th>\n",
              "    </tr>\n",
              "  </thead>\n",
              "  <tbody>\n",
              "    <tr>\n",
              "      <th>423</th>\n",
              "      <td>1</td>\n",
              "    </tr>\n",
              "    <tr>\n",
              "      <th>548</th>\n",
              "      <td>1</td>\n",
              "    </tr>\n",
              "    <tr>\n",
              "      <th>959</th>\n",
              "      <td>2</td>\n",
              "    </tr>\n",
              "    <tr>\n",
              "      <th>587</th>\n",
              "      <td>2</td>\n",
              "    </tr>\n",
              "    <tr>\n",
              "      <th>827</th>\n",
              "      <td>2</td>\n",
              "    </tr>\n",
              "    <tr>\n",
              "      <th>...</th>\n",
              "      <td>...</td>\n",
              "    </tr>\n",
              "    <tr>\n",
              "      <th>913</th>\n",
              "      <td>2</td>\n",
              "    </tr>\n",
              "    <tr>\n",
              "      <th>911</th>\n",
              "      <td>2</td>\n",
              "    </tr>\n",
              "    <tr>\n",
              "      <th>678</th>\n",
              "      <td>2</td>\n",
              "    </tr>\n",
              "    <tr>\n",
              "      <th>409</th>\n",
              "      <td>1</td>\n",
              "    </tr>\n",
              "    <tr>\n",
              "      <th>275</th>\n",
              "      <td>1</td>\n",
              "    </tr>\n",
              "  </tbody>\n",
              "</table>\n",
              "<p>216 rows × 1 columns</p>\n",
              "</div>"
            ],
            "text/plain": [
              "     0\n",
              "423  1\n",
              "548  1\n",
              "959  2\n",
              "587  2\n",
              "827  2\n",
              "..  ..\n",
              "913  2\n",
              "911  2\n",
              "678  2\n",
              "409  1\n",
              "275  1\n",
              "\n",
              "[216 rows x 1 columns]"
            ]
          },
          "metadata": {
            "tags": []
          },
          "execution_count": 58
        }
      ]
    },
    {
      "cell_type": "markdown",
      "metadata": {
        "id": "0_7Pqb_n7k9o"
      },
      "source": [
        "# 머신러닝 모델 : LogisticRegression"
      ]
    },
    {
      "cell_type": "code",
      "metadata": {
        "id": "8Pf5dnzD0g48",
        "outputId": "4aad80e5-af20-465b-db7f-2c50a4aa2a79",
        "colab": {
          "base_uri": "https://localhost:8080/"
        }
      },
      "source": [
        "from sklearn.linear_model import LogisticRegression\n",
        "\n",
        "model = LogisticRegression()\n",
        "model.fit(train_x, train_y[0])"
      ],
      "execution_count": 59,
      "outputs": [
        {
          "output_type": "stream",
          "text": [
            "/usr/local/lib/python3.7/dist-packages/sklearn/linear_model/_logistic.py:940: ConvergenceWarning: lbfgs failed to converge (status=1):\n",
            "STOP: TOTAL NO. of ITERATIONS REACHED LIMIT.\n",
            "\n",
            "Increase the number of iterations (max_iter) or scale the data as shown in:\n",
            "    https://scikit-learn.org/stable/modules/preprocessing.html\n",
            "Please also refer to the documentation for alternative solver options:\n",
            "    https://scikit-learn.org/stable/modules/linear_model.html#logistic-regression\n",
            "  extra_warning_msg=_LOGISTIC_SOLVER_CONVERGENCE_MSG)\n"
          ],
          "name": "stderr"
        },
        {
          "output_type": "execute_result",
          "data": {
            "text/plain": [
              "LogisticRegression(C=1.0, class_weight=None, dual=False, fit_intercept=True,\n",
              "                   intercept_scaling=1, l1_ratio=None, max_iter=100,\n",
              "                   multi_class='auto', n_jobs=None, penalty='l2',\n",
              "                   random_state=None, solver='lbfgs', tol=0.0001, verbose=0,\n",
              "                   warm_start=False)"
            ]
          },
          "metadata": {
            "tags": []
          },
          "execution_count": 59
        }
      ]
    },
    {
      "cell_type": "code",
      "metadata": {
        "id": "r6o1EUzH2N00"
      },
      "source": [
        "pred_y = model.predict(val_x)"
      ],
      "execution_count": 60,
      "outputs": []
    },
    {
      "cell_type": "code",
      "metadata": {
        "id": "93HiEI-I2Szo",
        "outputId": "0c9280a5-253d-4102-b26c-16cc4c159468",
        "colab": {
          "base_uri": "https://localhost:8080/"
        }
      },
      "source": [
        "# 검증 데이터셋\n",
        "from sklearn.metrics import accuracy_score\n",
        "accuracy_score(val_y, pred_y)"
      ],
      "execution_count": 61,
      "outputs": [
        {
          "output_type": "execute_result",
          "data": {
            "text/plain": [
              "0.9075144508670521"
            ]
          },
          "metadata": {
            "tags": []
          },
          "execution_count": 61
        }
      ]
    },
    {
      "cell_type": "code",
      "metadata": {
        "id": "q2D1J43q27_-"
      },
      "source": [
        "pred_y = model.predict(test_x)"
      ],
      "execution_count": 62,
      "outputs": []
    },
    {
      "cell_type": "code",
      "metadata": {
        "id": "ZbG80oJz6mBw",
        "outputId": "fe98c231-fada-4920-902b-87ef6694481b",
        "colab": {
          "base_uri": "https://localhost:8080/"
        }
      },
      "source": [
        "from sklearn.metrics import classification_report\n",
        "print(classification_report(test_y,pred_y))"
      ],
      "execution_count": 63,
      "outputs": [
        {
          "output_type": "stream",
          "text": [
            "              precision    recall  f1-score   support\n",
            "\n",
            "           1       0.88      0.94      0.91       119\n",
            "           2       0.92      0.85      0.88        97\n",
            "\n",
            "    accuracy                           0.90       216\n",
            "   macro avg       0.90      0.89      0.90       216\n",
            "weighted avg       0.90      0.90      0.90       216\n",
            "\n"
          ],
          "name": "stdout"
        }
      ]
    }
  ]
}
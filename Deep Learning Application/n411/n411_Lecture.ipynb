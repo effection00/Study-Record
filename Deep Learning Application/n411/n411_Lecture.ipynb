{
  "nbformat": 4,
  "nbformat_minor": 0,
  "metadata": {
    "colab": {
      "name": "ds-cs-N421-Lecture.ipynb",
      "provenance": [],
      "toc_visible": true
    },
    "kernelspec": {
      "display_name": "codestates_ds",
      "language": "python",
      "name": "codestates_ds"
    },
    "language_info": {
      "codemirror_mode": {
        "name": "ipython",
        "version": 3
      },
      "file_extension": ".py",
      "mimetype": "text/x-python",
      "name": "python",
      "nbconvert_exporter": "python",
      "pygments_lexer": "ipython3",
      "version": "3.7.7"
    },
    "toc-autonumbering": false,
    "toc-showcode": false,
    "toc-showmarkdowntxt": false
  },
  "cells": [
    {
      "cell_type": "markdown",
      "metadata": {
        "id": "iAJaRSseDCrU"
      },
      "source": [
        "<img src='https://user-images.githubusercontent.com/6457691/90080969-0f758d00-dd47-11ea-8191-fa12fd2054a7.png' width = '200' align = 'right'>\n",
        "\n",
        "## *DATA SCIENCE / SECTION 4 / SPRINT 1 / NOTE 1*\n",
        "\n",
        "---\n",
        "\n",
        "\n",
        "\n",
        "\n",
        "\n",
        "# N411. 퍼셉트론(Perceptron)과 인공신경망(Artificial Neural Networks)"
      ]
    },
    {
      "cell_type": "markdown",
      "metadata": {
        "id": "2iLDeXM2PTEc"
      },
      "source": [
        "이번 스프린트부터는 신경망(딥러닝)에 대해서 공부해보겠습니다.  <br>\n",
        "앞으로 3주간 공부할 내용은 매우 중요하고, 이 내용만 잘해도 이 필드의 10%의 일자리는 공략할 수 있는 인공지능의 핵심을 배우게 됩니다. <br> 그렇기에 목차리뷰/예습/복습을 철저히 해주시길 부탁드립니다. \n",
        "\n",
        "오늘 공부한 내용이 어디에 위치하는지, <br>\n",
        "다음 배울 내용과 어떻게 연관되는지, <br>\n",
        "목차만 보고도 배운 내용을 줄줄 말할 수 있는지, <br> 확인해보시면 되겠습니다. \n",
        "\n",
        "<br> 앞으로 공부할 목차는 다음과 같습니다. \n",
        "## 🏆 목차\n",
        "  * 신경망과 퍼셉트론의 개념 학습 - **구조, 입출력, 학습**\n",
        "  * 역전파(Backpropagation, backward pass) - **학습방법에 대한 구체적인 지식**\n",
        "  * 신경망 프레임워크와 학습규제(regularization) 전략 - **Weight Decay, Constraint, Learning Rate**\n",
        "  * 신경망의 파라미터 튜닝, 실험추적 시스템 - **Keras tuner, wandb**\n",
        "---\n",
        "  * 텍스트 전처리 - **필요성, 토큰화, 시각화, 불용어제거**\n",
        "  * 텍스트 벡터화 - **언어모델의 이해, CountVectorize, TF-IDF, LSA**\n",
        "  * Word2Vec, 시퀀스 데이터를 위한 딥러닝 - **Word2Vec이해, RNN, LSTM, GRU**\n",
        "  * Attention과 Transformer, GPT - **개념소개, Self-attention, 구동원리**\n",
        "---\n",
        "  * CNN (Convolutional Neural Network) - **이미지 데이터 처리방법, pre-trained model 사용방법**\n",
        "  * Segmenatation - **FCN, Unet, 상용모델 사용하기** \n",
        "  * AutoEncoder - **데이터 압축, Latent개념, 분류기로의 활용**\n",
        "  * GAN(Generative Adversarial Network) - **DCGAN, CycleGAN, 상용 GAN 구현하기**"
      ]
    },
    {
      "cell_type": "markdown",
      "metadata": {
        "id": "MHkyj7aC7VhT"
      },
      "source": [
        "## Warm Up\n",
        "\n",
        "- [일반인을 위한 딥러닝 영상 feat.역사 (0-15분까지만 시청)](https://www.youtube.com/watch?v=C2sqt9pG6K0)\n",
        "  - 신경망의 역사에 대해서 배우고, 신경망의 원리를 '일반인'에게 설명할 수 있다는 학습목표를 가지고 공부하시면 이번 챕터를 수월하게 넘어가실 수 있습니다. \n",
        "- [신경망으로 Linear Regression (03:25~08:50까지)](https://youtu.be/PyzBX93icz0?t=204)\n",
        "  - Section2에서 배웠던 Linear Regression에 대해서 배운 내용을 재확인하고, 신경망을 이용하여 Linear Regression를 표현한다면 어떻게 만들어 볼 수 있는 지, 수학적인 접근을 배워볼 수 있습니다. \n",
        "- 복습 : [머신러닝 개발자들의 일반적인 실수, 과적합 (Overfitting, 4분)](https://www.youtube.com/watch?v=f4sP7OE68-A)\n",
        "- 복습 : [교차검증(Cross Validation, 3분)](https://www.youtube.com/watch?v=TIgfjmp-4BA)\n",
        "- 복습 : [데이터 split & shuffle for ML (7분)](https://www.youtube.com/watch?v=JxFA_bZWPvU)\n",
        "- 학습방법 : Section4를 공부하면서 메타인지가 중요합니다. 내가 아는 것과 모르는 것을 정확하게 구분하는 연습을 해보고, 정확한 개념이 맞는지 이해하고, 정리하고, 설명해보면 좋겠습니다.  [읽어볼 거리 1](https://m.blog.naver.com/PostView.nhn?blogId=hems97&logNo=220557131351&proxyReferer=https:%2F%2Fwww.google.com%2F) (웹페이지) / [읽어볼 거리 2](https://brunch.co.kr/@kamohaeng/53) (웹페이지)\n",
        "  - 내가 무엇을 알고 무엇을 모르고 있는 지 확인하고, 필요한 것을 빠르게 획득하고자 노력해봅시다.\n",
        "  - 강의에서 상대적으로 덜 중요한것들은 간단히 외우고 넘어가는 것도 중요합니다. 제한된 시간에 집중해야 할 것을 알려드리려고 노력해보겠습니다."
      ]
    },
    {
      "cell_type": "markdown",
      "metadata": {
        "id": "rrS_RBzvp9jy"
      },
      "source": [
        "## ❓ 시작하기 전에 - 딥러닝의 역사\n",
        "### 딥러닝이라고 쓰고 인공지능이라고 읽은 뒤, 다시보는 역사\n",
        "\n",
        "인공지능(AI)를 첫 가지로 잡으면 큰 맥락에서 중요하고 생각된 분야와 내용이 다뤄졌습니다. \n",
        "\n",
        "<img src=\"https://originalstatic.aminer.cn/misc/shaozhou/AI-history-tiny.jpg\" />\n",
        "\n",
        "- 패턴인식(Pattern Recognition)\n",
        " - 신경망(Neural Networks)\n",
        "    * 머신러닝\n",
        "      * 딥러닝(신경망)\n",
        "      * ....\n",
        " - 이미지인식(Image Recogition)\n",
        "    * 컴퓨터비전(Computer Vision)\n",
        "      * 딥러닝(신경망)\n",
        "      * ....\n",
        " - 자연어처리(Natural Language Processing)\n",
        "    * 자연어인식 (Natural Language Understanding) → 딥러닝 기반의 자연어 인식\n",
        "- 휴리스틱 프로그램 (Heuristic Programs)\n",
        " - 게임 기술 (Game Playing)\n",
        "   * 강화학습(Reinforcement Learning) → 딥러닝 기반 강화학습 (Deep Reinforcement Learning)\n",
        "- 로보틱스(Robotics)\n",
        "\n",
        "<br><br>\n",
        "\n",
        "다양한 가지들을 보실 수 있는데, 이는 각 분야가 전문 분야라는 것입니다. <br> 모든 것을 다 잘해야하진 않습니다. 이번 코스에서 기본이되는 기본기를 익히시고, 업무를 통해서, 지속적인 공부를 통해서 나만의 전문 분야를 찾아가시기 바랍니다. \n",
        " <br><br>\n",
        "\n",
        "---\n"
      ]
    },
    {
      "cell_type": "markdown",
      "metadata": {
        "id": "CYBP3lfJnvpp"
      },
      "source": [
        "## 🏆 오늘의 학습목표\n",
        "\n",
        "* 퍼셉트론(Perceptron)을 이해하고 python으로 구현할 수 있다.\n",
        "* 신경망(Neural network)의 원리를 이해하고 기본적인 구조를 예를 들어 신경망을 설명할 수 있다.\n",
        "* 신경망이 학습된다는 개념을 이해한다\n"
      ]
    },
    {
      "cell_type": "markdown",
      "metadata": {
        "id": "w8tgRofYLkyp"
      },
      "source": [
        "\n",
        "**신경망 개요** <br>\n",
        "* 1950년대 고양이 신경세포의 실험을 통해 얻어진 신경망 아이디어는 오늘날 다층신경망(MLP, multilayer perceptron)의 발전으로 매우 강력한 머신러닝 기술 중 한 가지가 되었습니다.\n",
        "* 이제는 머신러닝에서 독립하여 딥러닝이라는 학문으로 발전하여 단순 계산만 잘 하던 컴퓨터를 사물인식, 분할기술, 자연어 처리 등은 컴퓨터가 잘 못하는 영역까지 사람보다 뛰어난 성과를 보이며 발전하고 있습니다. \n",
        "\n",
        "**왜 신경망이 다시 대두되었는가?** <br>\n",
        "- 핵심 알고리즘의 발전,\n",
        "- Framework의 발전, \n",
        "- CUDA (Gpu library, 연산 속도 증가),\n",
        "- ImageNet과 같은 Dataset의 발전 등\n",
        "\n",
        "  이런 각각의 발전에서 시작되었고, 2016년 알파고를 기점으로 사람들을 놀라게 하며 인공지능이 필요한 여러 분야, 심지어 필요없는 분야에까지 진출하여 급속한 투자와 함께 깊게 활용되고 있습니다. 물론 사람들의 과도한 기대와 마케팅적 활용으로 인해 그 진실이 가려지는 모습도 볼 수 있었습니다.\n",
        "\n",
        "<img src='https://i.kym-cdn.com/photos/images/original/001/449/433/3cb.jpg' width = '400'> [사진출처](https://knowyourmeme.com/memes/cutting-food-with-a-sword)\n",
        "\n",
        "\n",
        "**그러면 우리는 무엇을 배우고 익힐 것인가?** <br>\n",
        "- 여러분들은 이번 Sprint를 통해 신경망 기술의 장점과 약점을 익히고, \n",
        "- 머신러닝 (Random Forest, Logistic Regression)을 익히고 쓰시는 것처럼, 신경망도 여러분이 언제든 활용할 수 있는 도구로 만들어야 합니다. \n",
        "- 그러려면 일단 신경망의 동작원리를 잘 이해하고, 언제 어떻게 사용할 수 있는 지 알아야합니다. \n",
        "- 그렇게 되면 신경망의 거부감이 사라지고, 누가 **신경망, Neural Network** 라는 단어만 나와도 막 이것저것 떠들고 싶어져야 합니다. \n",
        "\n",
        "- 딥러닝의 한계도 알아서, 딥러닝을 욕할 수 도 있어야 합니다. \n",
        "\n",
        "- 데이터가 많을 때에만 좋은 도구라는 사실과,\n",
        "\n",
        "- 가장 조악하기 짝이없는 방법론인데, 엄청난 데이터와 연산량이 만나 기적과 같은 역할이... 그래서 실로 엄청난 역할을 수행한다고 츤데레처럼 말할 수도 있어야 합니다. \n",
        "\n",
        "- 위 Meme에서처럼 단순한 문제를 풀 때는 쓸모가 없을 수도 있어요. 게임에서나 볼법한 검(Sword)을 스테이크를 자를 때 사용할 필요없지만 \"최종 Boss를 만났을 때 (사물인식, 음성인식 등)\" 유용해질 수 있는 것다는 것입니다. \n",
        "\n",
        "이렇게 신경망은 긴 역사를 가지고 있을 뿐 아니라 현재도 머신러닝에서 가장 많은 연구 결과가 쏟아져 나오는 분야입니다. 이번 sprint에서 신경망에 대해 모든 것을 다룰 수 없겠지만, 신경망(Neural Network)에 대해서 누구와도 대화할 수 있는 가장 기본적인 이론, 용어, 필수 라이브러리 등을 공부하게 됩니다.\n",
        "이것들은 여러분에게 최신 딥러닝의 개발과 발전을 탐구할 수 있는 좋은 기초를 제공할 것입니다.\n",
        "\n",
        "<br><br>\n",
        "\n",
        "---\n",
        "\n",
        "<br>"
      ]
    },
    {
      "cell_type": "markdown",
      "metadata": {
        "id": "vCyHLvj4HsrQ",
        "toc-hr-collapsed": false
      },
      "source": [
        "## 퍼셉트론(Perceptron)이란?\n",
        "\n",
        "사람의 뇌는 치밀하게 연결된 100억개의 뉴런으로 구성되어 있습니다. 뉴런들 사이에는 시냅스라는 연결이 뉴런마다 1000개에서 10000개까지 연결이 되어서 인터넷처럼 망으로 구성되어 뭔가 찾고 싶을 때, 구글링으로 빠르게 검색하여 결과를 얻는 것처럼, 뇌 속에서 소위 \"생각\"이라는 검색도구를 통해서 얻고자하는 정보를 빠르게 뇌속에서 찾을 수 있게 됩니다. 그렇다면 우리도 이런 퍼셉트론의 개념을 따라하면 인공적으로 '생각'하는 것 같은 무엇인가를 만들 수 있지 않을까요?\n",
        "\n",
        "<img src=\"https://www.researchgate.net/profile/Zafeirios_Fountas/publication/266485234/figure/fig2/AS:651919710224385@1532441179639/The-simplest-mathematical-model-of-a-neuron-called-the-Perceptron-30.png\" alt=\"2: The simplest mathematical model of a neuron called the Perceptron. [30]\"/>"
      ]
    },
    {
      "cell_type": "markdown",
      "metadata": {
        "id": "sD7iL0huq2cF"
      },
      "source": [
        "\n",
        "> 오늘은 신경망을 이루는 가장 기본 단위인 퍼셉트론(Perceptron)에 대해서 배워봅시다.\n",
        "\n",
        "- 퍼셉트론은 프랑크 로젠블라트(Frank Rosenblatt)가 1957년 고안한 알고리즘입니다. \n",
        "- 1950년대... 고대 화석 같은 이 알고리즘을 지금 시점에 왜 배우는가?\n",
        "- 퍼셉트론이 신경망(딥러닝)의 기원이 되는 알고리즘이기 때문입니다. \n",
        "\n",
        "> **퍼셉트론은 다수의 신호를 입력으로 받아 하나의 신호를 출력합니다**\n",
        "\n",
        "- 여기서 신호란 전류나 강물처럼 흐름이 있는 것을 상상하면 됩니다. 전류가 전선을 타고 흐르는 전자를 내보내듯이, 퍼셉트론 신호도 흐름을 만들고 정보를 앞으로 전달하게 됩니다. \n",
        "\n",
        "- 다만, 실제 전기(전류)나 물길(수로)와는 다르게 '흐른다' 또는 '안 흐른다'로 0이나 1의 값으로 표현합니다. \n",
        "- 가중치는 전류에서 말하는 저항에 해당합니다. 저항은 전류의 흐름을 억제하는 파라미터로 저항이 낮을수록 큰 전류가 흐르죠. \n",
        "- 한편 퍼셉트론에서는 그 값이 클수록 강한 신호를 흘려보냅니다. \n",
        "- 작용하는 방향은 반대지만, 언젠가 배웠던 저항의 개념으로 얼마나 잘 흐르는가를 통제한다는 점에서 저항과 가중치는 같은 기능을 합니다. "
      ]
    },
    {
      "cell_type": "markdown",
      "metadata": {
        "id": "r7iVYIMjr7-M"
      },
      "source": [
        "### 단순한 논리게이트로 본 퍼셉트론\n",
        "\n",
        "\n"
      ]
    },
    {
      "cell_type": "markdown",
      "metadata": {
        "id": "En_f97k8N-SR"
      },
      "source": [
        "#### AND GATE \n",
        "\n",
        "> 입력신호가 모두 1 이어야 1을 출력\n",
        "\n",
        "디지털 논리회로를 이용한 퍼셉트론의 문제를 살펴보겠습니다. \n",
        "\n",
        "- 예) 밤에 라면을 먹고싶은데 먹어야 할까 말아야 할까를 고민하고 있습니다. \n",
        "\n",
        "실제는 그렇지 않겠지만, 딱 2가지만을 고려할 것입니다. \n",
        "- (1) 저녁을 안 먹었는가?\n",
        "- (2) 11시 이전인가? \n",
        "두 조건이 만족되었을 때 라면을 먹는다고 생각하는 최소한의 퍼셉으론을 구현한다고 할 때 이 게이트를 사용할 수 있습니다. \n",
        "\n",
        "(게이트의 기호나 용어는 처음 학계의 약속이라서 그대로 받아들이시면 좋습니다)"
      ]
    },
    {
      "cell_type": "markdown",
      "metadata": {
        "id": "wn1gfHFtsThR"
      },
      "source": [
        "<img src=\"https://www.allaboutcircuits.com/uploads/articles/two-input-and-gate-truth-table.jpg\" />"
      ]
    },
    {
      "cell_type": "markdown",
      "metadata": {
        "id": "evFHMfExsiqi"
      },
      "source": [
        "이는 논리회로의 진리표라고도 하는데요, 두 입력이 모두 1일 때에만 1을 출력하고, 그 외에는 0을 출력하는 구조입니다. "
      ]
    },
    {
      "cell_type": "code",
      "metadata": {
        "id": "KHgInpjtqygB"
      },
      "source": [
        "# 위 예시를 python으로 제작을 해보겠습니다. \n",
        "# w1, w2는 가중치(weight)를 의미하는 변수입니다.\n",
        "def AND(x1, x2):\n",
        "  w1, w2, theta = 0.5, 0.5, 0.7\n",
        "  tmp = x1*w1 + x2*w2\n",
        "  if tmp <= theta:\n",
        "    return 0\n",
        "  elif tmp > theta:\n",
        "    return 1"
      ],
      "execution_count": null,
      "outputs": []
    },
    {
      "cell_type": "code",
      "metadata": {
        "id": "7gcrrySvtGD6",
        "colab": {
          "base_uri": "https://localhost:8080/"
        },
        "outputId": "96d13900-3e32-44de-f733-95ae8e2ce80d"
      },
      "source": [
        "print(AND(0, 0))\n",
        "print(AND(1, 0))\n",
        "print(AND(0, 1))\n",
        "print(AND(1, 1))"
      ],
      "execution_count": null,
      "outputs": [
        {
          "output_type": "stream",
          "text": [
            "0\n",
            "0\n",
            "0\n",
            "1\n"
          ],
          "name": "stdout"
        }
      ]
    },
    {
      "cell_type": "markdown",
      "metadata": {
        "id": "aBN0xTvotNvy"
      },
      "source": [
        "#### **NAND GATE**\n",
        "\n",
        "> NAND = Not AND\n"
      ]
    },
    {
      "cell_type": "markdown",
      "metadata": {
        "id": "S2PCgBnZtVxn"
      },
      "source": [
        "\n",
        "이번에는 NAND 게이트를 살펴봅시다. NAND는 not AND 게이트를 의미합니다. 바로 위의 AND게이트의 결과를 뒤집으면 됩니다. 0은 1로, 1은 0으로 출력하도록 만드는 것이죠. "
      ]
    },
    {
      "cell_type": "markdown",
      "metadata": {
        "id": "hxtQNxz89Euo"
      },
      "source": [
        "<img src=\"https://www.allaboutcircuits.com/uploads/articles/2-input-nand-gate.jpg\" />"
      ]
    },
    {
      "cell_type": "code",
      "metadata": {
        "id": "gjmMpS1qtMv7"
      },
      "source": [
        "def  NAND(x1, x2):\n",
        "  w1, w2, theta = 0.5, 0.5, 0.7\n",
        "  tmp = x1*w1 + x2*w2\n",
        "  if tmp <= theta:\n",
        "    return 1 ## only change here\n",
        "  elif tmp > theta:\n",
        "    return 0 ## only change here"
      ],
      "execution_count": null,
      "outputs": []
    },
    {
      "cell_type": "code",
      "metadata": {
        "id": "OEoP9kVatozY",
        "colab": {
          "base_uri": "https://localhost:8080/"
        },
        "outputId": "9897614e-7ce8-4d8f-9a79-d166fcae2ad2"
      },
      "source": [
        "print(NAND(0, 0))\n",
        "print(NAND(0, 1))\n",
        "print(NAND(1, 0))\n",
        "print(NAND(1, 1))"
      ],
      "execution_count": null,
      "outputs": [
        {
          "output_type": "stream",
          "text": [
            "1\n",
            "1\n",
            "1\n",
            "0\n"
          ],
          "name": "stdout"
        }
      ]
    },
    {
      "cell_type": "markdown",
      "metadata": {
        "id": "cdajzu3QNyVk"
      },
      "source": [
        "#### **OR GATE**\n",
        "\n",
        "> 입력 신호가 하나만 1이어도 1을 출력"
      ]
    },
    {
      "cell_type": "markdown",
      "metadata": {
        "id": "zDgvMiyU9c4q"
      },
      "source": [
        "<img src=\"https://www.allaboutcircuits.com/uploads/articles/two-input-or-gate-truth-table.jpg\" />"
      ]
    },
    {
      "cell_type": "code",
      "metadata": {
        "id": "kOkx7rtItxB3"
      },
      "source": [
        "def OR(x1, x2):\n",
        "  w1, w2, theta = 0.5, 0.5, 0.3 ## only change here\n",
        "  tmp = x1*w1 + x2*w2\n",
        "  if tmp <= theta:\n",
        "    return 0 \n",
        "  elif tmp > theta:\n",
        "    return 1 "
      ],
      "execution_count": null,
      "outputs": []
    },
    {
      "cell_type": "code",
      "metadata": {
        "id": "-osYAPUit7fm",
        "colab": {
          "base_uri": "https://localhost:8080/"
        },
        "outputId": "34f346c2-309a-49a9-a0b9-77faa215ff16"
      },
      "source": [
        "print(OR(0, 0))\n",
        "print(OR(0, 1))\n",
        "print(OR(1, 0))\n",
        "print(OR(1, 1))\n"
      ],
      "execution_count": null,
      "outputs": [
        {
          "output_type": "stream",
          "text": [
            "0\n",
            "1\n",
            "1\n",
            "1\n"
          ],
          "name": "stdout"
        }
      ]
    },
    {
      "cell_type": "markdown",
      "metadata": {
        "id": "I9_RhVs_uD99"
      },
      "source": [
        " #### XOR GATE 만들기 (HW)\n",
        "\n",
        "퍼셉트론의 한계를 지적하며 나온 문제가 바로 XOR문제입니다. \n",
        "정확한 명칭으로는 exclusive or 를 의미합니다. \n",
        "\n",
        "- XOR GATE를 만들어보세요. \n",
        "- 이 게이트는 두 입력 값 x1, x2가 다를 때만 1을 출력합니다. \n",
        "- 함수로 사용하면 아래와 같이 출력값이 나와야 합니다.\n",
        "\n",
        " * XOR(1, 1) = 0\n",
        "\n",
        " * XOR(1, 0) = 1\n",
        "\n",
        " * XOR(0, 1) = 1\n",
        "\n",
        " * XOR(0, 0) = 0\n",
        "\n",
        " (Hint: 위에서 만든 함수(AND, NAND, OR)를 묶어서 사용하면 이 문제를 해결할 수 있습니다.)"
      ]
    },
    {
      "cell_type": "markdown",
      "metadata": {
        "id": "09Mk6V8VqvQO"
      },
      "source": [
        "## 신경망의 기본 구조"
      ]
    },
    {
      "cell_type": "markdown",
      "metadata": {
        "toc-hr-collapsed": false,
        "id": "oNK_7kh-nvpq"
      },
      "source": [
        "신경망(Neural Networks)은 새로운 기술이 아닙니다. 1943년경 뇌의 신경활동을 수학으로 표현한 아이디어와 위에서 배운 1957년 Rosenblatt이 고안한 **Perceptron(퍼셉트론) 알고리즘이 발전**해 지금까지 이르게 되었습니다. 실제로 1970년대에 신경망에 대한 연구가 많이 진행되었던 것을 알 수 있습니다.<br> **많은 한계점들이 있던 신경망 기술이 좋은 시대를 만나 꽃**을 피우게 된 것입니다.\n",
        "\n",
        "정확한 용어로 **Artificial Neural Networks**(ANN, 인공신경망)이라고 불리는 학습 모델이며 **뇌의 실제 신경계의 특징을 모사**하여 만들어진 계산 모델(computational model)입니다. 뇌 신경망의 작은 구조인 뉴런(Neuron)을 모사한 인공 뉴런인 퍼셉트론은 다수의 입력 신호를 받아 하나의 신호를 출력합니다. 최근에는 **'뉴럴넷'**이라는 이름으로 가장 많이 사용됩니다.\n",
        "\n",
        "그러면 실제 신경세포를 간단히 알아보면서 신경망의 세계로 들어가보겠습니다. \n",
        "\n",
        "\n",
        "- 신경세포(Neuron)\n",
        "  - 뉴런, 수상돌기(Dendrites)에서 입력신호(다른 뉴런과의 시냅스)를 받아들임\n",
        "  - 신경세포(Cell body)에서 정보를 통합함.\n",
        "  - Axon Hillock의 임계값을 통과하면 축삭돌기(Axon)로 최종 출력 신호(또 다른 뉴런으로 전파)를 전송함\n",
        "<br><br>\n",
        "<img src=\"https://upload.wikimedia.org/wikipedia/commons/c/cf/Axon_Hillock.png\" alt=\"Blausen 0657 MultipolarNeuron.png\">\n",
        "\n",
        "\n",
        "  \n",
        "\n",
        "- 퍼셉트론\n",
        "  - 아래 그림에서 '원'들로 표현된 네트워크에서 한 개의 원을 **뉴런(neuron) or 노드(node)**라고 함\n",
        "  - 두번째 그림에서 한개의 뉴런으로 여러 입력신호(x0, x1, ...)가 입력되면 각각 고유한 가중치(weights, w0, w1, ...)가 곱해지고 더해짐\n",
        "  - 각각의 가중치는 뉴런끼리의 시냅스(synapses)의 연결강도(시냅스의 두께, 개수)와 같은 역할을 함.\n",
        "  - 가중치가 곱해진 값들은 모두 더해져 정해진 임계값(threshold)을 넘을 경우에만 다음 노드들이 있는 층(layer)으로 신호가 전해짐\n",
        "\n",
        "<img src=\"https://1.cms.s81c.com/sites/default/files/2021-01-06/ICLH_Diagram_Batch_01_03-DeepNeuralNetwork-WHITEBG.png\" width=800>\n",
        "\n",
        "<img src=\"https://www.researchgate.net/profile/Zafeirios_Fountas/publication/266485234/figure/fig2/AS:651919710224385@1532441179639/The-simplest-mathematical-model-of-a-neuron-called-the-Perceptron-30.png\" alt=\"2: The simplest mathematical model of a neuron called the Perceptron. [30]\"/>\n",
        "\n",
        "\n",
        "\n",
        "\n",
        "\n",
        "여기서 기억해야 할 것은 인공신경망이 우리 신경계를 얼마나 잘 모사하느냐는 우리의 관심사가 아니라는 것 입니다. 인공신경망의 목표는 데이터에서 발견할 수 있는 복잡한 관계를 학습할 수 있는 강력한 알고리즘과 데이터 구조를 만드는 것 입니다. "
      ]
    },
    {
      "cell_type": "markdown",
      "metadata": {
        "id": "8_pfqNZxznHS"
      },
      "source": [
        "### 활성함수 (Activation function)\n",
        "\n",
        "신경망의 기본은 퍼셉트론을 통해서 배웠습니다. \n",
        "이제 진짜 신경망으로 가기 위해서는 활성함수(Activation function)을 배워야 합니다. 신경에서는 Axon hillock 하나였지만, 이번에는 여러 종류의 활성함수를 배우게 됩니다. 이번 시간에는 기본적인 활성함수 3개를 배워보겠습니다. \n",
        "- Step Function\n",
        "- Sigmoid Function\n",
        "- ReLU"
      ]
    },
    {
      "cell_type": "markdown",
      "metadata": {
        "id": "8fFvXVf1xmYP"
      },
      "source": [
        "#### 계단함수 (Step function) 구현하기"
      ]
    },
    {
      "cell_type": "code",
      "metadata": {
        "id": "RgxDYPQ0xTrt",
        "colab": {
          "base_uri": "https://localhost:8080/"
        },
        "outputId": "5eacb391-b988-49f7-bc58-c95ddeef4803"
      },
      "source": [
        "# 0보다 큰 경우에 1을 출력하고, 0보다 작을 때 0을 출력하는 계단 함수 구현하기\n",
        "\n",
        "# 라이브러리 \n",
        "import numpy as np\n",
        "import matplotlib.pyplot as plt \n",
        "import math \n",
        "\n",
        "# 샘플 데이터를 확인합니다. \n",
        "x = np.array([-1, 1, 2])\n",
        "print(x)\n",
        "\n",
        "# 0보다 큰가?\n",
        "y = x>0\n",
        "print(y)\n",
        "\n",
        "# 논리형태를 0과 1로 표현해보기\n",
        "y = y.astype(np.int)\n",
        "print(y)"
      ],
      "execution_count": null,
      "outputs": [
        {
          "output_type": "stream",
          "text": [
            "[-1  1  2]\n",
            "[False  True  True]\n",
            "[0 1 1]\n"
          ],
          "name": "stdout"
        }
      ]
    },
    {
      "cell_type": "code",
      "metadata": {
        "id": "xKwj64vrxrsg"
      },
      "source": [
        "# 함수 정의\n",
        "def step_function(x):\n",
        "  return np.array(x>0, dtype=np.int)"
      ],
      "execution_count": null,
      "outputs": []
    },
    {
      "cell_type": "code",
      "metadata": {
        "id": "WvJ9Vjkmx2zH",
        "colab": {
          "base_uri": "https://localhost:8080/"
        },
        "outputId": "465d9f5b-13f4-4530-ed87-d65dad126a6f"
      },
      "source": [
        "# 함수 실행\n",
        "print(step_function(-1))\n",
        "print(step_function(0.5))\n",
        "print(step_function(500000))"
      ],
      "execution_count": null,
      "outputs": [
        {
          "output_type": "stream",
          "text": [
            "0\n",
            "1\n",
            "1\n"
          ],
          "name": "stdout"
        }
      ]
    },
    {
      "cell_type": "code",
      "metadata": {
        "id": "nnZ_quz-OEmr",
        "colab": {
          "base_uri": "https://localhost:8080/"
        },
        "outputId": "9dc89327-0cf1-4789-eb93-617a1e6ca5da"
      },
      "source": [
        "# 그래프 그리기\n",
        "x = np.linspace(-1, 1, 100) \n",
        "plt.step(x, step_function(x)) \n",
        "plt.show() "
      ],
      "execution_count": null,
      "outputs": [
        {
          "output_type": "display_data",
          "data": {
            "image/png": "[encoded data removed]",
            "text/plain": [
              "<Figure size 432x288 with 1 Axes>"
            ]
          },
          "metadata": {
            "tags": [],
            "needs_background": "light"
          }
        }
      ]
    },
    {
      "cell_type": "markdown",
      "metadata": {
        "id": "UsVbA5ScySJ7"
      },
      "source": [
        "#### Sigmoid function 구현하기"
      ]
    },
    {
      "cell_type": "code",
      "metadata": {
        "id": "cL_38EDMyYmb"
      },
      "source": [
        "def sigmoid(x):\n",
        "  return 1/ (1+np.exp(-x))"
      ],
      "execution_count": null,
      "outputs": []
    },
    {
      "cell_type": "code",
      "metadata": {
        "id": "rqDk2Du8yfHL",
        "colab": {
          "base_uri": "https://localhost:8080/"
        },
        "outputId": "f40515e9-593e-48d0-b360-bcbecfa016fb"
      },
      "source": [
        "x = np.array([-5, -1, 0, 0.1, 5, 500000])\n",
        "print(sigmoid(x))"
      ],
      "execution_count": null,
      "outputs": [
        {
          "output_type": "stream",
          "text": [
            "[0.00669285 0.26894142 0.5        0.52497919 0.99330715 1.        ]\n"
          ],
          "name": "stdout"
        }
      ]
    },
    {
      "cell_type": "code",
      "metadata": {
        "id": "xvoN3WBwzSYv",
        "colab": {
          "base_uri": "https://localhost:8080/"
        },
        "outputId": "136a58ee-6511-4a9f-bb68-70a7cf4bcc2e"
      },
      "source": [
        "x = np.linspace(-10, 10, 100) \n",
        "  \n",
        "plt.plot(x, sigmoid(x)) \n",
        "plt.xlabel(\"x\") \n",
        "plt.ylabel(\"Sigmoid(X)\") \n",
        "  \n",
        "plt.show() "
      ],
      "execution_count": null,
      "outputs": [
        {
          "output_type": "display_data",
          "data": {
            "image/png": "[encoded data removed]",
            "text/plain": [
              "<Figure size 432x288 with 1 Axes>"
            ]
          },
          "metadata": {
            "tags": [],
            "needs_background": "light"
          }
        }
      ]
    },
    {
      "cell_type": "markdown",
      "metadata": {
        "id": "lCC_B4dHx1wJ"
      },
      "source": [
        "#### ReLU 구현하기"
      ]
    },
    {
      "cell_type": "markdown",
      "metadata": {
        "id": "GWxiLSZ-xQo8"
      },
      "source": [
        "대부분의 이론책에서는 Sigmoid를 가장 많이 다룹니다. \n",
        "\n",
        "그러나 실제로 가장 많이 사용하는 것은 ReLU인데요, 이는 Rectified Linear Unit의 줄임말입니다. "
      ]
    },
    {
      "cell_type": "code",
      "metadata": {
        "id": "l_EQJPL70TQK",
        "colab": {
          "base_uri": "https://localhost:8080/"
        },
        "outputId": "a83c13e0-9eb8-4d63-ded9-8f47dbdf48ac"
      },
      "source": [
        "z = np.arange(-3, 3, .1)\n",
        "zero = np.zeros(len(z))\n",
        "y = np.max([zero, z], axis=0)\n",
        "\n",
        "fig = plt.figure()\n",
        "ax = fig.add_subplot(111)\n",
        "ax.plot(z, y)\n",
        "ax.set_ylim([-1.0, 3.0])\n",
        "ax.set_xlim([-3.0, 3.0])\n",
        "#ax.grid(True)\n",
        "ax.set_xlabel('z')\n",
        "ax.set_title('ReLU: Rectified linear unit')\n",
        "\n",
        "plt.show()\n",
        "fig = plt.gcf()"
      ],
      "execution_count": null,
      "outputs": [
        {
          "output_type": "display_data",
          "data": {
            "image/png": "[encoded data removed]",
            "text/plain": [
              "<Figure size 432x288 with 1 Axes>"
            ]
          },
          "metadata": {
            "tags": [],
            "needs_background": "light"
          }
        },
        {
          "output_type": "display_data",
          "data": {
            "text/plain": [
              "<Figure size 432x288 with 0 Axes>"
            ]
          },
          "metadata": {
            "tags": []
          }
        }
      ]
    },
    {
      "cell_type": "markdown",
      "metadata": {
        "id": "rRnwI6b-01xG"
      },
      "source": [
        "## python으로 신경망 제작\n",
        "자! 그렇다면 이제 신경망을 한번 만들어보겠습니다. "
      ]
    },
    {
      "cell_type": "markdown",
      "metadata": {
        "id": "2QswOfMS0-u_"
      },
      "source": [
        "<img src=\"https://www.researchgate.net/profile/Haohan_Wang/publication/282997080/figure/fig4/AS:305939199610886@1449952997594/A-typical-two-layer-neural-network-Input-layer-does-not-count-as-the-number-of-layers-of.png\" width=\"450\" alt=\"A typical two layer neural network. Input layer does not count as the number of layers of a network\"/>"
      ]
    },
    {
      "cell_type": "code",
      "metadata": {
        "id": "NH3qQJPD1CCJ"
      },
      "source": [
        "# 네트워크 구조 생성 함수 정의\n",
        "def init_network():\n",
        "  network = {}\n",
        "  network['W1'] = np.array([[0.1, 0.3, 0.5, 0.7], [0.1, 0.3, 0.5, 0.7], [0.2, 0.4, 0.6, 0.8]]) # 3 x 4\n",
        "  network['B1'] = np.array([0.11, 0.12, 0.13, 0.14])\n",
        "  network['W2'] = np.array([[0.1, 0.5], [0.2, 0.6], [0.3, 0.4], [0.35, 0.35]]) # 4 x 2\n",
        "  network['B2'] = np.array([0.1, 0.5])\n",
        "  network['W3'] = np.array([[0.1, 0.5], [0.2, 0.6]]) # 2 x 2\n",
        "  network['B3'] = np.array([0.1, 0.5])\n",
        "\n",
        "  return network"
      ],
      "execution_count": null,
      "outputs": []
    },
    {
      "cell_type": "code",
      "metadata": {
        "id": "pzClY8jf1zKl"
      },
      "source": [
        "# 순전파 함수 정의\n",
        "def forward(network, x):\n",
        "  W1, W2, W3 = network['W1'], network['W2'], network['W3']\n",
        "  b1, b2, b3 = network['B1'], network['B2'], network['B3']\n",
        "\n",
        "  a1 = np.dot(x, W1) + b1\n",
        "  z1 = sigmoid(a1)\n",
        "  a2 = np.dot(z1, W2) + b2\n",
        "  z2 = sigmoid(a2)\n",
        "  a3 = np.dot(z2, W3) + b3\n",
        "  \n",
        "  y = a3\n",
        "  return y"
      ],
      "execution_count": null,
      "outputs": []
    },
    {
      "cell_type": "code",
      "metadata": {
        "id": "kaiZV7oX2e3p",
        "colab": {
          "base_uri": "https://localhost:8080/"
        },
        "outputId": "118dfb63-9c34-4f9f-94de-0c83abcc3c32"
      },
      "source": [
        "# 네트워크 제작\n",
        "network = init_network()\n",
        "# 샘플 데이터\n",
        "x = np.array([1, 0.5, 0.7])\n",
        "# 순전파 실행\n",
        "y = forward(network, x)\n",
        "print(y)"
      ],
      "execution_count": null,
      "outputs": [
        {
          "output_type": "stream",
          "text": [
            "[0.34212299 1.36580545]\n"
          ],
          "name": "stdout"
        }
      ]
    },
    {
      "cell_type": "markdown",
      "metadata": {
        "id": "LhhsQFuyVuR0",
        "toc-hr-collapsed": true
      },
      "source": [
        "#### 신경망 연산 \n",
        "\n",
        "단순히 입력값에 가중치를 곱해 출력을 내는 매우 간단한 신경망 입니다. \n",
        "\n",
        "이 신경망은 함수라고 생각 할 수 있습니다. (신경망 구조와 식의 색을 비교해 보세요)\n",
        "\n",
        "<img src='http://jalammar.github.io/images/NNs_formula_no_bias.png' width='500'>\n",
        "\n",
        "<img src=\"https://ds-lecture-data.s3.ap-northeast-2.amazonaws.com/etc/note_image/matdim.png\">\n",
        "\n",
        "이렇게 신경망은 노드들이 가중치로 연결되어 입력값을 출력값으로 내보내는 함수인데 이 가중치를 찾는 과정을 학습(training, learning)이라고 하며 가중치는 예측에 사용됩니다.\n",
        "\n",
        "이러한 기초 유닛들의 연결 구조에 따라 수많은 신경망들이 만들어 지는데 [THE NEURAL NETWORK ZOO](https://www.asimovinstitute.org/neural-network-zoo/) 에서 놀랍도록 심플한 방법으로 신경망들의 구조를 다이어그램으로 표현하였습니다.\n",
        "\n",
        "<img src=\"https://www.asimovinstitute.org/wp-content/uploads/2019/04/NeuralNetworkZoo20042019.png\">\n",
        "\n",
        "  "
      ]
    },
    {
      "cell_type": "markdown",
      "metadata": {
        "id": "Ylb_O8Ilz7Sn"
      },
      "source": [
        "---"
      ]
    },
    {
      "cell_type": "markdown",
      "metadata": {
        "id": "6fYbPmJ-ZDWt"
      },
      "source": [
        "### 신경망 층 (Layer) \n",
        "\n",
        "\n",
        "\n"
      ]
    },
    {
      "cell_type": "markdown",
      "metadata": {
        "id": "CWihqiZ9oefg"
      },
      "source": [
        "신경망은 여러 층(layers)으로 구성이 되는데 다음 그림과 같이 기본적으로 입력층(input layers), 은닉층(hidden layers), 출력층(output layers) 으로 나뉩니다.\n",
        "\n",
        "<img src=\"https://www.researchgate.net/profile/Haohan_Wang/publication/282997080/figure/fig4/AS:305939199610886@1449952997594/A-typical-two-layer-neural-network-Input-layer-does-not-count-as-the-number-of-layers-of.png\" width=\"450\" alt=\"A typical two layer neural network. Input layer does not count as the number of layers of a network\"/>"
      ]
    },
    {
      "cell_type": "markdown",
      "metadata": {
        "id": "tr6amnREnvpx"
      },
      "source": [
        "#### 입력층 (Input Layers)\n",
        "\n",
        "- 입력층은 데이터셋으로부터 입력을 받습니다. \n",
        "- 입력 변수의 수와 입력 노드의 수는 같습니다. \n",
        "- 보통 **입력층은 어떤 계산도 수행하지 않고** 그냥 값들을 전달하기만 하는 특징을 가지고 있습니다. \n",
        "- **신경망의 층수(깊이, depth)를 셀 때 입력층은 포함하지 않습니다**. \n",
        "- 위의 그림의 신경망은 2층이라고 할 수 있습니다. \n"
      ]
    },
    {
      "cell_type": "markdown",
      "metadata": {
        "id": "vuOipDqYhWWl"
      },
      "source": [
        "\n",
        "#### 은닉층 (Hidden Layers)\n",
        "\n",
        "- 계산이 일어나는 층이 둘 이상인 신경망을 다층(multilayer) 신경망 이라고 부릅니다. \n",
        "- perceptron에서 이름을 빌려와서, multilayer perceptron (MLP)라고 부르기도 합니다. \n",
        "- 계산이 없는 입력층과 마지막 출력층 사이에 있는 층들을 은닉층(Hidden Layers) 이라고 부릅니다.\n",
        "- 은닉층에 있는 **계산의 결과를 사용자가 볼 수 없기(hidden) 때문에** 이런 이름이 붙었습니다. \n",
        "- 딥러닝(deep learning)은 사실 두 개 이상의 (이때 부터 깊다(deep)라고 합니다) 은닉층들을 가진 신경망, 입력층을 제외하고 세보면, 3개 이상의 Layer를 갖는 신경망을 의미합니다. \n",
        "\n",
        "Q. **위의 그림은 딥러닝일까요?**\n",
        "\n",
        "- 은닉층의 개수를 늘리고 그 연결과 학습 방법을 달리하여 더 복잡한 데이터의 구조를 학습하여 이전 성능 기록들을 갱신하게 되면서 딥러닝이 유명하게 되었습니다. \n",
        "- 은닉층에는 변수 수와 상관 없이 다수의 노드가 포함 가능합니다.\n"
      ]
    },
    {
      "cell_type": "markdown",
      "metadata": {
        "id": "jHp_BRMKhYNY"
      },
      "source": [
        "\n",
        "#### 출력층 (Output Layers)\n",
        "\n",
        "- 신경만 가장 오른쪽, 마지막 층이 출력층 입니다. \n",
        "- **출력층에는 대부분 활성함수(activation function)가 존재**하는데 활성화함수는 풀고자 하는 문제에 따라 다른 종류를 사용합니다. \n",
        "\n",
        "- **회귀 문제에서 예측할 목표 변수가 실수값인 경우 활성화함수가 필요하지 않으며** 출력노드의 수는 출력변수의 갯수와 같습니다.\n",
        "- **이진 분류(binary classification) 문제의 경우 시그모이드(sigmoid) 함수**를 사용해서 출력을 확률 값으로 변환하여 클래스(Class or label)를 결정하도록 합니다.  \n",
        "\n",
        "- **다중클래스(multi-class)를 분류하는 경우 출력층 노드가 부류 수 만큼 존재하며 소프트맥스(softmax) 함수**를 활성화 함수로 사용합니다. \n",
        "\n",
        "- 복잡한 딥러닝 방법론들에서는 은닉층에서도 활성함수를 사용하기 시작합니다. \n",
        "\n"
      ]
    },
    {
      "cell_type": "markdown",
      "metadata": {
        "id": "TX-sGTIZ3nbC"
      },
      "source": [
        "\n",
        "\n",
        "\n",
        "---\n",
        "\n"
      ]
    },
    {
      "cell_type": "markdown",
      "metadata": {
        "id": "BQ0keSgBbtF5"
      },
      "source": [
        "# Tensorflow 신경망 예제\n",
        "\n",
        "(이 예제는 [tensorflow](https://https://www.tensorflow.org/tutorials/quickstart/beginner) 에서 확인 가능합니다)"
      ]
    },
    {
      "cell_type": "markdown",
      "metadata": {
        "id": "2ud5Dc1eTiEW"
      },
      "source": [
        "Google에서 제공하는 FrameWork인 Tensorflow의 MNIST 예제를 살펴보도록 합니다.\n",
        "\n",
        "<img src=\"https://abpaudel.com/assets/img/posts/mnist.png\">\n",
        "\n",
        "\n",
        "\n"
      ]
    },
    {
      "cell_type": "markdown",
      "metadata": {
        "id": "GTeBhSBefPcu"
      },
      "source": [
        "항상 라이브러리부터 불러옵니다!"
      ]
    },
    {
      "cell_type": "code",
      "metadata": {
        "id": "rBezIRD4R_En",
        "colab": {
          "base_uri": "https://localhost:8080/"
        },
        "outputId": "a1290ebd-1a34-4947-ade9-cb0ebba3a590"
      },
      "source": [
        "import pandas as pd\n",
        "!pip install tensorflow-gpu==2.0.0-rc1\n",
        "import tensorflow as tf"
      ],
      "execution_count": null,
      "outputs": [
        {
          "output_type": "stream",
          "text": [
            "Collecting tensorflow-gpu==2.0.0-rc1\n",
            "\u001b[?25l  Downloading https://files.pythonhosted.org/packages/73/cf/2fc69ba3e59edc8333e2676fa71b40197718dea7dc1282c79955cf6b2acb/tensorflow_gpu-2.0.0rc1-cp36-cp36m-manylinux2010_x86_64.whl (380.5MB)\n",
            "\u001b[K     |████████████████████████████████| 380.5MB 46kB/s \n",
            "\u001b[?25hRequirement already satisfied: grpcio>=1.8.6 in /usr/local/lib/python3.6/dist-packages (from tensorflow-gpu==2.0.0-rc1) (1.32.0)\n",
            "Requirement already satisfied: numpy<2.0,>=1.16.0 in /usr/local/lib/python3.6/dist-packages (from tensorflow-gpu==2.0.0-rc1) (1.19.4)\n",
            "Collecting tf-estimator-nightly<1.14.0.dev2019080602,>=1.14.0.dev2019080601\n",
            "\u001b[?25l  Downloading https://files.pythonhosted.org/packages/21/28/f2a27a62943d5f041e4a6fd404b2d21cb7c59b2242a4e73b03d9ba166552/tf_estimator_nightly-1.14.0.dev2019080601-py2.py3-none-any.whl (501kB)\n",
            "\u001b[K     |████████████████████████████████| 501kB 41.1MB/s \n",
            "\u001b[?25hRequirement already satisfied: wheel>=0.26 in /usr/local/lib/python3.6/dist-packages (from tensorflow-gpu==2.0.0-rc1) (0.36.2)\n",
            "Requirement already satisfied: gast>=0.2.0 in /usr/local/lib/python3.6/dist-packages (from tensorflow-gpu==2.0.0-rc1) (0.3.3)\n",
            "Requirement already satisfied: absl-py>=0.7.0 in /usr/local/lib/python3.6/dist-packages (from tensorflow-gpu==2.0.0-rc1) (0.10.0)\n",
            "Collecting keras-applications>=1.0.8\n",
            "\u001b[?25l  Downloading https://files.pythonhosted.org/packages/71/e3/19762fdfc62877ae9102edf6342d71b28fbfd9dea3d2f96a882ce099b03f/Keras_Applications-1.0.8-py3-none-any.whl (50kB)\n",
            "\u001b[K     |████████████████████████████████| 51kB 8.7MB/s \n",
            "\u001b[?25hRequirement already satisfied: keras-preprocessing>=1.0.5 in /usr/local/lib/python3.6/dist-packages (from tensorflow-gpu==2.0.0-rc1) (1.1.2)\n",
            "Requirement already satisfied: opt-einsum>=2.3.2 in /usr/local/lib/python3.6/dist-packages (from tensorflow-gpu==2.0.0-rc1) (3.3.0)\n",
            "Collecting tb-nightly<1.15.0a20190807,>=1.15.0a20190806\n",
            "\u001b[?25l  Downloading https://files.pythonhosted.org/packages/bc/88/24b5fb7280e74c7cf65bde47c171547fd02afb3840cff41bcbe9270650f5/tb_nightly-1.15.0a20190806-py3-none-any.whl (4.3MB)\n",
            "\u001b[K     |████████████████████████████████| 4.3MB 52.1MB/s \n",
            "\u001b[?25hRequirement already satisfied: termcolor>=1.1.0 in /usr/local/lib/python3.6/dist-packages (from tensorflow-gpu==2.0.0-rc1) (1.1.0)\n",
            "Requirement already satisfied: astor>=0.6.0 in /usr/local/lib/python3.6/dist-packages (from tensorflow-gpu==2.0.0-rc1) (0.8.1)\n",
            "Requirement already satisfied: six>=1.10.0 in /usr/local/lib/python3.6/dist-packages (from tensorflow-gpu==2.0.0-rc1) (1.15.0)\n",
            "Requirement already satisfied: protobuf>=3.6.1 in /usr/local/lib/python3.6/dist-packages (from tensorflow-gpu==2.0.0-rc1) (3.12.4)\n",
            "Requirement already satisfied: wrapt>=1.11.1 in /usr/local/lib/python3.6/dist-packages (from tensorflow-gpu==2.0.0-rc1) (1.12.1)\n",
            "Requirement already satisfied: google-pasta>=0.1.6 in /usr/local/lib/python3.6/dist-packages (from tensorflow-gpu==2.0.0-rc1) (0.2.0)\n",
            "Requirement already satisfied: h5py in /usr/local/lib/python3.6/dist-packages (from keras-applications>=1.0.8->tensorflow-gpu==2.0.0-rc1) (2.10.0)\n",
            "Requirement already satisfied: markdown>=2.6.8 in /usr/local/lib/python3.6/dist-packages (from tb-nightly<1.15.0a20190807,>=1.15.0a20190806->tensorflow-gpu==2.0.0-rc1) (3.3.3)\n",
            "Requirement already satisfied: setuptools>=41.0.0 in /usr/local/lib/python3.6/dist-packages (from tb-nightly<1.15.0a20190807,>=1.15.0a20190806->tensorflow-gpu==2.0.0-rc1) (51.0.0)\n",
            "Requirement already satisfied: werkzeug>=0.11.15 in /usr/local/lib/python3.6/dist-packages (from tb-nightly<1.15.0a20190807,>=1.15.0a20190806->tensorflow-gpu==2.0.0-rc1) (1.0.1)\n",
            "Requirement already satisfied: importlib-metadata; python_version < \"3.8\" in /usr/local/lib/python3.6/dist-packages (from markdown>=2.6.8->tb-nightly<1.15.0a20190807,>=1.15.0a20190806->tensorflow-gpu==2.0.0-rc1) (3.3.0)\n",
            "Requirement already satisfied: typing-extensions>=3.6.4; python_version < \"3.8\" in /usr/local/lib/python3.6/dist-packages (from importlib-metadata; python_version < \"3.8\"->markdown>=2.6.8->tb-nightly<1.15.0a20190807,>=1.15.0a20190806->tensorflow-gpu==2.0.0-rc1) (3.7.4.3)\n",
            "Requirement already satisfied: zipp>=0.5 in /usr/local/lib/python3.6/dist-packages (from importlib-metadata; python_version < \"3.8\"->markdown>=2.6.8->tb-nightly<1.15.0a20190807,>=1.15.0a20190806->tensorflow-gpu==2.0.0-rc1) (3.4.0)\n",
            "Installing collected packages: tf-estimator-nightly, keras-applications, tb-nightly, tensorflow-gpu\n",
            "Successfully installed keras-applications-1.0.8 tb-nightly-1.15.0a20190806 tensorflow-gpu-2.0.0rc1 tf-estimator-nightly-1.14.0.dev2019080601\n"
          ],
          "name": "stdout"
        }
      ]
    },
    {
      "cell_type": "code",
      "metadata": {
        "id": "SsyzQK3iSeBO",
        "colab": {
          "base_uri": "https://localhost:8080/"
        },
        "outputId": "433f79e6-63a4-42a3-bfef-ca2887a0a116"
      },
      "source": [
        "# 라이브러리 데이터셋을 불러옵니다. \n",
        "mnist = tf.keras.datasets.mnist\n",
        "\n",
        "# Training Set, Test Set을 분류해줍니다. \n",
        "(x_train, y_train), (x_test, y_test) = mnist.load_data()\n",
        "\n",
        "# Value normalization을 수행합니다. \n",
        "x_train, x_test = x_train / 255.0, x_test / 255.0"
      ],
      "execution_count": null,
      "outputs": [
        {
          "output_type": "stream",
          "text": [
            "Downloading data from https://storage.googleapis.com/tensorflow/tf-keras-datasets/mnist.npz\n",
            "11493376/11490434 [==============================] - 0s 0us/step\n"
          ],
          "name": "stdout"
        }
      ]
    },
    {
      "cell_type": "code",
      "metadata": {
        "colab": {
          "base_uri": "https://localhost:8080/"
        },
        "id": "U9aJKaNEKXBc",
        "outputId": "dfa0c1e6-b1ef-4fc7-fb9a-5280068b04ff"
      },
      "source": [
        "# 데이터의 레이블 구성 형태를 살펴봅니다.\n",
        "# 처음보는 데이터의 경우 데이터 자체를 디스플레이 하여 보면 도움이 됩니다.\n",
        "pd.unique(y_train)"
      ],
      "execution_count": null,
      "outputs": [
        {
          "output_type": "execute_result",
          "data": {
            "text/plain": [
              "array([5, 0, 4, 1, 9, 2, 3, 6, 7, 8], dtype=uint8)"
            ]
          },
          "metadata": {
            "tags": []
          },
          "execution_count": 20
        }
      ]
    },
    {
      "cell_type": "code",
      "metadata": {
        "id": "QbdUH2PmSiA_",
        "colab": {
          "base_uri": "https://localhost:8080/"
        },
        "outputId": "d4c91d81-72fb-4e3f-b5ed-8b50a2da98b0"
      },
      "source": [
        "# 신경망 모델을 구축합니다.\n",
        "model = tf.keras.models.Sequential([\n",
        "  tf.keras.layers.Flatten(input_shape=(28, 28)),\n",
        "  tf.keras.layers.Dense(128, activation='relu'),\n",
        "  tf.keras.layers.Dropout(0.2), # 다음강의에서 설명이 될 component :: 존재목적 Overfitting 방지\n",
        "  tf.keras.layers.Dense(10, activation='softmax')\n",
        "])\n",
        "# 구축한 모델을 컴파일하며, 옵티마이저, loss function 등을 설정해줍니다.\n",
        "model.compile(optimizer='adam',\n",
        "              loss='sparse_categorical_crossentropy',\n",
        "              metrics=['accuracy'])\n",
        "\n",
        "## 학습을 하는 부분입니다. 다음 시간에 배우게될 Bp에 대해서 이해를 하신다면 이 과정이 이해가 될 것입니다. \n",
        "model.fit(x_train, y_train, epochs=5) # epoch의 수를 변화시키며 더 많이 학습하거나 적게 학습할 수 있습니다. \n",
        "\n",
        "## 만들어진 모델을 이용하여 예측하는 부분입니다. \n",
        "model.evaluate(x_test,  y_test, verbose=2) ## 테스트 과정"
      ],
      "execution_count": null,
      "outputs": [
        {
          "output_type": "stream",
          "text": [
            "Train on 60000 samples\n",
            "Epoch 1/5\n",
            "WARNING:tensorflow:Entity <function Function._initialize_uninitialized_variables.<locals>.initialize_variables at 0x7ffa521d3048> could not be transformed and will be executed as-is. Please report this to the AutoGraph team. When filing the bug, set the verbosity to 10 (on Linux, `export AUTOGRAPH_VERBOSITY=10`) and attach the full output. Cause: module 'gast' has no attribute 'Num'\n",
            "WARNING: Entity <function Function._initialize_uninitialized_variables.<locals>.initialize_variables at 0x7ffa521d3048> could not be transformed and will be executed as-is. Please report this to the AutoGraph team. When filing the bug, set the verbosity to 10 (on Linux, `export AUTOGRAPH_VERBOSITY=10`) and attach the full output. Cause: module 'gast' has no attribute 'Num'\n",
            "60000/60000 [==============================] - 5s 77us/sample - loss: 0.2942 - accuracy: 0.9147\n",
            "Epoch 2/5\n",
            "60000/60000 [==============================] - 4s 73us/sample - loss: 0.1426 - accuracy: 0.9581\n",
            "Epoch 3/5\n",
            "60000/60000 [==============================] - 4s 71us/sample - loss: 0.1075 - accuracy: 0.9667\n",
            "Epoch 4/5\n",
            "60000/60000 [==============================] - 4s 70us/sample - loss: 0.0887 - accuracy: 0.9726\n",
            "Epoch 5/5\n",
            "60000/60000 [==============================] - 4s 72us/sample - loss: 0.0762 - accuracy: 0.9758\n",
            "10000/1 - 0s - loss: 0.0397 - accuracy: 0.9765\n"
          ],
          "name": "stdout"
        },
        {
          "output_type": "execute_result",
          "data": {
            "text/plain": [
              "[0.07541910588452592, 0.9765]"
            ]
          },
          "metadata": {
            "tags": []
          },
          "execution_count": 21
        }
      ]
    },
    {
      "cell_type": "markdown",
      "metadata": {
        "id": "aoyJ10JFnvqB"
      },
      "source": [
        "[텐서플로우 플레이그라운드](https://playground.tensorflow.org/#activation=tanh&batchSize=10&dataset=circle&regDataset=reg-plane&learningRate=0.03&regularizationRate=0&noise=0&networkShape=4,2&seed=0.70910&showTestData=false&discretize=false&percTrainData=50&x=true&y=true&xTimesY=false&xSquared=false&ySquared=false&cosX=false&sinX=false&cosY=false&sinY=false&collectStats=false&problem=classification&initZero=false&hideText=false)\n",
        "\n"
      ]
    },
    {
      "cell_type": "markdown",
      "metadata": {
        "id": "iIpNgBlupRpn"
      },
      "source": [
        "## 점검\n",
        "**인공신경망은 선형 회귀 알고리즘과 다릅니다**\n",
        "\n",
        "여기서 선형 회귀 문제를 신경망을 통해 풀어본 이유는 가중치, bias등의 신경망 기초 개념과 구조에 익숙해지기 위함입니다.\n",
        "\n",
        "그리고 앞으로 배울 순방향 신경망(feedforward NN)을 학습할 때 손실 함수(Loss function)를 통해 예측값과 실제값의 차이를 평가하고 경사 하강법(Gradient Descent)을 통해 최적의 가중치, bias를 찾는 개념을 쉽게 이해하기 위해서 입니다.\n"
      ]
    },
    {
      "cell_type": "markdown",
      "metadata": {
        "id": "OZC5EFQeu4Me",
        "toc-hr-collapsed": true
      },
      "source": [
        "**그렇다면 왜 신경망이 강력하다고 할까요?**\n",
        "\n",
        "지금까지는 매우 간단한 신경망으로 매우 간단한 회귀 문제를 풀어 보았는데\n",
        "\n",
        "노드와 층이 매우 많은 복잡한 신경망은 선형회귀 모델과 달리 무엇이 강력한 것일까요?"
      ]
    },
    {
      "cell_type": "markdown",
      "metadata": {
        "id": "9-7Dm9OLnvqC"
      },
      "source": [
        "**신경망의 Nonlinearities(비선형성)**\n",
        "\n",
        "선형 회귀는 n-차원 공간에서 선형 모델을 학습하기 위한 방법입니다. 물론 비선형(non-linear) 특성들도 다항식(polynomial)을 사용한 선형회귀모델을 사용하면 학습 가능합니다. 문제는 데이터의 차원이 매우 높으며 비선형 패턴을 가진 데이터를 학습하려면 그에 따라 매우 복잡한 다차원의 특성 조합이 필요하게 됩니다. 이렇게 차원이 높은 데이터의 예는 아래와 같은 이미지 데이터를 떠올리시면 됩니다.\n",
        "\n",
        "\n",
        "<img src=\"https://upload.wikimedia.org/wikipedia/commons/thumb/5/5d/401_Gridlock.jpg/1200px-401_Gridlock.jpg\" alt=\"401 Gridlock.jpg\">\n",
        "\n",
        "사진에 수많은 자동차들과 다른 물체들이 있지만 우리는 한 번에 이 물체가 자동차 인지 아닌지 혹은 어떤 자동차 인지 알 수 있습니다. 이와 같은 이미지 데이터를 학습 데이터로 사용해 회귀 모델을 만든다고 해 봅시다. 데이터의 특성은 pixel 값들을 조합해서 만들어야 하는데 어떤 조합이 자동차들을 잘 구분할 수 있을 까요?\n",
        "\n",
        "지금까지 여러분들은 머신러닝을 수행하면서 여러분들이 지접 데이터에 대해 파악하여 그 특징에 맞는 특성들을 설계하고 찾아내었습니다. 여기서 컴퓨터가 학습과정을 통해 특성과 출력값 과의 관계를 찾아 주었지요.\n",
        "\n",
        "반면에 **신경망 학습은 데이터에서 필요한 특성들을 신경망이 알아서 조합하여 찾아냅니다!** 즉 우리는 최소한의 데이터에 대한 전처리는 해야 하지만 심화된 특성 공학(Feature Engineering)을 사용해 특성들을 찾아낼 필요는 없다는 것입니다.\n",
        "\n",
        "깊은 신경망, 즉 **딥러닝과 머신러닝의 차이는 표현학습(representation learning)**에 있습니다. 딥러닝은 데이터 특성(feature)을 우리가 풀고자 하는 문제를 풀기 쉽도록 표현(representation)하도록 학습하는 능력이 있습니다. 신경망의 구조와 깊이를 변화시키며 데이터를 더욱 유용하게 표현할 수 있습니다.\n",
        "\n"
      ]
    },
    {
      "cell_type": "markdown",
      "metadata": {
        "id": "7eU84T_auKJ0"
      },
      "source": [
        "<img src=\"https://www.researchgate.net/profile/Tugce_Karatas8/publication/331165395/figure/fig1/AS:727499755507719@1550460866636/A-graphical-visualization-of-a-Deep-Neural-Network-from-here.ppm\" alt=\"A graphical visualization of a Deep Neural Network from here\"/>"
      ]
    },
    {
      "cell_type": "markdown",
      "metadata": {
        "id": "dGb0yyBtBCBD",
        "toc-hr-collapsed": false
      },
      "source": [
        "## 퍼셉트론(Perceptron) 리뷰"
      ]
    },
    {
      "cell_type": "markdown",
      "metadata": {
        "id": "MFacWjJCnvqD"
      },
      "source": [
        "\n",
        "신경망을 잘 알기 위해서는 가장 간단한 신경망인 퍼셉트론을 잘 알아야 합니다. 퍼셉트론은 단순히 하나의 노드(뉴런)으로 이루어진 신경망 입니다. 퍼셉트론은 다수의 입력값을 가질 수 있고 하나의 출력값을 내보냅니다.\n",
        "\n",
        "하나의 뉴런이 하는 일은 들어온 입력값들을 단순히 가중치를 곱해 모두 더하는 연산(선형결합)을 하고 활성화함수(activation function)에 넣어 그 결과를 출력합니다. \n",
        "\n",
        "\n",
        "<img src=\"https://ds-lecture-data.s3.ap-northeast-2.amazonaws.com/etc/note_image/perceptron.png\">\n",
        "퍼셉트론을 수식으로 나타내면 다음과 같습니다.\n",
        "\n",
        "\\begin{align}\n",
        " y = f(\\sum(bias + w_{0}x_{0} + w_{1}x_{1} + ... + w_{n}x_{n}))\n",
        "\\end{align}\n",
        "\n",
        "\n",
        "앞으로 이 퍼셉트론과 같은 패턴을 모든 네트워크 구조에서 발견할 수 있을것 입니다.\n",
        "\n",
        "활성화함수로 계단 함수(step function)를 사용해 보면,\n",
        "\n",
        "${\\displaystyle f(\\mathbf {x} )={\\begin{cases}1&{\\text{if }}\\ \\mathbf {w} \\cdot \\mathbf {x} +b>0,\\\\0&{\\text{otherwise}}\\end{cases}}}$\n",
        "\n",
        "퍼셉트론은 입력의 선형결합 값이 > 0 인 경우 1이 출력 되고, 그외에는 0이 출력되는 하는 함수로 볼 수 있습니다.\n"
      ]
    },
    {
      "cell_type": "markdown",
      "metadata": {
        "id": "1heruqiNnvqE"
      },
      "source": [
        "**활성화 함수(Activation Functions)**\n",
        "\n",
        "신경망에서 각 노드는 활성화 함수를 가지고 있는데, 일반적으로 각 층에는 같은 종류의 활성화 함수를 가지고 있습니다.\n",
        "실제 뉴런세포에서 신호를 전달(activate or fire)할지 안 할지를 결정하는 기능을 말하는데 인공신경망에서 활성화 함수는 다음 층으로 신호를 얼마만큼 전달할지를 결정합니다. 그래서 때대로 전달함수(transfer function)이라고 부르기도 합니다. \n",
        "\n",
        "\n",
        "\n",
        "<img src=\"https://www.researchgate.net/profile/Vivienne_Sze/publication/315667264/figure/fig3/AS:669951052496900@1536740186369/Various-forms-of-non-linear-activation-functions-Figure-adopted-from-Caffe-Tutorial.png\" alt=\"Various forms of non-linear activation functions (Figure adopted from Caffe Tutorial [46]).\"/>\n"
      ]
    },
    {
      "cell_type": "markdown",
      "metadata": {
        "id": "-9x3x5XgtD3i",
        "toc-hr-collapsed": true
      },
      "source": [
        "# Python으로 만드는 신경망 학습\n",
        "\n",
        "- 지금 구현해볼 퍼셉트론은 Rosenblatt이 처음 개발했던 모습과는 다릅니다. \n",
        "- 계단함수 대신 비선형 시그모이드함수를 사용하는 다층신경망과 유사하게 만들어 보겠습니다. \n",
        "- OR gate를 신경망으로 만들어볼까요?\n"
      ]
    },
    {
      "cell_type": "code",
      "metadata": {
        "id": "q9Sj_AVzReca"
      },
      "source": [
        "# 학습데이터를 생성합니다\n",
        "np.random.seed(827)\n",
        "\n",
        "# 입력 벡터: [x0, x1]\n",
        "# X: 입력(inputs)\n",
        "X = np.array([\n",
        "    [0, 0]\n",
        "    ,[1, 1]\n",
        "    ,[1, 0]\n",
        "    ,[0, 1]\n",
        "])\n",
        "\n",
        "# bias\n",
        "b = 1\n",
        "\n",
        "# Y: 타겟값(correct outputs)\n",
        "Y = np.array([[0],[1],[1],[1]])"
      ],
      "execution_count": null,
      "outputs": []
    },
    {
      "cell_type": "markdown",
      "metadata": {
        "id": "wJYHTTThYlcj"
      },
      "source": [
        "활성함수인 시그모이드 함수와 그 도함수 그래프"
      ]
    },
    {
      "cell_type": "code",
      "metadata": {
        "id": "tbf5JIFdnvqH"
      },
      "source": [
        "# 시그모이드 함수\n",
        "# net: 입력과 가중치의 가중합\n",
        "def sigmoid(net):\n",
        "    return 1 / (1 + np.exp(-net))\n",
        "\n",
        "# 시그모이드 함수의 도함수 유도 예시\n",
        "# https://towardsdatascience.com/derivative-of-the-sigmoid-function-536880cf918e\n",
        "def sigmoid_prime(net):\n",
        "    sig = sigmoid(net)\n",
        "    return sig * (1 - sig)"
      ],
      "execution_count": null,
      "outputs": []
    },
    {
      "cell_type": "code",
      "metadata": {
        "id": "41YgBnBcnvqJ",
        "colab": {
          "base_uri": "https://localhost:8080/",
          "height": 265
        },
        "outputId": "b9f67990-580b-439e-9656-c25fb56a5b08"
      },
      "source": [
        "# 시그모이드 함수 그래프 생성\n",
        "x_range = np.arange(-10., 10., 0.2)\n",
        "y_range = np.array([sigmoid(x) for x in x_range])\n",
        "y_prime = np.array([sigmoid_prime(x) for x in x_range])\n",
        "\n",
        "plt.plot(x_range, y_range, label='sigmoid') \n",
        "plt.plot(x_range, y_prime, label='sigmoid_prime')\n",
        "plt.legend()\n",
        "plt.show();"
      ],
      "execution_count": null,
      "outputs": [
        {
          "output_type": "display_data",
          "data": {
            "image/png": "[encoded data removed]",
            "text/plain": [
              "<Figure size 432x288 with 1 Axes>"
            ]
          },
          "metadata": {
            "tags": [],
            "needs_background": "light"
          }
        }
      ]
    },
    {
      "cell_type": "markdown",
      "metadata": {
        "id": "iHpgMkpQX9HK"
      },
      "source": [
        "#### 초기 가중치는 무작위(Random)"
      ]
    },
    {
      "cell_type": "code",
      "metadata": {
        "id": "kkds4p44nvqL",
        "colab": {
          "base_uri": "https://localhost:8080/"
        },
        "outputId": "ca6e0177-348b-4937-ab3b-857ea055ff56"
      },
      "source": [
        "# W: [weight0, weight1]\n",
        "W = 2 * np.random.rand(2,1) - 1\n",
        "W"
      ],
      "execution_count": null,
      "outputs": [
        {
          "output_type": "execute_result",
          "data": {
            "text/plain": [
              "array([[-0.36561912],\n",
              "       [-0.48951912]])"
            ]
          },
          "metadata": {
            "tags": []
          },
          "execution_count": 25
        }
      ]
    },
    {
      "cell_type": "markdown",
      "metadata": {
        "id": "bNhy_Qk2YBJO"
      },
      "source": [
        "#### 입력데이터와 가중치 연산"
      ]
    },
    {
      "cell_type": "code",
      "metadata": {
        "id": "Ex5b896fWrMQ",
        "colab": {
          "base_uri": "https://localhost:8080/"
        },
        "outputId": "befffd07-2914-431b-d864-9d033ca095c6"
      },
      "source": [
        "# Z: 가중합\n",
        "Z = np.dot(X, W) + b\n",
        "Z"
      ],
      "execution_count": null,
      "outputs": [
        {
          "output_type": "execute_result",
          "data": {
            "text/plain": [
              "array([[1.        ],\n",
              "       [0.14486176],\n",
              "       [0.63438088],\n",
              "       [0.51048088]])"
            ]
          },
          "metadata": {
            "tags": []
          },
          "execution_count": 26
        }
      ]
    },
    {
      "cell_type": "markdown",
      "metadata": {
        "id": "c4z3LqLFaWMy"
      },
      "source": [
        "#### 활성화 함수를 사용해 학습군(epoch)의 출력"
      ]
    },
    {
      "cell_type": "code",
      "metadata": {
        "id": "llmNHRH5W4BA",
        "colab": {
          "base_uri": "https://localhost:8080/"
        },
        "outputId": "36bd672a-fbc4-43a2-adab-08701037cbaa"
      },
      "source": [
        "# A: 출력(activated outputs)\n",
        "A = sigmoid(Z)\n",
        "A"
      ],
      "execution_count": null,
      "outputs": [
        {
          "output_type": "execute_result",
          "data": {
            "text/plain": [
              "array([[0.73105858],\n",
              "       [0.53615224],\n",
              "       [0.65348215],\n",
              "       [0.6249192 ]])"
            ]
          },
          "metadata": {
            "tags": []
          },
          "execution_count": 27
        }
      ]
    },
    {
      "cell_type": "markdown",
      "metadata": {
        "id": "o_P2i3KEaiVC"
      },
      "source": [
        "#### 출력 오차를 줄이기 위한 역전파(경사하강법 이용) \n",
        "에러를 계산하기 위해 실제 타겟 값과 출력값의 차를 계산합니다.\n",
        "\n",
        "경사하강법은 손실값에 대한 미분값을 사용하여 최저의 손실값을 가지는 매개변수(가중치)를 찾는 방법 입니다. 그리고 역전파 알고리즘은 경사하강법에 필요한 미분값을 빠르고 효율적으로 찾는 알고리즘입니다. 자세한 내용은 다음 강의에서 배울 것이기 때문에 지금은 이 방법을 코드로 이용하는 부분만 살펴 보시기 바랍니다."
      ]
    },
    {
      "cell_type": "markdown",
      "metadata": {
        "id": "pzoHecBDnvqS"
      },
      "source": [
        "에러 계산에는 MSE 비용함수(cost function)을 사용할 때, 가중치에 대해 도함수를 구하면\n",
        "([sebastianraschka](https://sebastianraschka.com/faq/docs/mse-derivative.html))\n",
        "\n",
        "\\begin{align}\n",
        "\\frac{\\partial E}{\\partial w_j} &= \\frac{\\partial}{\\partial w_j} \\frac{1}{2n} \\sum_{i=1}^{n} (t_i - o_i)^2 \\\\\n",
        "&= \\frac{1}{2n} \\sum_{i=1}^{n} \\frac{\\partial}{\\partial w_j} (t_i - o_i)^2 \\quad [\\text{chain rule}] \\\\\n",
        "&= \\frac{1}{2n} \\sum_{i=1}^{n} 2 (t_i - o_i) \\frac{\\partial}{\\partial w_j} (t_i - o_i) \\quad [\\text{sum rule}] \\\\\n",
        "&= \\frac{1}{n} \\sum_{i=1}^{n}  (t_i - o_i) \\left( \\frac{\\partial}{\\partial w_j} t_i - \\frac{\\partial}{\\partial w_j}  o_i \\right)\\\\\n",
        "&= - \\frac{1}{n} \\sum_{i=1}^{n}  (t_i - o_i) \\frac{\\partial}{\\partial w_j}  o_i\n",
        "\\end{align}\n",
        "\n",
        "와 같은 형태가 되고 $o_i$ 를 $w_j$에 관해 편미분 하면\n",
        "\n",
        "\\begin{align}\n",
        "\\frac{\\partial}{\\partial w_j}  o_i\n",
        "& =  \\frac{\\partial o_i}{\\partial \\text{z}_i}\\frac{\\partial\\text{z}_i}{\\partial {w_j}}.\n",
        "\\end{align}\n",
        "\n",
        "라고 쓸 수 있습니다. 벡터 계산 코드로 구현하면 다음과 같고 이를 가중치 업데이트에 사용합니다."
      ]
    },
    {
      "cell_type": "code",
      "metadata": {
        "id": "6mg175C6XaYO",
        "colab": {
          "base_uri": "https://localhost:8080/"
        },
        "outputId": "7dfc3447-d3ce-4469-bab0-8a0ed3610280"
      },
      "source": [
        "# A : 출력값(o, output)\n",
        "# Y : 정답 (label, target)\n",
        "# da: 에러값,  dE/da\n",
        "# dz: dE/dz\n",
        "# dw: 가중치 업데이트 값 \n",
        "# db: bias 업데이트 값\n",
        "da = A - Y                  # round(E) / round(A) = -(target - A)\n",
        "dz = da * sigmoid_prime(Z)  # round(A) / round(Z) = da * sigmoid'\n",
        "dw = np.dot(X.T, dz)        # round(Z) / round(w_j) * dz -> dw\n",
        "db = np.sum(da, keepdims=True)\n",
        "\n",
        "print(dw)\n",
        "print(db)"
      ],
      "execution_count": null,
      "outputs": [
        {
          "output_type": "stream",
          "text": [
            "[[-0.19382232]\n",
            " [-0.20327284]]\n",
            "[[-0.45438783]]\n"
          ],
          "name": "stdout"
        }
      ]
    },
    {
      "cell_type": "code",
      "metadata": {
        "id": "5hTQjNrknvqc"
      },
      "source": [
        "# 가중치 업데이트(batch)\n",
        "W += dw\n",
        "b += db"
      ],
      "execution_count": null,
      "outputs": []
    },
    {
      "cell_type": "code",
      "metadata": {
        "id": "hJH_wpb-XmKJ",
        "colab": {
          "base_uri": "https://localhost:8080/"
        },
        "outputId": "11af7a9a-939b-4814-c485-eca122a8205c"
      },
      "source": [
        "print('업데이트 후 가중치: \\n', W)\n",
        "print('업데이트 후 bias: \\n', b)"
      ],
      "execution_count": null,
      "outputs": [
        {
          "output_type": "stream",
          "text": [
            "업데이트 후 가중치: \n",
            " [[-0.55944144]\n",
            " [-0.69279195]]\n",
            "업데이트 후 bias: \n",
            " [[0.54561217]]\n"
          ],
          "name": "stdout"
        }
      ]
    },
    {
      "cell_type": "markdown",
      "metadata": {
        "id": "tc928NEda0UE"
      },
      "source": [
        "### 반복(iteration)을 통한 정교한 가중치 생성"
      ]
    },
    {
      "cell_type": "code",
      "metadata": {
        "id": "5PGZR_caa18g",
        "colab": {
          "base_uri": "https://localhost:8080/"
        },
        "outputId": "eb787ca9-730e-4c38-855d-2f70ae5ace5d"
      },
      "source": [
        "# 이미 입력 데이터와 타겟 출력은 윗 부분에서 선언 하였습니다.\n",
        "\n",
        "# 가중치 초기화\n",
        "# W = 2 * np.random.random((2,1)) - 1\n",
        "W = np.random.randn(2,1)\n",
        "# W = np.zeros((2,1))\n",
        "\n",
        "b = 0\n",
        "\n",
        "print('학습 전 가중치: \\n', W)\n",
        "\n",
        "# 가중치 업데이트를 10,000회 (10,000 epoch) 진행하겠습니다.\n",
        "\n",
        "for iteration in range(1000):\n",
        "\n",
        "    # 순방향 전파\n",
        "    Z = np.dot(X, W) + b\n",
        "    A = sigmoid(Z)\n",
        "\n",
        "    # 역방향 전파(기울기 계산)\n",
        "    da = Y - A\n",
        "    dz = da * sigmoid_prime(Z)\n",
        "    dw = np.dot(X.T, dz)\n",
        "    db = np.sum(da, keepdims=True)\n",
        "    \n",
        "    W += dw\n",
        "    b += db\n",
        "\n",
        "print('학습 후 가중치: \\n', W)\n",
        "print('학습 후 bias: \\n', b)\n",
        "print('학습 후 예측값: \\n', A.round(3))"
      ],
      "execution_count": null,
      "outputs": [
        {
          "output_type": "stream",
          "text": [
            "학습 전 가중치: \n",
            " [[-0.26203003]\n",
            " [ 0.47949834]]\n",
            "학습 후 가중치: \n",
            " [[5.92195632]\n",
            " [5.9220684 ]]\n",
            "학습 후 bias: \n",
            " [[-2.5909238]]\n",
            "학습 후 예측값: \n",
            " [[0.07 ]\n",
            " [1.   ]\n",
            " [0.965]\n",
            " [0.965]]\n"
          ],
          "name": "stdout"
        }
      ]
    },
    {
      "cell_type": "markdown",
      "metadata": {
        "id": "sCeW6EVAu-jt"
      },
      "source": [
        "\n",
        "# Iris 데이터를 퍼셉트론으로 분류하는 예제를 살펴 보겠습니다. \n",
        "(이 예제는 [blog](https://www.bogotobogo.com/python/scikit-learn/Perceptron_Model_with_Iris_DataSet.php) 에서 확인 가능합니다)\n",
        "\n",
        "이 예제에서는 퍼셉트론을 클래스로 구현하였는데, 잘 살펴보시기 바랍니다. "
      ]
    },
    {
      "cell_type": "code",
      "metadata": {
        "id": "EYbebbPwu91r"
      },
      "source": [
        "import pandas as pd\n",
        "import numpy as np\n",
        "import matplotlib.pyplot as plt\n",
        "# iris 꽃을 구분하기 위한 데이터 입니다.\n",
        "df = pd.read_csv('https://archive.ics.uci.edu/ml/machine-learning-databases/iris/iris.data', header=None)"
      ],
      "execution_count": null,
      "outputs": []
    },
    {
      "cell_type": "code",
      "metadata": {
        "id": "LPnNLX47nvql",
        "colab": {
          "base_uri": "https://localhost:8080/"
        },
        "outputId": "9a356a09-1ce3-4644-85ec-c6385c75d101"
      },
      "source": [
        "df"
      ],
      "execution_count": null,
      "outputs": [
        {
          "output_type": "execute_result",
          "data": {
            "text/html": [
              "<div>\n",
              "<style scoped>\n",
              "    .dataframe tbody tr th:only-of-type {\n",
              "        vertical-align: middle;\n",
              "    }\n",
              "\n",
              "    .dataframe tbody tr th {\n",
              "        vertical-align: top;\n",
              "    }\n",
              "\n",
              "    .dataframe thead th {\n",
              "        text-align: right;\n",
              "    }\n",
              "</style>\n",
              "<table border=\"1\" class=\"dataframe\">\n",
              "  <thead>\n",
              "    <tr style=\"text-align: right;\">\n",
              "      <th></th>\n",
              "      <th>0</th>\n",
              "      <th>1</th>\n",
              "      <th>2</th>\n",
              "      <th>3</th>\n",
              "      <th>4</th>\n",
              "    </tr>\n",
              "  </thead>\n",
              "  <tbody>\n",
              "    <tr>\n",
              "      <th>0</th>\n",
              "      <td>5.1</td>\n",
              "      <td>3.5</td>\n",
              "      <td>1.4</td>\n",
              "      <td>0.2</td>\n",
              "      <td>Iris-setosa</td>\n",
              "    </tr>\n",
              "    <tr>\n",
              "      <th>1</th>\n",
              "      <td>4.9</td>\n",
              "      <td>3.0</td>\n",
              "      <td>1.4</td>\n",
              "      <td>0.2</td>\n",
              "      <td>Iris-setosa</td>\n",
              "    </tr>\n",
              "    <tr>\n",
              "      <th>2</th>\n",
              "      <td>4.7</td>\n",
              "      <td>3.2</td>\n",
              "      <td>1.3</td>\n",
              "      <td>0.2</td>\n",
              "      <td>Iris-setosa</td>\n",
              "    </tr>\n",
              "    <tr>\n",
              "      <th>3</th>\n",
              "      <td>4.6</td>\n",
              "      <td>3.1</td>\n",
              "      <td>1.5</td>\n",
              "      <td>0.2</td>\n",
              "      <td>Iris-setosa</td>\n",
              "    </tr>\n",
              "    <tr>\n",
              "      <th>4</th>\n",
              "      <td>5.0</td>\n",
              "      <td>3.6</td>\n",
              "      <td>1.4</td>\n",
              "      <td>0.2</td>\n",
              "      <td>Iris-setosa</td>\n",
              "    </tr>\n",
              "    <tr>\n",
              "      <th>...</th>\n",
              "      <td>...</td>\n",
              "      <td>...</td>\n",
              "      <td>...</td>\n",
              "      <td>...</td>\n",
              "      <td>...</td>\n",
              "    </tr>\n",
              "    <tr>\n",
              "      <th>145</th>\n",
              "      <td>6.7</td>\n",
              "      <td>3.0</td>\n",
              "      <td>5.2</td>\n",
              "      <td>2.3</td>\n",
              "      <td>Iris-virginica</td>\n",
              "    </tr>\n",
              "    <tr>\n",
              "      <th>146</th>\n",
              "      <td>6.3</td>\n",
              "      <td>2.5</td>\n",
              "      <td>5.0</td>\n",
              "      <td>1.9</td>\n",
              "      <td>Iris-virginica</td>\n",
              "    </tr>\n",
              "    <tr>\n",
              "      <th>147</th>\n",
              "      <td>6.5</td>\n",
              "      <td>3.0</td>\n",
              "      <td>5.2</td>\n",
              "      <td>2.0</td>\n",
              "      <td>Iris-virginica</td>\n",
              "    </tr>\n",
              "    <tr>\n",
              "      <th>148</th>\n",
              "      <td>6.2</td>\n",
              "      <td>3.4</td>\n",
              "      <td>5.4</td>\n",
              "      <td>2.3</td>\n",
              "      <td>Iris-virginica</td>\n",
              "    </tr>\n",
              "    <tr>\n",
              "      <th>149</th>\n",
              "      <td>5.9</td>\n",
              "      <td>3.0</td>\n",
              "      <td>5.1</td>\n",
              "      <td>1.8</td>\n",
              "      <td>Iris-virginica</td>\n",
              "    </tr>\n",
              "  </tbody>\n",
              "</table>\n",
              "<p>150 rows × 5 columns</p>\n",
              "</div>"
            ],
            "text/plain": [
              "       0    1    2    3               4\n",
              "0    5.1  3.5  1.4  0.2     Iris-setosa\n",
              "1    4.9  3.0  1.4  0.2     Iris-setosa\n",
              "2    4.7  3.2  1.3  0.2     Iris-setosa\n",
              "3    4.6  3.1  1.5  0.2     Iris-setosa\n",
              "4    5.0  3.6  1.4  0.2     Iris-setosa\n",
              "..   ...  ...  ...  ...             ...\n",
              "145  6.7  3.0  5.2  2.3  Iris-virginica\n",
              "146  6.3  2.5  5.0  1.9  Iris-virginica\n",
              "147  6.5  3.0  5.2  2.0  Iris-virginica\n",
              "148  6.2  3.4  5.4  2.3  Iris-virginica\n",
              "149  5.9  3.0  5.1  1.8  Iris-virginica\n",
              "\n",
              "[150 rows x 5 columns]"
            ]
          },
          "metadata": {
            "tags": []
          },
          "execution_count": 37
        }
      ]
    },
    {
      "cell_type": "code",
      "metadata": {
        "id": "WWAwjUjPnvqn",
        "colab": {
          "base_uri": "https://localhost:8080/"
        },
        "outputId": "421f6aae-0180-4db1-a06c-3cc95ad8dc70"
      },
      "source": [
        "df.shape"
      ],
      "execution_count": null,
      "outputs": [
        {
          "output_type": "execute_result",
          "data": {
            "text/plain": [
              "(150, 5)"
            ]
          },
          "metadata": {
            "tags": []
          },
          "execution_count": 38
        }
      ]
    },
    {
      "cell_type": "code",
      "metadata": {
        "id": "CgwUISn9u8xo",
        "colab": {
          "base_uri": "https://localhost:8080/"
        },
        "outputId": "625ae3b2-f3c1-43c8-8136-075103c637f5"
      },
      "source": [
        "# 50 setosa, 50 versicolor 데이터만 사용합니다.\n",
        "y = df.iloc[0:100, 4].values\n",
        "y"
      ],
      "execution_count": null,
      "outputs": [
        {
          "output_type": "execute_result",
          "data": {
            "text/plain": [
              "array(['Iris-setosa', 'Iris-setosa', 'Iris-setosa', 'Iris-setosa',\n",
              "       'Iris-setosa', 'Iris-setosa', 'Iris-setosa', 'Iris-setosa',\n",
              "       'Iris-setosa', 'Iris-setosa', 'Iris-setosa', 'Iris-setosa',\n",
              "       'Iris-setosa', 'Iris-setosa', 'Iris-setosa', 'Iris-setosa',\n",
              "       'Iris-setosa', 'Iris-setosa', 'Iris-setosa', 'Iris-setosa',\n",
              "       'Iris-setosa', 'Iris-setosa', 'Iris-setosa', 'Iris-setosa',\n",
              "       'Iris-setosa', 'Iris-setosa', 'Iris-setosa', 'Iris-setosa',\n",
              "       'Iris-setosa', 'Iris-setosa', 'Iris-setosa', 'Iris-setosa',\n",
              "       'Iris-setosa', 'Iris-setosa', 'Iris-setosa', 'Iris-setosa',\n",
              "       'Iris-setosa', 'Iris-setosa', 'Iris-setosa', 'Iris-setosa',\n",
              "       'Iris-setosa', 'Iris-setosa', 'Iris-setosa', 'Iris-setosa',\n",
              "       'Iris-setosa', 'Iris-setosa', 'Iris-setosa', 'Iris-setosa',\n",
              "       'Iris-setosa', 'Iris-setosa', 'Iris-versicolor', 'Iris-versicolor',\n",
              "       'Iris-versicolor', 'Iris-versicolor', 'Iris-versicolor',\n",
              "       'Iris-versicolor', 'Iris-versicolor', 'Iris-versicolor',\n",
              "       'Iris-versicolor', 'Iris-versicolor', 'Iris-versicolor',\n",
              "       'Iris-versicolor', 'Iris-versicolor', 'Iris-versicolor',\n",
              "       'Iris-versicolor', 'Iris-versicolor', 'Iris-versicolor',\n",
              "       'Iris-versicolor', 'Iris-versicolor', 'Iris-versicolor',\n",
              "       'Iris-versicolor', 'Iris-versicolor', 'Iris-versicolor',\n",
              "       'Iris-versicolor', 'Iris-versicolor', 'Iris-versicolor',\n",
              "       'Iris-versicolor', 'Iris-versicolor', 'Iris-versicolor',\n",
              "       'Iris-versicolor', 'Iris-versicolor', 'Iris-versicolor',\n",
              "       'Iris-versicolor', 'Iris-versicolor', 'Iris-versicolor',\n",
              "       'Iris-versicolor', 'Iris-versicolor', 'Iris-versicolor',\n",
              "       'Iris-versicolor', 'Iris-versicolor', 'Iris-versicolor',\n",
              "       'Iris-versicolor', 'Iris-versicolor', 'Iris-versicolor',\n",
              "       'Iris-versicolor', 'Iris-versicolor', 'Iris-versicolor',\n",
              "       'Iris-versicolor', 'Iris-versicolor', 'Iris-versicolor'],\n",
              "      dtype=object)"
            ]
          },
          "metadata": {
            "tags": []
          },
          "execution_count": 39
        }
      ]
    },
    {
      "cell_type": "code",
      "metadata": {
        "id": "HpLmUPCau8Nm",
        "colab": {
          "base_uri": "https://localhost:8080/"
        },
        "outputId": "04479cc1-c0f2-4c02-e636-fc2ec80743bd"
      },
      "source": [
        "# 타겟 레이블을 setosa = -1, versicolor = 1 로 바꾸겠습니다\n",
        "y = np.where(y == 'Iris-setosa', -1, 1)\n",
        "y"
      ],
      "execution_count": null,
      "outputs": [
        {
          "output_type": "execute_result",
          "data": {
            "text/plain": [
              "array([-1, -1, -1, -1, -1, -1, -1, -1, -1, -1, -1, -1, -1, -1, -1, -1, -1,\n",
              "       -1, -1, -1, -1, -1, -1, -1, -1, -1, -1, -1, -1, -1, -1, -1, -1, -1,\n",
              "       -1, -1, -1, -1, -1, -1, -1, -1, -1, -1, -1, -1, -1, -1, -1, -1,  1,\n",
              "        1,  1,  1,  1,  1,  1,  1,  1,  1,  1,  1,  1,  1,  1,  1,  1,  1,\n",
              "        1,  1,  1,  1,  1,  1,  1,  1,  1,  1,  1,  1,  1,  1,  1,  1,  1,\n",
              "        1,  1,  1,  1,  1,  1,  1,  1,  1,  1,  1,  1,  1,  1,  1])"
            ]
          },
          "metadata": {
            "tags": []
          },
          "execution_count": 40
        }
      ]
    },
    {
      "cell_type": "code",
      "metadata": {
        "id": "3ngdKVNhu7h1",
        "colab": {
          "base_uri": "https://localhost:8080/"
        },
        "outputId": "54d83e24-b53d-46f8-85fd-165891e1ad37"
      },
      "source": [
        "# 두 특성(sepal length, petal length)만 사용합니다\n",
        "X = df.iloc[0:100, [0, 2]].values\n",
        "X"
      ],
      "execution_count": null,
      "outputs": [
        {
          "output_type": "execute_result",
          "data": {
            "text/plain": [
              "array([[5.1, 1.4],\n",
              "       [4.9, 1.4],\n",
              "       [4.7, 1.3],\n",
              "       [4.6, 1.5],\n",
              "       [5. , 1.4],\n",
              "       [5.4, 1.7],\n",
              "       [4.6, 1.4],\n",
              "       [5. , 1.5],\n",
              "       [4.4, 1.4],\n",
              "       [4.9, 1.5],\n",
              "       [5.4, 1.5],\n",
              "       [4.8, 1.6],\n",
              "       [4.8, 1.4],\n",
              "       [4.3, 1.1],\n",
              "       [5.8, 1.2],\n",
              "       [5.7, 1.5],\n",
              "       [5.4, 1.3],\n",
              "       [5.1, 1.4],\n",
              "       [5.7, 1.7],\n",
              "       [5.1, 1.5],\n",
              "       [5.4, 1.7],\n",
              "       [5.1, 1.5],\n",
              "       [4.6, 1. ],\n",
              "       [5.1, 1.7],\n",
              "       [4.8, 1.9],\n",
              "       [5. , 1.6],\n",
              "       [5. , 1.6],\n",
              "       [5.2, 1.5],\n",
              "       [5.2, 1.4],\n",
              "       [4.7, 1.6],\n",
              "       [4.8, 1.6],\n",
              "       [5.4, 1.5],\n",
              "       [5.2, 1.5],\n",
              "       [5.5, 1.4],\n",
              "       [4.9, 1.5],\n",
              "       [5. , 1.2],\n",
              "       [5.5, 1.3],\n",
              "       [4.9, 1.5],\n",
              "       [4.4, 1.3],\n",
              "       [5.1, 1.5],\n",
              "       [5. , 1.3],\n",
              "       [4.5, 1.3],\n",
              "       [4.4, 1.3],\n",
              "       [5. , 1.6],\n",
              "       [5.1, 1.9],\n",
              "       [4.8, 1.4],\n",
              "       [5.1, 1.6],\n",
              "       [4.6, 1.4],\n",
              "       [5.3, 1.5],\n",
              "       [5. , 1.4],\n",
              "       [7. , 4.7],\n",
              "       [6.4, 4.5],\n",
              "       [6.9, 4.9],\n",
              "       [5.5, 4. ],\n",
              "       [6.5, 4.6],\n",
              "       [5.7, 4.5],\n",
              "       [6.3, 4.7],\n",
              "       [4.9, 3.3],\n",
              "       [6.6, 4.6],\n",
              "       [5.2, 3.9],\n",
              "       [5. , 3.5],\n",
              "       [5.9, 4.2],\n",
              "       [6. , 4. ],\n",
              "       [6.1, 4.7],\n",
              "       [5.6, 3.6],\n",
              "       [6.7, 4.4],\n",
              "       [5.6, 4.5],\n",
              "       [5.8, 4.1],\n",
              "       [6.2, 4.5],\n",
              "       [5.6, 3.9],\n",
              "       [5.9, 4.8],\n",
              "       [6.1, 4. ],\n",
              "       [6.3, 4.9],\n",
              "       [6.1, 4.7],\n",
              "       [6.4, 4.3],\n",
              "       [6.6, 4.4],\n",
              "       [6.8, 4.8],\n",
              "       [6.7, 5. ],\n",
              "       [6. , 4.5],\n",
              "       [5.7, 3.5],\n",
              "       [5.5, 3.8],\n",
              "       [5.5, 3.7],\n",
              "       [5.8, 3.9],\n",
              "       [6. , 5.1],\n",
              "       [5.4, 4.5],\n",
              "       [6. , 4.5],\n",
              "       [6.7, 4.7],\n",
              "       [6.3, 4.4],\n",
              "       [5.6, 4.1],\n",
              "       [5.5, 4. ],\n",
              "       [5.5, 4.4],\n",
              "       [6.1, 4.6],\n",
              "       [5.8, 4. ],\n",
              "       [5. , 3.3],\n",
              "       [5.6, 4.2],\n",
              "       [5.7, 4.2],\n",
              "       [5.7, 4.2],\n",
              "       [6.2, 4.3],\n",
              "       [5.1, 3. ],\n",
              "       [5.7, 4.1]])"
            ]
          },
          "metadata": {
            "tags": []
          },
          "execution_count": 41
        }
      ]
    },
    {
      "cell_type": "code",
      "metadata": {
        "id": "qMwijtrju62D",
        "colab": {
          "base_uri": "https://localhost:8080/"
        },
        "outputId": "d01f96f6-ee47-4516-8feb-db9041a09487"
      },
      "source": [
        "# 두 특성에 따라 데이터를 그려보겠습니다\n",
        "plt.scatter(X[:50, 0], X[:50, 1], color='red', marker='o', label='setosa')\n",
        "plt.scatter(X[50:100, 0], X[50:100, 1], color='blue', marker='x', label='versicolor')\n",
        "plt.xlabel('sepal length')\n",
        "plt.ylabel('petal length')\n",
        "plt.legend(loc='upper left')\n",
        "plt.show()"
      ],
      "execution_count": null,
      "outputs": [
        {
          "output_type": "display_data",
          "data": {
            "image/png": "[encoded data removed]",
            "text/plain": [
              "<Figure size 432x288 with 1 Axes>"
            ]
          },
          "metadata": {
            "tags": [],
            "needs_background": "light"
          }
        }
      ]
    },
    {
      "cell_type": "code",
      "metadata": {
        "id": "4Ax_1Ewsu59o"
      },
      "source": [
        "class Perceptron:\n",
        "    # niter = epoch\n",
        "    def __init__(self, rate = 0.01, niter = 10):\n",
        "        self.rate = rate\n",
        "        self.niter = niter\n",
        "        \n",
        "    def fit(self, X, y):\n",
        "        \"\"\"Fit training data\n",
        "        X : Training vectors, X.shape : [#samples, #features]\n",
        "        y : Target values, y.shape : [#samples]\n",
        "        \"\"\"\n",
        "\n",
        "        # 초기 가중치 [0, 0, 0]\n",
        "        self.weight = np.zeros(1 + X.shape[1])\n",
        "\n",
        "        # Number of misclassifications\n",
        "        self.errors = [] \n",
        "\n",
        "        for i in range(self.niter):\n",
        "            err = 0\n",
        "            for xi, target in zip(X, y):\n",
        "                # adjusts\n",
        "                delta_w = self.rate * (target - self.predict(xi))\n",
        "                self.weight[1:] += delta_w * xi\n",
        "                self.weight[0] += delta_w\n",
        "                err += int(delta_w != 0.0)\n",
        "            self.errors.append(err)\n",
        "        return self\n",
        "\n",
        "    def net_input(self, X):\n",
        "        \"\"\"Calculate net input\"\"\"\n",
        "        return np.dot(X, self.weight[1:]) + self.weight[0]\n",
        "\n",
        "    def predict(self, X):\n",
        "        \"\"\"Return class label after unit step\"\"\"\n",
        "        \"\"\" Default Step Function\"\"\"\n",
        "        return np.where(self.net_input(X) >= 0.0, 1, -1)"
      ],
      "execution_count": null,
      "outputs": []
    },
    {
      "cell_type": "code",
      "metadata": {
        "id": "ftFsGyvpu5iC",
        "colab": {
          "base_uri": "https://localhost:8080/"
        },
        "outputId": "aa3f3cc5-de57-4352-b032-7318f9aa3ddf"
      },
      "source": [
        "# 학습률(learning rate): 0.1, epoch: 10\n",
        "# 퍼셉트론을 학습시키고 오분류(misclassification)의 변화를 살펴보겠습니다.\n",
        "pn = Perceptron(0.1, 10)\n",
        "pn.fit(X, y)\n",
        "plt.plot(range(1, len(pn.errors) + 1), pn.errors, marker='o')\n",
        "plt.xlabel('Epochs')\n",
        "plt.ylabel('Number of misclassifications')\n",
        "plt.show()"
      ],
      "execution_count": null,
      "outputs": [
        {
          "output_type": "display_data",
          "data": {
            "image/png": "[encoded data removed]",
            "text/plain": [
              "<Figure size 432x288 with 1 Axes>"
            ]
          },
          "metadata": {
            "tags": [],
            "needs_background": "light"
          }
        }
      ]
    },
    {
      "cell_type": "code",
      "metadata": {
        "id": "4VAnfC7fu5P7"
      },
      "source": [
        "# 퍼셉트론의 결정 경계를 확인해 보겠습니다.\n",
        "from matplotlib.colors import ListedColormap\n",
        "def plot_decision_regions(X, y, classifier, resolution=0.02):\n",
        "\n",
        "    # setup marker generator and color map\n",
        "    markers = ('s', 'x', 'o', '^', 'v')\n",
        "    colors = ('red', 'blue', 'lightgreen', 'gray', 'cyan')\n",
        "    cmap = ListedColormap(colors[:len(np.unique(y))])\n",
        "\n",
        "    # 결정면을 그립니다\n",
        "    x1_min, x1_max = X[:,  0].min() - 1, X[:, 0].max() + 1\n",
        "    x2_min, x2_max = X[:, 1].min() - 1, X[:, 1].max() + 1\n",
        "    xx1, xx2 = np.meshgrid(np.arange(x1_min, x1_max, resolution),\n",
        "    np.arange(x2_min, x2_max, resolution))\n",
        "    Z = classifier.predict(np.array([xx1.ravel(), xx2.ravel()]).T)\n",
        "    Z = Z.reshape(xx1.shape)\n",
        "    plt.contourf(xx1, xx2, Z, alpha=0.4, cmap=cmap)\n",
        "    plt.xlim(xx1.min(), xx1.max())\n",
        "    plt.ylim(xx2.min(), xx2.max())\n",
        "\n",
        "    # 데이터를 그립니다\n",
        "    for idx, cl in enumerate(np.unique(y)):\n",
        "        plt.scatter(x=X[y == cl, 0], y=X[y == cl, 1],\n",
        "        alpha=0.8, color=cmap(idx),\n",
        "        marker=markers[idx], label=cl)"
      ],
      "execution_count": null,
      "outputs": []
    },
    {
      "cell_type": "code",
      "metadata": {
        "id": "ntqksaQjr7Cm",
        "colab": {
          "base_uri": "https://localhost:8080/"
        },
        "outputId": "c8e1e76d-fed9-43f3-ec0b-97e0dade495e"
      },
      "source": [
        "plot_decision_regions(X, y, classifier=pn)\n",
        "plt.xlabel('sepal length [cm]')\n",
        "plt.ylabel('petal length [cm]')\n",
        "plt.legend(loc='upper left')\n",
        "plt.show()"
      ],
      "execution_count": null,
      "outputs": [
        {
          "output_type": "display_data",
          "data": {
            "image/png": "[encoded data removed]",
            "text/plain": [
              "<Figure size 432x288 with 1 Axes>"
            ]
          },
          "metadata": {
            "tags": [],
            "needs_background": "light"
          }
        }
      ]
    },
    {
      "cell_type": "markdown",
      "metadata": {
        "id": "ucUP72uiyQ_0",
        "toc-hr-collapsed": false
      },
      "source": [
        "# Review\n",
        "\n",
        "- 퍼셉트론의 이해 : 입력 값 = ? 개, 출력 값 = ? 개\n",
        "- 다층(Multi-Layer) 퍼셉트론의 개념과 딥러닝의 차이점을 설명할 수 있다.\n",
        "- 신경망의 기본 구조에 대해서 설명할 수 있다. \n",
        "  - 뉴런(노드)\n",
        "  - 연결(가중치,엣지)\n",
        "  - 입력/은익/출력층\n",
        "- 활성함수 : 비선형성을 만들어 주는 구조\n",
        "- 퍼셉트론의 학습과정을 통해서 학습되는 것은 000이다. \n",
        "- 분류/회귀 정의 리뷰, 결정경계\n",
        "\n",
        "### 참고자료\n",
        "- (필수)[3 Blue 1 Brown Neural Network Videos](https://youtu.be/aircAruvnKk)\n",
        "- Alammar, Jay [A Visual and Interactive Guide to the Basics of Neural Networks](https://jalammar.github.io/visual-interactive-guide-basics-neural-networks/).\n",
        "- [SINGLE LAYER NEURAL NETWORK - PERCEPTRON MODEL ON THE IRIS DATASET USING HEAVISIDE STEP ACTIVATION FUNCTION](https://www.bogotobogo.com/python/scikit-learn/Perceptron_Model_with_Iris_DataSet.php)\n",
        "- [Andrew Ng, Neural Network](https://www.youtube.com/watch?v=1ZhtwInuOD0&list=PLLssT5z_DsK-h9vYZkQkYNWcItqhlRJLN&index=43)\n",
        "- [밑바닥부터 시작하는 딥러닝](https://http://book.interpark.com/product/BookDisplay.do?_method=detail&sc.prdNo=263500510&gclid=Cj0KCQiA7qP9BRCLARIsABDaZzgpPtlR8acSoLvkQGTwQ7VSU85K0YTYFX4vyyZxSKK2t_b2eFqgC0oaAgK9EALw_wcB)\n",
        "- [딥러닝의 선형 vs 비선형](https://youtu.be/umiqnfQxlac)"
      ]
    },
    {
      "cell_type": "markdown",
      "metadata": {
        "id": "aAlw_STfrBBz"
      },
      "source": [
        "재현 가능을 위한 Requirements.txt 제작."
      ]
    },
    {
      "cell_type": "code",
      "metadata": {
        "colab": {
          "base_uri": "https://localhost:8080/"
        },
        "id": "31MSAl6eqWvz",
        "outputId": "60f68ba0-b007-428d-8652-a300f5f69efb"
      },
      "source": [
        "from google.colab import drive\n",
        "drive.mount('/content/drive')"
      ],
      "execution_count": null,
      "outputs": [
        {
          "output_type": "stream",
          "text": [
            "Mounted at /content/drive\n"
          ],
          "name": "stdout"
        }
      ]
    },
    {
      "cell_type": "code",
      "metadata": {
        "id": "nGqNcZ_YhsG0"
      },
      "source": [
        "!pip freeze > \"drive/MyDrive/Colab Notebooks/section4/N421_requirements.txt\""
      ],
      "execution_count": null,
      "outputs": []
    },
    {
      "cell_type": "code",
      "metadata": {
        "id": "T2ECIMO9qPde"
      },
      "source": [
        "!ls drive/MyDrive/Colab\\ Notebooks/section4"
      ],
      "execution_count": null,
      "outputs": []
    }
  ]
}
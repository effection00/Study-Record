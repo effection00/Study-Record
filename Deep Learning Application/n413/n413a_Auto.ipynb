{
  "nbformat": 4,
  "nbformat_minor": 0,
  "metadata": {
    "colab": {
      "name": "ds-cs-N423a.ipynb",
      "provenance": [],
      "machine_shape": "hm"
    },
    "kernelspec": {
      "display_name": "Python 3",
      "language": "python",
      "name": "python3"
    },
    "language_info": {
      "codemirror_mode": {
        "name": "ipython",
        "version": 3
      },
      "file_extension": ".py",
      "mimetype": "text/x-python",
      "name": "python",
      "nbconvert_exporter": "python",
      "pygments_lexer": "ipython3",
      "version": "3.7.3"
    },
    "accelerator": "GPU"
  },
  "cells": [
    {
      "cell_type": "markdown",
      "metadata": {
        "id": "pBQsZEJmubLs"
      },
      "source": [
        "<img src='https://user-images.githubusercontent.com/6457691/90080969-0f758d00-dd47-11ea-8191-fa12fd2054a7.png' width = '200' align = 'right'>\n",
        "\n",
        "## *DATA SCIENCE / SECTION 4 / SPRINT 1 / Assingment 3*\n",
        "\n",
        "---\n",
        "# Neural Network Framework (Keras)\n",
        "\n"
      ]
    },
    {
      "cell_type": "markdown",
      "metadata": {
        "id": "nN5Wzlub62DZ"
      },
      "source": [
        "\n",
        "## 기본과제\n",
        "### 케라스 라이브러리를 사용하여 Multi-Layer Perceptron 모델을 CIFAR100 데이터에 적용해보세요.\n",
        "\n",
        "- 시드를 고정하십시오.\n",
        "- 데이터를 Noramlized 해줍니다. \n",
        "- 케라스에서 모델은 다음과 같이 고정합니다. \n",
        "- 활성함수는 ReLU를 사용합니다.\n",
        "- 단계별로 오늘 배운 규제방법을 적용해봅니다. \n",
        "\n",
        "\n",
        "### 문제에 기록된 텍스트를 꼭! 잘 읽어보고 답변을 다셔야 합니다."
      ]
    },
    {
      "cell_type": "code",
      "metadata": {
        "id": "SBPLbaggP52G"
      },
      "source": [
        "##### Base #####\n",
        "\n",
        "import keras\n",
        "import tensorflow as tf\n",
        "import numpy as np\n",
        "from tensorflow.keras.datasets import cifar100\n",
        "from tensorflow.keras.models import Sequential\n",
        "from tensorflow.keras.layers import Dense, Flatten, BatchNormalization\n",
        "from tensorflow.keras.optimizers import Adam, SGD\n",
        "from tensorflow.keras import regularizers\n",
        "from tensorflow.keras.applications import ResNet50\n",
        "\n",
        "# 데이터 불러오기\n",
        "np.random.seed(1)\n",
        "tf.random.set_seed(1)\n",
        "(X_train, y_train), (X_test, y_test) = cifar100.load_data()\n"
      ],
      "execution_count": null,
      "outputs": []
    },
    {
      "cell_type": "markdown",
      "metadata": {
        "id": "9kAKEMcKdpsC"
      },
      "source": [
        "## 1) X_train, y_train의 Data형태를 출력해서 matrix 구조 [N, x, y, c]를 확인하고 입력해보세요.\n",
        "\n",
        "### 문항 1-1). 데이터의 구조를 출력하기 위한 코드를 입력하세요.\n",
        "\n",
        "### 문항 1-2). Flatten(input_shape=()) 에 들어갈 데이터 형태를 입력하세요."
      ]
    },
    {
      "cell_type": "code",
      "metadata": {
        "id": "v0r1YrzRNG1y",
        "colab": {
          "base_uri": "https://localhost:8080/"
        },
        "outputId": "c72f55f8-1b14-4ec4-e4ab-9849d174f36a"
      },
      "source": [
        "##### Your Code Here #####\n"
      ],
      "execution_count": null,
      "outputs": [
        {
          "output_type": "execute_result",
          "data": {
            "text/plain": [
              "[(50000, 32, 32, 3), (50000, 1)]"
            ]
          },
          "metadata": {
            "tags": []
          },
          "execution_count": 39
        }
      ]
    },
    {
      "cell_type": "markdown",
      "metadata": {
        "id": "I7nHEuYmd-p6"
      },
      "source": [
        "Base model을 제작합니다."
      ]
    },
    {
      "cell_type": "code",
      "metadata": {
        "id": "_T_3XkVRY2xw"
      },
      "source": [
        "# Step 1. Basic Model\n",
        "\n",
        "# 변수 설정을 따로 하는 방법을 적용하기 위한 코드입니다. \n",
        "batch_size = 100\n",
        "epochs_max = 20\n",
        "\n",
        "# model\n",
        "model = Sequential()\n",
        "model.add(Flatten(input_shape=(##### Your Code Here #####))) ## 문제 1의 데이터구조에서 확인한 내용을 잘 입력하세요\n",
        "model.add(Dense(128, activation='relu'))\n",
        "model.add(Dense(128, activation='relu'))\n",
        "model.add(Dense(100, activation='softmax'))\n",
        "\n",
        "# 컴파일 단계, 옵티마이저와 손실함수, 측정지표를 연결해서 계산 그래프를 구성함\n",
        "model.compile(optimizer='adam', loss='sparse_categorical_crossentropy', metrics=['accuracy'])\n",
        "\n",
        "results = model.fit(X_train, y_train, epochs=epochs_max, batch_size=batch_size, verbose=1, validation_data=(X_test,y_test))"
      ],
      "execution_count": null,
      "outputs": []
    },
    {
      "cell_type": "code",
      "metadata": {
        "id": "PdxJ5AnieUxI",
        "colab": {
          "base_uri": "https://localhost:8080/"
        },
        "outputId": "9e3d8543-ea61-4e98-f368-765ed3dcf958"
      },
      "source": [
        "model.predict(X_test[0:1])\n",
        "test_loss, test_acc = model.evaluate(X_test,  y_test, verbose=1)"
      ],
      "execution_count": null,
      "outputs": [
        {
          "output_type": "stream",
          "text": [
            "313/313 [==============================] - 1s 2ms/step - loss: 3.3582 - accuracy: 0.2062\n"
          ],
          "name": "stdout"
        }
      ]
    },
    {
      "cell_type": "markdown",
      "metadata": {
        "id": "fbNCUtz4eHIi"
      },
      "source": [
        "## 2) 최종 모델에서 model.evaluate을 통해서 결과를 출력해보세요.  \n",
        "### 문항 2-1). verbose=0 으로 입력해서 출력되는 accuracy를 입력하세요.\n",
        "### 문항 2-2). verbose=1 으로 입력해서 출력되는 accuracy를 입력하세요. <Br>\n",
        "(차이점을 아시겠나요? 차이점을 모른다면 검색해보세요. 정답에 공백을 입력할 수 있어야 합니다.)\n",
        "\n"
      ]
    },
    {
      "cell_type": "code",
      "metadata": {
        "id": "XBQks0_rZWa9"
      },
      "source": [
        "# Step 2. Basic Model + Weight Decay\n",
        "\n",
        "# 변수 설정을 따로 하는 방법을 적용하기 위한 코드입니다. \n",
        "batch_size = 100\n",
        "epochs_max = 20\n",
        "\n",
        "# model\n",
        "model = Sequential()\n",
        "model.add(Flatten(input_shape=(##### Your Code Here #####)))\n",
        "model.add(Dense(128, activation='relu', \n",
        "                kernel_regularizer=regularizers.l2(0.00001),    # L2 norm regularization\n",
        "                activity_regularizer=regularizers.l1(0.00001) )) # L1 norm regularization\n",
        "model.add(Dense(128, activation='relu'))\n",
        "model.add(Dense(100, activation='softmax'))\n",
        "\n",
        "# 컴파일 단계, 옵티마이저와 손실함수, 측정지표를 연결해서 계산 그래프를 구성함\n",
        "model.compile(optimizer='adam', loss='sparse_categorical_crossentropy', metrics=['accuracy'])\n",
        "\n",
        "results = model.fit(X_train, y_train, epochs=epochs_max, batch_size=batch_size, verbose=1, validation_data=(X_test,y_test))"
      ],
      "execution_count": null,
      "outputs": []
    },
    {
      "cell_type": "markdown",
      "metadata": {
        "id": "5yQeUcY8fp4x"
      },
      "source": [
        "## 3) Dropout을 사용하기 위해서는 라이브러리 추가로 불어와야 합니다. \n",
        "\n",
        "### 문항 3) Dropout의 라이브러리를 호출하기 위해서 사용한 import 문구를 적어주세요."
      ]
    },
    {
      "cell_type": "code",
      "metadata": {
        "id": "e_B_mosCZ_Ds"
      },
      "source": [
        "# Step 3. Basic Model + Dropout\n",
        "\n",
        "##### Your Code Here #####\n",
        "\n",
        "\n",
        "# 변수 설정을 따로 하는 방법을 적용하기 위한 코드입니다. \n",
        "batch_size = 100\n",
        "epochs_max = 20\n",
        "\n",
        "# model\n",
        "model = Sequential()\n",
        "model.add(Flatten(input_shape=(##### Your Code Here #####)))\n",
        "model.add(Dense(128*1.1, activation='relu'))\n",
        "model.add(Dropout(0.1))\n",
        "model.add(Dense(128, activation='relu'))\n",
        "model.add(Dense(100, activation='softmax'))\n",
        "\n",
        "# 컴파일 단계, 옵티마이저와 손실함수, 측정지표를 연결해서 계산 그래프를 구성함\n",
        "model.compile(optimizer='adam', loss='sparse_categorical_crossentropy', metrics=['accuracy'])\n",
        "\n",
        "results = model.fit(X_train, y_train, epochs=epochs_max, batch_size=batch_size, verbose=1, validation_data=(X_test,y_test))\n"
      ],
      "execution_count": null,
      "outputs": []
    },
    {
      "cell_type": "markdown",
      "metadata": {
        "id": "Q3RoevKkC27v"
      },
      "source": [
        "### 문항 4) Early Stopping을 사용할 수 있도록 강의자료에서 코드를 잘 발췌해서 사용하시고, 50개의 Epoch를 돌렸을 때 Stop된 epoch 숫자를 입력하세요"
      ]
    },
    {
      "cell_type": "code",
      "metadata": {
        "id": "jjj4th3oLjgu"
      },
      "source": [
        "# Step 4. Basic Model + Early Stopping\n",
        "\n",
        "# 학습시킨 데이터를 저장시키기 위한 코드입니다. \n",
        "checkpoint_filepath = \"FMbest.hdf5\"\n",
        "\n",
        "X_train = X_train / 255.\n",
        "X_test = X_test / 255.\n",
        "\n",
        "model = Sequential()\n",
        "model.add(Flatten(input_shape=(##### Your Code Here #####)))\n",
        "model.add(Dense(128, activation='relu'))\n",
        "model.add(Dense(128, activation='relu'))\n",
        "model.add(Dense(100, activation='softmax'))\n",
        "\n",
        "# 컴파일 단계, 옵티마이저와 손실함수, 측정지표를 연결해서 계산 그래프를 구성함\n",
        "model.compile(optimizer='adam', loss='sparse_categorical_crossentropy', metrics=['accuracy'])\n",
        "\n",
        "\n",
        "# early stopping\n",
        "early_stop = ##### Your Code Here #####\n",
        "\n",
        "# Validation Set을 기준으로 가장 최적의 모델을 찾기\n",
        "save_best = keras.callbacks.ModelCheckpoint(##### Your Code Here #####)\n",
        "\n",
        "results = model.fit(##### Your Code Here #####)"
      ],
      "execution_count": null,
      "outputs": []
    },
    {
      "cell_type": "code",
      "metadata": {
        "id": "Bk3GSXbfUI91",
        "colab": {
          "base_uri": "https://localhost:8080/"
        },
        "outputId": "c83a26c3-cbfd-46f6-895d-3d9b48140c18"
      },
      "source": [
        "# 학습된 모델을 이용하여 테스트하는 코드\n",
        "\n",
        "model.predict(X_test[0:1])\n",
        "test_loss, test_acc = model.evaluate(X_test,  y_test, verbose=1)"
      ],
      "execution_count": null,
      "outputs": [
        {
          "output_type": "stream",
          "text": [
            "313/313 - 1s - loss: 3.4137 - accuracy: 0.1889\n"
          ],
          "name": "stdout"
        }
      ]
    },
    {
      "cell_type": "code",
      "metadata": {
        "id": "Nyz7CrMIUNJX"
      },
      "source": [
        "model.load_weights(checkpoint_filepath)\n",
        "# best model을 이용한 테스트 데이터 예측 정확도 재확인 코드\n",
        "\n",
        "model.predict(X_test[0:1])\n",
        "test_loss, test_acc = model.evaluate(X_test,  y_test, verbose=1)"
      ],
      "execution_count": null,
      "outputs": []
    },
    {
      "cell_type": "markdown",
      "metadata": {
        "id": "zv_3xNMjzdLI"
      },
      "source": [
        "## 도전과제\n",
        "\n",
        "- 하이퍼 파라미터 튜닝을 사용하여 모델의 정확도를 최대한 높여보세요.\n",
        "- 교차 검증(CV) 기법을 사용하여 모델과 조금 더 일관된 결과를 얻어보세요.\n",
        "- 아직 이론을 배우진 않았지만, Cifar100의 분류문제를 효율적으로 찾기위한 방법을 찾아보세요. \n",
        "- 대부분의 문제풀이는 CNN을 통해서 해결했을 것입니다. \n",
        "- 이제 코드를 보는 방법이 조금씩 익숙해졌기 때문에 다른 사람들이 돌려놓은 파일을 이해해서 돌아가는 샘플코드를 만들어볼 수 있을 것입니다. \n",
        "- 남들이 작성해두었고, 돌아가는 코드를 찾아서 변환하는 것이기 때문에 CNN이라고 해서 어려울 것은 없습니다. \n",
        "- 아직 원리를 모르지만, cifar100 데이터셋을 이용하여 CNN 모델을 구축하고 기본적인 신경망의 결과와 비교해 보십시오. \n",
        "- [참조링크](https://www.kaggle.com/adi160/cifar-10-keras-transfer-learning)\n"
      ]
    },
    {
      "cell_type": "code",
      "metadata": {
        "id": "5RdyQ2P_lFlX"
      },
      "source": [
        "from tensorflow.keras.datasets import cifar100\n",
        "from tensorflow.keras.models import Sequential\n",
        "from tensorflow.keras.layers import Dense, Dropout, Flatten\n",
        "from tensorflow.keras.layers import Conv2D, MaxPooling2D, BatchNormalization\n",
        "from tensorflow.keras.utils import to_categorical\n",
        "from tensorflow.keras.preprocessing.image import ImageDataGenerator\n",
        "from sklearn.model_selection import train_test_split\n",
        "import numpy as np\n",
        "import tensorflow as tf\n",
        "\n",
        "batch_size = 2000\n",
        "num_classes = 100\n",
        "epochs = 20\n",
        "\n",
        "# 데이터 불러오기\n",
        "np.random.seed(1)\n",
        "tf.random.set_seed(1)\n",
        "(X_train, y_train), (X_test, y_test) = cifar100.load_data()\n",
        "\n",
        "X_train = X_train.astype('float32') / 255.0 - 0.5\n",
        "X_test = X_test.astype('float32') / 255.0 - 0.5\n",
        "\n",
        "X_train,X_val,y_train,y_val=train_test_split(X_train,y_train,test_size=.2)\n",
        "\n",
        "y_train=to_categorical(y_train)\n",
        "y_val=to_categorical(y_val)\n",
        "y_test=to_categorical(y_test)"
      ],
      "execution_count": null,
      "outputs": []
    },
    {
      "cell_type": "code",
      "metadata": {
        "colab": {
          "base_uri": "https://localhost:8080/"
        },
        "id": "LkStH7FyFgra",
        "outputId": "b13e081c-fbc7-497f-dfdc-f0ea6b9279b2"
      },
      "source": [
        "[X_train.shape, y_train.shape]"
      ],
      "execution_count": null,
      "outputs": [
        {
          "output_type": "execute_result",
          "data": {
            "text/plain": [
              "[(40000, 32, 32, 3), (40000, 100)]"
            ]
          },
          "metadata": {
            "tags": []
          },
          "execution_count": 17
        }
      ]
    },
    {
      "cell_type": "code",
      "metadata": {
        "id": "H5-JemoY1J2G",
        "colab": {
          "base_uri": "https://localhost:8080/"
        },
        "outputId": "46dcae58-8b6b-41ea-f806-39e22b4d549f"
      },
      "source": [
        "# transfer\n",
        "from keras.applications import VGG19, ResNet50\n",
        "from tensorflow.keras.optimizers import Adam, SGD\n",
        "\n",
        "base_model_1 = VGG19(include_top=False, weights='imagenet', input_shape=(32,32,3), classes=y_train.shape[1])\n",
        "\n",
        "model_1= Sequential()\n",
        "model_1.add(base_model_1) \n",
        "model_1.add(Flatten()) \n",
        "\n",
        "#Add the Dense layers along with activation and batch normalization\n",
        "model_1.add(Dense(1024,activation=('relu'),input_dim=512))\n",
        "model_1.add(Dense(512,activation=('relu'))) \n",
        "model_1.add(Dense(256,activation=('relu'))) \n",
        "# model_1.add(Dropout(.3)) #Adding a dropout layer that will randomly drop 30% of the weights\n",
        "model_1.add(Dense(128,activation=('relu')))\n",
        "# model_1.add(Dropout(.2))\n",
        "model_1.add(Dense(num_classes,activation=('softmax'))) #This is the classification layer\n",
        "\n",
        "model_1.summary()"
      ],
      "execution_count": null,
      "outputs": [
        {
          "output_type": "stream",
          "text": [
            "Model: \"sequential_3\"\n",
            "_________________________________________________________________\n",
            "Layer (type)                 Output Shape              Param #   \n",
            "=================================================================\n",
            "vgg19 (Functional)           (None, 1, 1, 512)         20024384  \n",
            "_________________________________________________________________\n",
            "flatten_3 (Flatten)          (None, 512)               0         \n",
            "_________________________________________________________________\n",
            "dense_15 (Dense)             (None, 1024)              525312    \n",
            "_________________________________________________________________\n",
            "dense_16 (Dense)             (None, 512)               524800    \n",
            "_________________________________________________________________\n",
            "dense_17 (Dense)             (None, 256)               131328    \n",
            "_________________________________________________________________\n",
            "dense_18 (Dense)             (None, 128)               32896     \n",
            "_________________________________________________________________\n",
            "dense_19 (Dense)             (None, 100)               12900     \n",
            "=================================================================\n",
            "Total params: 21,251,620\n",
            "Trainable params: 21,251,620\n",
            "Non-trainable params: 0\n",
            "_________________________________________________________________\n"
          ],
          "name": "stdout"
        }
      ]
    },
    {
      "cell_type": "code",
      "metadata": {
        "id": "c-8tMvFy1kko",
        "colab": {
          "base_uri": "https://localhost:8080/"
        },
        "outputId": "1bd33f4a-0ace-4862-8a3b-997882a4740c"
      },
      "source": [
        "learn_rate=.001\n",
        "\n",
        "sgd=SGD(lr=learn_rate,momentum=.9,nesterov=False)\n",
        "adam=Adam(lr=learn_rate, beta_1=0.9, beta_2=0.999, epsilon=None, decay=0.0, amsgrad=False)\n",
        "\n",
        "model_1.compile(optimizer=sgd,loss='categorical_crossentropy',metrics=['accuracy'])\n",
        "\n",
        "model_1.fit(X_train, y_train, batch_size=batch_size,\n",
        "                    validation_data=(X_val, y_val),\n",
        "                    epochs=epochs, verbose=1)\n",
        "\n"
      ],
      "execution_count": null,
      "outputs": [
        {
          "output_type": "stream",
          "text": [
            "Epoch 1/50\n",
            "1250/1250 [==============================] - 47s 24ms/step - loss: 4.0798 - accuracy: 0.0892 - val_loss: 2.7171 - val_accuracy: 0.2910\n",
            "Epoch 2/50\n",
            "1250/1250 [==============================] - 30s 24ms/step - loss: 2.5542 - accuracy: 0.3286 - val_loss: 2.2769 - val_accuracy: 0.3923\n",
            "Epoch 3/50\n",
            "1250/1250 [==============================] - 30s 24ms/step - loss: 2.0954 - accuracy: 0.4273 - val_loss: 2.0757 - val_accuracy: 0.4449\n",
            "Epoch 4/50\n",
            "1250/1250 [==============================] - 30s 24ms/step - loss: 1.7989 - accuracy: 0.4984 - val_loss: 2.0754 - val_accuracy: 0.4464\n",
            "Epoch 5/50\n",
            "1250/1250 [==============================] - 30s 24ms/step - loss: 1.5617 - accuracy: 0.5541 - val_loss: 1.9458 - val_accuracy: 0.4854\n",
            "Epoch 6/50\n",
            "1250/1250 [==============================] - 30s 24ms/step - loss: 1.3625 - accuracy: 0.6018 - val_loss: 1.8181 - val_accuracy: 0.5159\n",
            "Epoch 7/50\n",
            "1250/1250 [==============================] - 30s 24ms/step - loss: 1.1693 - accuracy: 0.6561 - val_loss: 1.8012 - val_accuracy: 0.5208\n",
            "Epoch 8/50\n",
            "1250/1250 [==============================] - 30s 24ms/step - loss: 1.0239 - accuracy: 0.6883 - val_loss: 1.8534 - val_accuracy: 0.5318\n",
            "Epoch 9/50\n",
            "1250/1250 [==============================] - 30s 24ms/step - loss: 0.8553 - accuracy: 0.7336 - val_loss: 1.8625 - val_accuracy: 0.5275\n",
            "Epoch 10/50\n",
            "1250/1250 [==============================] - 30s 24ms/step - loss: 0.7541 - accuracy: 0.7651 - val_loss: 1.8584 - val_accuracy: 0.5412\n",
            "Epoch 11/50\n",
            "1250/1250 [==============================] - 30s 24ms/step - loss: 0.6198 - accuracy: 0.8012 - val_loss: 2.0254 - val_accuracy: 0.5379\n",
            "Epoch 12/50\n",
            "1250/1250 [==============================] - 30s 24ms/step - loss: 0.5205 - accuracy: 0.8321 - val_loss: 2.0520 - val_accuracy: 0.5463\n",
            "Epoch 13/50\n",
            "1250/1250 [==============================] - 30s 24ms/step - loss: 0.4487 - accuracy: 0.8509 - val_loss: 2.2980 - val_accuracy: 0.5343\n",
            "Epoch 14/50\n",
            "1250/1250 [==============================] - 30s 24ms/step - loss: 0.3523 - accuracy: 0.8846 - val_loss: 2.2447 - val_accuracy: 0.5552\n",
            "Epoch 15/50\n",
            "1250/1250 [==============================] - 30s 24ms/step - loss: 0.2954 - accuracy: 0.9043 - val_loss: 2.4751 - val_accuracy: 0.5426\n",
            "Epoch 16/50\n",
            "1250/1250 [==============================] - 30s 24ms/step - loss: 0.2491 - accuracy: 0.9169 - val_loss: 2.3866 - val_accuracy: 0.5503\n",
            "Epoch 17/50\n",
            "1250/1250 [==============================] - 30s 24ms/step - loss: 0.2175 - accuracy: 0.9288 - val_loss: 2.5494 - val_accuracy: 0.5462\n",
            "Epoch 18/50\n",
            "1250/1250 [==============================] - 30s 24ms/step - loss: 0.1982 - accuracy: 0.9347 - val_loss: 2.6222 - val_accuracy: 0.5372\n",
            "Epoch 19/50\n",
            "1250/1250 [==============================] - 30s 24ms/step - loss: 0.1551 - accuracy: 0.9483 - val_loss: 2.7787 - val_accuracy: 0.5497\n",
            "Epoch 20/50\n",
            "1250/1250 [==============================] - 30s 24ms/step - loss: 0.1488 - accuracy: 0.9525 - val_loss: 2.8253 - val_accuracy: 0.5380\n",
            "Epoch 21/50\n",
            "1250/1250 [==============================] - 30s 24ms/step - loss: 0.1194 - accuracy: 0.9623 - val_loss: 2.8298 - val_accuracy: 0.5551\n",
            "Epoch 22/50\n",
            "1250/1250 [==============================] - 30s 24ms/step - loss: 0.1105 - accuracy: 0.9647 - val_loss: 2.9766 - val_accuracy: 0.5531\n",
            "Epoch 23/50\n",
            "1250/1250 [==============================] - 30s 24ms/step - loss: 0.1037 - accuracy: 0.9662 - val_loss: 3.0104 - val_accuracy: 0.5453\n",
            "Epoch 24/50\n",
            "1250/1250 [==============================] - 30s 24ms/step - loss: 0.0974 - accuracy: 0.9679 - val_loss: 2.9301 - val_accuracy: 0.5520\n",
            "Epoch 25/50\n",
            "1250/1250 [==============================] - 30s 24ms/step - loss: 0.0859 - accuracy: 0.9722 - val_loss: 3.1983 - val_accuracy: 0.5356\n",
            "Epoch 26/50\n",
            "1250/1250 [==============================] - 30s 24ms/step - loss: 0.0831 - accuracy: 0.9733 - val_loss: 3.0059 - val_accuracy: 0.5623\n",
            "Epoch 27/50\n",
            "1250/1250 [==============================] - 30s 24ms/step - loss: 0.0675 - accuracy: 0.9774 - val_loss: 3.0408 - val_accuracy: 0.5559\n",
            "Epoch 28/50\n",
            "1250/1250 [==============================] - 30s 24ms/step - loss: 0.0586 - accuracy: 0.9813 - val_loss: 3.2096 - val_accuracy: 0.5420\n",
            "Epoch 29/50\n",
            "1250/1250 [==============================] - 30s 24ms/step - loss: 0.0613 - accuracy: 0.9801 - val_loss: 3.0456 - val_accuracy: 0.5558\n",
            "Epoch 30/50\n",
            "1250/1250 [==============================] - 30s 24ms/step - loss: 0.0457 - accuracy: 0.9857 - val_loss: 3.3884 - val_accuracy: 0.5427\n",
            "Epoch 31/50\n",
            "1250/1250 [==============================] - 30s 24ms/step - loss: 0.0433 - accuracy: 0.9865 - val_loss: 3.2113 - val_accuracy: 0.5584\n",
            "Epoch 32/50\n",
            "1250/1250 [==============================] - 30s 24ms/step - loss: 0.0552 - accuracy: 0.9823 - val_loss: 3.3614 - val_accuracy: 0.5591\n",
            "Epoch 33/50\n",
            "1250/1250 [==============================] - 30s 24ms/step - loss: 0.0487 - accuracy: 0.9840 - val_loss: 3.3222 - val_accuracy: 0.5582\n",
            "Epoch 34/50\n",
            "1250/1250 [==============================] - 30s 24ms/step - loss: 0.0375 - accuracy: 0.9880 - val_loss: 3.2700 - val_accuracy: 0.5575\n",
            "Epoch 35/50\n",
            "1250/1250 [==============================] - 30s 24ms/step - loss: 0.0385 - accuracy: 0.9875 - val_loss: 3.1482 - val_accuracy: 0.5659\n",
            "Epoch 36/50\n",
            "1250/1250 [==============================] - 30s 24ms/step - loss: 0.0359 - accuracy: 0.9885 - val_loss: 3.2897 - val_accuracy: 0.5566\n",
            "Epoch 37/50\n",
            "1250/1250 [==============================] - 30s 24ms/step - loss: 0.0392 - accuracy: 0.9882 - val_loss: 3.3348 - val_accuracy: 0.5553\n",
            "Epoch 38/50\n",
            "1250/1250 [==============================] - 30s 24ms/step - loss: 0.0203 - accuracy: 0.9939 - val_loss: 3.7065 - val_accuracy: 0.5478\n",
            "Epoch 39/50\n",
            "1250/1250 [==============================] - 30s 24ms/step - loss: 0.0406 - accuracy: 0.9873 - val_loss: 3.3603 - val_accuracy: 0.5597\n",
            "Epoch 40/50\n",
            "1250/1250 [==============================] - 30s 24ms/step - loss: 0.0223 - accuracy: 0.9932 - val_loss: 3.6228 - val_accuracy: 0.5533\n",
            "Epoch 41/50\n",
            "1250/1250 [==============================] - 30s 24ms/step - loss: 0.0281 - accuracy: 0.9914 - val_loss: 3.5188 - val_accuracy: 0.5592\n",
            "Epoch 42/50\n",
            "1250/1250 [==============================] - 30s 24ms/step - loss: 0.0094 - accuracy: 0.9972 - val_loss: 3.6608 - val_accuracy: 0.5568\n",
            "Epoch 43/50\n",
            "1250/1250 [==============================] - 30s 24ms/step - loss: 0.0201 - accuracy: 0.9937 - val_loss: 3.8507 - val_accuracy: 0.5514\n",
            "Epoch 44/50\n",
            "1250/1250 [==============================] - 30s 24ms/step - loss: 0.0243 - accuracy: 0.9923 - val_loss: 3.5868 - val_accuracy: 0.5558\n",
            "Epoch 45/50\n",
            "1250/1250 [==============================] - 30s 24ms/step - loss: 0.0427 - accuracy: 0.9871 - val_loss: 3.4668 - val_accuracy: 0.5613\n",
            "Epoch 46/50\n",
            "1250/1250 [==============================] - 30s 24ms/step - loss: 0.0266 - accuracy: 0.9908 - val_loss: 3.6233 - val_accuracy: 0.5644\n",
            "Epoch 47/50\n",
            "1250/1250 [==============================] - 30s 24ms/step - loss: 0.0264 - accuracy: 0.9911 - val_loss: 3.3348 - val_accuracy: 0.5658\n",
            "Epoch 48/50\n",
            "1250/1250 [==============================] - 30s 24ms/step - loss: 0.0152 - accuracy: 0.9957 - val_loss: 3.4363 - val_accuracy: 0.5549\n",
            "Epoch 49/50\n",
            "1250/1250 [==============================] - 30s 24ms/step - loss: 0.0156 - accuracy: 0.9956 - val_loss: 3.5446 - val_accuracy: 0.5697\n",
            "Epoch 50/50\n",
            "1250/1250 [==============================] - 30s 24ms/step - loss: 0.0053 - accuracy: 0.9987 - val_loss: 3.7550 - val_accuracy: 0.5693\n"
          ],
          "name": "stdout"
        },
        {
          "output_type": "execute_result",
          "data": {
            "text/plain": [
              "<tensorflow.python.keras.callbacks.History at 0x7fbabb79f190>"
            ]
          },
          "metadata": {
            "tags": []
          },
          "execution_count": 19
        }
      ]
    },
    {
      "cell_type": "code",
      "metadata": {
        "id": "ynoPTe_u10Jg",
        "colab": {
          "base_uri": "https://localhost:8080/",
          "height": 285
        },
        "outputId": "5042dfe3-d08a-485c-8ae5-f3d0dc4c86ef"
      },
      "source": [
        "import matplotlib.pyplot as plt\n",
        "f,ax=plt.subplots(2,1) #Creates 2 subplots under 1 column\n",
        "\n",
        "#Assign the first subplot to graph training loss and validation loss\n",
        "ax[0].plot(model_1.history.history['loss'],color='b',label='Training Loss')\n",
        "ax[0].plot(model_1.history.history['val_loss'],color='r',label='Validation Loss')\n",
        "\n",
        "#Next lets plot the training accuracy and validation accuracy\n",
        "ax[1].plot(model_1.history.history['accuracy'],color='b',label='Training  Accuracy')\n",
        "ax[1].plot(model_1.history.history['val_accuracy'],color='r',label='Validation Accuracy')"
      ],
      "execution_count": null,
      "outputs": [
        {
          "output_type": "execute_result",
          "data": {
            "text/plain": [
              "[<matplotlib.lines.Line2D at 0x7fba550871d0>]"
            ]
          },
          "metadata": {
            "tags": []
          },
          "execution_count": 22
        },
        {
          "output_type": "display_data",
          "data": {
            "image/png": "[encoded data removed]",
            "text/plain": [
              "<Figure size 432x288 with 2 Axes>"
            ]
          },
          "metadata": {
            "tags": [],
            "needs_background": "light"
          }
        }
      ]
    },
    {
      "cell_type": "code",
      "metadata": {
        "id": "Mdl_5S9xQ4Na",
        "colab": {
          "base_uri": "https://localhost:8080/"
        },
        "outputId": "ff5e2338-d711-4dc9-ae72-4ead68060cf8"
      },
      "source": [
        "model_1.predict(X_test)\n",
        "test_loss, test_acc = model_1.evaluate(X_test, y_test, verbose=1)"
      ],
      "execution_count": null,
      "outputs": [
        {
          "output_type": "stream",
          "text": [
            "313/313 [==============================] - 3s 8ms/step - loss: 3.7550 - accuracy: 0.5693\n"
          ],
          "name": "stdout"
        }
      ]
    }
  ]
}
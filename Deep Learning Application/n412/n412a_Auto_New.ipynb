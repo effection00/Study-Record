{
  "nbformat": 4,
  "nbformat_minor": 0,
  "metadata": {
    "colab": {
      "name": "ds-cs-N422a.ipynb",
      "provenance": []
    },
    "kernelspec": {
      "display_name": "Python 3",
      "language": "python",
      "name": "python3"
    },
    "language_info": {
      "codemirror_mode": {
        "name": "ipython",
        "version": 3
      },
      "file_extension": ".py",
      "mimetype": "text/x-python",
      "name": "python",
      "nbconvert_exporter": "python",
      "pygments_lexer": "ipython3",
      "version": "3.9.4"
    },
    "nteract": {
      "version": "0.22.4"
    }
  },
  "cells": [
    {
      "cell_type": "markdown",
      "metadata": {
        "id": "BLEL2jEx46JU"
      },
      "source": [
        "<img align=\"right\" src=\"https://ds-cs-images.s3.ap-northeast-2.amazonaws.com/Codestates_Fulllogo_Color.png\" width=100>\n",
        "\n",
        "## *DATA SCIENCE / SECTION 4 / SPRINT 1 / NOTE 2*\n",
        "\n",
        "---\n",
        "\n",
        "# 📝 Assignment\n",
        "\n",
        "# 경사하강법과 역전파 알고리즘"
      ]
    },
    {
      "cell_type": "markdown",
      "metadata": {
        "id": "AgaDts6bzuFP"
      },
      "source": [
        "## 문제 1. Keras 이용하기\n",
        "\n",
        "32개의 노드를 가진 입력층, 64개, 256개의 노드를 가진 각 1개(=총 2개)의 은닉층, 5개의 클래스로 구성된 데이터를 가진 신경망을 만들고자 합니다.\n",
        "\n",
        "주석 처리된 곳에 알맞은 숫자를 입력해주세요."
      ]
    },
    {
      "cell_type": "code",
      "metadata": {
        "id": "CMteMkoM1fyn"
      },
      "source": [
        "from tensorflow.keras.models import Sequential\n",
        "from tensorflow.keras.layers import Dense\n",
        "\n",
        "A = 64\n",
        "B = 32\n",
        "C = 256\n",
        "D = 5\n",
        "\n",
        "model = Sequential([\n",
        "    Dense(A, activation='sigmoid', input_dim=B), # A, B\n",
        "    Dense(C, activation='sigmoid'), # C\n",
        "    Dense(D, activation='softmax') # D\n",
        "])\n",
        "\n",
        "lossFunction = 'sparse_categorical_crossentropy'\n",
        "batch_size = 50\n",
        "\n",
        "model.compile(optimizer='sgd', loss=lossFunction, metrics=['acc'])\n",
        " \n",
        "results = model.fit(X,y, batch_size=batch_size, epochs=100)"
      ],
      "execution_count": null,
      "outputs": []
    },
    {
      "cell_type": "markdown",
      "metadata": {
        "id": "fS6vZajr16FV"
      },
      "source": [
        "- 1-1. 각각의 알파벳에 들어갈 숫자들은 이용하여  `A+C/B + D` 을 연산하여 정답을 입력하시오. (덧셈과 나눗셈의 순서를 혼동하지 않도록 조심할 것.)\n",
        "답) 77\n",
        "\n",
        "\n",
        "- 1-2. lossFunction에는 어떤 값을 넣어주어야 하나?\n",
        "답) 'sparse_categorical_crossentropy'\n",
        "\n",
        "- 1-3. 입력데이터의 개수는 100개이고 batch_size가 50개라고 하면, 위 코드를 기준으로 전체 가중치의 학습(iteration)은 총 몇번이 일어날까?\n",
        "답) 200"
      ]
    },
    {
      "cell_type": "markdown",
      "metadata": {
        "id": "Ld2WUoBb7nDc"
      },
      "source": [
        ""
      ]
    }
  ]
}
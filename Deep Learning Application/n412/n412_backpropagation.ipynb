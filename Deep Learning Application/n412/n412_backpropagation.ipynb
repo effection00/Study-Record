{
  "nbformat": 4,
  "nbformat_minor": 0,
  "metadata": {
    "colab": {
      "name": "ds-cs-N422-Lecture.ipynb",
      "provenance": [],
      "collapsed_sections": [
        "Nc1oDxDK8Ibx",
        "TSlQWRHO9k8m",
        "Z7zhdX9i9nak",
        "tfIu6bz69vKe",
        "m537oChw9vfu",
        "2BUCUgkhAidw",
        "6qifiznqrJKM",
        "A1rEOwEwB4Ou",
        "RUxi_BnqIrRo",
        "s3ipxAXxdeuG"
      ],
      "toc_visible": true
    },
    "kernelspec": {
      "name": "python3",
      "display_name": "Python 3"
    }
  },
  "cells": [
    {
      "cell_type": "markdown",
      "metadata": {
        "id": "z7G2l6mw5-dR"
      },
      "source": [
        "<img align=\"right\" src=\"https://ds-cs-images.s3.ap-northeast-2.amazonaws.com/Codestates_Fulllogo_Color.png\" width=100>\n",
        "\n",
        "## *DATA SCIENCE / SECTION 4 / SPRINT 1 / NOTE 2*\n",
        "\n",
        "---\n",
        "# N412. 경사하강법과 역전파 알고리즘"
      ]
    },
    {
      "cell_type": "markdown",
      "metadata": {
        "id": "AqfLMKmY5njZ"
      },
      "source": [
        "# Warm up\n",
        "\n",
        "다음 영상을 시청해 주세요 :)\n",
        "\n",
        "하나를 하더라도 직접 계산해보는 것이 좋고, 프로그램으로 만들어보면 더 이해가 잘 됩니다. "
      ]
    },
    {
      "cell_type": "markdown",
      "metadata": {
        "id": "ROKiqq6558V3"
      },
      "source": [
        "\n",
        "- [3Blue1Brown-역전파 미적분, 딥러닝](https://youtu.be/tIeHLnjs5U8)\n",
        "- [학습과정을 잘 모식화한 영상 - 역전파](https://youtu.be/GlcnxUlrtek)\n",
        "- [backpropagation example](https://www.youtube.com/watch?v=0e0z28wAWfg)\n"
      ]
    },
    {
      "cell_type": "markdown",
      "metadata": {
        "id": "0c6qrtQLax3C"
      },
      "source": [
        "## 지난시간 복습\n",
        "- 인공지능의 역사\n",
        "- 퍼셉트론과 Gate\n",
        "- 신경망의 기본 구조\n",
        "  * input - dendrite\n",
        "  * activation - Axon Hilock\n",
        "  * output - Axon\n",
        "- 신경망의 동작 원리\n",
        "  * 데이터 전처리 및 입력\n",
        "  * 모델 제작 및 가중치 초기화\n",
        "  * 모델에 데이터를 넣고 출력값을 얻음\n",
        "  * 출력값과 레이블(정답지)과 비교 후 Loss 계산\n",
        "  * Loss를 반영하여 가중치 업데이트 -> 역전파(BackPropagation) + 경사하강법(Gradient Descent)"
      ]
    },
    {
      "cell_type": "markdown",
      "metadata": {
        "id": "vcZ5Ya2SEHcT"
      },
      "source": [
        "# 🏆 학습목표"
      ]
    },
    {
      "cell_type": "markdown",
      "metadata": {
        "id": "jty4c24v5-i2"
      },
      "source": [
        "* 경사하강법과 역전파 알고리즘에 대해 이해하고 설명할 수 있다.\n",
        "* 경사하강법과 역전파 알고리즘을 사용하여 신경망을 구현할 수 있다.\n",
        "* 케라스 프레임워크를 이용하여 모델을 구축할 수 있다."
      ]
    },
    {
      "cell_type": "markdown",
      "metadata": {
        "id": "gx4W2q6BEKiz"
      },
      "source": [
        "## 신경망 구조 (recap.)"
      ]
    },
    {
      "cell_type": "markdown",
      "metadata": {
        "id": "CKPhVJyg5-lr"
      },
      "source": [
        "오늘은 조금 더 깊이 있게 신경망 훈련 방법에 대해서 살펴볼 것 입니다. 순방향 신경망(FP)과 같은 다층퍼셉트론(MLP, Multi-layer Perceptron) 구조의 신경망은 경사하강법(Gradient descent, GD)으로 학습을 할 수 있는데 역전파(Backpropagationm, BP) 알고리즘에 의해 필요한 기울기(gradient)계산이 가능합니다.\n",
        "\n",
        "신경망 구조에 대해 다시 간략히 짚어보겠습니다:\n",
        "\n",
        "<img src=\"https://www.researchgate.net/profile/Daniela_Guimaraes4/publication/328369102/figure/fig1/AS:683451942457344@1539959049109/Representation-of-the-artificial-neural-networks-showing-the-weights-w-and-the-bias-b.png\" alt=\"Representation of the artificial neural networks showing the weights (w) and the bias (b).\"/>\n",
        "\n",
        "- 입력층(Input layer), 은닉층(Hidden layer), 출력층(output layer)이 존재합니다.\n",
        "- 각 층은 **n** 개의 뉴런(노드, activation units)으로 구성되어 있곡 각각 가중치(weight)와 편향(bias)를 가지고 있습니다.\n",
        "- 왼쪽 입력층에서부터 오른쪽으로 층에서 층으로 데이터가 전달되는데 다음과 같습니다:\n",
        "    - 훈련데이터를 입력층으로부터(이전 층으로부터) 받습니다.\n",
        "    - 입력데이터는 가중치와 가중합(weighted sum)을 합니다.\n",
        "    - 편향(bias)이 더해집니다.\n",
        "    - 편향이 더해진 가중합은 활성화함수(activation function)를 통해 다음 층으로 전달됩니다. 입력의 특성이 n개인 경우 전달되는 값은 다음식과 같습니다.\n",
        "\n",
        "\\begin{align}\n",
        " y = sigmoid(\\sum(w_{1}x_{1} + w_{2}x_{2} + ... + w_{n}x_{n}) + bias)\n",
        "\\end{align}\n",
        " "
      ]
    },
    {
      "cell_type": "markdown",
      "metadata": {
        "id": "Kra_J9qr64d_"
      },
      "source": [
        "### 신경망 학습 알고리즘 요약:\n",
        "\n",
        "0. 학습할 신경망 구조를 선택합니다.\n",
        "    - 입력층 유닛의 수 = 특징 수\n",
        "    - 출력층 유닛의 수 = 타겟 클래스 수\n",
        "    - 은닉층 수, 각 은닉층의 노드 수\n",
        "1. 가중치 랜덤 초기화\n",
        "2. 순방향 전파를 통해 $h_{\\theta}(x^{(i)})$(출력층 y값) 을 모든 입력 $x^{(i)}$에 대해 계산합니다.\n",
        "3. 비용함수를 $J(\\theta)$를 계산합니다.\n",
        "4. 역방향 전파를 통해 편미분 값들 $\\frac{\\delta}{\\delta\\theta_{jk}^{l}}{J(\\theta)}$ 을 계산합니다.\n",
        "5. 경사하강법 (or 다른 최적화 알고리즘)을 역전파와 함께 사용하여 비용함수인 $J(\\theta)$ 를 최소화 합니다.\n",
        "6. 어떤 중지 기준을 충족하거나 비용함수를 최소화 할 때까지 단계 2-5를 반복합니다. 2-5를 한 번 진행하는 것을 epoch 또는 iteration이라 말합니다."
      ]
    },
    {
      "cell_type": "markdown",
      "metadata": {
        "id": "Jr2I6iZL64gn"
      },
      "source": [
        "### 비용(cost), 손실(loss), 에러(error) 함수 계산\n",
        "\n",
        "신경망의 성능을 어떻게 측정하기 위해서는 비용함수를 계산해야 합니다. 한 데이터 샘플을 Forward Propagation를 시키고 마지막 출력층을 통과한 값과 이 데이터의 타겟값을 비교하여 loss or error를 계산합니다. 여기서 한 데이터 포인트에서의 손실을 loss라 하고 전체 데이터 셋의 loss를 합한 개념을 cost라고 합니다."
      ]
    },
    {
      "cell_type": "markdown",
      "metadata": {
        "id": "tlkyHN-e64kJ"
      },
      "source": [
        "\n",
        "신경망을 훈련시키기 위해서는 다른 머신러닝 알고리즘들 보다 **훨씬 많은** 훈련 데이터가 필요하고 그에 따라 훈련 시간도 오래 걸리며 더 많은 **하이퍼파라미터를 튜닝**해야 합니다. 이렇게 복잡한 신경망을 훈련하기 위해서는 특별한 방법이 필요합니다, 바로 역전파 알고리즘 입니다.\n",
        "\n",
        "그럼 이제 신경망을 훈련시키는 역전파 알고리즘을 제대로 배워보도록 하겠습니다.\n"
      ]
    },
    {
      "cell_type": "markdown",
      "metadata": {
        "id": "N60oozE27jLQ"
      },
      "source": [
        "# Backpropagation (BP)"
      ]
    },
    {
      "cell_type": "markdown",
      "metadata": {
        "id": "wZssqXQc7jPp"
      },
      "source": [
        "역전파(Backpropagation)는 [\"Backwards Propagation of errors\"](https://en.wikipedia.org/wiki/Backpropagation)의 줄임말 입니다. 신경망에 존재하는 가중치들을 어떻게 업데이트 해야할지 결정하기 위해 epoch/batch 마다 출력층에서 입력층 방향(역방향)으로 미분값을 계산하고 가중치를 업데이트 하여 신경망을 학습하는 알고리즘입니다. 지금까지 배운 알고리즘 중 가장 복잡한 수식을 보여주는데 미분법에 대한 이해가 약간 필요합니다. 역전파과정의 수식에 대한 설명은 WarmUp의 영상들을 꼭 참고하여 주시기 바랍니다."
      ]
    },
    {
      "cell_type": "markdown",
      "metadata": {
        "id": "6F9ZlX3Z7svU"
      },
      "source": [
        "지난 시간에 NN의 Feed Forward (FF) Propagation 에 대해서 배워보았습니다. \n",
        "\n",
        "간단하게나마 미리보기를 통해서 GD, BP에 대해서도 다뤄보았죠. 한번 듣고 이해하기 어렵기 때문에 다시한번 수행해보겠습니다.\n",
        "\n"
      ]
    },
    {
      "cell_type": "markdown",
      "metadata": {
        "id": "qxhvLswW8Cgx"
      },
      "source": [
        "<img src=\"https://i.imgur.com/Y5XVbrp.png\" title=\"https://becominghuman.ai/understanding-the-structure-of-neural-networks-1fa5bd17fef0\" width=\"600\" />"
      ]
    },
    {
      "cell_type": "markdown",
      "metadata": {
        "id": "Nc1oDxDK8Ibx"
      },
      "source": [
        "**예제를 통해서 이해해보자** <br>\n",
        "데이터는 선형함수를 통해서 나왔다고 가정합시다\n",
        "\n",
        "$y = 5x_1 + 2x_2 + 40$\n",
        "\n",
        "$x_1$: 공부시간\n",
        "\n",
        "$x_2$: 수면시간"
      ]
    },
    {
      "cell_type": "code",
      "metadata": {
        "id": "6yry8Tt96HV9",
        "colab": {
          "base_uri": "https://localhost:8080/"
        },
        "outputId": "7bd1a393-1987-4acd-f471-6dbed40dec83"
      },
      "source": [
        "# 해당 코드는 선형함수를 예측하는 예제입니다. \n",
        "import numpy as np\n",
        "\n",
        "np.random.seed(812)\n",
        "\n",
        "# [공부시간, 수면시간]\n",
        "X = np.array(([8,8],\n",
        "              [2,5],\n",
        "              [7,6]), dtype=float)\n",
        "\n",
        "# 시험 점수\n",
        "y = X[:,0]*5 + X[:,1]*2\n",
        "y = y.reshape(3,1)\n",
        "\n",
        "## 특성 정규화(Feature Normalization)\n",
        "# 신경망 학습과정 중에 정규화가 진행되나 지금은 빠른 수렴을 위해 특성을 정규화하여 진행하겠습니다.\n",
        "X = X / np.amax(X, axis=0) # 최대값으로 나눠 0-1사이의 값으로 만들어 줌\n",
        "y = y / np.amax(y, axis=0)\n",
        "\n",
        "print(\"공부시간, 수면시간 \\n\", X)\n",
        "print(\"시험점수 \\n\", y)"
      ],
      "execution_count": null,
      "outputs": [
        {
          "output_type": "stream",
          "text": [
            "공부시간, 수면시간 \n",
            " [[1.    1.   ]\n",
            " [0.25  0.625]\n",
            " [0.875 0.75 ]]\n",
            "시험점수 \n",
            " [[1.        ]\n",
            " [0.35714286]\n",
            " [0.83928571]]\n"
          ],
          "name": "stdout"
        }
      ]
    },
    {
      "cell_type": "markdown",
      "metadata": {
        "id": "TSlQWRHO9k8m"
      },
      "source": [
        "신경망 클래스 내 __init__ 메소드에서 신경망의 구조를 결정합니다."
      ]
    },
    {
      "cell_type": "code",
      "metadata": {
        "id": "TdAZY8H88Rux"
      },
      "source": [
        "# Neural network를 정의하는 Class를 제작하는 코드입니다. \n",
        "class NeuralNetwork:\n",
        "    \n",
        "    def __init__(self):\n",
        "        # 신경망의 구조를 결정합니다. 입력층 2 노드, 은닉층 3 노드, 출력층 1 노드\n",
        "        self.inputs = 2       # 입력노드 수\n",
        "        self.hiddenNodes = 3  # 히든노드 수\n",
        "        self.outputNodes = 1  # 출력노드 수\n",
        "        \n",
        "        # 가중치를 초기화 합니다.\n",
        "        # layer 1 가중치 (2x3)\n",
        "        self.w1 = np.random.randn(self.inputs,self.hiddenNodes)\n",
        "        \n",
        "        # layer 2 가중치 (3x1)\n",
        "        self.w2 = np.random.randn(self.hiddenNodes, self.outputNodes)"
      ],
      "execution_count": null,
      "outputs": []
    },
    {
      "cell_type": "markdown",
      "metadata": {
        "id": "Z7zhdX9i9nak"
      },
      "source": [
        "### 초기 무작위 가중치\n",
        "완전연결계층(Fully-connected Layers) 신경망일 경우 얼마나 많은 가중치 변수를 만들어야 할까요?"
      ]
    },
    {
      "cell_type": "code",
      "metadata": {
        "id": "0wTIn12-9qdv",
        "colab": {
          "base_uri": "https://localhost:8080/"
        },
        "outputId": "fd4034cf-a1b4-4907-b37c-a28e2c37474a"
      },
      "source": [
        "# 정의된 클래스를 사용해보고, 해당 가중치를 디스플레이 하는 코드입니다. \n",
        "nn = NeuralNetwork()\n",
        "\n",
        "print(\"Layer 1 가중치: \\n\", nn.w1)\n",
        "print(\"Layer 2 가중치: \\n\", nn.w2)"
      ],
      "execution_count": null,
      "outputs": [
        {
          "output_type": "stream",
          "text": [
            "Layer 1 가중치: \n",
            " [[ 2.48783189  0.11697987 -1.97118428]\n",
            " [-0.48325593 -1.50361209  0.57515126]]\n",
            "Layer 2 가중치: \n",
            " [[-0.20672583]\n",
            " [ 0.41271104]\n",
            " [-0.57757999]]\n"
          ],
          "name": "stdout"
        }
      ]
    },
    {
      "cell_type": "markdown",
      "metadata": {
        "id": "d3s6SVo0hKFZ"
      },
      "source": [
        "[참고] 행렬(Array)을 이용하여 연산을 할 때, 참고하실 수 있는 자료 입니다.\n",
        "- [l x m] * [m x n] = [l x n] 행렬의 형태로 연산이됩니다."
      ]
    },
    {
      "cell_type": "markdown",
      "metadata": {
        "id": "Shc4b9V4_eIB"
      },
      "source": [
        "<img src=\"https://upload.wikimedia.org/wikipedia/commons/1/18/Matrix_multiplication_qtl1.svg\" width=\"450\" />"
      ]
    },
    {
      "cell_type": "markdown",
      "metadata": {
        "id": "tfIu6bz69vKe"
      },
      "source": [
        "### 순방향 기능 구현\n",
        "\n",
        "순방향 전파 기능 구현 후 신경망은 출력값을 내보낼 수 있게 됩니다."
      ]
    },
    {
      "cell_type": "code",
      "metadata": {
        "id": "p9FKZJB49vRK"
      },
      "source": [
        "# Neural network class를 기능을 추가하여 다시 정의하는 코드입니다. \n",
        "# \"def feed_forward(self, X):\"부분을 추가로 정의한 것을 볼 수 있습니다. \n",
        "\n",
        "class NeuralNetwork:\n",
        "    \n",
        "    def __init__(self):\n",
        "       # 신경망의 구조를 결정합니다. 입력층 2 노드, 은닉층 3 노드, 출력층 1 노드\n",
        "        self.inputs = 2\n",
        "        self.hiddenNodes = 3\n",
        "        self.outputNodes = 1\n",
        "        \n",
        "        # 가중치를 초기화 합니다.\n",
        "        # layer 1 가중치 (2x3)\n",
        "        self.w1 = np.random.randn(self.inputs,self.hiddenNodes)\n",
        "        \n",
        "        # layer 2 가중치 (3x1)\n",
        "        self.w2 = np.random.randn(self.hiddenNodes, self.outputNodes)\n",
        "        \n",
        "    def sigmoid(self, s):\n",
        "        return 1 / (1+np.exp(-s))\n",
        "    \n",
        "    def feed_forward(self, X):        \n",
        "        # 가중합 계산\n",
        "        self.hidden_sum = np.dot(X, self.w1)\n",
        "        \n",
        "        # 활성화함수\n",
        "        self.activated_hidden = self.sigmoid(self.hidden_sum)\n",
        "        \n",
        "        # 출력층에서 사용할 은닉층의 각 노드의 출력값을 가중합 합니다.\n",
        "        self.output_sum = np.dot(self.activated_hidden, self.w2)\n",
        "        \n",
        "        # 출력층 활성화, 예측값을 출력합니다.\n",
        "        self.activated_output = self.sigmoid(self.output_sum)\n",
        "        \n",
        "        return self.activated_output"
      ],
      "execution_count": null,
      "outputs": []
    },
    {
      "cell_type": "code",
      "metadata": {
        "id": "3phaQdn29vkJ",
        "colab": {
          "base_uri": "https://localhost:8080/"
        },
        "outputId": "b687cb55-e758-464e-d392-672c32835374"
      },
      "source": [
        "# 예측을 수행해 봅시다.\n",
        "nn = NeuralNetwork()\n",
        "print(X[0])\n",
        "output = nn.feed_forward(X[0])\n",
        "print(\"예측값: \", output)"
      ],
      "execution_count": null,
      "outputs": [
        {
          "output_type": "stream",
          "text": [
            "[1. 1.]\n",
            "예측값:  [0.21945787]\n"
          ],
          "name": "stdout"
        }
      ]
    },
    {
      "cell_type": "markdown",
      "metadata": {
        "id": "wTcptBK59vtc"
      },
      "source": [
        "### Error 계산"
      ]
    },
    {
      "cell_type": "code",
      "metadata": {
        "id": "LBG6FBSm9vyA",
        "colab": {
          "base_uri": "https://localhost:8080/"
        },
        "outputId": "f05fa720-c2eb-4c03-d3f9-f2b0e47a4814"
      },
      "source": [
        "error = y[0] - output\n",
        "error"
      ],
      "execution_count": null,
      "outputs": [
        {
          "output_type": "execute_result",
          "data": {
            "text/plain": [
              "array([0.78054213])"
            ]
          },
          "metadata": {
            "tags": []
          },
          "execution_count": 22
        }
      ]
    },
    {
      "cell_type": "code",
      "metadata": {
        "id": "LNIjszGU99o3",
        "colab": {
          "base_uri": "https://localhost:8080/"
        },
        "outputId": "88e272e4-9228-4760-fa51-35a2e33962bd"
      },
      "source": [
        "# 모든 데이터를 예측해보고 에러값을 계산해 보겠습니다.\n",
        "# print(X)\n",
        "output_all = nn.feed_forward(X)\n",
        "error_all = y - output_all\n",
        "print(output_all)\n",
        "print(error_all)"
      ],
      "execution_count": null,
      "outputs": [
        {
          "output_type": "stream",
          "text": [
            "[[0.21945787]\n",
            " [0.34573206]\n",
            " [0.23788921]]\n",
            "[[0.78054213]\n",
            " [0.0114108 ]\n",
            " [0.6013965 ]]\n"
          ],
          "name": "stdout"
        }
      ]
    },
    {
      "cell_type": "markdown",
      "metadata": {
        "id": "_4Kv24gu-Bfq"
      },
      "source": [
        "**에러값이 높게 나오는 이유는 무엇일까요?** \n",
        "- 에러가 높은 이유는 예측값이 낮게(정확하지 않게) 나오기 때문입니다.\n",
        "\n",
        "**예측값이 낮게 나오는 이유는 무엇일까요?** \n",
        "\n",
        "- Random으로 가중치를 만들었기 때문이고, 조금 더 자세히 말하면,\n",
        "- 두번째 층의 가중치값($w2$)들이 낮기 때문이거나\n",
        "- 첫번째 층의 출력값($activatedHidden_1 * w2$)이 낮기 때문입니다.\n",
        "\n",
        "첫번째 층의 출력값($hiddenSum_1$)은 어떤 값들의 계산으로 나오게 되나요?\n",
        "\n",
        "- 입력값(고정, 변하지 않음)\n",
        "\n",
        "- 가중치(variable, parameters)\n",
        "\n",
        "이 두 변수의 가중합으로 이루어 집니다.\n",
        "\n",
        "**입력값은 고정값**이기 때문에 이 상황에서 **예측값을 증가시키기 위한 방법은 첫번째 층과 두번째층의 가중치를 증가하는 방법**밖에 없습니다.\n",
        "\n",
        "각 층의 노드들 마다 가중치가 존재하는데요, 원하는 결과를 얻기 위해서는 어떤 가중치를 얼마만큼 올려주는 것이 가장 효과적일까요?\n",
        "\n",
        "이미 높은 활성화값을 가지고 있는 노드의 가중치를 올리면 상대적으로 큰 효과가 없을 것 입니다.\n",
        "\n",
        "어떤 층의 어떤 노드들의 가중치를 얼마나 올려야 할까요?\n",
        "\n",
        "한번 가중치들을 눈으로 살펴 보겠습니다."
      ]
    },
    {
      "cell_type": "code",
      "metadata": {
        "id": "2m3Hr4yH-B7x",
        "colab": {
          "base_uri": "https://localhost:8080/"
        },
        "outputId": "97d695cd-a905-4c06-a9a0-f3e2bc5b93eb"
      },
      "source": [
        "# 각각의 변수들을 디스플레이 하기위한 코드입니다.\n",
        "attributes = ['w1', 'hidden_sum', 'activated_hidden', 'w2', 'activated_output']\n",
        "for i in attributes:\n",
        "    if i[:2] != '__':\n",
        "        print(i+'\\n', getattr(nn,i), '\\n'+'---'*3)"
      ],
      "execution_count": null,
      "outputs": [
        {
          "output_type": "stream",
          "text": [
            "w1\n",
            " [[-1.75351135  1.23279898  0.24464757]\n",
            " [-0.06568225  0.30190098  0.79723428]] \n",
            "---------\n",
            "hidden_sum\n",
            " [[-1.8191936   1.53469996  1.04188185]\n",
            " [-0.47942924  0.49688786  0.55943332]\n",
            " [-1.58358412  1.30512484  0.81199233]] \n",
            "---------\n",
            "activated_hidden\n",
            " [[0.13953066 0.82269293 0.73921295]\n",
            " [0.38238691 0.62172769 0.63632141]\n",
            " [0.17028848 0.78669622 0.6925339 ]] \n",
            "---------\n",
            "w2\n",
            " [[ 1.23073545]\n",
            " [-1.52187331]\n",
            " [-0.25502715]] \n",
            "---------\n",
            "activated_output\n",
            " [[0.21945787]\n",
            " [0.34573206]\n",
            " [0.23788921]] \n",
            "---------\n"
          ],
          "name": "stdout"
        }
      ]
    },
    {
      "cell_type": "markdown",
      "metadata": {
        "id": "2BUCUgkhAidw"
      },
      "source": [
        "### Error를 줄이기 위해서는?\n",
        "- 경사(Gradient)를 계산해서 경사가 작아지도록 가중치를 업데이트!\n",
        "\n",
        "<img src=\"https://www.researchgate.net/profile/Wenqiang_Feng2/publication/331482292/figure/fig13/AS:750825655762952@1556022194488/Gradient-Descent-in-1D.jpg\" alt=\"Gradient Descent in 1D\" width=\"400\"/>\n",
        "\n",
        "위의 신경망 알고리즘 단계 2-4를 주어진 배치에 해당하는 모든 관측치에 대해 적용을 합니다. \n",
        "\n",
        "비용함수의 기울기와 연관된 가중치를 업데이트 합니다.\n",
        "\n",
        "우리 신경망은 전체 9개의 가중치를 가지고 있습니다.(첫번째 층 6개, 두번째 층 3개) 그러므로 경사하강법에서 나오는 기울기는 어떤 9차원 공간의 함수에서 가장 아래쪽 방향으로 향하는 (오류를 줄이는 방향)벡터가 될 것입니다.\n",
        "\n",
        "네트워크에 9 개의 가중치가 있으므로 경사 하강 계산에서 나오는 기울기는 9 차원 공간의 일부 기능을 따라 가장 아래쪽 방향으로 이동하는 벡터가됩니다.\n",
        "\n",
        "\\begin{align}\n",
        "C(w1, w2, w3, w4, w5, w6, w7, w8, w9)\n",
        "\\end{align}\n",
        "\n",
        "물론 여러분이 생각해야 할 것은 복잡한 신경망 모델은 대부분 convex 함수가 아니라는 것입니다. 그래서 경사하강법은 종종 지역 최소값에 빠질 수 있다는 것입니다.\n",
        "\n",
        "<img src=\"https://www.researchgate.net/profile/Augusto_Pacheco-Comer/publication/298786734/figure/fig13/AS:669050770300942@1536525542529/Gradient-descent-algorithm-direction-Equation-1-Image-courtesy-of-Andrew-Ng.jpg\" alt=\"Gradient descent algorithm direction Equation 1. (Image courtesy of Andrew Ng)\" width=\"600\"/>\n",
        "\n",
        "물론 이런 문제를 해결하기 위한 여러가지 방법이 있습니다. 경사하강법의 다양한 알고리즘과 데이터를 어떻게 사용하여 이 방법을 이용할 지에 대해서는 아래에서 추가적으로 설명하겠습니다.\n",
        "\n",
        "** Convex & Concave Function (볼록 & 오목 함수)\n",
        "\n"
      ]
    },
    {
      "cell_type": "markdown",
      "metadata": {
        "id": "6qifiznqrJKM"
      },
      "source": [
        "### 가중치 업데이트 : 역전파 "
      ]
    },
    {
      "cell_type": "code",
      "metadata": {
        "id": "yx8GLRgFAijs"
      },
      "source": [
        "# 음수 가중치를 가지는 활성화는 낮추고, 양수 가중치를 가지는 활성화는 높이고 싶습니다.\n",
        "class NeuralNetwork:\n",
        "    \n",
        "    def __init__(self):\n",
        "       # 신경망의 구조를 결정합니다. 입력층 2 노드, 은닉층 3 노드, 출력층 1 노드 / Bias 없음.\n",
        "        self.inputs = 2\n",
        "        self.hiddenNodes = 3\n",
        "        self.outputNodes = 1\n",
        "        \n",
        "        # 가중치를 초기화 합니다.\n",
        "        # layer 1 가중치 (2x3)\n",
        "        self.w1 = np.random.randn(self.inputs,self.hiddenNodes)\n",
        "        \n",
        "        # layer 2 가중치 (3x1)\n",
        "        self.w2 = np.random.randn(self.hiddenNodes, self.outputNodes)\n",
        "        \n",
        "    def sigmoid(self, s):\n",
        "        return 1 / (1+np.exp(-s))\n",
        "    \n",
        "    def sigmoidPrime(self, s):\n",
        "        sx = self.sigmoid(s)\n",
        "        return sx * (1-sx)\n",
        "    \n",
        "    def feed_forward(self, X):        \n",
        "        # 가중합 계산\n",
        "        self.hidden_sum = np.dot(X, self.w1)\n",
        "        \n",
        "        # 활성화함수\n",
        "        self.activated_hidden = self.sigmoid(self.hidden_sum)\n",
        "        \n",
        "        # 출력층에서 사용할 은닉층의 각 노드의 출력값을 가중합 합니다.\n",
        "        self.output_sum = np.dot(self.activated_hidden, self.w2)\n",
        "        \n",
        "        # 출력층 활성화, 예측값을 출력합니다.\n",
        "        self.activated_output = self.sigmoid(self.output_sum)\n",
        "        \n",
        "        return self.activated_output\n",
        "    \n",
        "    def backward(self, X, y, o):\n",
        "        # 역전파 알고리즘\n",
        "        \n",
        "        # 출력층의 손실값 (Error) 입니다.\n",
        "        self.o_error = y - o \n",
        "        \n",
        "        # 출력층 활성화함수인 시그모이드 함수의 도함수를 사용합니다. (dE / dY * dY / dy) - Latter A\n",
        "        self.o_delta = self.o_error * self.sigmoidPrime(o)\n",
        "        \n",
        "        # z2 error: 출력층의 가중치가 얼마나 에러에 기여했는지 \n",
        "        self.z2_error = self.o_delta.dot(self.w2.T)\n",
        "        \n",
        "        # z2 delta: 시그모이드 도함수를 z2 error에 적용합니다. (d_HiddenE / dY) * (dY / dy) - Latter \n",
        "        self.z2_delta = self.z2_error*self.sigmoidPrime(self.output_sum)\n",
        "\n",
        "        # w1를 업데이트 합니다.\n",
        "        self.w1 += X.T.dot(self.z2_delta) # X * dE/dY * dY/dy(=Y(1-Y))\n",
        "        # w2를 업데이트 합니다.\n",
        "        self.w2 += self.activated_hidden.T.dot(self.o_delta) # H1 * Y(1-Y) * (Y - o) # (Latter A)\n",
        "        \n",
        "    def train(self, X,y):\n",
        "        o = self.feed_forward(X)\n",
        "        self.backward(X,y,o)"
      ],
      "execution_count": null,
      "outputs": []
    },
    {
      "cell_type": "markdown",
      "metadata": {
        "id": "z-6FUcisZKo6"
      },
      "source": [
        "$\\partial Error \\over w_2$ = $\\partial Error \\over \\partial activatedOutput $ * $\\partial activatedOutput \\over \\partial w2$\n",
        "\n",
        "> Latter A :\n",
        "$\\partial Error \\over w_2$ = $\\partial Error \\over \\partial activatedOutput $ * $\\partial activatedOutput \\over \\partial OutputSum$ * ($ \\partial OutputSum \\over \\partial w2$ = ActivatedHidden)\n",
        "\n",
        "$\\partial Error \\over w_1$ = $\\partial Error \\over \\partial ActivatedHidden $ * $\\partial ActivatedHidden \\over \\partial w1$\n",
        "\n",
        "> Latter B :\n",
        "$\\partial Error \\over w_1$ = $\\partial Error \\over \\partial ActivatedHidden $ * $\\partial ActivatedHidden \\over \\partial hiddenSum$ * ($\\partial hiddenSum \\over \\partial w1$ = X)\n",
        "\n"
      ]
    },
    {
      "cell_type": "markdown",
      "metadata": {
        "id": "A1rEOwEwB4Ou"
      },
      "source": [
        "#### 출력층 Error에서부터 시작"
      ]
    },
    {
      "cell_type": "code",
      "metadata": {
        "id": "aajZByb-B4WI"
      },
      "source": [
        "nn = NeuralNetwork()\n",
        "nn.train(X,y) "
      ],
      "execution_count": null,
      "outputs": []
    },
    {
      "cell_type": "code",
      "metadata": {
        "id": "DCLnvXMdB4fZ",
        "colab": {
          "base_uri": "https://localhost:8080/"
        },
        "outputId": "f1a43b5d-4bff-44a5-f337-1f50cb2ec622"
      },
      "source": [
        "# 출력층 에러를 확인해봅니다. \n",
        "nn.o_error"
      ],
      "execution_count": null,
      "outputs": [
        {
          "output_type": "execute_result",
          "data": {
            "text/plain": [
              "array([[0.70644301],\n",
              "       [0.10036169],\n",
              "       [0.56649547]])"
            ]
          },
          "metadata": {
            "tags": []
          },
          "execution_count": 60
        }
      ]
    },
    {
      "cell_type": "markdown",
      "metadata": {
        "id": "Onx72lVMCA79"
      },
      "source": [
        "#### 출력층 Gradient 계산\n",
        "시그모이드 활성함수가 변화에 얼마나 영향을 줄까요?\n",
        "\n",
        "`self.o_delta = self.o_error * self.sigmoidPrime(self.output_sum)`"
      ]
    },
    {
      "cell_type": "code",
      "metadata": {
        "id": "xRKz140PCBWh",
        "colab": {
          "base_uri": "https://localhost:8080/"
        },
        "outputId": "0d68b566-1774-40c8-8544-37ef9f025b27"
      },
      "source": [
        "nn.output_sum"
      ],
      "execution_count": null,
      "outputs": [
        {
          "output_type": "execute_result",
          "data": {
            "text/plain": [
              "array([[-0.87817076],\n",
              "       [-1.0627663 ],\n",
              "       [-0.9805118 ]])"
            ]
          },
          "metadata": {
            "tags": []
          },
          "execution_count": 61
        }
      ]
    },
    {
      "cell_type": "code",
      "metadata": {
        "id": "yUdfgaBECDyZ",
        "colab": {
          "base_uri": "https://localhost:8080/"
        },
        "outputId": "6fd297f0-3226-4b27-8720-4d5b19969097"
      },
      "source": [
        "nn.sigmoid(nn.output_sum)"
      ],
      "execution_count": null,
      "outputs": [
        {
          "output_type": "execute_result",
          "data": {
            "text/plain": [
              "array([[0.29355699],\n",
              "       [0.25678117],\n",
              "       [0.27279024]])"
            ]
          },
          "metadata": {
            "tags": []
          },
          "execution_count": 62
        }
      ]
    },
    {
      "cell_type": "code",
      "metadata": {
        "id": "tsBfHrIvCHLe",
        "colab": {
          "base_uri": "https://localhost:8080/"
        },
        "outputId": "007ddd52-a7e0-4671-eb05-56d1c76dce64"
      },
      "source": [
        "# 출력층과 은닉층 사이 가중치(w2)가 얼마나 변화되어야 하는지 알려줍니다\n",
        "nn.o_delta"
      ],
      "execution_count": null,
      "outputs": [
        {
          "output_type": "execute_result",
          "data": {
            "text/plain": [
              "array([[0.17285985],\n",
              "       [0.02468133],\n",
              "       [0.13902149]])"
            ]
          },
          "metadata": {
            "tags": []
          },
          "execution_count": 63
        }
      ]
    },
    {
      "cell_type": "markdown",
      "metadata": {
        "id": "X92-cXAwCzRi"
      },
      "source": [
        "#### 은닉층 에러\n",
        "은닉층 출력값을 곱한 에러 전파량을 계산\n",
        "\n",
        "`self.z2_error = self.o_delta.dot(self.w2.T)`\n",
        "\n",
        "__토론:__ 은닉층 에러값 모양인 shape(3,3)에 대해 설명해 보세요"
      ]
    },
    {
      "cell_type": "code",
      "metadata": {
        "id": "MtTvHYqVC0OM",
        "colab": {
          "base_uri": "https://localhost:8080/"
        },
        "outputId": "099efd7d-1903-42db-aec7-06e4fd338035"
      },
      "source": [
        "nn.o_delta.dot(nn.w2.T)"
      ],
      "execution_count": null,
      "outputs": [
        {
          "output_type": "execute_result",
          "data": {
            "text/plain": [
              "array([[-0.28194591, -0.23236088,  0.12295841],\n",
              "       [-0.04025689, -0.03317703,  0.01755629],\n",
              "       [-0.22675329, -0.18687483,  0.09888856]])"
            ]
          },
          "metadata": {
            "tags": []
          },
          "execution_count": 64
        }
      ]
    },
    {
      "cell_type": "markdown",
      "metadata": {
        "id": "flTUvPUqDBAI"
      },
      "source": [
        "#### 은닉층 Gradient 계산\n",
        "각 관측치에 대해 어떤 활성화 출력이 올바른 예측에 영향을 주었을까요?\n",
        "\n",
        "`self.z2_delta = self.z2_error * self.sigmoidPrime(self.activated_hidden)`"
      ]
    },
    {
      "cell_type": "code",
      "metadata": {
        "id": "rbAkyku9DC8P",
        "colab": {
          "base_uri": "https://localhost:8080/"
        },
        "outputId": "9ffcb66b-0c6b-4dd8-a1d7-83b833972f76"
      },
      "source": [
        "nn.activated_hidden"
      ],
      "execution_count": null,
      "outputs": [
        {
          "output_type": "execute_result",
          "data": {
            "text/plain": [
              "array([[0.43460965, 0.23985861, 0.42340322],\n",
              "       [0.37111212, 0.48687214, 0.52242758],\n",
              "       [0.48093658, 0.2520165 , 0.4192448 ]])"
            ]
          },
          "metadata": {
            "tags": []
          },
          "execution_count": 65
        }
      ]
    },
    {
      "cell_type": "code",
      "metadata": {
        "id": "UG3TDJ2-ECZN",
        "colab": {
          "base_uri": "https://localhost:8080/"
        },
        "outputId": "3852a566-72d5-4554-e59b-03e0e425a2fb"
      },
      "source": [
        "nn.z2_delta"
      ],
      "execution_count": null,
      "outputs": [
        {
          "output_type": "execute_result",
          "data": {
            "text/plain": [
              "array([[-0.06388859, -0.05136035,  0.020324  ],\n",
              "       [-0.00839476, -0.00674859,  0.00267051],\n",
              "       [-0.04915074, -0.03951252,  0.01563565]])"
            ]
          },
          "metadata": {
            "tags": []
          },
          "execution_count": 66
        }
      ]
    },
    {
      "cell_type": "code",
      "metadata": {
        "id": "sU4YHiyTECcK",
        "colab": {
          "base_uri": "https://localhost:8080/"
        },
        "outputId": "d09ad865-9578-4734-85f3-3f45068cc20b"
      },
      "source": [
        "X.T.shape == nn.w1.shape"
      ],
      "execution_count": null,
      "outputs": [
        {
          "output_type": "execute_result",
          "data": {
            "text/plain": [
              "True"
            ]
          },
          "metadata": {
            "tags": []
          },
          "execution_count": 67
        }
      ]
    },
    {
      "cell_type": "markdown",
      "metadata": {
        "id": "LFtnzZdlIdS7"
      },
      "source": [
        "#### Gradient Descent 방식으로 업데이트\n",
        "\n",
        "__토론__:*은닉층 가중치 업데이트*\n",
        "- 왜 입력값과 기울기값들을 곱해야 할까요?\n",
        "- 왜 입력값을 transpose 해야 할까요?"
      ]
    },
    {
      "cell_type": "code",
      "metadata": {
        "id": "GvI5lBtLIhYL",
        "colab": {
          "base_uri": "https://localhost:8080/"
        },
        "outputId": "679f928e-b8f0-4cff-e15b-a2f2f2e9c20a"
      },
      "source": [
        "X.T"
      ],
      "execution_count": null,
      "outputs": [
        {
          "output_type": "execute_result",
          "data": {
            "text/plain": [
              "array([[1.   , 0.25 , 0.875],\n",
              "       [1.   , 0.625, 0.75 ]])"
            ]
          },
          "metadata": {
            "tags": []
          },
          "execution_count": 68
        }
      ]
    },
    {
      "cell_type": "code",
      "metadata": {
        "id": "j2M019kwIjnT",
        "colab": {
          "base_uri": "https://localhost:8080/"
        },
        "outputId": "ce0f9ecb-7210-4ddd-b3e8-5fff0ef5a2b6"
      },
      "source": [
        "X.T.dot(nn.z2_delta)"
      ],
      "execution_count": null,
      "outputs": [
        {
          "output_type": "execute_result",
          "data": {
            "text/plain": [
              "array([[-0.10899418, -0.08762095,  0.03467281],\n",
              "       [-0.10599837, -0.0852126 ,  0.0337198 ]])"
            ]
          },
          "metadata": {
            "tags": []
          },
          "execution_count": 69
        }
      ]
    },
    {
      "cell_type": "markdown",
      "metadata": {
        "id": "klTp8oOwIkRY"
      },
      "source": [
        "__토론__:*출력층 가중치 업데이트*\n",
        "- 왜 출력층 은 3x1 모양을 가질까요?\n",
        "- 왜 첫번째층 출력값과 기울기를 곱해야 할까요?"
      ]
    },
    {
      "cell_type": "code",
      "metadata": {
        "id": "zQ22QCigIjuo",
        "colab": {
          "base_uri": "https://localhost:8080/"
        },
        "outputId": "e0efbef6-483f-4850-83be-808c6e0745dd"
      },
      "source": [
        "nn.activated_hidden.T.dot(nn.o_delta)"
      ],
      "execution_count": null,
      "outputs": [
        {
          "output_type": "execute_result",
          "data": {
            "text/plain": [
              "array([[0.15114662],\n",
              "       [0.08851428],\n",
              "       [0.14436766]])"
            ]
          },
          "metadata": {
            "tags": []
          },
          "execution_count": 70
        }
      ]
    },
    {
      "cell_type": "markdown",
      "metadata": {
        "id": "RUxi_BnqIrRo"
      },
      "source": [
        "## 신경망 학습"
      ]
    },
    {
      "cell_type": "code",
      "metadata": {
        "id": "uMFnwu2gIrZK"
      },
      "source": [
        "nn = NeuralNetwork()\n",
        "\n",
        "# 반복수(epochs or iterations)를 정합니다.\n",
        "for i in range(10000):\n",
        "    if (i+1 in [1,2,3,4,5]) or ((i+1) % 1000 ==0):\n",
        "        print('+' + '---' * 3 + f'EPOCH {i+1}' + '---'*3 + '+')\n",
        "        print('입력: \\n', X)\n",
        "        print('타겟출력: \\n', y)\n",
        "        print('예측: \\n', str(nn.feed_forward(X)))\n",
        "        print(\"에러: \\n\", str(np.mean(np.square(y - nn.feed_forward(X)))))\n",
        "    nn.train(X,y)"
      ],
      "execution_count": null,
      "outputs": []
    },
    {
      "cell_type": "markdown",
      "metadata": {
        "id": "5borQQ60r7EG"
      },
      "source": [
        "뭔가 끝나가는데, 아직 역전파가 이해가 안 되죠?\n",
        "\n",
        "정상입니다. 여기서 이해가 되면 정말 뛰어난 것이구요, 추가로 설명을 해드릴게요 :)\n",
        "\n",
        "그전에, 학습하는 방식에서 중요한 문제를 다루고 넘어가겠습니다. 데이터를 어떻게 이용해서 학습을 할 것인지의 문제입니다."
      ]
    },
    {
      "cell_type": "markdown",
      "metadata": {
        "id": "4hV73cDGI13D"
      },
      "source": [
        "### 확률적 경사하강법(Stochastic Gradient Descent)\n",
        "\n",
        "확률적 경사하강법(SGD)은 무작위로 뽑은 하나의 관측값 마다 기울기를 계산하고 바로 가중치를 업데이트 합니다.\n",
        "\n",
        "기존에 사용한 경사하강법은 배치(batch)방법인데, 모든 관측치를 가지고 기울기를 다 계산한 다음에 가중치를 업데이트 하였습니다. 그와 다르게 SGD는 관측치 마다 가중치를 업데이트 하기 때문에 학습이 빠르게 진행됩니다. 데이터 샘플이 많아질 수록 SGD가 빠르게 학습이 됩니다.\n",
        "\n",
        "물론 SGD는 단점이 있습니다. 학습 과정 중 손실함수 값이 변동이 심하다는 단점이 있는데, 배치방법과 SGD를 합친 Mini-batch 경사하강법을 사용할 수도 있습니다.\n"
      ]
    },
    {
      "cell_type": "markdown",
      "metadata": {
        "id": "3wQBgt3JsakD"
      },
      "source": [
        "<img src=\"http://rasbt.github.io/mlxtend/user_guide/general_concepts/gradient-optimization_files/ball.png\" />\n"
      ]
    },
    {
      "cell_type": "markdown",
      "metadata": {
        "id": "xMdsAvH4JAb1"
      },
      "source": [
        "### 경사하강법의 변형들\n",
        "\n",
        "기존에 알고리즘에서 구현한 경사하강법은 배치(batch)방법인데, 모든 관측치를 가지고 기울기를 다 계산한 다음에 가중치를 업데이트 하였습니다. 이 방법은 데이터가 많아질 수록 가중치 업데이트를 위한 계산이 많아지기 때문에 학습이 느려지는 단점이 있습니다. 그와 다르게 확률적 경사하강법(Stochastic Gradient Descent, SGD)은 무작위로 뽑은 하나의 관측값 마다 기울기를 계산하고 바로 가중치를 업데이트 합니다. 그래서 데이터 샘플이 많더라도 Batch 방법에 비해 학습이 빠르게 진행됩니다.\n",
        "\n",
        "물론 SGD는 단점이 있습니다. 학습 과정 중 손실함수 값이 변동이 심하다는 단점이 있는데, 배치방법과 SGD를 합친 Mini-batch 경사하강법을 사용할 수도 있습니다.\n",
        "\n",
        "\n",
        "경사하강법 알고리즘들은 다음과 같습니다.\n",
        "\n",
        "1) Stochastic Gradient Descent(SGD)\n",
        "\n",
        "2) SGD의 변형된 알고리즘들(Momentum, RMSProp, Adam 등)\n",
        "\n",
        "3) Newton's method 등 2차최적화 알고리즘 기반 방법들(BFGS 등)\n",
        "\n",
        "<img src=\"https://developer.nvidia.com/blog/wp-content/uploads/2015/12/NKsFHJb.gif\" />\n",
        "\n",
        "어떤 알고리즘이 우월하다고 말하기는 어렵습니다. 문제의 종류와 데이터에 따라 결과가 다를 것이므로 여러 알고리즘을 실험해볼 필요가 있습니다. 다음에 배울 텐서플로우 등 머신러닝 라이브러리를 사용하면 쉽게 사용할 수 있습니다.\n",
        "\n",
        "\n",
        "다음으로는 경사하강법의 변형 중 한 방법인 뉴턴 메소드를 사용한 BFGS(Broyden–Fletcher–Goldfarb–Shanno) 방법을 적용한 신경망으로 학습을 진행해 보겠습니다. (코드 와 설명은 [welch lab](\"https://github.com/stephencwelch/Neural-Networks-Demystified/blob/master/Part%206%20Training.ipynb\") 에서 확인 가능합니다.)"
      ]
    },
    {
      "cell_type": "markdown",
      "metadata": {
        "id": "X9ceuk9hXTd3"
      },
      "source": [
        "# Backpropagation 리뷰 with Math"
      ]
    },
    {
      "cell_type": "markdown",
      "metadata": {
        "id": "Y8qjxUQ27lJC"
      },
      "source": [
        "<img src=\"https://ds-lecture-data.s3.ap-northeast-2.amazonaws.com/etc/note2_image/bp1.png\">\n",
        "\n",
        "---\n",
        "\n",
        "<img src=\"https://ds-lecture-data.s3.ap-northeast-2.amazonaws.com/etc/note2_image/bp2.png\">\n",
        "\n",
        "---\n",
        "\n",
        "<img src=\"https://ds-lecture-data.s3.ap-northeast-2.amazonaws.com/etc/note2_image/bp3.png\">\n",
        "\n",
        "---\n",
        "\n",
        "<img src=\"https://ds-lecture-data.s3.ap-northeast-2.amazonaws.com/etc/note2_image/bp4.png\">\n",
        "\n",
        "---\n",
        "\n",
        "<img src=\"https://ds-lecture-data.s3.ap-northeast-2.amazonaws.com/etc/note2_image/bp5.png\">"
      ]
    },
    {
      "cell_type": "markdown",
      "metadata": {
        "id": "X8o6mr354Hoh"
      },
      "source": [
        "* 오타 수정\n",
        "\n",
        "> $ \\partial E_1 \\over \\partial H_1 $\n",
        "\n",
        "$ \\partial E_1 \\over \\partial H_1 $ = $ \\partial E_1 \\over \\partial y_1 $ * $ \\partial y_1 \\over \\partial H_1 $ <br>\n",
        "$ \\partial E_1 \\over \\partial H_1 $ = $ \\partial E_1 \\over \\partial Y_1 $ * $ \\partial Y_1 \\over \\partial y_1 $ * $ \\partial y_1 \\over \\partial H_1 $\n",
        "\n",
        "> $ \\partial E_2 \\over \\partial H_1 $\n",
        "\n",
        "$ \\partial E_2 \\over \\partial H_1 $ = $ \\partial E_2 \\over \\partial y_2 $ * $ \\partial y_2 \\over \\partial H_1 $ <br>\n",
        "$ \\partial E_2 \\over \\partial H_1 $ = $ \\partial E_1 \\over \\partial Y_2 $ * $ \\partial Y_2 \\over \\partial y_2 $ * $ \\partial y_2 \\over \\partial H_1 $\n",
        "\n",
        "<br>\n",
        "\n",
        "---\n"
      ]
    },
    {
      "cell_type": "markdown",
      "metadata": {
        "id": "OdEBsc2zcq0A"
      },
      "source": [
        "# Keras를 이용한 역전파 실습"
      ]
    },
    {
      "cell_type": "markdown",
      "metadata": {
        "id": "-nmsPk6ocwi2"
      },
      "source": [
        "> 케라스(https://keras.io)는 거의 모든 종류의 딥러닝 모델을 간편하게 만들고 훈련시킬 수 있는 파이썬 딥러닝 프레임워크입니다.\n",
        "\n",
        "> 케라스는 딥러닝 모델을 만들기 위해 고수준의 구성 요소를 제공하는 모델 수준의 라이브러리입니다. 텐서의 조작이나, 미분 등 low level단의 연산을 더이상 만들거나 하지 않아도 됩니다. 여러 백엔드 엔진(Tensorflow, Theano, Microsoft Cognitive Toolkit(CNTK))에서 제공하는 특화된 텐서 라이브러리를 사용하여 우리가 공부했던 내용을 자동화된 방식으로 활용할 수 있습니다. \n",
        "\n",
        "> 한편, 케라스는 CPU, GPU 모두 동일한 코드로 실행할 수 있습니다. "
      ]
    },
    {
      "cell_type": "markdown",
      "metadata": {
        "id": "KW0ctwz5cwl5"
      },
      "source": [
        "> 모델을 정의하는 방법 중 `Sequential` 방법은 가장 자주 사용하는 구조인 층(layer)을 순서대로 쌓아 올린 네트워크 입니다. <br> 이 방법은 다음과 같은 작업 흐름을 가집니다.\n",
        "\n",
        "1. 학습 데이터 로드\n",
        "2. 모델 정의\n",
        "3. 컴파일(Compile)\n",
        "4. 모델 학습(Fit)\n",
        "5. 모델 검증(Evaluate)\n",
        "\n",
        "앞으로 케라스로 신경망을 만들 때 이 흐름을 잘 기억해 두시기 바랍니다."
      ]
    },
    {
      "cell_type": "code",
      "metadata": {
        "id": "ZdKtpAu6c3dz"
      },
      "source": [
        "# 앞서 살펴본 선형 데이터를 만들기 위함 함수\n",
        "def make_samples(n=1000):\n",
        "    study = np.random.uniform(1, 8, (n, 1))\n",
        "    sleep = np.random.uniform(1, 8, (n, 1))\n",
        "    \n",
        "    y = 5 * study + 2 * sleep + 40\n",
        "    X = np.append(study, sleep, axis = 1)\n",
        "    \n",
        "    # 정규화 \n",
        "    X = X / np.amax(X, axis = 0)\n",
        "    y = y / 100\n",
        "    \n",
        "    return X, y"
      ],
      "execution_count": null,
      "outputs": []
    },
    {
      "cell_type": "code",
      "metadata": {
        "id": "LLn56HH7c6G7",
        "colab": {
          "base_uri": "https://localhost:8080/"
        },
        "outputId": "3f81fb61-aae0-457e-ad28-57288da85188"
      },
      "source": [
        "import numpy as np\n",
        "import matplotlib.pyplot as plt\n",
        "X, y = make_samples()\n",
        "X[:10]"
      ],
      "execution_count": null,
      "outputs": [
        {
          "output_type": "execute_result",
          "data": {
            "text/plain": [
              "array([[0.76155759, 0.4065224 ],\n",
              "       [0.78699611, 0.19627527],\n",
              "       [0.39267953, 0.53940436],\n",
              "       [0.36391073, 0.99427628],\n",
              "       [0.64412524, 0.48054391],\n",
              "       [0.22616247, 0.13942684],\n",
              "       [0.70853207, 0.3407582 ],\n",
              "       [0.85016525, 0.44315516],\n",
              "       [0.26123166, 0.63737043],\n",
              "       [0.94228448, 0.48463672]])"
            ]
          },
          "metadata": {
            "tags": []
          },
          "execution_count": 12
        }
      ]
    },
    {
      "cell_type": "code",
      "metadata": {
        "id": "NF6ULANFc6KG",
        "colab": {
          "base_uri": "https://localhost:8080/"
        },
        "outputId": "05feeadc-8b38-41de-f67c-953a455c0d58"
      },
      "source": [
        "from tensorflow.keras.models import Sequential\n",
        "from tensorflow.keras.layers import Dense\n",
        " \n",
        "model = Sequential()\n",
        "\n",
        "# 신경망 모델 구조 정의\n",
        "model.add(Dense(3, input_dim=2, activation='sigmoid'))\n",
        "model.add(Dense(1, activation='sigmoid'))\n",
        "\n",
        "# 컴파일 단계, 옵티마이저와 손실함수, 측정지표를 연결해서 계산 그래프를 구성을 마무리 합니다.\n",
        "model.compile(optimizer='sgd', loss='mse', metrics=['mae', 'mse'])\n",
        "# model.compile(loss='binary_crossentropy', optimizer='adam', metrics=['accuracy']) # 분류인 경우 예시\n",
        "\n",
        "results = model.fit(X,y, epochs=50)"
      ],
      "execution_count": null,
      "outputs": [
        {
          "output_type": "stream",
          "text": [
            "Epoch 1/50\n",
            "32/32 [==============================] - 1s 1ms/step - loss: 0.0279 - mae: 0.1382 - mse: 0.0279\n",
            "Epoch 2/50\n",
            "32/32 [==============================] - 0s 1ms/step - loss: 0.0252 - mae: 0.1324 - mse: 0.0252\n",
            "Epoch 3/50\n",
            "32/32 [==============================] - 0s 1ms/step - loss: 0.0232 - mae: 0.1256 - mse: 0.0232\n",
            "Epoch 4/50\n",
            "32/32 [==============================] - 0s 1ms/step - loss: 0.0212 - mae: 0.1188 - mse: 0.0212\n",
            "Epoch 5/50\n",
            "32/32 [==============================] - 0s 1ms/step - loss: 0.0199 - mae: 0.1148 - mse: 0.0199\n",
            "Epoch 6/50\n",
            "32/32 [==============================] - 0s 1ms/step - loss: 0.0172 - mae: 0.1065 - mse: 0.0172\n",
            "Epoch 7/50\n",
            "32/32 [==============================] - 0s 1ms/step - loss: 0.0168 - mae: 0.1056 - mse: 0.0168\n",
            "Epoch 8/50\n",
            "32/32 [==============================] - 0s 1ms/step - loss: 0.0152 - mae: 0.1008 - mse: 0.0152\n",
            "Epoch 9/50\n",
            "32/32 [==============================] - 0s 1ms/step - loss: 0.0144 - mae: 0.0979 - mse: 0.0144\n",
            "Epoch 10/50\n",
            "32/32 [==============================] - 0s 1ms/step - loss: 0.0145 - mae: 0.0989 - mse: 0.0145\n",
            "Epoch 11/50\n",
            "32/32 [==============================] - 0s 1ms/step - loss: 0.0133 - mae: 0.0942 - mse: 0.0133\n",
            "Epoch 12/50\n",
            "32/32 [==============================] - 0s 919us/step - loss: 0.0131 - mae: 0.0952 - mse: 0.0131\n",
            "Epoch 13/50\n",
            "32/32 [==============================] - 0s 908us/step - loss: 0.0126 - mae: 0.0926 - mse: 0.0126\n",
            "Epoch 14/50\n",
            "32/32 [==============================] - 0s 969us/step - loss: 0.0126 - mae: 0.0941 - mse: 0.0126\n",
            "Epoch 15/50\n",
            "32/32 [==============================] - 0s 976us/step - loss: 0.0119 - mae: 0.0908 - mse: 0.0119\n",
            "Epoch 16/50\n",
            "32/32 [==============================] - 0s 1ms/step - loss: 0.0115 - mae: 0.0886 - mse: 0.0115\n",
            "Epoch 17/50\n",
            "32/32 [==============================] - 0s 1ms/step - loss: 0.0110 - mae: 0.0874 - mse: 0.0110\n",
            "Epoch 18/50\n",
            "32/32 [==============================] - 0s 1ms/step - loss: 0.0114 - mae: 0.0893 - mse: 0.0114\n",
            "Epoch 19/50\n",
            "32/32 [==============================] - 0s 1ms/step - loss: 0.0104 - mae: 0.0846 - mse: 0.0104\n",
            "Epoch 20/50\n",
            "32/32 [==============================] - 0s 1ms/step - loss: 0.0101 - mae: 0.0839 - mse: 0.0101\n",
            "Epoch 21/50\n",
            "32/32 [==============================] - 0s 1ms/step - loss: 0.0104 - mae: 0.0862 - mse: 0.0104\n",
            "Epoch 22/50\n",
            "32/32 [==============================] - 0s 1ms/step - loss: 0.0104 - mae: 0.0861 - mse: 0.0104\n",
            "Epoch 23/50\n",
            "32/32 [==============================] - 0s 1ms/step - loss: 0.0097 - mae: 0.0824 - mse: 0.0097\n",
            "Epoch 24/50\n",
            "32/32 [==============================] - 0s 1ms/step - loss: 0.0100 - mae: 0.0839 - mse: 0.0100\n",
            "Epoch 25/50\n",
            "32/32 [==============================] - 0s 1ms/step - loss: 0.0098 - mae: 0.0834 - mse: 0.0098\n",
            "Epoch 26/50\n",
            "32/32 [==============================] - 0s 1000us/step - loss: 0.0098 - mae: 0.0828 - mse: 0.0098\n",
            "Epoch 27/50\n",
            "32/32 [==============================] - 0s 1ms/step - loss: 0.0097 - mae: 0.0831 - mse: 0.0097\n",
            "Epoch 28/50\n",
            "32/32 [==============================] - 0s 1ms/step - loss: 0.0099 - mae: 0.0834 - mse: 0.0099\n",
            "Epoch 29/50\n",
            "32/32 [==============================] - 0s 1ms/step - loss: 0.0102 - mae: 0.0857 - mse: 0.0102\n",
            "Epoch 30/50\n",
            "32/32 [==============================] - 0s 1ms/step - loss: 0.0098 - mae: 0.0830 - mse: 0.0098\n",
            "Epoch 31/50\n",
            "32/32 [==============================] - 0s 1ms/step - loss: 0.0099 - mae: 0.0839 - mse: 0.0099\n",
            "Epoch 32/50\n",
            "32/32 [==============================] - 0s 1ms/step - loss: 0.0098 - mae: 0.0831 - mse: 0.0098\n",
            "Epoch 33/50\n",
            "32/32 [==============================] - 0s 1ms/step - loss: 0.0098 - mae: 0.0843 - mse: 0.0098\n",
            "Epoch 34/50\n",
            "32/32 [==============================] - 0s 1ms/step - loss: 0.0100 - mae: 0.0838 - mse: 0.0100\n",
            "Epoch 35/50\n",
            "32/32 [==============================] - 0s 1ms/step - loss: 0.0099 - mae: 0.0842 - mse: 0.0099\n",
            "Epoch 36/50\n",
            "32/32 [==============================] - 0s 1ms/step - loss: 0.0092 - mae: 0.0801 - mse: 0.0092\n",
            "Epoch 37/50\n",
            "32/32 [==============================] - 0s 1ms/step - loss: 0.0100 - mae: 0.0848 - mse: 0.0100\n",
            "Epoch 38/50\n",
            "32/32 [==============================] - 0s 1ms/step - loss: 0.0102 - mae: 0.0857 - mse: 0.0102\n",
            "Epoch 39/50\n",
            "32/32 [==============================] - 0s 1ms/step - loss: 0.0100 - mae: 0.0841 - mse: 0.0100\n",
            "Epoch 40/50\n",
            "32/32 [==============================] - 0s 971us/step - loss: 0.0101 - mae: 0.0851 - mse: 0.0101\n",
            "Epoch 41/50\n",
            "32/32 [==============================] - 0s 952us/step - loss: 0.0092 - mae: 0.0808 - mse: 0.0092\n",
            "Epoch 42/50\n",
            "32/32 [==============================] - 0s 1ms/step - loss: 0.0096 - mae: 0.0838 - mse: 0.0096\n",
            "Epoch 43/50\n",
            "32/32 [==============================] - 0s 995us/step - loss: 0.0100 - mae: 0.0851 - mse: 0.0100\n",
            "Epoch 44/50\n",
            "32/32 [==============================] - 0s 1ms/step - loss: 0.0093 - mae: 0.0814 - mse: 0.0093\n",
            "Epoch 45/50\n",
            "32/32 [==============================] - 0s 1ms/step - loss: 0.0094 - mae: 0.0815 - mse: 0.0094\n",
            "Epoch 46/50\n",
            "32/32 [==============================] - 0s 1ms/step - loss: 0.0097 - mae: 0.0834 - mse: 0.0097\n",
            "Epoch 47/50\n",
            "32/32 [==============================] - 0s 964us/step - loss: 0.0100 - mae: 0.0846 - mse: 0.0100\n",
            "Epoch 48/50\n",
            "32/32 [==============================] - 0s 1ms/step - loss: 0.0097 - mae: 0.0832 - mse: 0.0097\n",
            "Epoch 49/50\n",
            "32/32 [==============================] - 0s 1ms/step - loss: 0.0098 - mae: 0.0848 - mse: 0.0098\n",
            "Epoch 50/50\n",
            "32/32 [==============================] - 0s 1ms/step - loss: 0.0091 - mae: 0.0806 - mse: 0.0091\n"
          ],
          "name": "stdout"
        }
      ]
    },
    {
      "cell_type": "code",
      "metadata": {
        "id": "bCI3LA8ydDf6",
        "colab": {
          "base_uri": "https://localhost:8080/"
        },
        "outputId": "ff146f17-8b3c-431f-ecac-e655dea79287"
      },
      "source": [
        "results.history.keys()"
      ],
      "execution_count": null,
      "outputs": [
        {
          "output_type": "execute_result",
          "data": {
            "text/plain": [
              "dict_keys(['loss', 'mae', 'mse'])"
            ]
          },
          "metadata": {
            "tags": []
          },
          "execution_count": 14
        }
      ]
    },
    {
      "cell_type": "code",
      "metadata": {
        "id": "pckpDpnRc6NM",
        "colab": {
          "base_uri": "https://localhost:8080/",
          "height": 282
        },
        "outputId": "48bde04b-19cd-441e-9779-a18f07c52288"
      },
      "source": [
        "plt.plot(results.history['loss'])"
      ],
      "execution_count": null,
      "outputs": [
        {
          "output_type": "execute_result",
          "data": {
            "text/plain": [
              "[<matplotlib.lines.Line2D at 0x7fe4434f3ad0>]"
            ]
          },
          "metadata": {
            "tags": []
          },
          "execution_count": 15
        },
        {
          "output_type": "display_data",
          "data": {
            "image/png": "[encoded data removed]",
            "text/plain": [
              "<Figure size 432x288 with 1 Axes>"
            ]
          },
          "metadata": {
            "tags": [],
            "needs_background": "light"
          }
        }
      ]
    },
    {
      "cell_type": "code",
      "metadata": {
        "id": "nG3KXKMWdKyE",
        "colab": {
          "base_uri": "https://localhost:8080/",
          "height": 282
        },
        "outputId": "48b6dfff-7a23-464c-afad-2159d0b4d117"
      },
      "source": [
        "plt.plot(results.history['mae'])"
      ],
      "execution_count": null,
      "outputs": [
        {
          "output_type": "execute_result",
          "data": {
            "text/plain": [
              "[<matplotlib.lines.Line2D at 0x7fe442fde050>]"
            ]
          },
          "metadata": {
            "tags": []
          },
          "execution_count": 16
        },
        {
          "output_type": "display_data",
          "data": {
            "image/png": "[encoded data removed]",
            "text/plain": [
              "<Figure size 432x288 with 1 Axes>"
            ]
          },
          "metadata": {
            "tags": [],
            "needs_background": "light"
          }
        }
      ]
    },
    {
      "cell_type": "markdown",
      "metadata": {
        "id": "PQKj35oTcwuI"
      },
      "source": [
        "## Fashion MNIST 를 사용해 신경망 실습\n",
        "여기서는 tensorflow에서 제공하는 Fashine MNIST 이미지 데이터를 사용해 간단한 신경망 분류기를 만들어 보겠습니다."
      ]
    },
    {
      "cell_type": "code",
      "metadata": {
        "id": "k-_tOIt2cuMR",
        "colab": {
          "base_uri": "https://localhost:8080/"
        },
        "outputId": "3dab1feb-6e55-4ac9-8d7e-e14e75ed6551"
      },
      "source": [
        "from tensorflow.keras.datasets import fashion_mnist\n",
        "\n",
        "# 데이터 불러오기\n",
        "(X_train, y_train), (X_test, y_test) = fashion_mnist.load_data()\n",
        "print(X_train.shape, X_test.shape)"
      ],
      "execution_count": null,
      "outputs": [
        {
          "output_type": "stream",
          "text": [
            "Downloading data from https://storage.googleapis.com/tensorflow/tf-keras-datasets/train-labels-idx1-ubyte.gz\n",
            "32768/29515 [=================================] - 0s 0us/step\n",
            "Downloading data from https://storage.googleapis.com/tensorflow/tf-keras-datasets/train-images-idx3-ubyte.gz\n",
            "26427392/26421880 [==============================] - 0s 0us/step\n",
            "Downloading data from https://storage.googleapis.com/tensorflow/tf-keras-datasets/t10k-labels-idx1-ubyte.gz\n",
            "8192/5148 [===============================================] - 0s 0us/step\n",
            "Downloading data from https://storage.googleapis.com/tensorflow/tf-keras-datasets/t10k-images-idx3-ubyte.gz\n",
            "4423680/4422102 [==============================] - 0s 0us/step\n",
            "(60000, 28, 28) (10000, 28, 28)\n"
          ],
          "name": "stdout"
        }
      ]
    },
    {
      "cell_type": "code",
      "metadata": {
        "id": "YeE-WoX2dUO5"
      },
      "source": [
        "# 데이터를 정규화 합니다\n",
        "X_train = X_train / 255.\n",
        "X_test = X_test /255."
      ],
      "execution_count": null,
      "outputs": []
    },
    {
      "cell_type": "code",
      "metadata": {
        "id": "HkB08MoYdUSJ",
        "colab": {
          "base_uri": "https://localhost:8080/",
          "height": 248
        },
        "outputId": "b79b7e35-bbe6-419a-c391-86a6fba2d694"
      },
      "source": [
        "import matplotlib.pyplot as plt\n",
        "\n",
        "for i in range(9):\n",
        "    # subplot 정의\n",
        "    plt.subplot(3, 3, i+1)\n",
        "    \n",
        "    # 데이터를 plot 합니다.\n",
        "    plt.imshow(X_train[i], cmap=plt.get_cmap('gray'))\n",
        "    plt.axis('off')\n",
        "    \n",
        "plt.show()\n",
        "    "
      ],
      "execution_count": null,
      "outputs": [
        {
          "output_type": "display_data",
          "data": {
            "image/png": "[encoded data removed]",
            "text/plain": [
              "<Figure size 432x288 with 9 Axes>"
            ]
          },
          "metadata": {
            "tags": [],
            "needs_background": "light"
          }
        }
      ]
    },
    {
      "cell_type": "code",
      "metadata": {
        "id": "9bN0YPpydUYa",
        "colab": {
          "base_uri": "https://localhost:8080/"
        },
        "outputId": "5457facf-6f0f-4442-c7e7-f49a7ea1c1a2"
      },
      "source": [
        "# 클래스를 확인합니다.\n",
        "np.unique(y_train)"
      ],
      "execution_count": null,
      "outputs": [
        {
          "output_type": "execute_result",
          "data": {
            "text/plain": [
              "array([0, 1, 2, 3, 4, 5, 6, 7, 8, 9], dtype=uint8)"
            ]
          },
          "metadata": {
            "tags": []
          },
          "execution_count": 16
        }
      ]
    },
    {
      "cell_type": "code",
      "metadata": {
        "id": "BgLI7-o4dUbq",
        "colab": {
          "base_uri": "https://localhost:8080/"
        },
        "outputId": "1ad4be2b-9557-46d2-c032-51cb9d8b22a9"
      },
      "source": [
        "from tensorflow.keras.models import Sequential\n",
        "from tensorflow.keras.layers import Dense, Flatten\n",
        "\n",
        "\n",
        "model = Sequential() \n",
        "model.add(Flatten(input_shape=(28, 28))) # 28*28 = 784 특성 벡터로 펼쳐 변환해 Dense 층으로 들어갑니다\n",
        "model.add(Dense(10, activation='softmax'))\n",
        "\n",
        "model.compile(optimizer='adam'\n",
        "             , loss='sparse_categorical_crossentropy'\n",
        "             , metrics=['accuracy'])\n",
        "\n",
        "model.summary()\n",
        "# 총 7850 parameters (10 bias)"
      ],
      "execution_count": null,
      "outputs": [
        {
          "output_type": "stream",
          "text": [
            "Model: \"sequential_3\"\n",
            "_________________________________________________________________\n",
            "Layer (type)                 Output Shape              Param #   \n",
            "=================================================================\n",
            "flatten (Flatten)            (None, 784)               0         \n",
            "_________________________________________________________________\n",
            "dense_6 (Dense)              (None, 10)                7850      \n",
            "=================================================================\n",
            "Total params: 7,850\n",
            "Trainable params: 7,850\n",
            "Non-trainable params: 0\n",
            "_________________________________________________________________\n"
          ],
          "name": "stdout"
        }
      ]
    },
    {
      "cell_type": "code",
      "metadata": {
        "id": "LsP41wb_dUkO",
        "colab": {
          "base_uri": "https://localhost:8080/"
        },
        "outputId": "186e1096-7fd2-47e6-8f0d-23fea342a77a"
      },
      "source": [
        "# 모델 학습\n",
        "model.fit(X_train, y_train, epochs=10, validation_data=(X_test,y_test))\n",
        "# model.fit(X_train, y_train, epochs=5)"
      ],
      "execution_count": null,
      "outputs": [
        {
          "output_type": "stream",
          "text": [
            "Epoch 1/10\n",
            "1875/1875 [==============================] - 3s 1ms/step - loss: 0.7728 - accuracy: 0.7386 - val_loss: 0.5103 - val_accuracy: 0.8245\n",
            "Epoch 2/10\n",
            "1875/1875 [==============================] - 2s 1ms/step - loss: 0.4725 - accuracy: 0.8380 - val_loss: 0.4727 - val_accuracy: 0.8356\n",
            "Epoch 3/10\n",
            "1875/1875 [==============================] - 2s 1ms/step - loss: 0.4368 - accuracy: 0.8506 - val_loss: 0.4702 - val_accuracy: 0.8356\n",
            "Epoch 4/10\n",
            "1875/1875 [==============================] - 2s 1ms/step - loss: 0.4243 - accuracy: 0.8546 - val_loss: 0.4834 - val_accuracy: 0.8296\n",
            "Epoch 5/10\n",
            "1875/1875 [==============================] - 2s 1ms/step - loss: 0.4139 - accuracy: 0.8580 - val_loss: 0.4479 - val_accuracy: 0.8433\n",
            "Epoch 6/10\n",
            "1875/1875 [==============================] - 2s 1ms/step - loss: 0.4022 - accuracy: 0.8591 - val_loss: 0.4594 - val_accuracy: 0.8375\n",
            "Epoch 7/10\n",
            "1875/1875 [==============================] - 2s 1ms/step - loss: 0.3958 - accuracy: 0.8620 - val_loss: 0.4446 - val_accuracy: 0.8458\n",
            "Epoch 8/10\n",
            "1875/1875 [==============================] - 2s 1ms/step - loss: 0.3983 - accuracy: 0.8610 - val_loss: 0.4480 - val_accuracy: 0.8437\n",
            "Epoch 9/10\n",
            "1875/1875 [==============================] - 2s 1ms/step - loss: 0.3902 - accuracy: 0.8630 - val_loss: 0.4566 - val_accuracy: 0.8384\n",
            "Epoch 10/10\n",
            "1875/1875 [==============================] - 2s 1ms/step - loss: 0.3932 - accuracy: 0.8635 - val_loss: 0.4495 - val_accuracy: 0.8440\n"
          ],
          "name": "stdout"
        },
        {
          "output_type": "execute_result",
          "data": {
            "text/plain": [
              "<tensorflow.python.keras.callbacks.History at 0x7fc6ee18d978>"
            ]
          },
          "metadata": {
            "tags": []
          },
          "execution_count": 18
        }
      ]
    },
    {
      "cell_type": "code",
      "metadata": {
        "id": "HyQVDroSdUiF",
        "colab": {
          "base_uri": "https://localhost:8080/"
        },
        "outputId": "acaeadca-9070-4374-c2e0-21536b40b843"
      },
      "source": [
        "# 예측\n",
        "model.predict(X_test[0:1])"
      ],
      "execution_count": null,
      "outputs": [
        {
          "output_type": "execute_result",
          "data": {
            "text/plain": [
              "array([[6.8983229e-07, 2.7027504e-08, 1.5540727e-05, 3.8433432e-06,\n",
              "        8.4495878e-06, 1.4518993e-01, 5.6836830e-05, 1.1877194e-01,\n",
              "        4.2815860e-03, 7.3167127e-01]], dtype=float32)"
            ]
          },
          "metadata": {
            "tags": []
          },
          "execution_count": 19
        }
      ]
    },
    {
      "cell_type": "code",
      "metadata": {
        "id": "th9nAJZgdUg0",
        "colab": {
          "base_uri": "https://localhost:8080/"
        },
        "outputId": "66d034cd-a7e5-44dc-fe8c-26497336e96f"
      },
      "source": [
        "# 테스트 데이터 예측 정확도\n",
        "test_loss, test_acc = model.evaluate(X_test,  y_test, verbose=2)"
      ],
      "execution_count": null,
      "outputs": [
        {
          "output_type": "stream",
          "text": [
            "313/313 - 0s - loss: 0.4495 - accuracy: 0.8440\n"
          ],
          "name": "stdout"
        }
      ]
    },
    {
      "cell_type": "markdown",
      "metadata": {
        "id": "s3ipxAXxdeuG"
      },
      "source": [
        "# Review\n",
        "\n",
        "- 신경망 학습에서 가장 어려운 파트를 배웠습니다. 한번에 이해가 되지 않는 부분이기 때문에, 참고자료 영상을 찾아보시고, 나름대로 이해를 해보시면 좋을 것 같습니다. \n",
        "  - 1) NN에서 사용할 parameter를 임의로 생성한다\n",
        "  - 2) 생성된 파라미터를 이용하여 NN(Forward Network)에 넣고 결과를 얻는다.\n",
        "  - 3) 얻어진 결과와 타겟(label)과 비교하여 Loss를 계산한다.\n",
        "  - 4) Loss의 Gradient를 계산해서 역방향으로 parameter를 업데이트(BP)한다.\n",
        "  - 5) 얼마큼씩 업데이트 할 지 정한다. Stochastic or Batch \n",
        "\n",
        "### 참고자료\n",
        "- [Neural network learning by Andrew Ng](https://www.coursera.org/learn/machine-learning/lecture/Wh6s3/putting-it-together)\n",
        "- [3Blue1Brown-역전파 미적분, 심층 학습, 4장](https://youtu.be/tIeHLnjs5U8)\n",
        "- [Neural Networks Demystified [Part 4: Backpropagation]](https://youtu.be/GlcnxUlrtek)\n",
        "- [An overview of gradient descent optimization algorithms](https://ruder.io/optimizing-gradient-descent/)\n",
        "\n",
        "\n"
      ]
    }
  ]
}